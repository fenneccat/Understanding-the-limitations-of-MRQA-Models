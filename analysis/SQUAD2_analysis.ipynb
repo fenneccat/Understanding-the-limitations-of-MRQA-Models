{
 "cells": [
  {
   "cell_type": "code",
   "execution_count": 1,
   "metadata": {},
   "outputs": [],
   "source": [
    "import json\n",
    "import spacy\n",
    "import re\n",
    "\n",
    "from tqdm import tqdm_notebook\n",
    "import pandas as pd \n",
    "\n",
    "from collections import Counter\n",
    "\n",
    "import matplotlib.pyplot as plt\n",
    "\n",
    "from numpy.random import rand\n",
    "\n",
    "from random import sample"
   ]
  },
  {
   "cell_type": "code",
   "execution_count": 2,
   "metadata": {},
   "outputs": [],
   "source": [
    "import seaborn as sns"
   ]
  },
  {
   "cell_type": "code",
   "execution_count": 3,
   "metadata": {},
   "outputs": [],
   "source": [
    "nlp = spacy.load('en')"
   ]
  },
  {
   "cell_type": "code",
   "execution_count": 4,
   "metadata": {},
   "outputs": [],
   "source": [
    "f = open('./wrond_id_BERT_squad2.0_wa.txt','rt')\n",
    "wrong_bert_wa = f.readlines()\n",
    "f.close()\n",
    "\n",
    "f = open('./wrond_id_BERT_squad2.0_fp.txt','rt')\n",
    "wrong_bert_fp = f.readlines()\n",
    "f.close()\n",
    "\n",
    "f = open('./wrond_id_BERT_squad2.0_fn.txt','rt')\n",
    "wrong_bert_fn = f.readlines()\n",
    "f.close()"
   ]
  },
  {
   "cell_type": "code",
   "execution_count": 5,
   "metadata": {},
   "outputs": [],
   "source": [
    "def removen(file):\n",
    "    return [line.rstrip('\\n') for line in file]"
   ]
  },
  {
   "cell_type": "code",
   "execution_count": 6,
   "metadata": {},
   "outputs": [],
   "source": [
    "wrong_bert_wa = removen(wrong_bert_wa)\n",
    "wrong_bert_fp = removen(wrong_bert_fp)\n",
    "wrong_bert_fn = removen(wrong_bert_fn)"
   ]
  },
  {
   "cell_type": "code",
   "execution_count": 7,
   "metadata": {},
   "outputs": [],
   "source": [
    "wrong_bert_wa = set(wrong_bert_wa)\n",
    "wrong_bert_fp = set(wrong_bert_fp)\n",
    "wrong_bert_fn = set(wrong_bert_fn)"
   ]
  },
  {
   "cell_type": "code",
   "execution_count": 8,
   "metadata": {},
   "outputs": [],
   "source": [
    "f = open('./squad/dev-v2.0.json','rb')\n",
    "data = json.load(f)"
   ]
  },
  {
   "cell_type": "code",
   "execution_count": 9,
   "metadata": {},
   "outputs": [],
   "source": [
    "data = data['data']"
   ]
  },
  {
   "cell_type": "code",
   "execution_count": 10,
   "metadata": {},
   "outputs": [],
   "source": [
    "all_qid = []"
   ]
  },
  {
   "cell_type": "code",
   "execution_count": 56,
   "metadata": {},
   "outputs": [
    {
     "name": "stdout",
     "output_type": "stream",
     "text": [
      "A function problem is a computational problem where a single output (of a total function) is expected for every input, but the output is more complex than that of a decision problem, that is, it isn't just yes or no. Notable examples include the traveling salesman problem and the integer factorization problem.\n",
      "{'plausible_answers': [{'text': 'complex', 'answer_start': 142}], 'question': 'Is the output of a functional solution typically characterized by a simple or complex answer?', 'id': '5ad53e615b96ef001a10abde', 'answers': [], 'is_impossible': True}\n"
     ]
    }
   ],
   "source": [
    "for document in data:\n",
    "    for paragraph in document['paragraphs']:\n",
    "        for qas in paragraph['qas']:\n",
    "            all_qid.append(qas['id'])"
   ]
  },
  {
   "cell_type": "code",
   "execution_count": 66,
   "metadata": {},
   "outputs": [],
   "source": [
    "fn_none = set(fn_none)"
   ]
  },
  {
   "cell_type": "code",
   "execution_count": 67,
   "metadata": {},
   "outputs": [
    {
     "name": "stdout",
     "output_type": "stream",
     "text": [
      "Many major classes of organic molecules in living organisms, such as proteins, nucleic acids, carbohydrates, and fats, contain oxygen, as do the major inorganic compounds that are constituents of animal shells, teeth, and bone. Most of the mass of living organisms is oxygen as it is a part of water, the major constituent of lifeforms. Oxygen is used in cellular respiration and released by photosynthesis, which uses the energy of sunlight to produce oxygen from water. It is too chemically reactive to remain a free element in air without being continuously replenished by the photosynthetic action of living organisms. Another form (allotrope) of oxygen, ozone (O\n",
      "3), strongly absorbs UVB radiation and consequently the high-altitude ozone layer helps protect the biosphere from ultraviolet radiation, but is a pollutant near the surface where it is a by-product of smog. At even higher low earth orbit altitudes, sufficient atomic oxygen is present to cause erosion for spacecraft.\n",
      "{'question': '_____ Helps the biospher from UV.', 'id': '571a49de4faf5e1900b8a94c', 'answers': [{'text': 'high-altitude ozone layer', 'answer_start': 724}, {'text': 'ozone', 'answer_start': 659}, {'text': 'ozone layer', 'answer_start': 738}, {'text': 'ozone', 'answer_start': 659}], 'is_impossible': False}\n",
      "\n",
      "\n",
      "One of the first known experiments on the relationship between combustion and air was conducted by the 2nd century BCE Greek writer on mechanics, Philo of Byzantium. In his work Pneumatica, Philo observed that inverting a vessel over a burning candle and surrounding the vessel's neck with water resulted in some water rising into the neck. Philo incorrectly surmised that parts of the air in the vessel were converted into the classical element fire and thus were able to escape through pores in the glass. Many centuries later Leonardo da Vinci built on Philo's work by observing that a portion of air is consumed during combustion and respiration.\n",
      "{'question': 'Philo of Byzantium ____ surmised that air converted to fire', 'id': '571a4ead10f8ca1400304fe0', 'answers': [{'text': 'incorrectly', 'answer_start': 347}, {'text': 'incorrectly', 'answer_start': 347}, {'text': 'incorrectly', 'answer_start': 347}, {'text': 'incorrectly', 'answer_start': 347}, {'text': 'incorrectly', 'answer_start': 347}], 'is_impossible': False}\n",
      "\n",
      "\n",
      "Concentrated O\n",
      "2 will allow combustion to proceed rapidly and energetically. Steel pipes and storage vessels used to store and transmit both gaseous and liquid oxygen will act as a fuel; and therefore the design and manufacture of O\n",
      "2 systems requires special training to ensure that ignition sources are minimized. The fire that killed the Apollo 1 crew in a launch pad test spread so rapidly because the capsule was pressurized with pure O\n",
      "2 but at slightly more than atmospheric pressure, instead of the 1⁄3 normal pressure that would be used in a mission.[k]\n",
      "{'question': '______ In both liquid and gas form can fastly result in an exlposion.', 'id': '571a52cb4faf5e1900b8a969', 'answers': [{'text': 'oxygen', 'answer_start': 160}, {'text': 'oxygen', 'answer_start': 160}, {'text': 'oxygen', 'answer_start': 160}], 'is_impossible': False}\n",
      "\n",
      "\n",
      "Concentrated O\n",
      "2 will allow combustion to proceed rapidly and energetically. Steel pipes and storage vessels used to store and transmit both gaseous and liquid oxygen will act as a fuel; and therefore the design and manufacture of O\n",
      "2 systems requires special training to ensure that ignition sources are minimized. The fire that killed the Apollo 1 crew in a launch pad test spread so rapidly because the capsule was pressurized with pure O\n",
      "2 but at slightly more than atmospheric pressure, instead of the 1⁄3 normal pressure that would be used in a mission.[k]\n",
      "{'question': 'To reduce the chances of combustion ___ is required for safely handeling pure O.', 'id': '571a52cb4faf5e1900b8a96b', 'answers': [{'text': 'special training', 'answer_start': 252}, {'text': 'special training', 'answer_start': 252}, {'text': 'special training to ensure that ignition sources are minimized', 'answer_start': 252}, {'text': 'special training', 'answer_start': 252}, {'text': 'special training', 'answer_start': 252}], 'is_impossible': False}\n",
      "\n",
      "\n",
      "Connection-oriented transmission requires a setup phase in each involved node before any packet is transferred to establish the parameters of communication. The packets include a connection identifier rather than address information and are negotiated between endpoints so that they are delivered in order and with error checking. Address information is only transferred to each node during the connection set-up phase, when the route to the destination is discovered and an entry is added to the switching table in each network node through which the connection passes. The signaling protocols used allow the application to specify its requirements and discover link parameters. Acceptable values for service parameters may be negotiated. Routing a packet requires the node to look up the connection id in a table. The packet header can be small, as it only needs to contain this code and any information, such as length, timestamp, or sequence number, which is different for different packets.\n",
      "{'question': 'Is the packet header long ', 'id': '5726398589a1e219009ac58b', 'answers': [{'text': 'The packet header can be small, as it only needs to contain this code and any information, such as length, timestamp, or sequence number', 'answer_start': 816}, {'text': 'The packet header can be small', 'answer_start': 816}, {'text': 'small', 'answer_start': 841}], 'is_impossible': False}\n",
      "\n",
      "\n",
      "ARPANET and SITA HLN became operational in 1969. Before the introduction of X.25 in 1973, about twenty different network technologies had been developed. Two fundamental differences involved the division of functions and tasks between the hosts at the edge of the network and the network core. In the datagram system, the hosts have the responsibility to ensure orderly delivery of packets. The User Datagram Protocol (UDP) is an example of a datagram protocol. In the virtual call system, the network guarantees sequenced delivery of data to the host. This results in a simpler host interface with less functionality than in the datagram model. The X.25 protocol suite uses this network type.\n",
      "{'question': '2 differences betwen X.25 and ARPNET CITA technologies ', 'id': '57263c78ec44d21400f3dc7c', 'answers': [{'text': 'Two fundamental differences involved the division of functions and tasks between the hosts at the edge of the network and the network core', 'answer_start': 154}, {'text': 'the division of functions and tasks between the hosts at the edge of the network and the network core.', 'answer_start': 191}, {'text': 'division of functions and tasks between the hosts at the edge of the network and the network core', 'answer_start': 195}], 'is_impossible': False}\n",
      "\n",
      "\n",
      "Telenet was the first FCC-licensed public data network in the United States. It was founded by former ARPA IPTO director Larry Roberts as a means of making ARPANET technology public. He had tried to interest AT&T in buying the technology, but the monopoly's reaction was that this was incompatible with their future. Bolt, Beranack and Newman (BBN) provided the financing. It initially used ARPANET technology but changed the host interface to X.25 and the terminal interface to X.29. Telenet designed these protocols and helped standardize them in the CCITT. Telenet was incorporated in 1973 and started operations in 1975. It went public in 1979 and was then sold to GTE.\n",
      "{'question': 'Telnet was sold to ', 'id': '57264228ec44d21400f3dcf9', 'answers': [{'text': 'Telenet was incorporated in 1973 and started operations in 1975. It went public in 1979 and was then sold to GTE', 'answer_start': 560}, {'text': 'GTE', 'answer_start': 669}, {'text': 'GTE', 'answer_start': 669}], 'is_impossible': False}\n",
      "\n",
      "\n",
      "Internet2 is a not-for-profit United States computer networking consortium led by members from the research and education communities, industry, and government. The Internet2 community, in partnership with Qwest, built the first Internet2 Network, called Abilene, in 1998 and was a prime investor in the National LambdaRail (NLR) project. In 2006, Internet2 announced a partnership with Level 3 Communications to launch a brand new nationwide network, boosting its capacity from 10 Gbit/s to 100 Gbit/s. In October, 2007, Internet2 officially retired Abilene and now refers to its new, higher capacity network as the Internet2 Network.\n",
      "{'question': 'ableine was retired and the new platform is called ', 'id': '5726472bdd62a815002e8046', 'answers': [{'text': 'Internet2 officially retired Abilene and now refers to its new, higher capacity network as the Internet2 Network', 'answer_start': 522}, {'text': 'Internet2 Network', 'answer_start': 617}, {'text': 'Internet2 Network', 'answer_start': 617}], 'is_impossible': False}\n",
      "\n",
      "\n",
      "In addition to arguing that the rat population was insufficient to account for a bubonic plague pandemic, sceptics of the bubonic plague theory point out that the symptoms of the Black Death are not unique (and arguably in some accounts may differ from bubonic plague); that transference via fleas in goods was likely to be of marginal significance; and that the DNA results may be flawed and might not have been repeated elsewhere, despite extensive samples from other mass graves. Other arguments include the lack of accounts of the death of rats before outbreaks of plague between the 14th and 17th centuries; temperatures that are too cold in northern Europe for the survival of fleas; that, despite primitive transport systems, the spread of the Black Death was much faster than that of modern bubonic plague; that mortality rates of the Black Death appear to be very high; that, while modern bubonic plague is largely endemic as a rural disease, the Black Death indiscriminately struck urban and rural areas; and that the pattern of the Black Death, with major outbreaks in the same areas separated by 5 to 15 years, differs from modern bubonic plague—which often becomes endemic for decades with annual flare-ups.\n",
      "{'question': 'Was the bubonic plague spread faster or slower than modern bubonic plague?', 'id': '57265285708984140094c25e', 'answers': [{'text': 'the Black Death was much faster than that of modern bubonic plague', 'answer_start': 747}, {'text': 'faster', 'answer_start': 772}, {'text': 'faster', 'answer_start': 772}], 'is_impossible': False}\n",
      "\n",
      "\n",
      "Some theories of civil disobedience hold that civil disobedience is only justified against governmental entities. Brownlee argues that disobedience in opposition to the decisions of non-governmental agencies such as trade unions, banks, and private universities can be justified if it reflects \"a larger challenge to the legal system that permits those decisions to be taken\". The same principle, she argues, applies to breaches of law in protest against international organizations and foreign governments.\n",
      "{'question': 'Browlee also applies that civil disobedience is okay regarding?', 'id': '5728151b4b864d190016442b', 'answers': [{'text': 'international organizations and foreign governments', 'answer_start': 455}, {'text': 'a larger challenge to the legal system that permits those decisions to be taken', 'answer_start': 295}, {'text': 'international organizations and foreign governments', 'answer_start': 455}, {'text': 'breaches of law in protest against international organizations and foreign governments', 'answer_start': 420}, {'text': 'opposition to the decisions of non-governmental agencies such as trade unions, banks, and private universities', 'answer_start': 151}], 'is_impossible': False}\n",
      "\n",
      "\n",
      "The party, or parties, that hold the majority of seats in the Parliament forms the Scottish Government. In contrast to many other parliamentary systems, Parliament elects a First Minister from a number of candidates at the beginning of each parliamentary term (after a general election). Any member can put their name forward to be First Minister, and a vote is taken by all members of Parliament. Normally, the leader of the largest party is returned as First Minister, and head of the Scottish Government. Theoretically, Parliament also elects the Scottish Ministers who form the government of Scotland and sit in the Scottish cabinet, but such ministers are, in practice, appointed to their roles by the First Minister. Junior ministers, who do not attend cabinet, are also appointed to assist Scottish ministers in their departments. Most ministers and their juniors are drawn from amongst the elected MSPs, with the exception of Scotland's Chief Law Officers: the Lord Advocate and the Solicitor General. Whilst the First Minister chooses the ministers – and may decide to remove them at any time – the formal appointment or dismissal is made by the Sovereign.\n",
      "{'question': \"Other than Scotland's Chief Law Officer, from whence are most ministers drawn from amongst?\", 'id': '572fd47fa23a5019007fca58', 'answers': [{'text': 'elected MSPs', 'answer_start': 898}, {'text': 'the elected MSPs', 'answer_start': 894}, {'text': 'amongst the elected MSPs', 'answer_start': 886}], 'is_impossible': False}\n",
      "\n",
      "\n",
      "Through combining the definition of electric current as the time rate of change of electric charge, a rule of vector multiplication called Lorentz's Law describes the force on a charge moving in a magnetic field. The connection between electricity and magnetism allows for the description of a unified electromagnetic force that acts on a charge. This force can be written as a sum of the electrostatic force (due to the electric field) and the magnetic force (due to the magnetic field). Fully stated, this is the law:\n",
      "{'question': 'Whatare the electrostatic and magnetic force awritten as the sum of?', 'id': '57378c9b1c456719005744aa', 'answers': [{'text': 'electrostatic force', 'answer_start': 389}, {'text': 'the electrostatic force (due to the electric field) and the magnetic force (due to the magnetic field).', 'answer_start': 385}, {'text': 'electrostatic force (due to the electric field) and the magnetic force', 'answer_start': 389}, {'text': 'the electrostatic force (due to the electric field) and the magnetic force', 'answer_start': 385}], 'is_impossible': False}\n",
      "\n",
      "\n"
     ]
    }
   ],
   "source": [
    "for document in data:\n",
    "    for paragraph in document['paragraphs']:\n",
    "        for qas in paragraph['qas']:\n",
    "            if qas['id'] in fn_none:\n",
    "                print(paragraph['context'])\n",
    "                print(qas)\n",
    "                print(\"\\n\")"
   ]
  },
  {
   "cell_type": "code",
   "execution_count": 12,
   "metadata": {},
   "outputs": [
    {
     "data": {
      "text/plain": [
       "11873"
      ]
     },
     "execution_count": 12,
     "metadata": {},
     "output_type": "execute_result"
    }
   ],
   "source": [
    "len(all_qid)"
   ]
  },
  {
   "cell_type": "code",
   "execution_count": 13,
   "metadata": {},
   "outputs": [],
   "source": [
    "right_qid = set(all_qid)-set(wrong_bert_wa)-set(wrong_bert_fp)-set(wrong_bert_fn)"
   ]
  },
  {
   "cell_type": "code",
   "execution_count": 14,
   "metadata": {},
   "outputs": [],
   "source": [
    "f = open('sqaud2.0_bert_right.txt','w')\n",
    "for qid in right_qid:\n",
    "    f.write(qid+'\\n')"
   ]
  },
  {
   "cell_type": "code",
   "execution_count": 15,
   "metadata": {},
   "outputs": [
    {
     "data": {
      "text/plain": [
       "11873"
      ]
     },
     "execution_count": 15,
     "metadata": {},
     "output_type": "execute_result"
    }
   ],
   "source": [
    "len(all_qid)"
   ]
  },
  {
   "cell_type": "code",
   "execution_count": 16,
   "metadata": {},
   "outputs": [
    {
     "data": {
      "text/plain": [
       "9553"
      ]
     },
     "execution_count": 16,
     "metadata": {},
     "output_type": "execute_result"
    }
   ],
   "source": [
    "len(right_qid)"
   ]
  },
  {
   "cell_type": "code",
   "execution_count": 17,
   "metadata": {},
   "outputs": [],
   "source": [
    "def clearquestion(question):\n",
    "    '''\n",
    "    Clear the query if it contain unnecessary multiple quotes marks\n",
    "    e.g) \"What is the Milky Way?\" --> What is the Milky Way?\n",
    "    @param question\n",
    "         \tquery string\n",
    "\n",
    "    @return the cleaned setence\n",
    "    '''\n",
    "    \n",
    "    if (question.startswith(\"\\\"\") and question.endswith(\"\\\"\")) or (question.startswith(\"\\'\") and question.endswith(\"\\'\")):\n",
    "        question = question[1:-1]\n",
    "        question = changepartsent(\"\\\"\\\"\", \"\\\"\", question)\n",
    "    \n",
    "    return question"
   ]
  },
  {
   "cell_type": "code",
   "execution_count": 18,
   "metadata": {},
   "outputs": [],
   "source": [
    "def changepartsent(word, reword, sentence):\n",
    "    '''\n",
    "    Change the part of sentence from word to reword\n",
    "    @param word\n",
    "         \t@word that targeted to change\n",
    "    @param reword\n",
    "         \t@word in sentence is replaced to @reword\n",
    "    @param sentence\n",
    "         \tsentence string\n",
    "    @return the changed string\n",
    "    '''\n",
    "    \n",
    "    if type(word) is list:\n",
    "        for w in word:\n",
    "            sentence = sentence.replace(w,reword)\n",
    "\n",
    "    else:\n",
    "        sentence = sentence.replace(word,reword)\n",
    "        sentence = sentence.replace(word[0].upper()+word[1:],reword)\n",
    "    \n",
    "    return sentence"
   ]
  },
  {
   "cell_type": "code",
   "execution_count": 19,
   "metadata": {},
   "outputs": [],
   "source": [
    "candidate = ['when', 'how', 'where', 'which', 'what', 'who', 'how many', 'whose', 'whom', 'why']\n",
    "how_words = ['many','tall','much','tall','old', 'often', 'deep', 'high', 'long', 'far', 'wide']\n",
    "changelist = ['(what?)', '(what)', '(which?)', '(Which?)', '(which)', '(Which)']"
   ]
  },
  {
   "cell_type": "markdown",
   "metadata": {},
   "source": [
    "## WH type wrong probability"
   ]
  },
  {
   "cell_type": "code",
   "execution_count": 20,
   "metadata": {},
   "outputs": [],
   "source": [
    "def _wh_helper(sentence):\n",
    "    doc = nlp(sentence)\n",
    "    \n",
    "    if sentence.startswith('name'): \n",
    "        return 'what'\n",
    "        #return 'name'\n",
    "    \n",
    "    if 'how' in sentence.split():\n",
    "        list_of_words = sentence.split()\n",
    "        if list_of_words.index('how') != len(list_of_words)-1: \n",
    "            next_word = list_of_words[list_of_words.index('how') + 1]\n",
    "            if next_word in how_words:\n",
    "                return 'how many'\n",
    "        \n",
    "    \n",
    "    for w in reversed(doc):\n",
    "        if w.pos_ == 'NN': continue\n",
    "        else:\n",
    "            for can in candidate:\n",
    "                if can in w.text.split():\n",
    "                    return can\n",
    "            break\n",
    "    \n",
    "    whs = []\n",
    "\n",
    "    for idx, token in enumerate(doc):\n",
    "        for can in candidate:\n",
    "            if can in token.text.split():\n",
    "                return can\n",
    "            \n",
    "    if doc[-1].lemma_ == 'be' or doc[-1].pos_ == 'ADP':\n",
    "        return 'none'\n",
    "        #return 'implicit_what'\n",
    "    \n",
    "    if 'name' in sentence.lower():\n",
    "        return 'what'\n",
    "        #return 'name'\n",
    "    \n",
    "    return 'none'"
   ]
  },
  {
   "cell_type": "code",
   "execution_count": 21,
   "metadata": {},
   "outputs": [],
   "source": [
    "def findWHword(sentence):\n",
    "    \n",
    "    sentence = sentence.lower()\n",
    "    osentence = sentence\n",
    "    \n",
    "    x = re.findall(\"\\(wha.*?\\)\", sentence)\n",
    "\n",
    "    if x != []:\n",
    "        return 'cloze'\n",
    "    \n",
    "    if sentence.count('\\\"') > 0:\n",
    "        sentence = changepartsent(re.findall(r'\"([^\"]*)\"', sentence), 'QUOTES', sentence)\n",
    "    if (sentence.count('\\'')-sentence.count('\\'s')) % 2 == 0 and sentence.count('\\'')-sentence.count('\\'s') > 0:\n",
    "        sentence = changepartsent(re.findall(r\"'(.*?)'\", sentence), 'QUOTES', sentence)\n",
    "        \n",
    "    sentence = re.sub('\\,.+?\\,', '', sentence)\n",
    "        \n",
    "    wh = _wh_helper(sentence)\n",
    "    if wh == 'none':\n",
    "        wh = _wh_helper(osentence)\n",
    "    \n",
    "    return wh"
   ]
  },
  {
   "cell_type": "code",
   "execution_count": 22,
   "metadata": {},
   "outputs": [
    {
     "data": {
      "application/vnd.jupyter.widget-view+json": {
       "model_id": "f1916713b6ca42a5bb3ac3df95cec6e5",
       "version_major": 2,
       "version_minor": 0
      },
      "text/plain": [
       "HBox(children=(IntProgress(value=0, max=35), HTML(value='')))"
      ]
     },
     "metadata": {},
     "output_type": "display_data"
    },
    {
     "name": "stdout",
     "output_type": "stream",
     "text": [
      "\n"
     ]
    }
   ],
   "source": [
    "whtype_dict = dict()\n",
    "\n",
    "for can in candidate:\n",
    "    whtype_dict[can] = []\n",
    "whtype_dict['none'] = []\n",
    "whtype_dict['implicit_what'] = []\n",
    "whtype_dict['name'] = []\n",
    "whtype_dict['cloze'] = []\n",
    "\n",
    "qid_list = []\n",
    "whtype_list = []\n",
    "wrong_type_list = []\n",
    "bert_solvable = []\n",
    "\n",
    "for document in tqdm_notebook(data):\n",
    "    for paragraph in document['paragraphs']:\n",
    "        for qas in paragraph['qas']:\n",
    "            question = clearquestion(qas['question'])\n",
    "            whtype = findWHword(question)\n",
    "            if whtype == 'whose' or whtype == 'whom': whtype = 'who'\n",
    "\n",
    "            whtype_dict[whtype].append(qas['id'])\n",
    "\n",
    "            qid_list.append(qas['id'])\n",
    "            whtype_list.append(whtype)\n",
    "            \n",
    "            count = 0\n",
    "            if qas['id'] in wrong_bert_wa: wrong_type_list.append('wa')\n",
    "            elif qas['id'] in wrong_bert_fp: wrong_type_list.append('fp')\n",
    "            elif qas['id'] in wrong_bert_fn: wrong_type_list.append('fn')\n",
    "            else: wrong_type_list.append('-')\n",
    "                \n",
    "            solvable = True if qas['id'] in right_qid else False\n",
    "            \n",
    "            bert_solvable.append(solvable)"
   ]
  },
  {
   "cell_type": "code",
   "execution_count": 23,
   "metadata": {},
   "outputs": [
    {
     "name": "stdout",
     "output_type": "stream",
     "text": [
      "'when': 758, \n",
      "'how': 366, \n",
      "'where': 482, \n",
      "'which': 511, \n",
      "'what': 7430, \n",
      "'who': 1119, \n",
      "'how many': 903, \n",
      "'whose': 0, \n",
      "'whom': 0, \n",
      "'why': 194, \n",
      "'none': 97, \n",
      "'implicit_what': 2, \n",
      "'name': 11, \n",
      "'cloze': 0, \n"
     ]
    }
   ],
   "source": [
    "for wh in whtype_dict:\n",
    "    print(\"'{}': {}, \".format(wh, len(whtype_dict[wh])))"
   ]
  },
  {
   "cell_type": "code",
   "execution_count": 23,
   "metadata": {},
   "outputs": [],
   "source": [
    "del whtype_dict['whose'], whtype_dict['whom']\n",
    "del whtype_dict['implicit_what'], whtype_dict['name'], whtype_dict['cloze']"
   ]
  },
  {
   "cell_type": "code",
   "execution_count": 24,
   "metadata": {},
   "outputs": [],
   "source": [
    "# dictionary of lists\n",
    "qid_dict = {'qid': qid_list, 'whtype': whtype_list, 'bert_solvable': bert_solvable, 'wrong_type': wrong_type_list}"
   ]
  },
  {
   "cell_type": "code",
   "execution_count": 50,
   "metadata": {},
   "outputs": [],
   "source": [
    "df = pd.DataFrame(qid_dict)"
   ]
  },
  {
   "cell_type": "code",
   "execution_count": 31,
   "metadata": {},
   "outputs": [],
   "source": [
    "df_all = df.copy(deep=True)"
   ]
  },
  {
   "cell_type": "code",
   "execution_count": 34,
   "metadata": {},
   "outputs": [],
   "source": [
    "df_wa = df.loc[(df['wrong_type'] == 'wa')]"
   ]
  },
  {
   "cell_type": "code",
   "execution_count": 51,
   "metadata": {},
   "outputs": [],
   "source": [
    "df_fp = df.loc[(df['wrong_type'] == 'fp')]"
   ]
  },
  {
   "cell_type": "code",
   "execution_count": 52,
   "metadata": {},
   "outputs": [],
   "source": [
    "df_fn = df.loc[(df['wrong_type'] == 'fn')]"
   ]
  },
  {
   "cell_type": "code",
   "execution_count": 64,
   "metadata": {},
   "outputs": [],
   "source": [
    "fn_none = df_fn.loc[df_fn['whtype'] == 'none'].qid"
   ]
  },
  {
   "cell_type": "code",
   "execution_count": 33,
   "metadata": {},
   "outputs": [
    {
     "data": {
      "text/plain": [
       "Index(['qid', 'whtype', 'RC_solvable', 'RC_solvable2', 'RC_solvable_count'], dtype='object')"
      ]
     },
     "execution_count": 33,
     "metadata": {},
     "output_type": "execute_result"
    }
   ],
   "source": [
    "df.keys()"
   ]
  },
  {
   "cell_type": "code",
   "execution_count": 33,
   "metadata": {},
   "outputs": [],
   "source": [
    "WHtypes = ['None','how','how many','what','when','where','which','who','why']"
   ]
  },
  {
   "cell_type": "code",
   "execution_count": 34,
   "metadata": {},
   "outputs": [],
   "source": [
    "WHtypes += [\"ColTotal\"]"
   ]
  },
  {
   "cell_type": "code",
   "execution_count": 35,
   "metadata": {},
   "outputs": [
    {
     "data": {
      "text/html": [
       "<div>\n",
       "<style scoped>\n",
       "    .dataframe tbody tr th:only-of-type {\n",
       "        vertical-align: middle;\n",
       "    }\n",
       "\n",
       "    .dataframe tbody tr th {\n",
       "        vertical-align: top;\n",
       "    }\n",
       "\n",
       "    .dataframe thead th {\n",
       "        text-align: right;\n",
       "    }\n",
       "</style>\n",
       "<table border=\"1\" class=\"dataframe\">\n",
       "  <thead>\n",
       "    <tr style=\"text-align: right;\">\n",
       "      <th></th>\n",
       "      <th>unsolvable</th>\n",
       "      <th>solvable</th>\n",
       "      <th>RowTotal</th>\n",
       "    </tr>\n",
       "    <tr>\n",
       "      <th>whtype</th>\n",
       "      <th></th>\n",
       "      <th></th>\n",
       "      <th></th>\n",
       "    </tr>\n",
       "  </thead>\n",
       "  <tbody>\n",
       "    <tr>\n",
       "      <th>None</th>\n",
       "      <td>19</td>\n",
       "      <td>51</td>\n",
       "      <td>70</td>\n",
       "    </tr>\n",
       "    <tr>\n",
       "      <th>how</th>\n",
       "      <td>107</td>\n",
       "      <td>331</td>\n",
       "      <td>438</td>\n",
       "    </tr>\n",
       "    <tr>\n",
       "      <th>how many</th>\n",
       "      <td>56</td>\n",
       "      <td>740</td>\n",
       "      <td>796</td>\n",
       "    </tr>\n",
       "    <tr>\n",
       "      <th>what</th>\n",
       "      <td>796</td>\n",
       "      <td>5241</td>\n",
       "      <td>6037</td>\n",
       "    </tr>\n",
       "    <tr>\n",
       "      <th>when</th>\n",
       "      <td>30</td>\n",
       "      <td>685</td>\n",
       "      <td>715</td>\n",
       "    </tr>\n",
       "    <tr>\n",
       "      <th>where</th>\n",
       "      <td>80</td>\n",
       "      <td>396</td>\n",
       "      <td>476</td>\n",
       "    </tr>\n",
       "    <tr>\n",
       "      <th>which</th>\n",
       "      <td>77</td>\n",
       "      <td>621</td>\n",
       "      <td>698</td>\n",
       "    </tr>\n",
       "    <tr>\n",
       "      <th>who</th>\n",
       "      <td>94</td>\n",
       "      <td>1091</td>\n",
       "      <td>1185</td>\n",
       "    </tr>\n",
       "    <tr>\n",
       "      <th>why</th>\n",
       "      <td>53</td>\n",
       "      <td>102</td>\n",
       "      <td>155</td>\n",
       "    </tr>\n",
       "    <tr>\n",
       "      <th>All</th>\n",
       "      <td>1312</td>\n",
       "      <td>9258</td>\n",
       "      <td>10570</td>\n",
       "    </tr>\n",
       "  </tbody>\n",
       "</table>\n",
       "</div>"
      ],
      "text/plain": [
       "          unsolvable  solvable  RowTotal\n",
       "whtype                                  \n",
       "None              19        51        70\n",
       "how              107       331       438\n",
       "how many          56       740       796\n",
       "what             796      5241      6037\n",
       "when              30       685       715\n",
       "where             80       396       476\n",
       "which             77       621       698\n",
       "who               94      1091      1185\n",
       "why               53       102       155\n",
       "All             1312      9258     10570"
      ]
     },
     "execution_count": 35,
     "metadata": {},
     "output_type": "execute_result"
    }
   ],
   "source": [
    "# Table of survival vs passenger class\n",
    "solvable_table = pd.crosstab(index=df[\"whtype\"], \n",
    "                            columns=df[\"xlnet_solvable\"], margins=True)\n",
    "\n",
    "\n",
    "solvable_table.columns = ['unsolvable', 'solvable',\"RowTotal\"]\n",
    "#solvable_table.index= WHtypes\n",
    "\n",
    "solvable_table"
   ]
  },
  {
   "cell_type": "code",
   "execution_count": 28,
   "metadata": {},
   "outputs": [
    {
     "data": {
      "text/html": [
       "<div>\n",
       "<style scoped>\n",
       "    .dataframe tbody tr th:only-of-type {\n",
       "        vertical-align: middle;\n",
       "    }\n",
       "\n",
       "    .dataframe tbody tr th {\n",
       "        vertical-align: top;\n",
       "    }\n",
       "\n",
       "    .dataframe thead th {\n",
       "        text-align: right;\n",
       "    }\n",
       "</style>\n",
       "<table border=\"1\" class=\"dataframe\">\n",
       "  <thead>\n",
       "    <tr style=\"text-align: right;\">\n",
       "      <th></th>\n",
       "      <th>Right</th>\n",
       "      <th>FN wrong</th>\n",
       "      <th>FP wrong</th>\n",
       "      <th>Wrong Answer</th>\n",
       "      <th>RowTotal</th>\n",
       "    </tr>\n",
       "    <tr>\n",
       "      <th>whtype</th>\n",
       "      <th></th>\n",
       "      <th></th>\n",
       "      <th></th>\n",
       "      <th></th>\n",
       "      <th></th>\n",
       "    </tr>\n",
       "  </thead>\n",
       "  <tbody>\n",
       "    <tr>\n",
       "      <th>how</th>\n",
       "      <td>244</td>\n",
       "      <td>20</td>\n",
       "      <td>39</td>\n",
       "      <td>63</td>\n",
       "      <td>366</td>\n",
       "    </tr>\n",
       "    <tr>\n",
       "      <th>how many</th>\n",
       "      <td>752</td>\n",
       "      <td>41</td>\n",
       "      <td>70</td>\n",
       "      <td>40</td>\n",
       "      <td>903</td>\n",
       "    </tr>\n",
       "    <tr>\n",
       "      <th>none</th>\n",
       "      <td>52</td>\n",
       "      <td>12</td>\n",
       "      <td>20</td>\n",
       "      <td>15</td>\n",
       "      <td>99</td>\n",
       "    </tr>\n",
       "    <tr>\n",
       "      <th>what</th>\n",
       "      <td>5992</td>\n",
       "      <td>335</td>\n",
       "      <td>579</td>\n",
       "      <td>535</td>\n",
       "      <td>7441</td>\n",
       "    </tr>\n",
       "    <tr>\n",
       "      <th>when</th>\n",
       "      <td>658</td>\n",
       "      <td>25</td>\n",
       "      <td>54</td>\n",
       "      <td>21</td>\n",
       "      <td>758</td>\n",
       "    </tr>\n",
       "    <tr>\n",
       "      <th>where</th>\n",
       "      <td>366</td>\n",
       "      <td>19</td>\n",
       "      <td>48</td>\n",
       "      <td>49</td>\n",
       "      <td>482</td>\n",
       "    </tr>\n",
       "    <tr>\n",
       "      <th>which</th>\n",
       "      <td>413</td>\n",
       "      <td>29</td>\n",
       "      <td>28</td>\n",
       "      <td>41</td>\n",
       "      <td>511</td>\n",
       "    </tr>\n",
       "    <tr>\n",
       "      <th>who</th>\n",
       "      <td>941</td>\n",
       "      <td>48</td>\n",
       "      <td>85</td>\n",
       "      <td>45</td>\n",
       "      <td>1119</td>\n",
       "    </tr>\n",
       "    <tr>\n",
       "      <th>why</th>\n",
       "      <td>135</td>\n",
       "      <td>15</td>\n",
       "      <td>13</td>\n",
       "      <td>31</td>\n",
       "      <td>194</td>\n",
       "    </tr>\n",
       "    <tr>\n",
       "      <th>All</th>\n",
       "      <td>9553</td>\n",
       "      <td>544</td>\n",
       "      <td>936</td>\n",
       "      <td>840</td>\n",
       "      <td>11873</td>\n",
       "    </tr>\n",
       "  </tbody>\n",
       "</table>\n",
       "</div>"
      ],
      "text/plain": [
       "          Right  FN wrong  FP wrong  Wrong Answer  RowTotal\n",
       "whtype                                                     \n",
       "how         244        20        39            63       366\n",
       "how many    752        41        70            40       903\n",
       "none         52        12        20            15        99\n",
       "what       5992       335       579           535      7441\n",
       "when        658        25        54            21       758\n",
       "where       366        19        48            49       482\n",
       "which       413        29        28            41       511\n",
       "who         941        48        85            45      1119\n",
       "why         135        15        13            31       194\n",
       "All        9553       544       936           840     11873"
      ]
     },
     "execution_count": 28,
     "metadata": {},
     "output_type": "execute_result"
    }
   ],
   "source": [
    "# Table of survival vs passenger class\n",
    "solvable_table = pd.crosstab(index=df[\"whtype\"], \n",
    "                            columns=df[\"wrong_type\"], margins=True)\n",
    "\n",
    "\n",
    "solvable_table.columns = ['Right','FN wrong','FP wrong','Wrong Answer',\"RowTotal\"]\n",
    "#solvable_table.index= WHtypes\n",
    "\n",
    "solvable_table"
   ]
  },
  {
   "cell_type": "code",
   "execution_count": 71,
   "metadata": {},
   "outputs": [
    {
     "data": {
      "text/plain": [
       "whtype\n",
       "how                366\n",
       "how many           903\n",
       "implicit_what        2\n",
       "name                11\n",
       "none                97\n",
       "what              7430\n",
       "when               758\n",
       "where              482\n",
       "which              511\n",
       "who               1119\n",
       "why                194\n",
       "All              11873\n",
       "Name: RowTotal, dtype: int64"
      ]
     },
     "execution_count": 71,
     "metadata": {},
     "output_type": "execute_result"
    }
   ],
   "source": [
    "solvable_table['RowTotal']"
   ]
  },
  {
   "cell_type": "code",
   "execution_count": 29,
   "metadata": {},
   "outputs": [],
   "source": [
    "import seaborn as sns\n",
    "solvable_table_m = solvable_table.copy(deep=True)\n",
    "#solvable_table_m = solvable_table_m.drop('All')"
   ]
  },
  {
   "cell_type": "code",
   "execution_count": 29,
   "metadata": {},
   "outputs": [
    {
     "data": {
      "text/html": [
       "<div>\n",
       "<style scoped>\n",
       "    .dataframe tbody tr th:only-of-type {\n",
       "        vertical-align: middle;\n",
       "    }\n",
       "\n",
       "    .dataframe tbody tr th {\n",
       "        vertical-align: top;\n",
       "    }\n",
       "\n",
       "    .dataframe thead th {\n",
       "        text-align: right;\n",
       "    }\n",
       "</style>\n",
       "<table border=\"1\" class=\"dataframe\">\n",
       "  <thead>\n",
       "    <tr style=\"text-align: right;\">\n",
       "      <th></th>\n",
       "      <th>Right</th>\n",
       "      <th>FN wrong</th>\n",
       "      <th>FP wrong</th>\n",
       "      <th>Wrong Answer</th>\n",
       "      <th>RowTotal</th>\n",
       "    </tr>\n",
       "    <tr>\n",
       "      <th>whtype</th>\n",
       "      <th></th>\n",
       "      <th></th>\n",
       "      <th></th>\n",
       "      <th></th>\n",
       "      <th></th>\n",
       "    </tr>\n",
       "  </thead>\n",
       "  <tbody>\n",
       "    <tr>\n",
       "      <th>how</th>\n",
       "      <td>244</td>\n",
       "      <td>20</td>\n",
       "      <td>39</td>\n",
       "      <td>63</td>\n",
       "      <td>366</td>\n",
       "    </tr>\n",
       "    <tr>\n",
       "      <th>how many</th>\n",
       "      <td>752</td>\n",
       "      <td>41</td>\n",
       "      <td>70</td>\n",
       "      <td>40</td>\n",
       "      <td>903</td>\n",
       "    </tr>\n",
       "    <tr>\n",
       "      <th>implicit_what</th>\n",
       "      <td>0</td>\n",
       "      <td>1</td>\n",
       "      <td>0</td>\n",
       "      <td>1</td>\n",
       "      <td>2</td>\n",
       "    </tr>\n",
       "    <tr>\n",
       "      <th>name</th>\n",
       "      <td>7</td>\n",
       "      <td>0</td>\n",
       "      <td>0</td>\n",
       "      <td>4</td>\n",
       "      <td>11</td>\n",
       "    </tr>\n",
       "    <tr>\n",
       "      <th>none</th>\n",
       "      <td>52</td>\n",
       "      <td>11</td>\n",
       "      <td>20</td>\n",
       "      <td>14</td>\n",
       "      <td>97</td>\n",
       "    </tr>\n",
       "    <tr>\n",
       "      <th>what</th>\n",
       "      <td>5985</td>\n",
       "      <td>335</td>\n",
       "      <td>579</td>\n",
       "      <td>531</td>\n",
       "      <td>7430</td>\n",
       "    </tr>\n",
       "    <tr>\n",
       "      <th>when</th>\n",
       "      <td>658</td>\n",
       "      <td>25</td>\n",
       "      <td>54</td>\n",
       "      <td>21</td>\n",
       "      <td>758</td>\n",
       "    </tr>\n",
       "    <tr>\n",
       "      <th>where</th>\n",
       "      <td>366</td>\n",
       "      <td>19</td>\n",
       "      <td>48</td>\n",
       "      <td>49</td>\n",
       "      <td>482</td>\n",
       "    </tr>\n",
       "    <tr>\n",
       "      <th>which</th>\n",
       "      <td>413</td>\n",
       "      <td>29</td>\n",
       "      <td>28</td>\n",
       "      <td>41</td>\n",
       "      <td>511</td>\n",
       "    </tr>\n",
       "    <tr>\n",
       "      <th>who</th>\n",
       "      <td>941</td>\n",
       "      <td>48</td>\n",
       "      <td>85</td>\n",
       "      <td>45</td>\n",
       "      <td>1119</td>\n",
       "    </tr>\n",
       "    <tr>\n",
       "      <th>why</th>\n",
       "      <td>135</td>\n",
       "      <td>15</td>\n",
       "      <td>13</td>\n",
       "      <td>31</td>\n",
       "      <td>194</td>\n",
       "    </tr>\n",
       "    <tr>\n",
       "      <th>All</th>\n",
       "      <td>9553</td>\n",
       "      <td>544</td>\n",
       "      <td>936</td>\n",
       "      <td>840</td>\n",
       "      <td>11873</td>\n",
       "    </tr>\n",
       "  </tbody>\n",
       "</table>\n",
       "</div>"
      ],
      "text/plain": [
       "               Right  FN wrong  FP wrong  Wrong Answer  RowTotal\n",
       "whtype                                                          \n",
       "how              244        20        39            63       366\n",
       "how many         752        41        70            40       903\n",
       "implicit_what      0         1         0             1         2\n",
       "name               7         0         0             4        11\n",
       "none              52        11        20            14        97\n",
       "what            5985       335       579           531      7430\n",
       "when             658        25        54            21       758\n",
       "where            366        19        48            49       482\n",
       "which            413        29        28            41       511\n",
       "who              941        48        85            45      1119\n",
       "why              135        15        13            31       194\n",
       "All             9553       544       936           840     11873"
      ]
     },
     "execution_count": 29,
     "metadata": {},
     "output_type": "execute_result"
    }
   ],
   "source": [
    "solvable_table_m"
   ]
  },
  {
   "cell_type": "code",
   "execution_count": 30,
   "metadata": {},
   "outputs": [],
   "source": [
    "solvable_table_m_ratio = solvable_table_m.copy(deep=True)\n",
    "columns = ['Right', 'FN wrong', 'FP wrong','Wrong Answer']\n",
    "for i in range(4):\n",
    "    solvable_table_m_ratio[columns[i]] = solvable_table_m_ratio[columns[i]]/solvable_table_m_ratio['RowTotal']"
   ]
  },
  {
   "cell_type": "code",
   "execution_count": 31,
   "metadata": {},
   "outputs": [
    {
     "data": {
      "text/html": [
       "<div>\n",
       "<style scoped>\n",
       "    .dataframe tbody tr th:only-of-type {\n",
       "        vertical-align: middle;\n",
       "    }\n",
       "\n",
       "    .dataframe tbody tr th {\n",
       "        vertical-align: top;\n",
       "    }\n",
       "\n",
       "    .dataframe thead th {\n",
       "        text-align: right;\n",
       "    }\n",
       "</style>\n",
       "<table border=\"1\" class=\"dataframe\">\n",
       "  <thead>\n",
       "    <tr style=\"text-align: right;\">\n",
       "      <th></th>\n",
       "      <th>Right</th>\n",
       "      <th>FN wrong</th>\n",
       "      <th>FP wrong</th>\n",
       "      <th>Wrong Answer</th>\n",
       "      <th>RowTotal</th>\n",
       "    </tr>\n",
       "    <tr>\n",
       "      <th>whtype</th>\n",
       "      <th></th>\n",
       "      <th></th>\n",
       "      <th></th>\n",
       "      <th></th>\n",
       "      <th></th>\n",
       "    </tr>\n",
       "  </thead>\n",
       "  <tbody>\n",
       "    <tr>\n",
       "      <th>how</th>\n",
       "      <td>0.666667</td>\n",
       "      <td>0.054645</td>\n",
       "      <td>0.106557</td>\n",
       "      <td>0.172131</td>\n",
       "      <td>366</td>\n",
       "    </tr>\n",
       "    <tr>\n",
       "      <th>how many</th>\n",
       "      <td>0.832780</td>\n",
       "      <td>0.045404</td>\n",
       "      <td>0.077519</td>\n",
       "      <td>0.044297</td>\n",
       "      <td>903</td>\n",
       "    </tr>\n",
       "    <tr>\n",
       "      <th>none</th>\n",
       "      <td>0.525253</td>\n",
       "      <td>0.121212</td>\n",
       "      <td>0.202020</td>\n",
       "      <td>0.151515</td>\n",
       "      <td>99</td>\n",
       "    </tr>\n",
       "    <tr>\n",
       "      <th>what</th>\n",
       "      <td>0.805268</td>\n",
       "      <td>0.045021</td>\n",
       "      <td>0.077812</td>\n",
       "      <td>0.071899</td>\n",
       "      <td>7441</td>\n",
       "    </tr>\n",
       "    <tr>\n",
       "      <th>when</th>\n",
       "      <td>0.868074</td>\n",
       "      <td>0.032982</td>\n",
       "      <td>0.071240</td>\n",
       "      <td>0.027704</td>\n",
       "      <td>758</td>\n",
       "    </tr>\n",
       "    <tr>\n",
       "      <th>where</th>\n",
       "      <td>0.759336</td>\n",
       "      <td>0.039419</td>\n",
       "      <td>0.099585</td>\n",
       "      <td>0.101660</td>\n",
       "      <td>482</td>\n",
       "    </tr>\n",
       "    <tr>\n",
       "      <th>which</th>\n",
       "      <td>0.808219</td>\n",
       "      <td>0.056751</td>\n",
       "      <td>0.054795</td>\n",
       "      <td>0.080235</td>\n",
       "      <td>511</td>\n",
       "    </tr>\n",
       "    <tr>\n",
       "      <th>who</th>\n",
       "      <td>0.840929</td>\n",
       "      <td>0.042895</td>\n",
       "      <td>0.075961</td>\n",
       "      <td>0.040214</td>\n",
       "      <td>1119</td>\n",
       "    </tr>\n",
       "    <tr>\n",
       "      <th>why</th>\n",
       "      <td>0.695876</td>\n",
       "      <td>0.077320</td>\n",
       "      <td>0.067010</td>\n",
       "      <td>0.159794</td>\n",
       "      <td>194</td>\n",
       "    </tr>\n",
       "    <tr>\n",
       "      <th>All</th>\n",
       "      <td>0.804599</td>\n",
       "      <td>0.045818</td>\n",
       "      <td>0.078834</td>\n",
       "      <td>0.070749</td>\n",
       "      <td>11873</td>\n",
       "    </tr>\n",
       "  </tbody>\n",
       "</table>\n",
       "</div>"
      ],
      "text/plain": [
       "             Right  FN wrong  FP wrong  Wrong Answer  RowTotal\n",
       "whtype                                                        \n",
       "how       0.666667  0.054645  0.106557      0.172131       366\n",
       "how many  0.832780  0.045404  0.077519      0.044297       903\n",
       "none      0.525253  0.121212  0.202020      0.151515        99\n",
       "what      0.805268  0.045021  0.077812      0.071899      7441\n",
       "when      0.868074  0.032982  0.071240      0.027704       758\n",
       "where     0.759336  0.039419  0.099585      0.101660       482\n",
       "which     0.808219  0.056751  0.054795      0.080235       511\n",
       "who       0.840929  0.042895  0.075961      0.040214      1119\n",
       "why       0.695876  0.077320  0.067010      0.159794       194\n",
       "All       0.804599  0.045818  0.078834      0.070749     11873"
      ]
     },
     "execution_count": 31,
     "metadata": {},
     "output_type": "execute_result"
    }
   ],
   "source": [
    "solvable_table_m_ratio"
   ]
  },
  {
   "cell_type": "code",
   "execution_count": 47,
   "metadata": {},
   "outputs": [],
   "source": [
    "values = list(solvable_table_m_ratio['FN wrong'])"
   ]
  },
  {
   "cell_type": "code",
   "execution_count": 36,
   "metadata": {},
   "outputs": [],
   "source": [
    "solvable_table_m_ratio = solvable_table_m_ratio.sort_values(['FN wrong'], ascending=[0])"
   ]
  },
  {
   "cell_type": "code",
   "execution_count": 48,
   "metadata": {},
   "outputs": [
    {
     "data": {
      "text/plain": [
       "<matplotlib.axes._subplots.AxesSubplot at 0x7fd4cc2623d0>"
      ]
     },
     "execution_count": 48,
     "metadata": {},
     "output_type": "execute_result"
    },
    {
     "data": {
      "image/png": "[encoded data removed]",
      "text/plain": [
       "<Figure size 1080x576 with 1 Axes>"
      ]
     },
     "metadata": {},
     "output_type": "display_data"
    }
   ],
   "source": [
    "cmap = sns.cubehelix_palette(8)\n",
    "plt.figure(figsize=(15,8))\n",
    "clrs = ['grey' if (x < max(values)) else 'red' for x in values ]\n",
    "sns.barplot(x=solvable_table_m_ratio.index, y=\"FN wrong\", data=solvable_table_m_ratio, palette=clrs)\n",
    "ax.set_title('[SQuAD 2.0] Difficulty per wh-type for MRQA models', fontsize=15)"
   ]
  },
  {
   "cell_type": "code",
   "execution_count": 33,
   "metadata": {
    "scrolled": true
   },
   "outputs": [],
   "source": [
    "tmp = solvable_table.div(solvable_table[\"RowTotal\"], axis=0)\n",
    "tmp = tmp.sort_values(['Right'], ascending=[1])"
   ]
  },
  {
   "cell_type": "code",
   "execution_count": 34,
   "metadata": {},
   "outputs": [],
   "source": [
    "ll = []\n",
    "for idx, row in tmp.iterrows():\n",
    "    ll.append((row['Wrong Answer'], row['FN wrong'],row['FP wrong'],row['Right']))"
   ]
  },
  {
   "cell_type": "code",
   "execution_count": 45,
   "metadata": {},
   "outputs": [
    {
     "data": {
      "text/plain": [
       "Index(['implicit_what', 'none', 'name', 'how', 'why', 'where', 'All', 'what',\n",
       "       'which', 'how many', 'who', 'when'],\n",
       "      dtype='object', name='whtype')"
      ]
     },
     "execution_count": 45,
     "metadata": {},
     "output_type": "execute_result"
    }
   ],
   "source": [
    "tmp.index"
   ]
  },
  {
   "cell_type": "code",
   "execution_count": 46,
   "metadata": {
    "scrolled": true
   },
   "outputs": [
    {
     "data": {
      "text/plain": [
       "[(0.5, 0.5, 0.0, 0.0),\n",
       " (0.14432989690721648,\n",
       "  0.1134020618556701,\n",
       "  0.20618556701030927,\n",
       "  0.5360824742268041),\n",
       " (0.36363636363636365, 0.0, 0.0, 0.6363636363636364),\n",
       " (0.1721311475409836,\n",
       "  0.0546448087431694,\n",
       "  0.10655737704918032,\n",
       "  0.6666666666666666),\n",
       " (0.15979381443298968,\n",
       "  0.07731958762886598,\n",
       "  0.06701030927835051,\n",
       "  0.6958762886597938),\n",
       " (0.1016597510373444,\n",
       "  0.03941908713692946,\n",
       "  0.0995850622406639,\n",
       "  0.7593360995850622),\n",
       " (0.07074875768550493,\n",
       "  0.04581824307251748,\n",
       "  0.07883432999241978,\n",
       "  0.8045986692495578),\n",
       " (0.07146702557200538,\n",
       "  0.04508748317631225,\n",
       "  0.07792732166890982,\n",
       "  0.8055181695827726),\n",
       " (0.08023483365949119,\n",
       "  0.05675146771037182,\n",
       "  0.0547945205479452,\n",
       "  0.8082191780821918),\n",
       " (0.044296788482835,\n",
       "  0.04540420819490587,\n",
       "  0.07751937984496124,\n",
       "  0.832779623477298),\n",
       " (0.040214477211796246,\n",
       "  0.04289544235924933,\n",
       "  0.07596067917783736,\n",
       "  0.840929401251117),\n",
       " (0.027704485488126648,\n",
       "  0.032981530343007916,\n",
       "  0.0712401055408971,\n",
       "  0.8680738786279684)]"
      ]
     },
     "execution_count": 46,
     "metadata": {},
     "output_type": "execute_result"
    }
   ],
   "source": [
    "ll"
   ]
  },
  {
   "cell_type": "code",
   "execution_count": 35,
   "metadata": {},
   "outputs": [
    {
     "data": {
      "text/plain": [
       "Text(0.5, 1.0, '[SQuAD 2.0] Difficulty per wh-type for MRQA models')"
      ]
     },
     "execution_count": 35,
     "metadata": {},
     "output_type": "execute_result"
    },
    {
     "data": {
      "image/png": "[encoded data removed]",
      "text/plain": [
       "<Figure size 432x288 with 1 Axes>"
      ]
     },
     "metadata": {},
     "output_type": "display_data"
    }
   ],
   "source": [
    "import pandas as pd\n",
    "import seaborn as sns\n",
    "import matplotlib\n",
    "sns.set()\n",
    "\n",
    "df = pd.DataFrame(ll, columns=['Wrong Answer','FN wrong','FP wrong','Right'], \n",
    "                  index=tmp.index)\n",
    "#df['unsolvable'] = -df['unsolvable']\n",
    "ax = df.plot(title = '[SQuAD 2.0] Difficulty per wh-type for MRQA models', kind='barh', stacked=True, colormap='coolwarm_r')\n",
    "ax.set_facecolor(\"w\")\n",
    "matplotlib.pyplot.ylabel('wh-type')\n",
    "matplotlib.pyplot.xlabel('stacked proportion of questions')\n",
    "ax.legend(loc='center left', bbox_to_anchor=(1, 0.5), title=\"# of models that gave \\n  the correct answers\")\n",
    "ax.set_title('[SQuAD 2.0] Difficulty per wh-type for MRQA models', fontsize=15)"
   ]
  },
  {
   "cell_type": "code",
   "execution_count": 40,
   "metadata": {},
   "outputs": [
    {
     "data": {
      "image/png": "[encoded data removed]",
      "text/plain": [
       "<Figure size 432x288 with 1 Axes>"
      ]
     },
     "metadata": {},
     "output_type": "display_data"
    }
   ],
   "source": [
    "##  only xlnet\n",
    "import pandas as pd\n",
    "import seaborn as sns\n",
    "sns.set()\n",
    "df = pd.DataFrame(ll, columns=['unsolvable', 'solvable'], \n",
    "                  index=tmp.index)\n",
    "df['unsolvable'] = -df['unsolvable']\n",
    "df.plot(title = 'RCQA solvability per WH word_xlnet', kind='barh', stacked=True);"
   ]
  },
  {
   "cell_type": "code",
   "execution_count": 43,
   "metadata": {},
   "outputs": [
    {
     "data": {
      "image/png": "[encoded data removed]",
      "text/plain": [
       "<Figure size 432x288 with 1 Axes>"
      ]
     },
     "metadata": {},
     "output_type": "display_data"
    }
   ],
   "source": [
    "import pandas as pd\n",
    "import seaborn as sns\n",
    "sns.set()\n",
    "\n",
    "df = pd.DataFrame(ll, columns=['unsolvable', 'solvable'], \n",
    "                  index=tmp.index)\n",
    "df['unsolvable'] = -df['unsolvable']\n",
    "df.plot(title = 'RCQA solvability per WH word', kind='barh', stacked=True);"
   ]
  },
  {
   "cell_type": "markdown",
   "metadata": {},
   "source": [
    "## LAT type wrong probability"
   ]
  },
  {
   "cell_type": "code",
   "execution_count": 77,
   "metadata": {},
   "outputs": [],
   "source": [
    "def PosTagger(sentence):    \n",
    "    '''\n",
    "    POS Tagger\n",
    "    \n",
    "    @return the tuple of token and POS tag in sentence\n",
    "    '''\n",
    "    doc = nlp(sentence)\n",
    "    poslist = []\n",
    "\n",
    "    for token in doc:\n",
    "        poslist.append((token.text, token.tag_))\n",
    "    \n",
    "    return poslist"
   ]
  },
  {
   "cell_type": "code",
   "execution_count": 78,
   "metadata": {},
   "outputs": [],
   "source": [
    "def detailAnsType(question):\n",
    "    '''\n",
    "    Find detail answer type\n",
    "    \n",
    "    @return the detail answer type\n",
    "    '''\n",
    "    st = False\n",
    "    ans = ''\n",
    "    PTs = PosTagger(question)\n",
    "    \n",
    "    #print (PTs)\n",
    "    \n",
    "    for idx, w in enumerate(PTs):\n",
    "        if w[0].lower() == 'what' or w[0].lower() == 'which':\n",
    "            st = True\n",
    "            continue\n",
    "        #print(w)\n",
    "        if st == True and (w[0].lower() == 'did' or w[0].lower() == 'does'): break\n",
    "        if st == True and (w[1] == 'NN' or w[1] == 'NNP' or w[1] == 'NNS'):\n",
    "            if 'kind' in w[0].lower() or 'name' in w[0].lower() or 'type' in w[0].lower() or (idx < len(PTs)-1 and \"\\'s\" in PTs[idx+1][0].lower()):\n",
    "                continue\n",
    "                \n",
    "            for j in range(idx, len(PTs)):\n",
    "                if PTs[j][0][0].isupper():\n",
    "                    ans = ''\n",
    "                    break\n",
    "                if not (PTs[j][1] == 'NN' or PTs[j][1] == 'NNP' or PTs[j][1] == 'NNS'):\n",
    "                    if \"\\'s\" in PTs[j][0].lower():\n",
    "                        ans = ''\n",
    "                        break\n",
    "                    else: return (ans, PTs[j-1][0])\n",
    "                ans += PTs[j][0]+' '\n",
    "                \n",
    "    \n",
    "    return (\"None\",\"None\")"
   ]
  },
  {
   "cell_type": "code",
   "execution_count": 79,
   "metadata": {
    "scrolled": true
   },
   "outputs": [
    {
     "data": {
      "application/vnd.jupyter.widget-view+json": {
       "model_id": "35227d3544174b758095b7f2a57ce685",
       "version_major": 2,
       "version_minor": 0
      },
      "text/plain": [
       "HBox(children=(IntProgress(value=0, max=35), HTML(value='')))"
      ]
     },
     "metadata": {},
     "output_type": "display_data"
    },
    {
     "name": "stdout",
     "output_type": "stream",
     "text": [
      "\n"
     ]
    }
   ],
   "source": [
    "lat_group = Counter()\n",
    "lat_list = []\n",
    "\n",
    "for document in tqdm_notebook(data):\n",
    "    for paragraph in document['paragraphs']:\n",
    "        for qas in paragraph['qas']:\n",
    "            question = clearquestion(qas['question'])\n",
    "            \n",
    "            lat_d, lat_s = detailAnsType(question)\n",
    "            lat_list.append(lat_s)\n",
    "    \n",
    "            lat_group[lat_s] += 1"
   ]
  },
  {
   "cell_type": "code",
   "execution_count": 172,
   "metadata": {},
   "outputs": [],
   "source": [
    "qid_dict2 = {'qid': qid_list, 'whtype': whtype_list, 'lattype': lat_list, 'bert_solvable': bert_solvable, 'wrong_type': wrong_type_list}"
   ]
  },
  {
   "cell_type": "code",
   "execution_count": 174,
   "metadata": {},
   "outputs": [],
   "source": [
    "df2 = pd.DataFrame(qid_dict2)"
   ]
  },
  {
   "cell_type": "code",
   "execution_count": 175,
   "metadata": {},
   "outputs": [
    {
     "data": {
      "text/html": [
       "<div>\n",
       "<style scoped>\n",
       "    .dataframe tbody tr th:only-of-type {\n",
       "        vertical-align: middle;\n",
       "    }\n",
       "\n",
       "    .dataframe tbody tr th {\n",
       "        vertical-align: top;\n",
       "    }\n",
       "\n",
       "    .dataframe thead th {\n",
       "        text-align: right;\n",
       "    }\n",
       "</style>\n",
       "<table border=\"1\" class=\"dataframe\">\n",
       "  <thead>\n",
       "    <tr style=\"text-align: right;\">\n",
       "      <th></th>\n",
       "      <th>qid</th>\n",
       "      <th>whtype</th>\n",
       "      <th>lattype</th>\n",
       "      <th>bert_solvable</th>\n",
       "      <th>wrong_type</th>\n",
       "    </tr>\n",
       "  </thead>\n",
       "  <tbody>\n",
       "    <tr>\n",
       "      <th>0</th>\n",
       "      <td>56ddde6b9a695914005b9628</td>\n",
       "      <td>what</td>\n",
       "      <td>country</td>\n",
       "      <td>True</td>\n",
       "      <td>-</td>\n",
       "    </tr>\n",
       "    <tr>\n",
       "      <th>1</th>\n",
       "      <td>56ddde6b9a695914005b9629</td>\n",
       "      <td>when</td>\n",
       "      <td>None</td>\n",
       "      <td>True</td>\n",
       "      <td>-</td>\n",
       "    </tr>\n",
       "    <tr>\n",
       "      <th>2</th>\n",
       "      <td>56ddde6b9a695914005b962a</td>\n",
       "      <td>which</td>\n",
       "      <td>countries</td>\n",
       "      <td>True</td>\n",
       "      <td>-</td>\n",
       "    </tr>\n",
       "    <tr>\n",
       "      <th>3</th>\n",
       "      <td>56ddde6b9a695914005b962b</td>\n",
       "      <td>who</td>\n",
       "      <td>None</td>\n",
       "      <td>True</td>\n",
       "      <td>-</td>\n",
       "    </tr>\n",
       "    <tr>\n",
       "      <th>4</th>\n",
       "      <td>56ddde6b9a695914005b962c</td>\n",
       "      <td>what</td>\n",
       "      <td>century</td>\n",
       "      <td>True</td>\n",
       "      <td>-</td>\n",
       "    </tr>\n",
       "    <tr>\n",
       "      <th>...</th>\n",
       "      <td>...</td>\n",
       "      <td>...</td>\n",
       "      <td>...</td>\n",
       "      <td>...</td>\n",
       "      <td>...</td>\n",
       "    </tr>\n",
       "    <tr>\n",
       "      <th>11868</th>\n",
       "      <td>5737aafd1c456719005744ff</td>\n",
       "      <td>what</td>\n",
       "      <td>unit</td>\n",
       "      <td>False</td>\n",
       "      <td>fn</td>\n",
       "    </tr>\n",
       "    <tr>\n",
       "      <th>11869</th>\n",
       "      <td>5ad28ad0d7d075001a4299cc</td>\n",
       "      <td>what</td>\n",
       "      <td>None</td>\n",
       "      <td>True</td>\n",
       "      <td>-</td>\n",
       "    </tr>\n",
       "    <tr>\n",
       "      <th>11870</th>\n",
       "      <td>5ad28ad0d7d075001a4299cd</td>\n",
       "      <td>what</td>\n",
       "      <td>force</td>\n",
       "      <td>True</td>\n",
       "      <td>-</td>\n",
       "    </tr>\n",
       "    <tr>\n",
       "      <th>11871</th>\n",
       "      <td>5ad28ad0d7d075001a4299ce</td>\n",
       "      <td>what</td>\n",
       "      <td>force</td>\n",
       "      <td>True</td>\n",
       "      <td>-</td>\n",
       "    </tr>\n",
       "    <tr>\n",
       "      <th>11872</th>\n",
       "      <td>5ad28ad0d7d075001a4299cf</td>\n",
       "      <td>what</td>\n",
       "      <td>force</td>\n",
       "      <td>True</td>\n",
       "      <td>-</td>\n",
       "    </tr>\n",
       "  </tbody>\n",
       "</table>\n",
       "<p>11873 rows × 5 columns</p>\n",
       "</div>"
      ],
      "text/plain": [
       "                            qid whtype    lattype  bert_solvable wrong_type\n",
       "0      56ddde6b9a695914005b9628   what    country           True          -\n",
       "1      56ddde6b9a695914005b9629   when       None           True          -\n",
       "2      56ddde6b9a695914005b962a  which  countries           True          -\n",
       "3      56ddde6b9a695914005b962b    who       None           True          -\n",
       "4      56ddde6b9a695914005b962c   what    century           True          -\n",
       "...                         ...    ...        ...            ...        ...\n",
       "11868  5737aafd1c456719005744ff   what       unit          False         fn\n",
       "11869  5ad28ad0d7d075001a4299cc   what       None           True          -\n",
       "11870  5ad28ad0d7d075001a4299cd   what      force           True          -\n",
       "11871  5ad28ad0d7d075001a4299ce   what      force           True          -\n",
       "11872  5ad28ad0d7d075001a4299cf   what      force           True          -\n",
       "\n",
       "[11873 rows x 5 columns]"
      ]
     },
     "execution_count": 175,
     "metadata": {},
     "output_type": "execute_result"
    }
   ],
   "source": [
    "df2"
   ]
  },
  {
   "cell_type": "code",
   "execution_count": 83,
   "metadata": {
    "scrolled": true
   },
   "outputs": [],
   "source": [
    "df_filter = df2.loc[(df2['whtype'] == 'what') | (df2['whtype'] == 'which')]"
   ]
  },
  {
   "cell_type": "code",
   "execution_count": 84,
   "metadata": {
    "scrolled": true
   },
   "outputs": [
    {
     "data": {
      "text/html": [
       "<div>\n",
       "<style scoped>\n",
       "    .dataframe tbody tr th:only-of-type {\n",
       "        vertical-align: middle;\n",
       "    }\n",
       "\n",
       "    .dataframe tbody tr th {\n",
       "        vertical-align: top;\n",
       "    }\n",
       "\n",
       "    .dataframe thead th {\n",
       "        text-align: right;\n",
       "    }\n",
       "</style>\n",
       "<table border=\"1\" class=\"dataframe\">\n",
       "  <thead>\n",
       "    <tr style=\"text-align: right;\">\n",
       "      <th></th>\n",
       "      <th>qid</th>\n",
       "      <th>whtype</th>\n",
       "      <th>lattype</th>\n",
       "      <th>bert_solvable</th>\n",
       "      <th>wrong_type</th>\n",
       "    </tr>\n",
       "  </thead>\n",
       "  <tbody>\n",
       "    <tr>\n",
       "      <th>0</th>\n",
       "      <td>56ddde6b9a695914005b9628</td>\n",
       "      <td>what</td>\n",
       "      <td>country</td>\n",
       "      <td>True</td>\n",
       "      <td>-</td>\n",
       "    </tr>\n",
       "    <tr>\n",
       "      <th>2</th>\n",
       "      <td>56ddde6b9a695914005b962a</td>\n",
       "      <td>which</td>\n",
       "      <td>countries</td>\n",
       "      <td>True</td>\n",
       "      <td>-</td>\n",
       "    </tr>\n",
       "    <tr>\n",
       "      <th>4</th>\n",
       "      <td>56ddde6b9a695914005b962c</td>\n",
       "      <td>what</td>\n",
       "      <td>century</td>\n",
       "      <td>True</td>\n",
       "      <td>-</td>\n",
       "    </tr>\n",
       "    <tr>\n",
       "      <th>6</th>\n",
       "      <td>5ad39d53604f3c001a3fe8d2</td>\n",
       "      <td>what</td>\n",
       "      <td>region</td>\n",
       "      <td>True</td>\n",
       "      <td>-</td>\n",
       "    </tr>\n",
       "    <tr>\n",
       "      <th>11</th>\n",
       "      <td>56dddf4066d3e219004dad61</td>\n",
       "      <td>what</td>\n",
       "      <td>religion</td>\n",
       "      <td>False</td>\n",
       "      <td>wa</td>\n",
       "    </tr>\n",
       "    <tr>\n",
       "      <th>...</th>\n",
       "      <td>...</td>\n",
       "      <td>...</td>\n",
       "      <td>...</td>\n",
       "      <td>...</td>\n",
       "      <td>...</td>\n",
       "    </tr>\n",
       "    <tr>\n",
       "      <th>11868</th>\n",
       "      <td>5737aafd1c456719005744ff</td>\n",
       "      <td>what</td>\n",
       "      <td>unit</td>\n",
       "      <td>False</td>\n",
       "      <td>fn</td>\n",
       "    </tr>\n",
       "    <tr>\n",
       "      <th>11869</th>\n",
       "      <td>5ad28ad0d7d075001a4299cc</td>\n",
       "      <td>what</td>\n",
       "      <td>None</td>\n",
       "      <td>True</td>\n",
       "      <td>-</td>\n",
       "    </tr>\n",
       "    <tr>\n",
       "      <th>11870</th>\n",
       "      <td>5ad28ad0d7d075001a4299cd</td>\n",
       "      <td>what</td>\n",
       "      <td>force</td>\n",
       "      <td>True</td>\n",
       "      <td>-</td>\n",
       "    </tr>\n",
       "    <tr>\n",
       "      <th>11871</th>\n",
       "      <td>5ad28ad0d7d075001a4299ce</td>\n",
       "      <td>what</td>\n",
       "      <td>force</td>\n",
       "      <td>True</td>\n",
       "      <td>-</td>\n",
       "    </tr>\n",
       "    <tr>\n",
       "      <th>11872</th>\n",
       "      <td>5ad28ad0d7d075001a4299cf</td>\n",
       "      <td>what</td>\n",
       "      <td>force</td>\n",
       "      <td>True</td>\n",
       "      <td>-</td>\n",
       "    </tr>\n",
       "  </tbody>\n",
       "</table>\n",
       "<p>7941 rows × 5 columns</p>\n",
       "</div>"
      ],
      "text/plain": [
       "                            qid whtype    lattype  bert_solvable wrong_type\n",
       "0      56ddde6b9a695914005b9628   what    country           True          -\n",
       "2      56ddde6b9a695914005b962a  which  countries           True          -\n",
       "4      56ddde6b9a695914005b962c   what    century           True          -\n",
       "6      5ad39d53604f3c001a3fe8d2   what     region           True          -\n",
       "11     56dddf4066d3e219004dad61   what   religion          False         wa\n",
       "...                         ...    ...        ...            ...        ...\n",
       "11868  5737aafd1c456719005744ff   what       unit          False         fn\n",
       "11869  5ad28ad0d7d075001a4299cc   what       None           True          -\n",
       "11870  5ad28ad0d7d075001a4299cd   what      force           True          -\n",
       "11871  5ad28ad0d7d075001a4299ce   what      force           True          -\n",
       "11872  5ad28ad0d7d075001a4299cf   what      force           True          -\n",
       "\n",
       "[7941 rows x 5 columns]"
      ]
     },
     "execution_count": 84,
     "metadata": {},
     "output_type": "execute_result"
    }
   ],
   "source": [
    "df_filter"
   ]
  },
  {
   "cell_type": "code",
   "execution_count": 85,
   "metadata": {},
   "outputs": [],
   "source": [
    "df_filter = df_filter.drop(columns=['whtype','bert_solvable'])"
   ]
  },
  {
   "cell_type": "code",
   "execution_count": 86,
   "metadata": {},
   "outputs": [],
   "source": [
    "latgroups = df_filter.groupby(['lattype']).count()"
   ]
  },
  {
   "cell_type": "code",
   "execution_count": 87,
   "metadata": {
    "scrolled": true
   },
   "outputs": [],
   "source": [
    "lat_freq = dict()\n",
    "for lat in latgroups.iterrows():\n",
    "    \n",
    "    lat_freq[lat[0]] = lat[1].qid"
   ]
  },
  {
   "cell_type": "code",
   "execution_count": 93,
   "metadata": {
    "scrolled": true
   },
   "outputs": [
    {
     "data": {
      "text/html": [
       "<div>\n",
       "<style scoped>\n",
       "    .dataframe tbody tr th:only-of-type {\n",
       "        vertical-align: middle;\n",
       "    }\n",
       "\n",
       "    .dataframe tbody tr th {\n",
       "        vertical-align: top;\n",
       "    }\n",
       "\n",
       "    .dataframe thead th {\n",
       "        text-align: right;\n",
       "    }\n",
       "</style>\n",
       "<table border=\"1\" class=\"dataframe\">\n",
       "  <thead>\n",
       "    <tr style=\"text-align: right;\">\n",
       "      <th></th>\n",
       "      <th>qid</th>\n",
       "      <th>lattype</th>\n",
       "      <th>wrong_type</th>\n",
       "    </tr>\n",
       "  </thead>\n",
       "  <tbody>\n",
       "    <tr>\n",
       "      <th>0</th>\n",
       "      <td>56ddde6b9a695914005b9628</td>\n",
       "      <td>country</td>\n",
       "      <td>-</td>\n",
       "    </tr>\n",
       "    <tr>\n",
       "      <th>2</th>\n",
       "      <td>56ddde6b9a695914005b962a</td>\n",
       "      <td>countries</td>\n",
       "      <td>-</td>\n",
       "    </tr>\n",
       "    <tr>\n",
       "      <th>4</th>\n",
       "      <td>56ddde6b9a695914005b962c</td>\n",
       "      <td>century</td>\n",
       "      <td>-</td>\n",
       "    </tr>\n",
       "    <tr>\n",
       "      <th>6</th>\n",
       "      <td>5ad39d53604f3c001a3fe8d2</td>\n",
       "      <td>region</td>\n",
       "      <td>-</td>\n",
       "    </tr>\n",
       "    <tr>\n",
       "      <th>11</th>\n",
       "      <td>56dddf4066d3e219004dad61</td>\n",
       "      <td>religion</td>\n",
       "      <td>wa</td>\n",
       "    </tr>\n",
       "    <tr>\n",
       "      <th>...</th>\n",
       "      <td>...</td>\n",
       "      <td>...</td>\n",
       "      <td>...</td>\n",
       "    </tr>\n",
       "    <tr>\n",
       "      <th>11868</th>\n",
       "      <td>5737aafd1c456719005744ff</td>\n",
       "      <td>unit</td>\n",
       "      <td>fn</td>\n",
       "    </tr>\n",
       "    <tr>\n",
       "      <th>11869</th>\n",
       "      <td>5ad28ad0d7d075001a4299cc</td>\n",
       "      <td>None</td>\n",
       "      <td>-</td>\n",
       "    </tr>\n",
       "    <tr>\n",
       "      <th>11870</th>\n",
       "      <td>5ad28ad0d7d075001a4299cd</td>\n",
       "      <td>force</td>\n",
       "      <td>-</td>\n",
       "    </tr>\n",
       "    <tr>\n",
       "      <th>11871</th>\n",
       "      <td>5ad28ad0d7d075001a4299ce</td>\n",
       "      <td>force</td>\n",
       "      <td>-</td>\n",
       "    </tr>\n",
       "    <tr>\n",
       "      <th>11872</th>\n",
       "      <td>5ad28ad0d7d075001a4299cf</td>\n",
       "      <td>force</td>\n",
       "      <td>-</td>\n",
       "    </tr>\n",
       "  </tbody>\n",
       "</table>\n",
       "<p>7941 rows × 3 columns</p>\n",
       "</div>"
      ],
      "text/plain": [
       "                            qid    lattype wrong_type\n",
       "0      56ddde6b9a695914005b9628    country          -\n",
       "2      56ddde6b9a695914005b962a  countries          -\n",
       "4      56ddde6b9a695914005b962c    century          -\n",
       "6      5ad39d53604f3c001a3fe8d2     region          -\n",
       "11     56dddf4066d3e219004dad61   religion         wa\n",
       "...                         ...        ...        ...\n",
       "11868  5737aafd1c456719005744ff       unit         fn\n",
       "11869  5ad28ad0d7d075001a4299cc       None          -\n",
       "11870  5ad28ad0d7d075001a4299cd      force          -\n",
       "11871  5ad28ad0d7d075001a4299ce      force          -\n",
       "11872  5ad28ad0d7d075001a4299cf      force          -\n",
       "\n",
       "[7941 rows x 3 columns]"
      ]
     },
     "execution_count": 93,
     "metadata": {},
     "output_type": "execute_result"
    }
   ],
   "source": [
    "df_filter"
   ]
  },
  {
   "cell_type": "code",
   "execution_count": 151,
   "metadata": {},
   "outputs": [],
   "source": [
    "counts = df_filter.groupby(['lattype','wrong_type']).count()"
   ]
  },
  {
   "cell_type": "code",
   "execution_count": 152,
   "metadata": {},
   "outputs": [
    {
     "data": {
      "text/html": [
       "<div>\n",
       "<style scoped>\n",
       "    .dataframe tbody tr th:only-of-type {\n",
       "        vertical-align: middle;\n",
       "    }\n",
       "\n",
       "    .dataframe tbody tr th {\n",
       "        vertical-align: top;\n",
       "    }\n",
       "\n",
       "    .dataframe thead th {\n",
       "        text-align: right;\n",
       "    }\n",
       "</style>\n",
       "<table border=\"1\" class=\"dataframe\">\n",
       "  <thead>\n",
       "    <tr style=\"text-align: right;\">\n",
       "      <th></th>\n",
       "      <th></th>\n",
       "      <th>qid</th>\n",
       "    </tr>\n",
       "    <tr>\n",
       "      <th>lattype</th>\n",
       "      <th>wrong_type</th>\n",
       "      <th></th>\n",
       "    </tr>\n",
       "  </thead>\n",
       "  <tbody>\n",
       "    <tr>\n",
       "      <th rowspan=\"2\" valign=\"top\">%</th>\n",
       "      <th>-</th>\n",
       "      <td>5</td>\n",
       "    </tr>\n",
       "    <tr>\n",
       "      <th>wa</th>\n",
       "      <td>1</td>\n",
       "    </tr>\n",
       "    <tr>\n",
       "      <th>-</th>\n",
       "      <th>-</th>\n",
       "      <td>1</td>\n",
       "    </tr>\n",
       "    <tr>\n",
       "      <th rowspan=\"2\" valign=\"top\">None</th>\n",
       "      <th>-</th>\n",
       "      <td>1144</td>\n",
       "    </tr>\n",
       "    <tr>\n",
       "      <th>fn</th>\n",
       "      <td>72</td>\n",
       "    </tr>\n",
       "    <tr>\n",
       "      <th>...</th>\n",
       "      <th>...</th>\n",
       "      <td>...</td>\n",
       "    </tr>\n",
       "    <tr>\n",
       "      <th>year</th>\n",
       "      <th>fp</th>\n",
       "      <td>19</td>\n",
       "    </tr>\n",
       "    <tr>\n",
       "      <th rowspan=\"2\" valign=\"top\">years</th>\n",
       "      <th>-</th>\n",
       "      <td>23</td>\n",
       "    </tr>\n",
       "    <tr>\n",
       "      <th>fp</th>\n",
       "      <td>2</td>\n",
       "    </tr>\n",
       "    <tr>\n",
       "      <th>zooplankton</th>\n",
       "      <th>-</th>\n",
       "      <td>1</td>\n",
       "    </tr>\n",
       "    <tr>\n",
       "      <th>°</th>\n",
       "      <th>-</th>\n",
       "      <td>2</td>\n",
       "    </tr>\n",
       "  </tbody>\n",
       "</table>\n",
       "<p>2417 rows × 1 columns</p>\n",
       "</div>"
      ],
      "text/plain": [
       "                         qid\n",
       "lattype     wrong_type      \n",
       "%           -              5\n",
       "            wa             1\n",
       "-           -              1\n",
       "None        -           1144\n",
       "            fn            72\n",
       "...                      ...\n",
       "year        fp            19\n",
       "years       -             23\n",
       "            fp             2\n",
       "zooplankton -              1\n",
       "°           -              2\n",
       "\n",
       "[2417 rows x 1 columns]"
      ]
     },
     "execution_count": 152,
     "metadata": {},
     "output_type": "execute_result"
    }
   ],
   "source": [
    "counts"
   ]
  },
  {
   "cell_type": "code",
   "execution_count": 153,
   "metadata": {
    "scrolled": true
   },
   "outputs": [
    {
     "name": "stdout",
     "output_type": "stream",
     "text": [
      "wrong_type        -    fn     fp     wa\n",
      "lattype                                \n",
      "%               5.0   NaN    NaN    1.0\n",
      "-               1.0   NaN    NaN    NaN\n",
      "None         1144.0  72.0  108.0  119.0\n",
      "aan             1.0   NaN    NaN    NaN\n",
      "ability         1.0   NaN    NaN    1.0\n",
      "...             ...   ...    ...    ...\n",
      "xenoliths       1.0   NaN    NaN    NaN\n",
      "year          281.0   7.0   19.0    NaN\n",
      "years          23.0   NaN    2.0    NaN\n",
      "zooplankton     1.0   NaN    NaN    NaN\n",
      "°               2.0   NaN    NaN    NaN\n",
      "\n",
      "[1701 rows x 4 columns]\n"
     ]
    }
   ],
   "source": [
    "counts = counts.unstack(level=1)\n",
    "counts.columns = counts.columns.droplevel(level=0)\n",
    "print (counts)"
   ]
  },
  {
   "cell_type": "code",
   "execution_count": 154,
   "metadata": {},
   "outputs": [],
   "source": [
    "counts = counts.fillna(0)\n",
    "counts['Total'] = counts.sum(axis=1)"
   ]
  },
  {
   "cell_type": "code",
   "execution_count": 155,
   "metadata": {
    "scrolled": true
   },
   "outputs": [],
   "source": [
    "#counts1 = counts1.sort_values(['Total'], ascending=[0])\n",
    "#counts2 = counts2.sort_values(['Total'], ascending=[0])\n",
    "counts = counts.sort_values(['Total'], ascending=[0])\n",
    "#counts_xlnet = counts_xlnet.sort_values(['Total'], ascending=[0])"
   ]
  },
  {
   "cell_type": "code",
   "execution_count": 156,
   "metadata": {
    "scrolled": true
   },
   "outputs": [],
   "source": [
    "counts_count = counts"
   ]
  },
  {
   "cell_type": "code",
   "execution_count": null,
   "metadata": {},
   "outputs": [],
   "source": [
    "## [todo] weighted sum bw 0~4 models"
   ]
  },
  {
   "cell_type": "code",
   "execution_count": 92,
   "metadata": {},
   "outputs": [],
   "source": [
    "count_check = list(counts_count.Total)\n",
    "\n",
    "c = list(filter(lambda x: x >= 20, count_check))"
   ]
  },
  {
   "cell_type": "code",
   "execution_count": 93,
   "metadata": {},
   "outputs": [
    {
     "data": {
      "text/plain": [
       "39"
      ]
     },
     "execution_count": 93,
     "metadata": {},
     "output_type": "execute_result"
    }
   ],
   "source": [
    "len(c)"
   ]
  },
  {
   "cell_type": "code",
   "execution_count": 157,
   "metadata": {
    "scrolled": true
   },
   "outputs": [],
   "source": [
    "result_sample_count = counts_count.head(100)"
   ]
  },
  {
   "cell_type": "code",
   "execution_count": 158,
   "metadata": {},
   "outputs": [
    {
     "data": {
      "text/plain": [
       "Index(['-', 'fn', 'fp', 'wa', 'Total'], dtype='object', name='wrong_type')"
      ]
     },
     "execution_count": 158,
     "metadata": {},
     "output_type": "execute_result"
    }
   ],
   "source": [
    "result_sample_count.keys()"
   ]
  },
  {
   "cell_type": "code",
   "execution_count": 159,
   "metadata": {},
   "outputs": [],
   "source": [
    "result_sample_count.columns = ['Right','FN wrong','FP wrong','Wrong Answer',\"Total\"]"
   ]
  },
  {
   "cell_type": "code",
   "execution_count": 160,
   "metadata": {},
   "outputs": [
    {
     "data": {
      "text/html": [
       "<div>\n",
       "<style scoped>\n",
       "    .dataframe tbody tr th:only-of-type {\n",
       "        vertical-align: middle;\n",
       "    }\n",
       "\n",
       "    .dataframe tbody tr th {\n",
       "        vertical-align: top;\n",
       "    }\n",
       "\n",
       "    .dataframe thead th {\n",
       "        text-align: right;\n",
       "    }\n",
       "</style>\n",
       "<table border=\"1\" class=\"dataframe\">\n",
       "  <thead>\n",
       "    <tr style=\"text-align: right;\">\n",
       "      <th></th>\n",
       "      <th>Right</th>\n",
       "      <th>FN wrong</th>\n",
       "      <th>FP wrong</th>\n",
       "      <th>Wrong Answer</th>\n",
       "      <th>Total</th>\n",
       "    </tr>\n",
       "    <tr>\n",
       "      <th>lattype</th>\n",
       "      <th></th>\n",
       "      <th></th>\n",
       "      <th></th>\n",
       "      <th></th>\n",
       "      <th></th>\n",
       "    </tr>\n",
       "  </thead>\n",
       "  <tbody>\n",
       "    <tr>\n",
       "      <th>None</th>\n",
       "      <td>1144.0</td>\n",
       "      <td>72.0</td>\n",
       "      <td>108.0</td>\n",
       "      <td>119.0</td>\n",
       "      <td>1443.0</td>\n",
       "    </tr>\n",
       "    <tr>\n",
       "      <th>year</th>\n",
       "      <td>281.0</td>\n",
       "      <td>7.0</td>\n",
       "      <td>19.0</td>\n",
       "      <td>0.0</td>\n",
       "      <td>307.0</td>\n",
       "    </tr>\n",
       "    <tr>\n",
       "      <th>percentage</th>\n",
       "      <td>66.0</td>\n",
       "      <td>3.0</td>\n",
       "      <td>12.0</td>\n",
       "      <td>2.0</td>\n",
       "      <td>83.0</td>\n",
       "    </tr>\n",
       "    <tr>\n",
       "      <th>country</th>\n",
       "      <td>59.0</td>\n",
       "      <td>8.0</td>\n",
       "      <td>7.0</td>\n",
       "      <td>8.0</td>\n",
       "      <td>82.0</td>\n",
       "    </tr>\n",
       "    <tr>\n",
       "      <th>term</th>\n",
       "      <td>67.0</td>\n",
       "      <td>4.0</td>\n",
       "      <td>5.0</td>\n",
       "      <td>3.0</td>\n",
       "      <td>79.0</td>\n",
       "    </tr>\n",
       "    <tr>\n",
       "      <th>...</th>\n",
       "      <td>...</td>\n",
       "      <td>...</td>\n",
       "      <td>...</td>\n",
       "      <td>...</td>\n",
       "      <td>...</td>\n",
       "    </tr>\n",
       "    <tr>\n",
       "      <th>sector</th>\n",
       "      <td>9.0</td>\n",
       "      <td>2.0</td>\n",
       "      <td>0.0</td>\n",
       "      <td>0.0</td>\n",
       "      <td>11.0</td>\n",
       "    </tr>\n",
       "    <tr>\n",
       "      <th>date</th>\n",
       "      <td>10.0</td>\n",
       "      <td>0.0</td>\n",
       "      <td>1.0</td>\n",
       "      <td>0.0</td>\n",
       "      <td>11.0</td>\n",
       "    </tr>\n",
       "    <tr>\n",
       "      <th>county</th>\n",
       "      <td>9.0</td>\n",
       "      <td>2.0</td>\n",
       "      <td>0.0</td>\n",
       "      <td>0.0</td>\n",
       "      <td>11.0</td>\n",
       "    </tr>\n",
       "    <tr>\n",
       "      <th>conditions</th>\n",
       "      <td>10.0</td>\n",
       "      <td>0.0</td>\n",
       "      <td>1.0</td>\n",
       "      <td>0.0</td>\n",
       "      <td>11.0</td>\n",
       "    </tr>\n",
       "    <tr>\n",
       "      <th>book</th>\n",
       "      <td>10.0</td>\n",
       "      <td>0.0</td>\n",
       "      <td>1.0</td>\n",
       "      <td>0.0</td>\n",
       "      <td>11.0</td>\n",
       "    </tr>\n",
       "  </tbody>\n",
       "</table>\n",
       "<p>100 rows × 5 columns</p>\n",
       "</div>"
      ],
      "text/plain": [
       "             Right  FN wrong  FP wrong  Wrong Answer   Total\n",
       "lattype                                                     \n",
       "None        1144.0      72.0     108.0         119.0  1443.0\n",
       "year         281.0       7.0      19.0           0.0   307.0\n",
       "percentage    66.0       3.0      12.0           2.0    83.0\n",
       "country       59.0       8.0       7.0           8.0    82.0\n",
       "term          67.0       4.0       5.0           3.0    79.0\n",
       "...            ...       ...       ...           ...     ...\n",
       "sector         9.0       2.0       0.0           0.0    11.0\n",
       "date          10.0       0.0       1.0           0.0    11.0\n",
       "county         9.0       2.0       0.0           0.0    11.0\n",
       "conditions    10.0       0.0       1.0           0.0    11.0\n",
       "book          10.0       0.0       1.0           0.0    11.0\n",
       "\n",
       "[100 rows x 5 columns]"
      ]
     },
     "execution_count": 160,
     "metadata": {},
     "output_type": "execute_result"
    }
   ],
   "source": [
    "result_sample_count"
   ]
  },
  {
   "cell_type": "code",
   "execution_count": 161,
   "metadata": {
    "scrolled": true
   },
   "outputs": [
    {
     "name": "stderr",
     "output_type": "stream",
     "text": [
      "/home/doyeon/anaconda3/envs/qa_analysis/lib/python3.7/site-packages/ipykernel_launcher.py:3: SettingWithCopyWarning: \n",
      "A value is trying to be set on a copy of a slice from a DataFrame.\n",
      "Try using .loc[row_indexer,col_indexer] = value instead\n",
      "\n",
      "See the caveats in the documentation: http://pandas.pydata.org/pandas-docs/stable/user_guide/indexing.html#returning-a-view-versus-a-copy\n",
      "  This is separate from the ipykernel package so we can avoid doing imports until\n"
     ]
    }
   ],
   "source": [
    "\n",
    "columns = ['Right', 'FN wrong', 'FP wrong','Wrong Answer']\n",
    "for i in range(4):\n",
    "    result_sample_count[columns[i]] = result_sample_count[columns[i]]/result_sample_count['Total']"
   ]
  },
  {
   "cell_type": "code",
   "execution_count": 108,
   "metadata": {
    "scrolled": true
   },
   "outputs": [
    {
     "data": {
      "text/html": [
       "<div>\n",
       "<style scoped>\n",
       "    .dataframe tbody tr th:only-of-type {\n",
       "        vertical-align: middle;\n",
       "    }\n",
       "\n",
       "    .dataframe tbody tr th {\n",
       "        vertical-align: top;\n",
       "    }\n",
       "\n",
       "    .dataframe thead th {\n",
       "        text-align: right;\n",
       "    }\n",
       "</style>\n",
       "<table border=\"1\" class=\"dataframe\">\n",
       "  <thead>\n",
       "    <tr style=\"text-align: right;\">\n",
       "      <th></th>\n",
       "      <th>Right</th>\n",
       "      <th>FN wrong</th>\n",
       "      <th>FP wrong</th>\n",
       "      <th>Wrong Answer</th>\n",
       "      <th>Total</th>\n",
       "    </tr>\n",
       "    <tr>\n",
       "      <th>lattype</th>\n",
       "      <th></th>\n",
       "      <th></th>\n",
       "      <th></th>\n",
       "      <th></th>\n",
       "      <th></th>\n",
       "    </tr>\n",
       "  </thead>\n",
       "  <tbody>\n",
       "    <tr>\n",
       "      <th>None</th>\n",
       "      <td>0.792793</td>\n",
       "      <td>0.049896</td>\n",
       "      <td>0.074844</td>\n",
       "      <td>0.082467</td>\n",
       "      <td>1443.0</td>\n",
       "    </tr>\n",
       "    <tr>\n",
       "      <th>year</th>\n",
       "      <td>0.915309</td>\n",
       "      <td>0.022801</td>\n",
       "      <td>0.061889</td>\n",
       "      <td>0.000000</td>\n",
       "      <td>307.0</td>\n",
       "    </tr>\n",
       "    <tr>\n",
       "      <th>percentage</th>\n",
       "      <td>0.795181</td>\n",
       "      <td>0.036145</td>\n",
       "      <td>0.144578</td>\n",
       "      <td>0.024096</td>\n",
       "      <td>83.0</td>\n",
       "    </tr>\n",
       "    <tr>\n",
       "      <th>country</th>\n",
       "      <td>0.719512</td>\n",
       "      <td>0.097561</td>\n",
       "      <td>0.085366</td>\n",
       "      <td>0.097561</td>\n",
       "      <td>82.0</td>\n",
       "    </tr>\n",
       "    <tr>\n",
       "      <th>term</th>\n",
       "      <td>0.848101</td>\n",
       "      <td>0.050633</td>\n",
       "      <td>0.063291</td>\n",
       "      <td>0.037975</td>\n",
       "      <td>79.0</td>\n",
       "    </tr>\n",
       "    <tr>\n",
       "      <th>...</th>\n",
       "      <td>...</td>\n",
       "      <td>...</td>\n",
       "      <td>...</td>\n",
       "      <td>...</td>\n",
       "      <td>...</td>\n",
       "    </tr>\n",
       "    <tr>\n",
       "      <th>sector</th>\n",
       "      <td>0.818182</td>\n",
       "      <td>0.181818</td>\n",
       "      <td>0.000000</td>\n",
       "      <td>0.000000</td>\n",
       "      <td>11.0</td>\n",
       "    </tr>\n",
       "    <tr>\n",
       "      <th>date</th>\n",
       "      <td>0.909091</td>\n",
       "      <td>0.000000</td>\n",
       "      <td>0.090909</td>\n",
       "      <td>0.000000</td>\n",
       "      <td>11.0</td>\n",
       "    </tr>\n",
       "    <tr>\n",
       "      <th>county</th>\n",
       "      <td>0.818182</td>\n",
       "      <td>0.181818</td>\n",
       "      <td>0.000000</td>\n",
       "      <td>0.000000</td>\n",
       "      <td>11.0</td>\n",
       "    </tr>\n",
       "    <tr>\n",
       "      <th>conditions</th>\n",
       "      <td>0.909091</td>\n",
       "      <td>0.000000</td>\n",
       "      <td>0.090909</td>\n",
       "      <td>0.000000</td>\n",
       "      <td>11.0</td>\n",
       "    </tr>\n",
       "    <tr>\n",
       "      <th>book</th>\n",
       "      <td>0.909091</td>\n",
       "      <td>0.000000</td>\n",
       "      <td>0.090909</td>\n",
       "      <td>0.000000</td>\n",
       "      <td>11.0</td>\n",
       "    </tr>\n",
       "  </tbody>\n",
       "</table>\n",
       "<p>100 rows × 5 columns</p>\n",
       "</div>"
      ],
      "text/plain": [
       "               Right  FN wrong  FP wrong  Wrong Answer   Total\n",
       "lattype                                                       \n",
       "None        0.792793  0.049896  0.074844      0.082467  1443.0\n",
       "year        0.915309  0.022801  0.061889      0.000000   307.0\n",
       "percentage  0.795181  0.036145  0.144578      0.024096    83.0\n",
       "country     0.719512  0.097561  0.085366      0.097561    82.0\n",
       "term        0.848101  0.050633  0.063291      0.037975    79.0\n",
       "...              ...       ...       ...           ...     ...\n",
       "sector      0.818182  0.181818  0.000000      0.000000    11.0\n",
       "date        0.909091  0.000000  0.090909      0.000000    11.0\n",
       "county      0.818182  0.181818  0.000000      0.000000    11.0\n",
       "conditions  0.909091  0.000000  0.090909      0.000000    11.0\n",
       "book        0.909091  0.000000  0.090909      0.000000    11.0\n",
       "\n",
       "[100 rows x 5 columns]"
      ]
     },
     "execution_count": 108,
     "metadata": {},
     "output_type": "execute_result"
    }
   ],
   "source": [
    "result_sample_count"
   ]
  },
  {
   "cell_type": "code",
   "execution_count": 162,
   "metadata": {},
   "outputs": [],
   "source": [
    "## 1, 0.5, 0.25\n",
    "\n",
    "import numpy as np\n",
    "\n",
    "urgent_list = []\n",
    "wrong_score_list = []\n",
    "freq_list = []\n",
    "freq_log_list = []\n",
    "for lat, instance in result_sample_count.iterrows():    \n",
    "    wrong_score = instance[1]+instance[2]+instance[3]\n",
    "    freq_log = np.log(instance['Total'])\n",
    "    freq = instance['Total']\n",
    "    \n",
    "    wrong_score_list.append(wrong_score)\n",
    "    freq_list.append(int(freq))\n",
    "    freq_log_list.append(freq_log)\n",
    "    \n",
    "    urgent = wrong_score*freq\n",
    "    urgent_list.append(urgent)"
   ]
  },
  {
   "cell_type": "code",
   "execution_count": 163,
   "metadata": {},
   "outputs": [
    {
     "name": "stderr",
     "output_type": "stream",
     "text": [
      "/home/doyeon/anaconda3/envs/qa_analysis/lib/python3.7/site-packages/ipykernel_launcher.py:1: SettingWithCopyWarning: \n",
      "A value is trying to be set on a copy of a slice from a DataFrame.\n",
      "Try using .loc[row_indexer,col_indexer] = value instead\n",
      "\n",
      "See the caveats in the documentation: http://pandas.pydata.org/pandas-docs/stable/user_guide/indexing.html#returning-a-view-versus-a-copy\n",
      "  \"\"\"Entry point for launching an IPython kernel.\n",
      "/home/doyeon/anaconda3/envs/qa_analysis/lib/python3.7/site-packages/ipykernel_launcher.py:2: SettingWithCopyWarning: \n",
      "A value is trying to be set on a copy of a slice from a DataFrame.\n",
      "Try using .loc[row_indexer,col_indexer] = value instead\n",
      "\n",
      "See the caveats in the documentation: http://pandas.pydata.org/pandas-docs/stable/user_guide/indexing.html#returning-a-view-versus-a-copy\n",
      "  \n",
      "/home/doyeon/anaconda3/envs/qa_analysis/lib/python3.7/site-packages/ipykernel_launcher.py:3: SettingWithCopyWarning: \n",
      "A value is trying to be set on a copy of a slice from a DataFrame.\n",
      "Try using .loc[row_indexer,col_indexer] = value instead\n",
      "\n",
      "See the caveats in the documentation: http://pandas.pydata.org/pandas-docs/stable/user_guide/indexing.html#returning-a-view-versus-a-copy\n",
      "  This is separate from the ipykernel package so we can avoid doing imports until\n",
      "/home/doyeon/anaconda3/envs/qa_analysis/lib/python3.7/site-packages/ipykernel_launcher.py:4: SettingWithCopyWarning: \n",
      "A value is trying to be set on a copy of a slice from a DataFrame.\n",
      "Try using .loc[row_indexer,col_indexer] = value instead\n",
      "\n",
      "See the caveats in the documentation: http://pandas.pydata.org/pandas-docs/stable/user_guide/indexing.html#returning-a-view-versus-a-copy\n",
      "  after removing the cwd from sys.path.\n"
     ]
    }
   ],
   "source": [
    "result_sample_count['freq'] = freq_list\n",
    "result_sample_count['freq_log'] = freq_log_list\n",
    "result_sample_count['wrong_score'] = wrong_score_list\n",
    "result_sample_count['urgent'] = urgent_list"
   ]
  },
  {
   "cell_type": "code",
   "execution_count": 142,
   "metadata": {},
   "outputs": [],
   "source": [
    "result_sample_count = result_sample_count.sort_values(['urgent'], ascending=[0])"
   ]
  },
  {
   "cell_type": "code",
   "execution_count": 125,
   "metadata": {},
   "outputs": [],
   "source": [
    "tmp = result_sample_count.copy(deep = True)"
   ]
  },
  {
   "cell_type": "code",
   "execution_count": 126,
   "metadata": {
    "scrolled": true
   },
   "outputs": [],
   "source": [
    "roundtmp = tmp.round(decimals=3)"
   ]
  },
  {
   "cell_type": "code",
   "execution_count": 129,
   "metadata": {},
   "outputs": [
    {
     "data": {
      "text/html": [
       "<div>\n",
       "<style scoped>\n",
       "    .dataframe tbody tr th:only-of-type {\n",
       "        vertical-align: middle;\n",
       "    }\n",
       "\n",
       "    .dataframe tbody tr th {\n",
       "        vertical-align: top;\n",
       "    }\n",
       "\n",
       "    .dataframe thead th {\n",
       "        text-align: right;\n",
       "    }\n",
       "</style>\n",
       "<table border=\"1\" class=\"dataframe\">\n",
       "  <thead>\n",
       "    <tr style=\"text-align: right;\">\n",
       "      <th></th>\n",
       "      <th>Right</th>\n",
       "      <th>FN wrong</th>\n",
       "      <th>FP wrong</th>\n",
       "      <th>Wrong Answer</th>\n",
       "      <th>Total</th>\n",
       "      <th>freq</th>\n",
       "      <th>freq_log</th>\n",
       "      <th>wrong_score</th>\n",
       "      <th>urgent</th>\n",
       "    </tr>\n",
       "    <tr>\n",
       "      <th>lattype</th>\n",
       "      <th></th>\n",
       "      <th></th>\n",
       "      <th></th>\n",
       "      <th></th>\n",
       "      <th></th>\n",
       "      <th></th>\n",
       "      <th></th>\n",
       "      <th></th>\n",
       "      <th></th>\n",
       "    </tr>\n",
       "  </thead>\n",
       "  <tbody>\n",
       "    <tr>\n",
       "      <th>None</th>\n",
       "      <td>0.793</td>\n",
       "      <td>0.050</td>\n",
       "      <td>0.075</td>\n",
       "      <td>0.082</td>\n",
       "      <td>1443.0</td>\n",
       "      <td>1443</td>\n",
       "      <td>7.274</td>\n",
       "      <td>0.207</td>\n",
       "      <td>299.0</td>\n",
       "    </tr>\n",
       "    <tr>\n",
       "      <th>year</th>\n",
       "      <td>0.915</td>\n",
       "      <td>0.023</td>\n",
       "      <td>0.062</td>\n",
       "      <td>0.000</td>\n",
       "      <td>307.0</td>\n",
       "      <td>307</td>\n",
       "      <td>5.727</td>\n",
       "      <td>0.085</td>\n",
       "      <td>26.0</td>\n",
       "    </tr>\n",
       "    <tr>\n",
       "      <th>country</th>\n",
       "      <td>0.720</td>\n",
       "      <td>0.098</td>\n",
       "      <td>0.085</td>\n",
       "      <td>0.098</td>\n",
       "      <td>82.0</td>\n",
       "      <td>82</td>\n",
       "      <td>4.407</td>\n",
       "      <td>0.280</td>\n",
       "      <td>23.0</td>\n",
       "    </tr>\n",
       "    <tr>\n",
       "      <th>percentage</th>\n",
       "      <td>0.795</td>\n",
       "      <td>0.036</td>\n",
       "      <td>0.145</td>\n",
       "      <td>0.024</td>\n",
       "      <td>83.0</td>\n",
       "      <td>83</td>\n",
       "      <td>4.419</td>\n",
       "      <td>0.205</td>\n",
       "      <td>17.0</td>\n",
       "    </tr>\n",
       "    <tr>\n",
       "      <th>impact</th>\n",
       "      <td>0.400</td>\n",
       "      <td>0.100</td>\n",
       "      <td>0.200</td>\n",
       "      <td>0.300</td>\n",
       "      <td>20.0</td>\n",
       "      <td>20</td>\n",
       "      <td>2.996</td>\n",
       "      <td>0.600</td>\n",
       "      <td>12.0</td>\n",
       "    </tr>\n",
       "    <tr>\n",
       "      <th>term</th>\n",
       "      <td>0.848</td>\n",
       "      <td>0.051</td>\n",
       "      <td>0.063</td>\n",
       "      <td>0.038</td>\n",
       "      <td>79.0</td>\n",
       "      <td>79</td>\n",
       "      <td>4.369</td>\n",
       "      <td>0.152</td>\n",
       "      <td>12.0</td>\n",
       "    </tr>\n",
       "    <tr>\n",
       "      <th>example</th>\n",
       "      <td>0.793</td>\n",
       "      <td>0.052</td>\n",
       "      <td>0.052</td>\n",
       "      <td>0.103</td>\n",
       "      <td>58.0</td>\n",
       "      <td>58</td>\n",
       "      <td>4.060</td>\n",
       "      <td>0.207</td>\n",
       "      <td>12.0</td>\n",
       "    </tr>\n",
       "    <tr>\n",
       "      <th>city</th>\n",
       "      <td>0.859</td>\n",
       "      <td>0.038</td>\n",
       "      <td>0.077</td>\n",
       "      <td>0.026</td>\n",
       "      <td>78.0</td>\n",
       "      <td>78</td>\n",
       "      <td>4.357</td>\n",
       "      <td>0.141</td>\n",
       "      <td>11.0</td>\n",
       "    </tr>\n",
       "    <tr>\n",
       "      <th>reason</th>\n",
       "      <td>0.607</td>\n",
       "      <td>0.071</td>\n",
       "      <td>0.143</td>\n",
       "      <td>0.179</td>\n",
       "      <td>28.0</td>\n",
       "      <td>28</td>\n",
       "      <td>3.332</td>\n",
       "      <td>0.393</td>\n",
       "      <td>11.0</td>\n",
       "    </tr>\n",
       "    <tr>\n",
       "      <th>area</th>\n",
       "      <td>0.738</td>\n",
       "      <td>0.048</td>\n",
       "      <td>0.095</td>\n",
       "      <td>0.119</td>\n",
       "      <td>42.0</td>\n",
       "      <td>42</td>\n",
       "      <td>3.738</td>\n",
       "      <td>0.262</td>\n",
       "      <td>11.0</td>\n",
       "    </tr>\n",
       "  </tbody>\n",
       "</table>\n",
       "</div>"
      ],
      "text/plain": [
       "            Right  FN wrong  FP wrong  Wrong Answer   Total  freq  freq_log  \\\n",
       "lattype                                                                       \n",
       "None        0.793     0.050     0.075         0.082  1443.0  1443     7.274   \n",
       "year        0.915     0.023     0.062         0.000   307.0   307     5.727   \n",
       "country     0.720     0.098     0.085         0.098    82.0    82     4.407   \n",
       "percentage  0.795     0.036     0.145         0.024    83.0    83     4.419   \n",
       "impact      0.400     0.100     0.200         0.300    20.0    20     2.996   \n",
       "term        0.848     0.051     0.063         0.038    79.0    79     4.369   \n",
       "example     0.793     0.052     0.052         0.103    58.0    58     4.060   \n",
       "city        0.859     0.038     0.077         0.026    78.0    78     4.357   \n",
       "reason      0.607     0.071     0.143         0.179    28.0    28     3.332   \n",
       "area        0.738     0.048     0.095         0.119    42.0    42     3.738   \n",
       "\n",
       "            wrong_score  urgent  \n",
       "lattype                          \n",
       "None              0.207   299.0  \n",
       "year              0.085    26.0  \n",
       "country           0.280    23.0  \n",
       "percentage        0.205    17.0  \n",
       "impact            0.600    12.0  \n",
       "term              0.152    12.0  \n",
       "example           0.207    12.0  \n",
       "city              0.141    11.0  \n",
       "reason            0.393    11.0  \n",
       "area              0.262    11.0  "
      ]
     },
     "execution_count": 129,
     "metadata": {},
     "output_type": "execute_result"
    }
   ],
   "source": [
    "roundtmp[:10]"
   ]
  },
  {
   "cell_type": "code",
   "execution_count": 125,
   "metadata": {},
   "outputs": [
    {
     "name": "stderr",
     "output_type": "stream",
     "text": [
      "/home/doyeon/anaconda3/envs/kcc/lib/python3.7/site-packages/ipykernel_launcher.py:1: SettingWithCopyWarning: \n",
      "A value is trying to be set on a copy of a slice from a DataFrame.\n",
      "Try using .loc[row_indexer,col_indexer] = value instead\n",
      "\n",
      "See the caveats in the documentation: http://pandas.pydata.org/pandas-docs/stable/user_guide/indexing.html#returning-a-view-versus-a-copy\n",
      "  \"\"\"Entry point for launching an IPython kernel.\n",
      "/home/doyeon/anaconda3/envs/kcc/lib/python3.7/site-packages/ipykernel_launcher.py:2: SettingWithCopyWarning: \n",
      "A value is trying to be set on a copy of a slice from a DataFrame.\n",
      "Try using .loc[row_indexer,col_indexer] = value instead\n",
      "\n",
      "See the caveats in the documentation: http://pandas.pydata.org/pandas-docs/stable/user_guide/indexing.html#returning-a-view-versus-a-copy\n",
      "  \n"
     ]
    }
   ],
   "source": [
    "result_sample_alo['ratio'] = result_sample_alo[False]/result_sample_alo['Total']\n",
    "result_sample_all['ratio'] = result_sample_all[False]/result_sample_all['Total']"
   ]
  },
  {
   "cell_type": "code",
   "execution_count": 57,
   "metadata": {},
   "outputs": [
    {
     "name": "stderr",
     "output_type": "stream",
     "text": [
      "/home/doyeon/anaconda3/envs/kcc/lib/python3.7/site-packages/ipykernel_launcher.py:1: SettingWithCopyWarning: \n",
      "A value is trying to be set on a copy of a slice from a DataFrame.\n",
      "Try using .loc[row_indexer,col_indexer] = value instead\n",
      "\n",
      "See the caveats in the documentation: http://pandas.pydata.org/pandas-docs/stable/user_guide/indexing.html#returning-a-view-versus-a-copy\n",
      "  \"\"\"Entry point for launching an IPython kernel.\n"
     ]
    }
   ],
   "source": [
    "result_sample_xlnet['ratio'] = result_sample_xlnet[False]/result_sample_xlnet['Total']"
   ]
  },
  {
   "cell_type": "code",
   "execution_count": 126,
   "metadata": {},
   "outputs": [],
   "source": [
    "result_sample_alo = result_sample_alo.sort_values(['ratio'], ascending=[0])\n",
    "result_sample_all = result_sample_all.sort_values(['ratio'], ascending=[0])"
   ]
  },
  {
   "cell_type": "code",
   "execution_count": 127,
   "metadata": {
    "scrolled": true
   },
   "outputs": [],
   "source": [
    "result_sample_alo.columns = ['False','True','Total','Ratio']\n",
    "result_sample_all.columns = ['False','True','Total','Ratio']"
   ]
  },
  {
   "cell_type": "code",
   "execution_count": 58,
   "metadata": {},
   "outputs": [],
   "source": [
    "result_sample_xlnet = result_sample_xlnet.sort_values(['ratio'], ascending=[0])\n",
    "result_sample_xlnet.columns = ['False','True','Total','Ratio']"
   ]
  },
  {
   "cell_type": "code",
   "execution_count": 103,
   "metadata": {
    "scrolled": true
   },
   "outputs": [],
   "source": [
    "result_sample_count.columns = ['0','1','2','3','4','Total','freq','freq_log','wrong_score','urgent']"
   ]
  },
  {
   "cell_type": "code",
   "execution_count": 164,
   "metadata": {},
   "outputs": [
    {
     "name": "stderr",
     "output_type": "stream",
     "text": [
      "/home/doyeon/anaconda3/envs/qa_analysis/lib/python3.7/site-packages/ipykernel_launcher.py:1: SettingWithCopyWarning: \n",
      "A value is trying to be set on a copy of a slice from a DataFrame.\n",
      "Try using .loc[row_indexer,col_indexer] = value instead\n",
      "\n",
      "See the caveats in the documentation: http://pandas.pydata.org/pandas-docs/stable/user_guide/indexing.html#returning-a-view-versus-a-copy\n",
      "  \"\"\"Entry point for launching an IPython kernel.\n"
     ]
    }
   ],
   "source": [
    "result_sample_count['score'] = result_sample_count['Right']"
   ]
  },
  {
   "cell_type": "code",
   "execution_count": 165,
   "metadata": {},
   "outputs": [],
   "source": [
    "result_sample_count = result_sample_count.sort_values(['score'], ascending=[1])"
   ]
  },
  {
   "cell_type": "code",
   "execution_count": 166,
   "metadata": {
    "scrolled": true
   },
   "outputs": [
    {
     "data": {
      "text/html": [
       "<div>\n",
       "<style scoped>\n",
       "    .dataframe tbody tr th:only-of-type {\n",
       "        vertical-align: middle;\n",
       "    }\n",
       "\n",
       "    .dataframe tbody tr th {\n",
       "        vertical-align: top;\n",
       "    }\n",
       "\n",
       "    .dataframe thead th {\n",
       "        text-align: right;\n",
       "    }\n",
       "</style>\n",
       "<table border=\"1\" class=\"dataframe\">\n",
       "  <thead>\n",
       "    <tr style=\"text-align: right;\">\n",
       "      <th></th>\n",
       "      <th>Right</th>\n",
       "      <th>FN wrong</th>\n",
       "      <th>FP wrong</th>\n",
       "      <th>Wrong Answer</th>\n",
       "      <th>Total</th>\n",
       "      <th>freq</th>\n",
       "      <th>freq_log</th>\n",
       "      <th>wrong_score</th>\n",
       "      <th>urgent</th>\n",
       "      <th>score</th>\n",
       "    </tr>\n",
       "    <tr>\n",
       "      <th>lattype</th>\n",
       "      <th></th>\n",
       "      <th></th>\n",
       "      <th></th>\n",
       "      <th></th>\n",
       "      <th></th>\n",
       "      <th></th>\n",
       "      <th></th>\n",
       "      <th></th>\n",
       "      <th></th>\n",
       "      <th></th>\n",
       "    </tr>\n",
       "  </thead>\n",
       "  <tbody>\n",
       "    <tr>\n",
       "      <th>impact</th>\n",
       "      <td>0.400000</td>\n",
       "      <td>0.100000</td>\n",
       "      <td>0.200000</td>\n",
       "      <td>0.300000</td>\n",
       "      <td>20.0</td>\n",
       "      <td>20</td>\n",
       "      <td>2.995732</td>\n",
       "      <td>0.600000</td>\n",
       "      <td>12.0</td>\n",
       "      <td>0.400000</td>\n",
       "    </tr>\n",
       "    <tr>\n",
       "      <th>level</th>\n",
       "      <td>0.533333</td>\n",
       "      <td>0.066667</td>\n",
       "      <td>0.333333</td>\n",
       "      <td>0.066667</td>\n",
       "      <td>15.0</td>\n",
       "      <td>15</td>\n",
       "      <td>2.708050</td>\n",
       "      <td>0.466667</td>\n",
       "      <td>7.0</td>\n",
       "      <td>0.533333</td>\n",
       "    </tr>\n",
       "    <tr>\n",
       "      <th>goal</th>\n",
       "      <td>0.565217</td>\n",
       "      <td>0.217391</td>\n",
       "      <td>0.086957</td>\n",
       "      <td>0.130435</td>\n",
       "      <td>23.0</td>\n",
       "      <td>23</td>\n",
       "      <td>3.135494</td>\n",
       "      <td>0.434783</td>\n",
       "      <td>10.0</td>\n",
       "      <td>0.565217</td>\n",
       "    </tr>\n",
       "    <tr>\n",
       "      <th>disobedience</th>\n",
       "      <td>0.583333</td>\n",
       "      <td>0.333333</td>\n",
       "      <td>0.000000</td>\n",
       "      <td>0.083333</td>\n",
       "      <td>12.0</td>\n",
       "      <td>12</td>\n",
       "      <td>2.484907</td>\n",
       "      <td>0.416667</td>\n",
       "      <td>5.0</td>\n",
       "      <td>0.583333</td>\n",
       "    </tr>\n",
       "    <tr>\n",
       "      <th>reason</th>\n",
       "      <td>0.607143</td>\n",
       "      <td>0.071429</td>\n",
       "      <td>0.142857</td>\n",
       "      <td>0.178571</td>\n",
       "      <td>28.0</td>\n",
       "      <td>28</td>\n",
       "      <td>3.332205</td>\n",
       "      <td>0.392857</td>\n",
       "      <td>11.0</td>\n",
       "      <td>0.607143</td>\n",
       "    </tr>\n",
       "    <tr>\n",
       "      <th>...</th>\n",
       "      <td>...</td>\n",
       "      <td>...</td>\n",
       "      <td>...</td>\n",
       "      <td>...</td>\n",
       "      <td>...</td>\n",
       "      <td>...</td>\n",
       "      <td>...</td>\n",
       "      <td>...</td>\n",
       "      <td>...</td>\n",
       "      <td>...</td>\n",
       "    </tr>\n",
       "    <tr>\n",
       "      <th>case</th>\n",
       "      <td>1.000000</td>\n",
       "      <td>0.000000</td>\n",
       "      <td>0.000000</td>\n",
       "      <td>0.000000</td>\n",
       "      <td>21.0</td>\n",
       "      <td>21</td>\n",
       "      <td>3.044522</td>\n",
       "      <td>0.000000</td>\n",
       "      <td>0.0</td>\n",
       "      <td>1.000000</td>\n",
       "    </tr>\n",
       "    <tr>\n",
       "      <th>machine</th>\n",
       "      <td>1.000000</td>\n",
       "      <td>0.000000</td>\n",
       "      <td>0.000000</td>\n",
       "      <td>0.000000</td>\n",
       "      <td>11.0</td>\n",
       "      <td>11</td>\n",
       "      <td>2.397895</td>\n",
       "      <td>0.000000</td>\n",
       "      <td>0.0</td>\n",
       "      <td>1.000000</td>\n",
       "    </tr>\n",
       "    <tr>\n",
       "      <th>building</th>\n",
       "      <td>1.000000</td>\n",
       "      <td>0.000000</td>\n",
       "      <td>0.000000</td>\n",
       "      <td>0.000000</td>\n",
       "      <td>18.0</td>\n",
       "      <td>18</td>\n",
       "      <td>2.890372</td>\n",
       "      <td>0.000000</td>\n",
       "      <td>0.0</td>\n",
       "      <td>1.000000</td>\n",
       "    </tr>\n",
       "    <tr>\n",
       "      <th>class</th>\n",
       "      <td>1.000000</td>\n",
       "      <td>0.000000</td>\n",
       "      <td>0.000000</td>\n",
       "      <td>0.000000</td>\n",
       "      <td>18.0</td>\n",
       "      <td>18</td>\n",
       "      <td>2.890372</td>\n",
       "      <td>0.000000</td>\n",
       "      <td>0.0</td>\n",
       "      <td>1.000000</td>\n",
       "    </tr>\n",
       "    <tr>\n",
       "      <th>profession</th>\n",
       "      <td>1.000000</td>\n",
       "      <td>0.000000</td>\n",
       "      <td>0.000000</td>\n",
       "      <td>0.000000</td>\n",
       "      <td>15.0</td>\n",
       "      <td>15</td>\n",
       "      <td>2.708050</td>\n",
       "      <td>0.000000</td>\n",
       "      <td>0.0</td>\n",
       "      <td>1.000000</td>\n",
       "    </tr>\n",
       "  </tbody>\n",
       "</table>\n",
       "<p>100 rows × 10 columns</p>\n",
       "</div>"
      ],
      "text/plain": [
       "                 Right  FN wrong  FP wrong  Wrong Answer  Total  freq  \\\n",
       "lattype                                                                 \n",
       "impact        0.400000  0.100000  0.200000      0.300000   20.0    20   \n",
       "level         0.533333  0.066667  0.333333      0.066667   15.0    15   \n",
       "goal          0.565217  0.217391  0.086957      0.130435   23.0    23   \n",
       "disobedience  0.583333  0.333333  0.000000      0.083333   12.0    12   \n",
       "reason        0.607143  0.071429  0.142857      0.178571   28.0    28   \n",
       "...                ...       ...       ...           ...    ...   ...   \n",
       "case          1.000000  0.000000  0.000000      0.000000   21.0    21   \n",
       "machine       1.000000  0.000000  0.000000      0.000000   11.0    11   \n",
       "building      1.000000  0.000000  0.000000      0.000000   18.0    18   \n",
       "class         1.000000  0.000000  0.000000      0.000000   18.0    18   \n",
       "profession    1.000000  0.000000  0.000000      0.000000   15.0    15   \n",
       "\n",
       "              freq_log  wrong_score  urgent     score  \n",
       "lattype                                                \n",
       "impact        2.995732     0.600000    12.0  0.400000  \n",
       "level         2.708050     0.466667     7.0  0.533333  \n",
       "goal          3.135494     0.434783    10.0  0.565217  \n",
       "disobedience  2.484907     0.416667     5.0  0.583333  \n",
       "reason        3.332205     0.392857    11.0  0.607143  \n",
       "...                ...          ...     ...       ...  \n",
       "case          3.044522     0.000000     0.0  1.000000  \n",
       "machine       2.397895     0.000000     0.0  1.000000  \n",
       "building      2.890372     0.000000     0.0  1.000000  \n",
       "class         2.890372     0.000000     0.0  1.000000  \n",
       "profession    2.708050     0.000000     0.0  1.000000  \n",
       "\n",
       "[100 rows x 10 columns]"
      ]
     },
     "execution_count": 166,
     "metadata": {},
     "output_type": "execute_result"
    }
   ],
   "source": [
    "result_sample_count"
   ]
  },
  {
   "cell_type": "code",
   "execution_count": 109,
   "metadata": {},
   "outputs": [
    {
     "ename": "NameError",
     "evalue": "name 'result_sample_xlnet' is not defined",
     "output_type": "error",
     "traceback": [
      "\u001b[0;31m---------------------------------------------------------------------------\u001b[0m",
      "\u001b[0;31mNameError\u001b[0m                                 Traceback (most recent call last)",
      "\u001b[0;32m<ipython-input-109-945d8f93a17e>\u001b[0m in \u001b[0;36m<module>\u001b[0;34m\u001b[0m\n\u001b[0;32m----> 1\u001b[0;31m \u001b[0mresult_sample_xlnet\u001b[0m\u001b[0;34m[\u001b[0m\u001b[0;34m'False'\u001b[0m\u001b[0;34m]\u001b[0m \u001b[0;34m/=\u001b[0m \u001b[0mresult_sample_xlnet\u001b[0m\u001b[0;34m[\u001b[0m\u001b[0;34m'Total'\u001b[0m\u001b[0;34m]\u001b[0m\u001b[0;34m\u001b[0m\u001b[0;34m\u001b[0m\u001b[0m\n\u001b[0m\u001b[1;32m      2\u001b[0m \u001b[0mresult_sample_xlnet\u001b[0m\u001b[0;34m[\u001b[0m\u001b[0;34m'True'\u001b[0m\u001b[0;34m]\u001b[0m \u001b[0;34m/=\u001b[0m \u001b[0mresult_sample_xlnet\u001b[0m\u001b[0;34m[\u001b[0m\u001b[0;34m'Total'\u001b[0m\u001b[0;34m]\u001b[0m\u001b[0;34m\u001b[0m\u001b[0;34m\u001b[0m\u001b[0m\n",
      "\u001b[0;31mNameError\u001b[0m: name 'result_sample_xlnet' is not defined"
     ]
    }
   ],
   "source": [
    "result_sample_xlnet['False'] /= result_sample_xlnet['Total']\n",
    "result_sample_xlnet['True'] /= result_sample_xlnet['Total']"
   ]
  },
  {
   "cell_type": "code",
   "execution_count": 128,
   "metadata": {
    "scrolled": true
   },
   "outputs": [],
   "source": [
    "result_sample_alo['False'] /= result_sample_alo['Total']\n",
    "result_sample_alo['True'] /= result_sample_alo['Total']\n",
    "\n",
    "result_sample_all['False'] /= result_sample_all['Total']\n",
    "result_sample_all['True'] /= result_sample_all['Total']"
   ]
  },
  {
   "cell_type": "code",
   "execution_count": 129,
   "metadata": {
    "scrolled": true
   },
   "outputs": [
    {
     "data": {
      "text/plain": [
       "<matplotlib.axes._subplots.AxesSubplot at 0x7fef486dde10>"
      ]
     },
     "execution_count": 129,
     "metadata": {},
     "output_type": "execute_result"
    },
    {
     "data": {
      "image/png": "[encoded data removed]",
      "text/plain": [
       "<Figure size 720x1440 with 1 Axes>"
      ]
     },
     "metadata": {
      "needs_background": "light"
     },
     "output_type": "display_data"
    }
   ],
   "source": [
    "result_sample_alo = result_sample_alo[['False','True']]\n",
    "result_sample_alo['False'] = -result_sample_alo['False']\n",
    "result_sample_alo.plot(figsize=(10,20), kind='barh', stacked=True ,title = 'XLNet solvability per LAT')"
   ]
  },
  {
   "cell_type": "code",
   "execution_count": 130,
   "metadata": {
    "scrolled": true
   },
   "outputs": [
    {
     "data": {
      "text/plain": [
       "<matplotlib.axes._subplots.AxesSubplot at 0x7fef43d74f90>"
      ]
     },
     "execution_count": 130,
     "metadata": {},
     "output_type": "execute_result"
    },
    {
     "data": {
      "image/png": "[encoded data removed]",
      "text/plain": [
       "<Figure size 720x1440 with 1 Axes>"
      ]
     },
     "metadata": {
      "needs_background": "light"
     },
     "output_type": "display_data"
    }
   ],
   "source": [
    "result_sample_all = result_sample_all[['False','True']]\n",
    "result_sample_all['False'] = -result_sample_all['False']\n",
    "result_sample_all.plot(figsize=(10,20), kind='barh', stacked=True ,title = 'XLNet solvability per LAT')"
   ]
  },
  {
   "cell_type": "code",
   "execution_count": 62,
   "metadata": {
    "scrolled": true
   },
   "outputs": [
    {
     "name": "stderr",
     "output_type": "stream",
     "text": [
      "/home/doyeon/anaconda3/envs/kcc/lib/python3.7/site-packages/ipykernel_launcher.py:2: SettingWithCopyWarning: \n",
      "A value is trying to be set on a copy of a slice from a DataFrame.\n",
      "Try using .loc[row_indexer,col_indexer] = value instead\n",
      "\n",
      "See the caveats in the documentation: http://pandas.pydata.org/pandas-docs/stable/user_guide/indexing.html#returning-a-view-versus-a-copy\n",
      "  \n"
     ]
    },
    {
     "data": {
      "text/plain": [
       "<matplotlib.axes._subplots.AxesSubplot at 0x7faf003984d0>"
      ]
     },
     "execution_count": 62,
     "metadata": {},
     "output_type": "execute_result"
    },
    {
     "data": {
      "image/png": "[encoded data removed]",
      "text/plain": [
       "<Figure size 720x1440 with 1 Axes>"
      ]
     },
     "metadata": {},
     "output_type": "display_data"
    }
   ],
   "source": [
    "result_sample_xlnet = result_sample_xlnet[['False','True']]\n",
    "result_sample_xlnet['False'] = -result_sample_xlnet['False']\n",
    "result_sample_xlnet.plot(figsize=(10,20), kind='barh', stacked=True ,title = 'XLNet solvability per LAT')"
   ]
  },
  {
   "cell_type": "code",
   "execution_count": 167,
   "metadata": {
    "scrolled": true
   },
   "outputs": [
    {
     "data": {
      "text/plain": [
       "Text(0.5, 1.0, 'Difficulty per LAT type for MRQA models')"
      ]
     },
     "execution_count": 167,
     "metadata": {},
     "output_type": "execute_result"
    },
    {
     "data": {
      "image/png": "[encoded data removed]",
      "text/plain": [
       "<Figure size 720x1440 with 1 Axes>"
      ]
     },
     "metadata": {},
     "output_type": "display_data"
    }
   ],
   "source": [
    "import matplotlib\n",
    "\n",
    "result_sample_count = result_sample_count[['Wrong Answer','FN wrong','FP wrong','Right']]\n",
    "#result_sample_alo['False'] = -result_sample_alo['False']\n",
    "ax = result_sample_count.plot(figsize=(10,20), kind='barh', stacked=True , colormap='coolwarm_r')\n",
    "\n",
    "ax.set_facecolor(\"w\")\n",
    "matplotlib.pyplot.ylabel('LAT type')\n",
    "matplotlib.pyplot.xlabel('stacked proportion of questions')\n",
    "ax.legend(loc='center left', bbox_to_anchor=(1, 0.5), title=\"# of models that gave \\n  the correct answers\")\n",
    "ax.set_title('Difficulty per LAT type for MRQA models', fontsize=15)"
   ]
  },
  {
   "cell_type": "code",
   "execution_count": 180,
   "metadata": {},
   "outputs": [],
   "source": [
    "with open(\"./squad/train-v2.0.json\", \"r\") as f:\n",
    "    train = json.load(f)"
   ]
  },
  {
   "cell_type": "code",
   "execution_count": 184,
   "metadata": {},
   "outputs": [
    {
     "data": {
      "application/vnd.jupyter.widget-view+json": {
       "model_id": "e4b2e553ae3440668f8795535703ea22",
       "version_major": 2,
       "version_minor": 0
      },
      "text/plain": [
       "HBox(children=(IntProgress(value=0, max=442), HTML(value='')))"
      ]
     },
     "metadata": {},
     "output_type": "display_data"
    },
    {
     "name": "stdout",
     "output_type": "stream",
     "text": [
      "\n"
     ]
    }
   ],
   "source": [
    "def get_at(question):\n",
    "    wh_word = findWHword(question)\n",
    "    if wh_word == 'None':\n",
    "        return 'None'\n",
    "    elif wh_word == 'what' or wh_word == 'which':\n",
    "        return detailAnsType(question)[1] #we don't need the detailed ans type\n",
    "    else:\n",
    "        return wh_word\n",
    "assert get_at('Where was Obama born?') == \"where\"\n",
    "assert get_at('When was Obama born?') == \"when\"\n",
    "assert get_at('In which country was Obama born?') == 'country'\n",
    "assert get_at('What policy did he follow?') == 'policy'\n",
    "assert get_at('What to do in Seoul') == 'None'\n",
    "\n",
    "def increment_frequency(d, k):\n",
    "    if k in d:\n",
    "        d[k] = d[k]+1\n",
    "    else:\n",
    "        d[k] = 1\n",
    "\n",
    "dict_freq_lat = {}\n",
    "\n",
    "for document in tqdm_notebook(train['data']):\n",
    "    for paragraph in document['paragraphs']:\n",
    "        for qas in paragraph['qas']:\n",
    "            question = clearquestion(qas['question'])\n",
    "            at = get_at(question)\n",
    "            increment_frequency(dict_freq_lat, at)"
   ]
  },
  {
   "cell_type": "code",
   "execution_count": 185,
   "metadata": {},
   "outputs": [],
   "source": [
    "df = df2"
   ]
  },
  {
   "cell_type": "code",
   "execution_count": 186,
   "metadata": {},
   "outputs": [
    {
     "name": "stdout",
     "output_type": "stream",
     "text": [
      "bert_solvable  False   True \n",
      "lattype                     \n",
      "%                1.0     5.0\n",
      "-                NaN     1.0\n",
      "None           299.0  1144.0\n",
      "aan              NaN     1.0\n",
      "ability          1.0     1.0\n",
      "...              ...     ...\n",
      "xenoliths        NaN     1.0\n",
      "year            26.0   281.0\n",
      "years            2.0    23.0\n",
      "zooplankton      NaN     1.0\n",
      "°                NaN     2.0\n",
      "\n",
      "[1701 rows x 2 columns]\n"
     ]
    }
   ],
   "source": [
    "df\n",
    "\n",
    "df_filter = df.loc[(df['whtype'] == 'what') | (df['whtype'] == 'which')]\n",
    "\n",
    "df_bert = df_filter[['qid','lattype','bert_solvable']]\n",
    "\n",
    "count_bert = df_bert.groupby(['lattype','bert_solvable']).count()\n",
    "\n",
    "\n",
    "count_bert = count_bert.unstack(level=1)\n",
    "count_bert.columns = count_bert.columns.droplevel(level=0)\n",
    "print (count_bert)\n",
    "\n",
    "\n",
    "count_bert = count_bert.fillna(0)\n",
    "count_bert['Total'] = count_bert.sum(axis=1)\n",
    "\n",
    "result_bert = count_bert\n",
    "\n",
    "result_bert['ratio'] = result_bert[True]/result_bert['Total']\n",
    "\n",
    "average_correct_rate = dict()\n",
    "dot = []\n",
    "for lat in result_bert.index:\n",
    "    summa = result_bert.loc[lat, 'ratio']\n",
    "    avg = summa\n",
    "    \n",
    "    if lat in dict_freq_lat:\n",
    "        dot.append((dict_freq_lat[lat], avg))"
   ]
  },
  {
   "cell_type": "code",
   "execution_count": 188,
   "metadata": {},
   "outputs": [
    {
     "data": {
      "text/plain": [
       "Text(0.5, 1.0, 'Correlation between the Number of Dataset and Accuracy in LAT Anaylsis_SQuAD2')"
      ]
     },
     "execution_count": 188,
     "metadata": {},
     "output_type": "execute_result"
    },
    {
     "data": {
      "image/png": "[encoded data removed]",
      "text/plain": [
       "<Figure size 432x288 with 1 Axes>"
      ]
     },
     "metadata": {},
     "output_type": "display_data"
    }
   ],
   "source": [
    "import matplotlib\n",
    "\n",
    "fig = plt.figure(1)\n",
    "ax = fig.add_subplot(111, facecolor='white')\n",
    "\n",
    "x,y = zip(*dot)\n",
    "plt.scatter(x, y, color='black', alpha= 0.5)\n",
    "plt.xlim(-50, 750)\n",
    "np.corrcoef(x, y)\n",
    "#ax.set_facecolor(\"w\")\n",
    "matplotlib.pyplot.ylabel('correct rate per lat in dev set')\n",
    "matplotlib.pyplot.xlabel('# of queries per lat in training set')\n",
    "plt.title('Correlation between the Number of Dataset and Accuracy in LAT Anaylsis_SQuAD2')"
   ]
  },
  {
   "cell_type": "code",
   "execution_count": 194,
   "metadata": {
    "scrolled": true
   },
   "outputs": [
    {
     "ename": "KeyError",
     "evalue": "\"None of [Index(['False', 'True'], dtype='object', name='RC_solvable')] are in the [columns]\"",
     "output_type": "error",
     "traceback": [
      "\u001b[0;31m---------------------------------------------------------------------------\u001b[0m",
      "\u001b[0;31mKeyError\u001b[0m                                  Traceback (most recent call last)",
      "\u001b[0;32m<ipython-input-194-efa9cbe4c4a0>\u001b[0m in \u001b[0;36m<module>\u001b[0;34m\u001b[0m\n\u001b[0;32m----> 1\u001b[0;31m \u001b[0mresult_sample_alo\u001b[0m \u001b[0;34m=\u001b[0m \u001b[0mresult_sample_alo\u001b[0m\u001b[0;34m[\u001b[0m\u001b[0;34m[\u001b[0m\u001b[0;34m'False'\u001b[0m\u001b[0;34m,\u001b[0m\u001b[0;34m'True'\u001b[0m\u001b[0;34m]\u001b[0m\u001b[0;34m]\u001b[0m\u001b[0;34m\u001b[0m\u001b[0;34m\u001b[0m\u001b[0m\n\u001b[0m\u001b[1;32m      2\u001b[0m \u001b[0mresult_sample_alo\u001b[0m\u001b[0;34m[\u001b[0m\u001b[0;34m'False'\u001b[0m\u001b[0;34m]\u001b[0m \u001b[0;34m=\u001b[0m \u001b[0;34m-\u001b[0m\u001b[0mresult_sample_alo\u001b[0m\u001b[0;34m[\u001b[0m\u001b[0;34m'False'\u001b[0m\u001b[0;34m]\u001b[0m\u001b[0;34m\u001b[0m\u001b[0;34m\u001b[0m\u001b[0m\n\u001b[1;32m      3\u001b[0m \u001b[0mresult_sample_alo\u001b[0m\u001b[0;34m.\u001b[0m\u001b[0mplot\u001b[0m\u001b[0;34m(\u001b[0m\u001b[0mfigsize\u001b[0m\u001b[0;34m=\u001b[0m\u001b[0;34m(\u001b[0m\u001b[0;36m10\u001b[0m\u001b[0;34m,\u001b[0m\u001b[0;36m20\u001b[0m\u001b[0;34m)\u001b[0m\u001b[0;34m,\u001b[0m \u001b[0mkind\u001b[0m\u001b[0;34m=\u001b[0m\u001b[0;34m'barh'\u001b[0m\u001b[0;34m,\u001b[0m \u001b[0mstacked\u001b[0m\u001b[0;34m=\u001b[0m\u001b[0;32mTrue\u001b[0m \u001b[0;34m,\u001b[0m\u001b[0mtitle\u001b[0m \u001b[0;34m=\u001b[0m \u001b[0;34m'RC solvability per LAT'\u001b[0m\u001b[0;34m)\u001b[0m\u001b[0;34m\u001b[0m\u001b[0;34m\u001b[0m\u001b[0m\n",
      "\u001b[0;32m~/anaconda3/envs/kcc/lib/python3.7/site-packages/pandas/core/frame.py\u001b[0m in \u001b[0;36m__getitem__\u001b[0;34m(self, key)\u001b[0m\n\u001b[1;32m   2979\u001b[0m             \u001b[0;32mif\u001b[0m \u001b[0mis_iterator\u001b[0m\u001b[0;34m(\u001b[0m\u001b[0mkey\u001b[0m\u001b[0;34m)\u001b[0m\u001b[0;34m:\u001b[0m\u001b[0;34m\u001b[0m\u001b[0;34m\u001b[0m\u001b[0m\n\u001b[1;32m   2980\u001b[0m                 \u001b[0mkey\u001b[0m \u001b[0;34m=\u001b[0m \u001b[0mlist\u001b[0m\u001b[0;34m(\u001b[0m\u001b[0mkey\u001b[0m\u001b[0;34m)\u001b[0m\u001b[0;34m\u001b[0m\u001b[0;34m\u001b[0m\u001b[0m\n\u001b[0;32m-> 2981\u001b[0;31m             \u001b[0mindexer\u001b[0m \u001b[0;34m=\u001b[0m \u001b[0mself\u001b[0m\u001b[0;34m.\u001b[0m\u001b[0mloc\u001b[0m\u001b[0;34m.\u001b[0m\u001b[0m_convert_to_indexer\u001b[0m\u001b[0;34m(\u001b[0m\u001b[0mkey\u001b[0m\u001b[0;34m,\u001b[0m \u001b[0maxis\u001b[0m\u001b[0;34m=\u001b[0m\u001b[0;36m1\u001b[0m\u001b[0;34m,\u001b[0m \u001b[0mraise_missing\u001b[0m\u001b[0;34m=\u001b[0m\u001b[0;32mTrue\u001b[0m\u001b[0;34m)\u001b[0m\u001b[0;34m\u001b[0m\u001b[0;34m\u001b[0m\u001b[0m\n\u001b[0m\u001b[1;32m   2982\u001b[0m \u001b[0;34m\u001b[0m\u001b[0m\n\u001b[1;32m   2983\u001b[0m         \u001b[0;31m# take() does not accept boolean indexers\u001b[0m\u001b[0;34m\u001b[0m\u001b[0;34m\u001b[0m\u001b[0;34m\u001b[0m\u001b[0m\n",
      "\u001b[0;32m~/anaconda3/envs/kcc/lib/python3.7/site-packages/pandas/core/indexing.py\u001b[0m in \u001b[0;36m_convert_to_indexer\u001b[0;34m(self, obj, axis, is_setter, raise_missing)\u001b[0m\n\u001b[1;32m   1269\u001b[0m                 \u001b[0;31m# When setting, missing keys are not allowed, even with .loc:\u001b[0m\u001b[0;34m\u001b[0m\u001b[0;34m\u001b[0m\u001b[0;34m\u001b[0m\u001b[0m\n\u001b[1;32m   1270\u001b[0m                 \u001b[0mkwargs\u001b[0m \u001b[0;34m=\u001b[0m \u001b[0;34m{\u001b[0m\u001b[0;34m\"raise_missing\"\u001b[0m\u001b[0;34m:\u001b[0m \u001b[0;32mTrue\u001b[0m \u001b[0;32mif\u001b[0m \u001b[0mis_setter\u001b[0m \u001b[0;32melse\u001b[0m \u001b[0mraise_missing\u001b[0m\u001b[0;34m}\u001b[0m\u001b[0;34m\u001b[0m\u001b[0;34m\u001b[0m\u001b[0m\n\u001b[0;32m-> 1271\u001b[0;31m                 \u001b[0;32mreturn\u001b[0m \u001b[0mself\u001b[0m\u001b[0;34m.\u001b[0m\u001b[0m_get_listlike_indexer\u001b[0m\u001b[0;34m(\u001b[0m\u001b[0mobj\u001b[0m\u001b[0;34m,\u001b[0m \u001b[0maxis\u001b[0m\u001b[0;34m,\u001b[0m \u001b[0;34m**\u001b[0m\u001b[0mkwargs\u001b[0m\u001b[0;34m)\u001b[0m\u001b[0;34m[\u001b[0m\u001b[0;36m1\u001b[0m\u001b[0;34m]\u001b[0m\u001b[0;34m\u001b[0m\u001b[0;34m\u001b[0m\u001b[0m\n\u001b[0m\u001b[1;32m   1272\u001b[0m         \u001b[0;32melse\u001b[0m\u001b[0;34m:\u001b[0m\u001b[0;34m\u001b[0m\u001b[0;34m\u001b[0m\u001b[0m\n\u001b[1;32m   1273\u001b[0m             \u001b[0;32mtry\u001b[0m\u001b[0;34m:\u001b[0m\u001b[0;34m\u001b[0m\u001b[0;34m\u001b[0m\u001b[0m\n",
      "\u001b[0;32m~/anaconda3/envs/kcc/lib/python3.7/site-packages/pandas/core/indexing.py\u001b[0m in \u001b[0;36m_get_listlike_indexer\u001b[0;34m(self, key, axis, raise_missing)\u001b[0m\n\u001b[1;32m   1076\u001b[0m \u001b[0;34m\u001b[0m\u001b[0m\n\u001b[1;32m   1077\u001b[0m         self._validate_read_indexer(\n\u001b[0;32m-> 1078\u001b[0;31m             \u001b[0mkeyarr\u001b[0m\u001b[0;34m,\u001b[0m \u001b[0mindexer\u001b[0m\u001b[0;34m,\u001b[0m \u001b[0mo\u001b[0m\u001b[0;34m.\u001b[0m\u001b[0m_get_axis_number\u001b[0m\u001b[0;34m(\u001b[0m\u001b[0maxis\u001b[0m\u001b[0;34m)\u001b[0m\u001b[0;34m,\u001b[0m \u001b[0mraise_missing\u001b[0m\u001b[0;34m=\u001b[0m\u001b[0mraise_missing\u001b[0m\u001b[0;34m\u001b[0m\u001b[0;34m\u001b[0m\u001b[0m\n\u001b[0m\u001b[1;32m   1079\u001b[0m         )\n\u001b[1;32m   1080\u001b[0m         \u001b[0;32mreturn\u001b[0m \u001b[0mkeyarr\u001b[0m\u001b[0;34m,\u001b[0m \u001b[0mindexer\u001b[0m\u001b[0;34m\u001b[0m\u001b[0;34m\u001b[0m\u001b[0m\n",
      "\u001b[0;32m~/anaconda3/envs/kcc/lib/python3.7/site-packages/pandas/core/indexing.py\u001b[0m in \u001b[0;36m_validate_read_indexer\u001b[0;34m(self, key, indexer, axis, raise_missing)\u001b[0m\n\u001b[1;32m   1161\u001b[0m                 raise KeyError(\n\u001b[1;32m   1162\u001b[0m                     \"None of [{key}] are in the [{axis}]\".format(\n\u001b[0;32m-> 1163\u001b[0;31m                         \u001b[0mkey\u001b[0m\u001b[0;34m=\u001b[0m\u001b[0mkey\u001b[0m\u001b[0;34m,\u001b[0m \u001b[0maxis\u001b[0m\u001b[0;34m=\u001b[0m\u001b[0mself\u001b[0m\u001b[0;34m.\u001b[0m\u001b[0mobj\u001b[0m\u001b[0;34m.\u001b[0m\u001b[0m_get_axis_name\u001b[0m\u001b[0;34m(\u001b[0m\u001b[0maxis\u001b[0m\u001b[0;34m)\u001b[0m\u001b[0;34m\u001b[0m\u001b[0;34m\u001b[0m\u001b[0m\n\u001b[0m\u001b[1;32m   1164\u001b[0m                     )\n\u001b[1;32m   1165\u001b[0m                 )\n",
      "\u001b[0;31mKeyError\u001b[0m: \"None of [Index(['False', 'True'], dtype='object', name='RC_solvable')] are in the [columns]\""
     ]
    }
   ],
   "source": [
    "result_sample_alo = result_sample_alo[['False','True']]\n",
    "result_sample_alo['False'] = -result_sample_alo['False']\n",
    "result_sample_alo.plot(figsize=(10,20), kind='barh', stacked=True ,title = 'RC solvability per LAT')"
   ]
  },
  {
   "cell_type": "code",
   "execution_count": 127,
   "metadata": {},
   "outputs": [
    {
     "data": {
      "text/plain": [
       "<matplotlib.axes._subplots.AxesSubplot at 0x7f197549d2d0>"
      ]
     },
     "execution_count": 127,
     "metadata": {},
     "output_type": "execute_result"
    },
    {
     "data": {
      "image/png": "[encoded data removed]",
      "text/plain": [
       "<Figure size 720x1440 with 1 Axes>"
      ]
     },
     "metadata": {},
     "output_type": "display_data"
    }
   ],
   "source": [
    "result_sample_all = result_sample_all[['False','True']]\n",
    "result_sample_all['False'] = -result_sample_all['False']\n",
    "result_sample_all.plot(figsize=(10,20), kind='barh', stacked=True ,title = 'RC solvability per LAT')"
   ]
  },
  {
   "cell_type": "code",
   "execution_count": 173,
   "metadata": {},
   "outputs": [
    {
     "data": {
      "text/html": [
       "<div>\n",
       "<style scoped>\n",
       "    .dataframe tbody tr th:only-of-type {\n",
       "        vertical-align: middle;\n",
       "    }\n",
       "\n",
       "    .dataframe tbody tr th {\n",
       "        vertical-align: top;\n",
       "    }\n",
       "\n",
       "    .dataframe thead th {\n",
       "        text-align: right;\n",
       "    }\n",
       "</style>\n",
       "<table border=\"1\" class=\"dataframe\">\n",
       "  <thead>\n",
       "    <tr style=\"text-align: right;\">\n",
       "      <th></th>\n",
       "      <th>0</th>\n",
       "      <th>1</th>\n",
       "      <th>2</th>\n",
       "      <th>3</th>\n",
       "    </tr>\n",
       "  </thead>\n",
       "  <tbody>\n",
       "    <tr>\n",
       "      <th>0</th>\n",
       "      <td>0.070429</td>\n",
       "      <td>0.314044</td>\n",
       "      <td>0.198377</td>\n",
       "      <td>0.046965</td>\n",
       "    </tr>\n",
       "    <tr>\n",
       "      <th>1</th>\n",
       "      <td>0.749975</td>\n",
       "      <td>0.313324</td>\n",
       "      <td>0.588196</td>\n",
       "      <td>0.009443</td>\n",
       "    </tr>\n",
       "    <tr>\n",
       "      <th>2</th>\n",
       "      <td>0.048844</td>\n",
       "      <td>0.023699</td>\n",
       "      <td>0.762604</td>\n",
       "      <td>0.092510</td>\n",
       "    </tr>\n",
       "    <tr>\n",
       "      <th>3</th>\n",
       "      <td>0.564028</td>\n",
       "      <td>0.023477</td>\n",
       "      <td>0.137801</td>\n",
       "      <td>0.141642</td>\n",
       "    </tr>\n",
       "    <tr>\n",
       "      <th>4</th>\n",
       "      <td>0.378162</td>\n",
       "      <td>0.212360</td>\n",
       "      <td>0.256653</td>\n",
       "      <td>0.705599</td>\n",
       "    </tr>\n",
       "    <tr>\n",
       "      <th>5</th>\n",
       "      <td>0.041651</td>\n",
       "      <td>0.066077</td>\n",
       "      <td>0.120181</td>\n",
       "      <td>0.473346</td>\n",
       "    </tr>\n",
       "    <tr>\n",
       "      <th>6</th>\n",
       "      <td>0.256582</td>\n",
       "      <td>0.133719</td>\n",
       "      <td>0.114964</td>\n",
       "      <td>0.538792</td>\n",
       "    </tr>\n",
       "    <tr>\n",
       "      <th>7</th>\n",
       "      <td>0.220245</td>\n",
       "      <td>0.159481</td>\n",
       "      <td>0.318749</td>\n",
       "      <td>0.242615</td>\n",
       "    </tr>\n",
       "    <tr>\n",
       "      <th>8</th>\n",
       "      <td>0.503184</td>\n",
       "      <td>0.947943</td>\n",
       "      <td>0.611468</td>\n",
       "      <td>0.419353</td>\n",
       "    </tr>\n",
       "    <tr>\n",
       "      <th>9</th>\n",
       "      <td>0.440137</td>\n",
       "      <td>0.689202</td>\n",
       "      <td>0.118517</td>\n",
       "      <td>0.299765</td>\n",
       "    </tr>\n",
       "  </tbody>\n",
       "</table>\n",
       "</div>"
      ],
      "text/plain": [
       "          0         1         2         3\n",
       "0  0.070429  0.314044  0.198377  0.046965\n",
       "1  0.749975  0.313324  0.588196  0.009443\n",
       "2  0.048844  0.023699  0.762604  0.092510\n",
       "3  0.564028  0.023477  0.137801  0.141642\n",
       "4  0.378162  0.212360  0.256653  0.705599\n",
       "5  0.041651  0.066077  0.120181  0.473346\n",
       "6  0.256582  0.133719  0.114964  0.538792\n",
       "7  0.220245  0.159481  0.318749  0.242615\n",
       "8  0.503184  0.947943  0.611468  0.419353\n",
       "9  0.440137  0.689202  0.118517  0.299765"
      ]
     },
     "execution_count": 173,
     "metadata": {},
     "output_type": "execute_result"
    }
   ],
   "source": [
    "pd.DataFrame(rand(10, 4))"
   ]
  },
  {
   "cell_type": "code",
   "execution_count": 237,
   "metadata": {},
   "outputs": [
    {
     "data": {
      "text/plain": [
       "[('a', 'DT'),\n",
       " (',', ','),\n",
       " ('b', 'NN'),\n",
       " (',', ','),\n",
       " ('c', 'NN'),\n",
       " (',', ','),\n",
       " ('d', 'NN'),\n",
       " ('or', 'CC'),\n",
       " ('e', 'NN'),\n",
       " ('is', 'VBZ'),\n",
       " ('alphabet', 'JJ')]"
      ]
     },
     "execution_count": 237,
     "metadata": {},
     "output_type": "execute_result"
    }
   ],
   "source": [
    "PosTagger(\"a,b,c,d or e is alphabet\")"
   ]
  },
  {
   "cell_type": "markdown",
   "metadata": {},
   "source": [
    "## NN list check"
   ]
  },
  {
   "cell_type": "code",
   "execution_count": 239,
   "metadata": {},
   "outputs": [
    {
     "data": {
      "application/vnd.jupyter.widget-view+json": {
       "model_id": "d0210ce92bd7479a906dda56704c0321",
       "version_major": 2,
       "version_minor": 0
      },
      "text/plain": [
       "HBox(children=(IntProgress(value=0, max=7993), HTML(value='')))"
      ]
     },
     "metadata": {},
     "output_type": "display_data"
    }
   ],
   "source": [
    "entity_list_qid = []\n",
    "for instance in tqdm_notebook(dev):\n",
    "    \n",
    "    question = clearquestion(instance['Question'])\n",
    "    pos_list = PosTagger(question)\n",
    "    \n",
    "    posstr = \"\"\n",
    "    for word, pos in pos_list:\n",
    "        posstr += pos\n",
    "    \n",
    "    if ('NNCCNN' in posstr) or ('NN,NN' in posstr): \n",
    "        entity_list_qid.append(instance['QuestionId'])"
   ]
  },
  {
   "cell_type": "code",
   "execution_count": 244,
   "metadata": {},
   "outputs": [
    {
     "data": {
      "text/plain": [
       "0.5345345345345346"
      ]
     },
     "execution_count": 244,
     "metadata": {},
     "output_type": "execute_result"
    }
   ],
   "source": [
    "len(set(entity_list_qid) & rc_wrong) / len(set(entity_list_qid))"
   ]
  },
  {
   "cell_type": "code",
   "execution_count": 358,
   "metadata": {},
   "outputs": [
    {
     "data": {
      "text/plain": [
       "333"
      ]
     },
     "execution_count": 358,
     "metadata": {},
     "output_type": "execute_result"
    }
   ],
   "source": [
    " len(set(entity_list_qid))"
   ]
  },
  {
   "cell_type": "markdown",
   "metadata": {},
   "source": [
    "## qualitative analysis"
   ]
  },
  {
   "cell_type": "markdown",
   "metadata": {},
   "source": [
    "### four failure case"
   ]
  },
  {
   "cell_type": "code",
   "execution_count": 88,
   "metadata": {},
   "outputs": [],
   "source": [
    "aaa = \"'5728e8212ca10214002daa6f\t56e1bc3ae3433e1400423107\t5726e179dd62a815002e93b0\t573060b48ab72b1400f9c4c7\t5725c0f289a1e219009abdf2\t570d4e6cb3d812140066d671\t572fc8a904bcaa1900d76d21\t57060a6e52bb8914006897fa\t572864542ca10214002da2e2\t57263ea0271a42140099d7c4\t571ce9bddd7acb1400e4c1a1'\""
   ]
  },
  {
   "cell_type": "code",
   "execution_count": 89,
   "metadata": {},
   "outputs": [
    {
     "data": {
      "text/plain": [
       "\"'5728e8212ca10214002daa6f','56e1bc3ae3433e1400423107','5726e179dd62a815002e93b0','573060b48ab72b1400f9c4c7','5725c0f289a1e219009abdf2','570d4e6cb3d812140066d671','572fc8a904bcaa1900d76d21','57060a6e52bb8914006897fa','572864542ca10214002da2e2','57263ea0271a42140099d7c4','571ce9bddd7acb1400e4c1a1'\""
      ]
     },
     "execution_count": 89,
     "metadata": {},
     "output_type": "execute_result"
    }
   ],
   "source": [
    "ns = \"','\".join(aaa.split(\"\\t\"))\n",
    "ns"
   ]
  },
  {
   "cell_type": "code",
   "execution_count": 2,
   "metadata": {},
   "outputs": [],
   "source": [
    "at_lat_clear = ['5726534d708984140094c26e','570d4030fed7b91900d45da3','56e1e9dfe3433e14004231fe','57302bd0b2c2fd14005689dc','57264e455951b619008f6f65','571098f8a58dae1900cd6ab2','57060a6e52bb8914006897fa']\n",
    "at_lat_abstract = ['56e1bc3ae3433e1400423107','5728e8212ca10214002daa6f','5726e179dd62a815002e93b0','573060b48ab72b1400f9c4c7','571ce9bddd7acb1400e4c1a1']\n",
    "at_wh_clear = ['572fc8a904bcaa1900d76d21','57286dfa2ca10214002da332']\n",
    "at_wh_abstract = ['572691545951b619008f76e3','570d4e6cb3d812140066d671','572864542ca10214002da2e2']\n",
    "nonat = ['5725c0f289a1e219009abdf2','5727ff083acd2414000df1ae','57263ea0271a42140099d7c4']\n",
    "\n",
    "short = ['56e1bc3ae3433e1400423107','570d4030fed7b91900d45da3','56e1e9dfe3433e14004231fe','5726e179dd62a815002e93b0','573060b48ab72b1400f9c4c7','57302bd0b2c2fd14005689dc','57264e455951b619008f6f65','571098f8a58dae1900cd6ab2','572fc8a904bcaa1900d76d21','57060a6e52bb8914006897fa','5727ff083acd2414000df1ae']\n",
    "explain = ['5726534d708984140094c26e','5728e8212ca10214002daa6f','572691545951b619008f76e3','5725c0f289a1e219009abdf2','570d4e6cb3d812140066d671','572864542ca10214002da2e2','57263ea0271a42140099d7c4','571ce9bddd7acb1400e4c1a1']\n",
    "\n",
    "alias = ['5728e8212ca10214002daa6f','570d4030fed7b91900d45da3','57264e455951b619008f6f65','572691545951b619008f76e3','5725c0f289a1e219009abdf2','571098f8a58dae1900cd6ab2','572fc8a904bcaa1900d76d21','572864542ca10214002da2e2']\n",
    "boundary = ['5726534d708984140094c26e','5728e8212ca10214002daa6f','56e1bc3ae3433e1400423107','56e1e9dfe3433e14004231fe','573060b48ab72b1400f9c4c7','57302bd0b2c2fd14005689dc','5725c0f289a1e219009abdf2','570d4e6cb3d812140066d671','572fc8a904bcaa1900d76d21','5727ff083acd2414000df1ae','57263ea0271a42140099d7c4','571ce9bddd7acb1400e4c1a1']\n",
    "wrong_context = ['5728e8212ca10214002daa6f','56e1bc3ae3433e1400423107','5726e179dd62a815002e93b0','573060b48ab72b1400f9c4c7','5725c0f289a1e219009abdf2','570d4e6cb3d812140066d671','572fc8a904bcaa1900d76d21','57060a6e52bb8914006897fa','572864542ca10214002da2e2','57263ea0271a42140099d7c4','571ce9bddd7acb1400e4c1a1']\n",
    "at_wrong = []\n",
    "modifier = ['57286dfa2ca10214002da332']\n"
   ]
  },
  {
   "cell_type": "code",
   "execution_count": 3,
   "metadata": {},
   "outputs": [],
   "source": [
    "at_lat_clear = set(at_lat_clear)\n",
    "at_lat_abstract = set(at_lat_abstract)\n",
    "at_wh_clear = set(at_wh_clear)\n",
    "at_wh_abstract = set(at_wh_abstract)\n",
    "nonat = set(nonat)\n",
    "\n",
    "short = set(short)\n",
    "explain = set(explain)\n",
    "\n",
    "alias = set(alias)\n",
    "boundary = set(boundary)\n",
    "wrong_context = set(wrong_context)\n",
    "at_wrong = set(at_wrong)\n",
    "modifier = set(modifier)"
   ]
  },
  {
   "cell_type": "code",
   "execution_count": 4,
   "metadata": {},
   "outputs": [
    {
     "data": {
      "text/plain": [
       "{'56e1e9dfe3433e14004231fe',\n",
       " '57060a6e52bb8914006897fa',\n",
       " '570d4030fed7b91900d45da3',\n",
       " '571098f8a58dae1900cd6ab2',\n",
       " '57264e455951b619008f6f65',\n",
       " '57302bd0b2c2fd14005689dc'}"
      ]
     },
     "execution_count": 4,
     "metadata": {},
     "output_type": "execute_result"
    }
   ],
   "source": [
    "at_lat_clear & short"
   ]
  },
  {
   "cell_type": "code",
   "execution_count": 5,
   "metadata": {},
   "outputs": [
    {
     "data": {
      "text/plain": [
       "{'5726534d708984140094c26e'}"
      ]
     },
     "execution_count": 5,
     "metadata": {},
     "output_type": "execute_result"
    }
   ],
   "source": [
    "at_lat_clear & explain"
   ]
  },
  {
   "cell_type": "code",
   "execution_count": 11,
   "metadata": {},
   "outputs": [
    {
     "name": "stdout",
     "output_type": "stream",
     "text": [
      "lat clear: 7, lat abstract: 5, wh clear: 2, wh abstract: 3, Non AT: 3 \n"
     ]
    }
   ],
   "source": [
    "## query type\n",
    "print (\"lat clear: {}, lat abstract: {}, wh clear: {}, wh abstract: {}, Non AT: {} \".format(len(at_lat_clear), len(at_lat_abstract), len(at_wh_clear), len(at_wh_abstract), len(nonat)))"
   ]
  },
  {
   "cell_type": "code",
   "execution_count": 6,
   "metadata": {},
   "outputs": [
    {
     "name": "stdout",
     "output_type": "stream",
     "text": [
      "alias: 3, boundary: 3, wrong context: 3, AT wrong: 0, modifier: 0 \n"
     ]
    }
   ],
   "source": [
    "## LAT clear\n",
    "print (\"alias: {}, boundary: {}, wrong context: {}, AT wrong: {}, modifier: {} \".format(len(at_lat_clear&alias), len(at_lat_clear&alias), len(at_lat_clear&boundary), len(at_lat_clear&at_wrong), len(at_lat_clear&modifier)))"
   ]
  },
  {
   "cell_type": "code",
   "execution_count": 7,
   "metadata": {},
   "outputs": [
    {
     "name": "stdout",
     "output_type": "stream",
     "text": [
      "alias: 1, boundary: 1, wrong context: 4, AT wrong: 0, modifier: 0 \n"
     ]
    }
   ],
   "source": [
    "## LAT abstract\n",
    "print (\"alias: {}, boundary: {}, wrong context: {}, AT wrong: {}, modifier: {} \".format(len(at_lat_abstract&alias), len(at_lat_abstract&alias), len(at_lat_abstract&boundary), len(at_lat_abstract&at_wrong), len(at_lat_abstract&modifier)))"
   ]
  },
  {
   "cell_type": "code",
   "execution_count": 8,
   "metadata": {},
   "outputs": [
    {
     "name": "stdout",
     "output_type": "stream",
     "text": [
      "alias: 1, boundary: 1, wrong context: 1, AT wrong: 0, modifier: 1 \n"
     ]
    }
   ],
   "source": [
    "## WH clear\n",
    "print (\"alias: {}, boundary: {}, wrong context: {}, AT wrong: {}, modifier: {} \".format(len(at_wh_clear&alias), len(at_wh_clear&alias), len(at_wh_clear&boundary), len(at_wh_clear&at_wrong), len(at_wh_clear&modifier)))"
   ]
  },
  {
   "cell_type": "code",
   "execution_count": 9,
   "metadata": {},
   "outputs": [
    {
     "name": "stdout",
     "output_type": "stream",
     "text": [
      "alias: 2, boundary: 2, wrong context: 1, AT wrong: 0, modifier: 0 \n"
     ]
    }
   ],
   "source": [
    "## WH abstract\n",
    "print (\"alias: {}, boundary: {}, wrong context: {}, AT wrong: {}, modifier: {} \".format(len(at_wh_abstract&alias), len(at_wh_abstract&alias), len(at_wh_abstract&boundary), len(at_wh_abstract&at_wrong), len(at_wh_abstract&modifier)))"
   ]
  },
  {
   "cell_type": "code",
   "execution_count": 10,
   "metadata": {},
   "outputs": [
    {
     "name": "stdout",
     "output_type": "stream",
     "text": [
      "alias: 1, boundary: 1, wrong context: 3, AT wrong: 0, modifier: 0 \n"
     ]
    }
   ],
   "source": [
    "## Non AT \n",
    "print (\"alias: {}, boundary: {}, wrong context: {}, AT wrong: {}, modifier: {} \".format(len(nonat&alias), len(nonat&alias), len(nonat&boundary), len(nonat&at_wrong), len(nonat&modifier)))"
   ]
  },
  {
   "cell_type": "code",
   "execution_count": null,
   "metadata": {},
   "outputs": [],
   "source": []
  }
 ],
 "metadata": {
  "kernelspec": {
   "display_name": "Python (qa_analysis)",
   "language": "python",
   "name": "qa_analysis"
  },
  "language_info": {
   "codemirror_mode": {
    "name": "ipython",
    "version": 3
   },
   "file_extension": ".py",
   "mimetype": "text/x-python",
   "name": "python",
   "nbconvert_exporter": "python",
   "pygments_lexer": "ipython3",
   "version": "3.7.4"
  }
 },
 "nbformat": 4,
 "nbformat_minor": 2
}
