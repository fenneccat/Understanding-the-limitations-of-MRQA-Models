{
 "cells": [
  {
   "cell_type": "code",
   "execution_count": 1,
   "metadata": {},
   "outputs": [],
   "source": [
    "import json\n",
    "import spacy\n",
    "import re\n",
    "\n",
    "from tqdm import tqdm_notebook\n",
    "import pandas as pd \n",
    "\n",
    "from collections import Counter\n",
    "\n",
    "import matplotlib.pyplot as plt\n",
    "\n",
    "from numpy.random import rand\n",
    "\n",
    "from random import sample"
   ]
  },
  {
   "cell_type": "code",
   "execution_count": 2,
   "metadata": {},
   "outputs": [],
   "source": [
    "import seaborn as sns"
   ]
  },
  {
   "cell_type": "code",
   "execution_count": 3,
   "metadata": {},
   "outputs": [],
   "source": [
    "nlp = spacy.load('en')"
   ]
  },
  {
   "cell_type": "code",
   "execution_count": 4,
   "metadata": {},
   "outputs": [],
   "source": [
    "f = open('./pytorch-pretrained-BERT/wrond_id_BERT.txt','rt')\n",
    "wrong_bert = f.readlines()\n",
    "f.close()"
   ]
  },
  {
   "cell_type": "code",
   "execution_count": 5,
   "metadata": {},
   "outputs": [],
   "source": [
    "f = open('./pytorch-pretrained-BERT/wrond_id_DOCQA.txt','rt')\n",
    "wrong_docqa = f.readlines()\n",
    "f.close()"
   ]
  },
  {
   "cell_type": "code",
   "execution_count": 6,
   "metadata": {},
   "outputs": [],
   "source": [
    "f = open('./pytorch-pretrained-BERT/wrond_id_BiDAF.txt','rt')\n",
    "wrong_bidaf = f.readlines()\n",
    "f.close()"
   ]
  },
  {
   "cell_type": "code",
   "execution_count": 7,
   "metadata": {},
   "outputs": [],
   "source": [
    "f = open('./pytorch-pretrained-BERT/wrond_id_XLNet.txt','rt')\n",
    "wrong_xlnet = f.readlines()\n",
    "f.close()"
   ]
  },
  {
   "cell_type": "code",
   "execution_count": 8,
   "metadata": {},
   "outputs": [],
   "source": [
    "def removen(file):\n",
    "    return [line.rstrip('\\n') for line in file]"
   ]
  },
  {
   "cell_type": "code",
   "execution_count": 9,
   "metadata": {},
   "outputs": [],
   "source": [
    "wrong_bert = removen(wrong_bert)\n",
    "wrong_docqa = removen(wrong_docqa)\n",
    "wrong_bidaf = removen(wrong_bidaf)\n",
    "wrong_xlnet = removen(wrong_xlnet)"
   ]
  },
  {
   "cell_type": "code",
   "execution_count": 10,
   "metadata": {},
   "outputs": [],
   "source": [
    "wrong_bert = set(wrong_bert)\n",
    "wrong_docqa = set(wrong_docqa)\n",
    "wrong_bidaf = set(wrong_bidaf)\n",
    "wrong_xlnet = set(wrong_xlnet)"
   ]
  },
  {
   "cell_type": "code",
   "execution_count": 11,
   "metadata": {},
   "outputs": [],
   "source": [
    "rc_wrong = wrong_bert | wrong_docqa | wrong_bidaf | wrong_xlnet"
   ]
  },
  {
   "cell_type": "code",
   "execution_count": 12,
   "metadata": {},
   "outputs": [],
   "source": [
    "all_wrong = wrong_bert & wrong_docqa & wrong_bidaf & wrong_xlnet"
   ]
  },
  {
   "cell_type": "code",
   "execution_count": 13,
   "metadata": {},
   "outputs": [
    {
     "data": {
      "text/plain": [
       "(4951, 653)"
      ]
     },
     "execution_count": 13,
     "metadata": {},
     "output_type": "execute_result"
    }
   ],
   "source": [
    "len(rc_wrong), len(all_wrong)"
   ]
  },
  {
   "cell_type": "code",
   "execution_count": 14,
   "metadata": {},
   "outputs": [],
   "source": [
    "f = open('./pytorch-pretrained-BERT/squad/dev-v1.1.json','rb')\n",
    "data = json.load(f)"
   ]
  },
  {
   "cell_type": "code",
   "execution_count": 15,
   "metadata": {},
   "outputs": [],
   "source": [
    "data = data['data']"
   ]
  },
  {
   "cell_type": "code",
   "execution_count": 16,
   "metadata": {},
   "outputs": [],
   "source": [
    "all_qid = []"
   ]
  },
  {
   "cell_type": "code",
   "execution_count": 17,
   "metadata": {},
   "outputs": [],
   "source": [
    "len_squad = []\n",
    "qcnt = 0\n",
    "for document in data:\n",
    "    for paragraph in document['paragraphs']:\n",
    "        for qas in paragraph['qas']:\n",
    "            len_squad.append(len(qas['question'].split()))\n",
    "            qcnt += 1"
   ]
  },
  {
   "cell_type": "code",
   "execution_count": 43,
   "metadata": {},
   "outputs": [
    {
     "data": {
      "text/plain": [
       "10570"
      ]
     },
     "execution_count": 43,
     "metadata": {},
     "output_type": "execute_result"
    }
   ],
   "source": [
    "len(all_qid)"
   ]
  },
  {
   "cell_type": "code",
   "execution_count": 18,
   "metadata": {},
   "outputs": [
    {
     "data": {
      "text/plain": [
       "<matplotlib.axes._subplots.AxesSubplot at 0x7f38669edbd0>"
      ]
     },
     "execution_count": 18,
     "metadata": {},
     "output_type": "execute_result"
    },
    {
     "data": {
      "image/png": "[encoded data removed]",
      "text/plain": [
       "<Figure size 432x288 with 1 Axes>"
      ]
     },
     "metadata": {
      "needs_background": "light"
     },
     "output_type": "display_data"
    }
   ],
   "source": [
    "import pandas as pd\n",
    "import seaborn as sns\n",
    "import matplotlib\n",
    "sns.distplot(len_squad)"
   ]
  },
  {
   "cell_type": "code",
   "execution_count": 19,
   "metadata": {},
   "outputs": [
    {
     "data": {
      "text/plain": [
       "10.216650898770103"
      ]
     },
     "execution_count": 19,
     "metadata": {},
     "output_type": "execute_result"
    }
   ],
   "source": [
    "sum(len_squad)/qcnt"
   ]
  },
  {
   "cell_type": "code",
   "execution_count": 18,
   "metadata": {},
   "outputs": [],
   "source": [
    "for document in data:\n",
    "    for paragraph in document['paragraphs']:\n",
    "        for qas in paragraph['qas']:\n",
    "            all_qid.append(qas['id'])"
   ]
  },
  {
   "cell_type": "code",
   "execution_count": 19,
   "metadata": {},
   "outputs": [
    {
     "data": {
      "text/plain": [
       "10570"
      ]
     },
     "execution_count": 19,
     "metadata": {},
     "output_type": "execute_result"
    }
   ],
   "source": [
    "len(all_qid)"
   ]
  },
  {
   "cell_type": "code",
   "execution_count": 20,
   "metadata": {},
   "outputs": [],
   "source": [
    "right_qid = set(all_qid)-set(all_wrong)"
   ]
  },
  {
   "cell_type": "code",
   "execution_count": 23,
   "metadata": {},
   "outputs": [
    {
     "data": {
      "text/plain": [
       "10570"
      ]
     },
     "execution_count": 23,
     "metadata": {},
     "output_type": "execute_result"
    }
   ],
   "source": [
    "len(all_qid)"
   ]
  },
  {
   "cell_type": "code",
   "execution_count": 24,
   "metadata": {},
   "outputs": [
    {
     "data": {
      "text/plain": [
       "(9917, 653)"
      ]
     },
     "execution_count": 24,
     "metadata": {},
     "output_type": "execute_result"
    }
   ],
   "source": [
    "len(right_qid), len(all_wrong)"
   ]
  },
  {
   "cell_type": "code",
   "execution_count": 25,
   "metadata": {},
   "outputs": [
    {
     "name": "stdout",
     "output_type": "stream",
     "text": [
      "['57267b65dd62a815002e86a9', '572909ebaf94a219006a9fc8', '57339ad74776f41900660e89', '5733dd4f4776f419006613aa', '56d9c79edc89441400fdb805', '5729e2316aef0514001550c4', '56f86d30a6d7ea1400e17608', '5728827b2ca10214002da42b', '5728fd3c3f37b31900477f2e', '5725d52f89a1e219009abf7a', '56bec9e83aeaaa14008c945f', '572684365951b619008f7540', '5733266d4776f41900660712', '56bebad93aeaaa14008c92fb', '572fe9b3947a6a140053cde2', '5728ed94ff5b5019007da97c', '5727ed2e3acd2414000df004', '5726b9e15951b619008f7bf4', '56d9cd9adc89441400fdb84d', '5727e6cbff5b5019007d97ee']\n"
     ]
    }
   ],
   "source": [
    "print(sample(rc_wrong,20)) "
   ]
  },
  {
   "cell_type": "code",
   "execution_count": 21,
   "metadata": {},
   "outputs": [],
   "source": [
    "def clearquestion(question):\n",
    "    '''\n",
    "    Clear the query if it contain unnecessary multiple quotes marks\n",
    "    e.g) \"What is the Milky Way?\" --> What is the Milky Way?\n",
    "    @param question\n",
    "         \tquery string\n",
    "\n",
    "    @return the cleaned setence\n",
    "    '''\n",
    "    \n",
    "    if (question.startswith(\"\\\"\") and question.endswith(\"\\\"\")) or (question.startswith(\"\\'\") and question.endswith(\"\\'\")):\n",
    "        question = question[1:-1]\n",
    "        question = changepartsent(\"\\\"\\\"\", \"\\\"\", question)\n",
    "    \n",
    "    return question"
   ]
  },
  {
   "cell_type": "code",
   "execution_count": 22,
   "metadata": {},
   "outputs": [],
   "source": [
    "def changepartsent(word, reword, sentence):\n",
    "    '''\n",
    "    Change the part of sentence from word to reword\n",
    "    @param word\n",
    "         \t@word that targeted to change\n",
    "    @param reword\n",
    "         \t@word in sentence is replaced to @reword\n",
    "    @param sentence\n",
    "         \tsentence string\n",
    "    @return the changed string\n",
    "    '''\n",
    "    \n",
    "    if type(word) is list:\n",
    "        for w in word:\n",
    "            sentence = sentence.replace(w,reword)\n",
    "\n",
    "    else:\n",
    "        sentence = sentence.replace(word,reword)\n",
    "        sentence = sentence.replace(word[0].upper()+word[1:],reword)\n",
    "    \n",
    "    return sentence"
   ]
  },
  {
   "cell_type": "code",
   "execution_count": 23,
   "metadata": {},
   "outputs": [],
   "source": [
    "candidate = ['when', 'how', 'where', 'which', 'what', 'who', 'how many', 'whose', 'whom', 'why']\n",
    "how_words = ['many','tall','much','tall','old', 'often', 'deep', 'high', 'long', 'far', 'wide']\n",
    "changelist = ['(what?)', '(what)', '(which?)', '(Which?)', '(which)', '(Which)']"
   ]
  },
  {
   "cell_type": "markdown",
   "metadata": {},
   "source": [
    "## WH type wrong probability"
   ]
  },
  {
   "cell_type": "code",
   "execution_count": 24,
   "metadata": {},
   "outputs": [],
   "source": [
    "def _wh_helper(sentence):\n",
    "    doc = nlp(sentence)\n",
    "    \n",
    "    if sentence.startswith('name'): return 'name'\n",
    "    \n",
    "    if 'how' in sentence.split():\n",
    "        list_of_words = sentence.split()\n",
    "        if list_of_words.index('how') != len(list_of_words)-1: \n",
    "            next_word = list_of_words[list_of_words.index('how') + 1]\n",
    "            if next_word in how_words:\n",
    "                return 'how many'\n",
    "        \n",
    "    \n",
    "    for w in reversed(doc):\n",
    "        if w.pos_ == 'NN': continue\n",
    "        else:\n",
    "            for can in candidate:\n",
    "                if can in w.text.split():\n",
    "                    return can\n",
    "            break\n",
    "    \n",
    "    whs = []\n",
    "\n",
    "    for idx, token in enumerate(doc):\n",
    "        for can in candidate:\n",
    "            if can in token.text.split():\n",
    "                return can\n",
    "            \n",
    "    if doc[-1].lemma_ == 'be' or doc[-1].pos_ == 'ADP':\n",
    "        return 'implicit_what'\n",
    "    \n",
    "    if 'name' in sentence.lower():\n",
    "        return 'name'\n",
    "    \n",
    "    return 'none'"
   ]
  },
  {
   "cell_type": "code",
   "execution_count": 25,
   "metadata": {},
   "outputs": [],
   "source": [
    "def findWHword(sentence):\n",
    "    \n",
    "    sentence = sentence.lower()\n",
    "    osentence = sentence\n",
    "    \n",
    "    x = re.findall(\"\\(wha.*?\\)\", sentence)\n",
    "\n",
    "    if x != []:\n",
    "        return 'cloze'\n",
    "    \n",
    "    if sentence.count('\\\"') > 0:\n",
    "        sentence = changepartsent(re.findall(r'\"([^\"]*)\"', sentence), 'QUOTES', sentence)\n",
    "    if (sentence.count('\\'')-sentence.count('\\'s')) % 2 == 0 and sentence.count('\\'')-sentence.count('\\'s') > 0:\n",
    "        sentence = changepartsent(re.findall(r\"'(.*?)'\", sentence), 'QUOTES', sentence)\n",
    "        \n",
    "    sentence = re.sub('\\,.+?\\,', '', sentence)\n",
    "        \n",
    "    wh = _wh_helper(sentence)\n",
    "    if wh == 'none':\n",
    "        wh = _wh_helper(osentence)\n",
    "    \n",
    "    return wh"
   ]
  },
  {
   "cell_type": "code",
   "execution_count": 26,
   "metadata": {},
   "outputs": [],
   "source": [
    "def findWHword(sentence):\n",
    "    \n",
    "    sentence = sentence.lower()\n",
    "    \n",
    "    if sentence.count('\\\"') > 0:\n",
    "        sentence = changepartsent(re.findall(r'\"([^\"]*)\"', sentence), 'QUOTES', sentence)\n",
    "    if (sentence.count('\\'')-sentence.count('\\'s')) % 2 == 0 and sentence.count('\\'')-sentence.count('\\'s') > 0:\n",
    "        sentence = changepartsent(re.findall(r\"'(.*?)'\", sentence), 'QUOTES', sentence)\n",
    "        \n",
    "        \n",
    "    doc = nlp(sentence)\n",
    "    \n",
    "    if 'how' in sentence.split() and ('how many' in sentence or 'how much' in sentence):\n",
    "        return 'how many'\n",
    "    \n",
    "    for w in reversed(doc):\n",
    "        if w.pos_ == 'NN': continue\n",
    "        else:\n",
    "            for can in candidate:\n",
    "                if can in w.text:\n",
    "                    return can\n",
    "            break\n",
    "    \n",
    "    whs = []\n",
    "\n",
    "    for idx, token in enumerate(doc):\n",
    "        for can in candidate:\n",
    "            if can in token.text:\n",
    "                return can\n",
    "            \n",
    "    if 'name' in sentence.lower() or doc[-1].lemma_ == 'be' or doc[-1].pos_ == 'ADP':\n",
    "        return 'what'\n",
    "    \n",
    "    return 'none'"
   ]
  },
  {
   "cell_type": "code",
   "execution_count": 169,
   "metadata": {},
   "outputs": [
    {
     "data": {
      "text/plain": [
       "{'title': 'Warsaw',\n",
       " 'paragraphs': [{'context': 'One of the most famous people born in Warsaw was Maria Skłodowska-Curie, who achieved international recognition for her research on radioactivity and was the first female recipient of the Nobel Prize. Famous musicians include Władysław Szpilman and Frédéric Chopin. Though Chopin was born in the village of Żelazowa Wola, about 60 km (37 mi) from Warsaw, he moved to the city with his family when he was seven months old. Casimir Pulaski, a Polish general and hero of the American Revolutionary War, was born here in 1745.',\n",
       "   'qas': [{'answers': [{'answer_start': 188, 'text': 'Nobel Prize'},\n",
       "      {'answer_start': 188, 'text': 'Nobel Prize'},\n",
       "      {'answer_start': 188, 'text': 'Nobel Prize'}],\n",
       "     'question': 'What was Maria Curie the first female recipient of?',\n",
       "     'id': '5733a5f54776f41900660f45'},\n",
       "    {'answers': [{'answer_start': 517, 'text': '1745'},\n",
       "      {'answer_start': 517, 'text': '1745'},\n",
       "      {'answer_start': 517, 'text': '1745'}],\n",
       "     'question': 'What year was Casimir Pulaski born in Warsaw?',\n",
       "     'id': '5733a5f54776f41900660f48'},\n",
       "    {'answers': [{'answer_start': 49, 'text': 'Maria Skłodowska-Curie'},\n",
       "      {'answer_start': 49, 'text': 'Maria Skłodowska-Curie'},\n",
       "      {'answer_start': 49, 'text': 'Maria Skłodowska-Curie'}],\n",
       "     'question': 'Who was one of the most famous people born in Warsaw?',\n",
       "     'id': '5733a5f54776f41900660f44'},\n",
       "    {'answers': [{'answer_start': 201, 'text': 'Famous musicians'},\n",
       "      {'answer_start': 208, 'text': 'musicians'},\n",
       "      {'answer_start': 201, 'text': 'Famous musicians'}],\n",
       "     'question': 'Who was Frédéric Chopin?',\n",
       "     'id': '5733a5f54776f41900660f46'},\n",
       "    {'answers': [{'answer_start': 404, 'text': 'seven months old'},\n",
       "      {'answer_start': 404, 'text': 'seven months old'},\n",
       "      {'answer_start': 404, 'text': 'seven months old'}],\n",
       "     'question': 'How old was Chopin when he moved to Warsaw with his family?',\n",
       "     'id': '5733a5f54776f41900660f47'}]},\n",
       "  {'context': 'The Saxon Garden, covering the area of 15.5 ha, was formally a royal garden. There are over 100 different species of trees and the avenues are a place to sit and relax. At the east end of the park, the Tomb of the Unknown Soldier is situated. In the 19th century the Krasiński Palace Garden was remodelled by Franciszek Szanior. Within the central area of the park one can still find old trees dating from that period: maidenhair tree, black walnut, Turkish hazel and Caucasian wingnut trees. With its benches, flower carpets, a pond with ducks on and a playground for kids, the Krasiński Palace Garden is a popular strolling destination for the Varsovians. The Monument of the Warsaw Ghetto Uprising is also situated here. The Łazienki Park covers the area of 76 ha. The unique character and history of the park is reflected in its landscape architecture (pavilions, sculptures, bridges, cascades, ponds) and vegetation (domestic and foreign species of trees and bushes). What makes this park different from other green spaces in Warsaw is the presence of peacocks and pheasants, which can be seen here walking around freely, and royal carps in the pond. The Wilanów Palace Park, dates back to the second half of the 17th century. It covers the area of 43 ha. Its central French-styled area corresponds to the ancient, baroque forms of the palace. The eastern section of the park, closest to the Palace, is the two-level garden with a terrace facing the pond. The park around the Królikarnia Palace is situated on the old escarpment of the Vistula. The park has lanes running on a few levels deep into the ravines on both sides of the palace.',\n",
       "   'qas': [{'answers': [{'answer_start': 92, 'text': '100'},\n",
       "      {'answer_start': 87, 'text': 'over 100'},\n",
       "      {'answer_start': 92, 'text': '100'}],\n",
       "     'question': 'Over how many species of trees can be found in the Saxon Garden?',\n",
       "     'id': '57336755d058e614000b5a3d'},\n",
       "    {'answers': [{'answer_start': 579, 'text': 'Krasiński Palace Garden'},\n",
       "      {'answer_start': 579, 'text': 'Krasiński Palace Garden'},\n",
       "      {'answer_start': 579, 'text': 'Krasiński Palace Garden'}],\n",
       "     'question': 'What is a popular strolling destination for the Varsovians?',\n",
       "     'id': '57336755d058e614000b5a3f'},\n",
       "    {'answers': [{'answer_start': 0, 'text': 'The Saxon Garden'},\n",
       "      {'answer_start': 4, 'text': 'Saxon Garden'},\n",
       "      {'answer_start': 0, 'text': 'The Saxon Garden'}],\n",
       "     'question': 'What garden was formally only for royalty?',\n",
       "     'id': '57336755d058e614000b5a3c'},\n",
       "    {'answers': [{'answer_start': 176, 'text': 'east end'},\n",
       "      {'answer_start': 176, 'text': 'east'},\n",
       "      {'answer_start': 176, 'text': 'east'}],\n",
       "     'question': 'Which end of the Saxon Garden is the Tom of the Unknown Soldier located at?',\n",
       "     'id': '57336755d058e614000b5a3e'},\n",
       "    {'answers': [{'answer_start': 728, 'text': 'Łazienki'},\n",
       "      {'answer_start': 728, 'text': 'Łazienki Park'},\n",
       "      {'answer_start': 728, 'text': 'Łazienki Park'}],\n",
       "     'question': 'What park covers an area of 76 ha.?',\n",
       "     'id': '57336755d058e614000b5a40'}]},\n",
       "  {'context': \"There are 13 natural reserves in Warsaw – among others, Bielany Forest, Kabaty Woods, Czerniaków Lake. About 15 kilometres (9 miles) from Warsaw, the Vistula river's environment changes strikingly and features a perfectly preserved ecosystem, with a habitat of animals that includes the otter, beaver and hundreds of bird species. There are also several lakes in Warsaw – mainly the oxbow lakes, like Czerniaków Lake, the lakes in the Łazienki or Wilanów Parks, Kamionek Lake. There are lot of small lakes in the parks, but only a few are permanent – the majority are emptied before winter to clean them of plants and sediments.\",\n",
       "   'qas': [{'answers': [{'answer_start': 109, 'text': '15 kilometres'},\n",
       "      {'answer_start': 109, 'text': '15 kilometres'},\n",
       "      {'answer_start': 103, 'text': 'About 15 kilometres'}],\n",
       "     'question': \"How far from Warsaw does the Vistula river's environment change noticeably? \",\n",
       "     'id': '57337ddc4776f41900660bbb'},\n",
       "    {'answers': [{'answer_start': 287,\n",
       "       'text': 'otter, beaver and hundreds of bird species'},\n",
       "      {'answer_start': 287,\n",
       "       'text': 'otter, beaver and hundreds of bird species'},\n",
       "      {'answer_start': 287,\n",
       "       'text': 'otter, beaver and hundreds of bird species.'}],\n",
       "     'question': \"What animals does the Vistula river's ecosystem include?\",\n",
       "     'id': '57337ddc4776f41900660bbc'},\n",
       "    {'answers': [{'answer_start': 10, 'text': '13'},\n",
       "      {'answer_start': 10, 'text': '13'},\n",
       "      {'answer_start': 10, 'text': '13'}],\n",
       "     'question': 'How many natural reserves are in Warsaw?',\n",
       "     'id': '57337ddc4776f41900660bba'},\n",
       "    {'answers': [{'answer_start': 346, 'text': 'several'},\n",
       "      {'answer_start': 346, 'text': 'several'},\n",
       "      {'answer_start': 346, 'text': 'several'}],\n",
       "     'question': 'How many lakes are there in Warsaw?',\n",
       "     'id': '57337ddc4776f41900660bbd'},\n",
       "    {'answers': [{'answer_start': 590, 'text': 'to clean them'},\n",
       "      {'answer_start': 593, 'text': 'clean them'},\n",
       "      {'answer_start': 590, 'text': 'to clean them of plants and sediments'}],\n",
       "     'question': 'Why are the small lakes in the parks emptied before winter?',\n",
       "     'id': '57337ddc4776f41900660bbe'}]},\n",
       "  {'context': \"Demographically, it was the most diverse city in Poland, with significant numbers of foreign-born inhabitants. In addition to the Polish majority, there was a significant Jewish minority in Warsaw. According to Russian census of 1897, out of the total population of 638,000, Jews constituted 219,000 (around 34% percent). Warsaw's prewar Jewish population of more than 350,000 constituted about 30 percent of the city's total population. In 1933, out of 1,178,914 inhabitants 833,500 were of Polish mother tongue. World War II changed the demographics of the city, and to this day there is much less ethnic diversity than in the previous 300 years of Warsaw's history. Most of the modern day population growth is based on internal migration and urbanisation.\",\n",
       "   'qas': [{'answers': [{'answer_start': 41, 'text': 'city'},\n",
       "      {'answer_start': 0, 'text': 'Demographically'},\n",
       "      {'answer_start': 41, 'text': 'city'}],\n",
       "     'question': 'What was Warsaw the most diverse of in Poland?',\n",
       "     'id': '57337ea24776f41900660bd0'},\n",
       "    {'answers': [{'answer_start': 476, 'text': '833,500'},\n",
       "      {'answer_start': 476, 'text': '833,500'},\n",
       "      {'answer_start': 476, 'text': '833,500'}],\n",
       "     'question': \"How many of Warsaw's inhabitants spoke Polish in 1933?\",\n",
       "     'id': '57337ea24776f41900660bd3'},\n",
       "    {'answers': [{'answer_start': 301, 'text': 'around 34%'},\n",
       "      {'answer_start': 308, 'text': '34'},\n",
       "      {'answer_start': 308, 'text': '34%'}],\n",
       "     'question': 'What percentage of the population of Warsaw was Jewish in 1897?',\n",
       "     'id': '57337ea24776f41900660bd2'},\n",
       "    {'answers': [{'answer_start': 171, 'text': 'Jewish'},\n",
       "      {'answer_start': 171, 'text': 'Jewish'},\n",
       "      {'answer_start': 171, 'text': 'Jewish'}],\n",
       "     'question': 'What was there a significant minority of in Warsaw?',\n",
       "     'id': '57337ea24776f41900660bd1'},\n",
       "    {'answers': [{'answer_start': 731, 'text': 'migration and urbanisation'},\n",
       "      {'answer_start': 722, 'text': 'internal migration and urbanisation'},\n",
       "      {'answer_start': 722, 'text': 'internal migration and urbanisation.'}],\n",
       "     'question': \"What is most of Warsaw's modern growth based on?\",\n",
       "     'id': '57337ea24776f41900660bd4'}]},\n",
       "  {'context': 'The University of Warsaw was established in 1816, when the partitions of Poland separated Warsaw from the oldest and most influential Polish academic center, in Kraków. Warsaw University of Technology is the second academic school of technology in the country, and one of the largest in East-Central Europe, employing 2,000 professors. Other institutions for higher education include the Medical University of Warsaw, the largest medical school in Poland and one of the most prestigious, the National Defence University, highest military academic institution in Poland, the Fryderyk Chopin University of Music the oldest and largest music school in Poland, and one of the largest in Europe, the Warsaw School of Economics, the oldest and most renowned economic university in the country, and the Warsaw University of Life Sciences the largest agricultural university founded in 1818.',\n",
       "   'qas': [{'answers': [{'answer_start': 169,\n",
       "       'text': 'Warsaw University of Technology'},\n",
       "      {'answer_start': 169, 'text': 'Warsaw University of Technology'},\n",
       "      {'answer_start': 169, 'text': 'Warsaw University of Technology'}],\n",
       "     'question': 'What is the second academic school of technology in Poland?',\n",
       "     'id': '57339555d058e614000b5df4'},\n",
       "    {'answers': [{'answer_start': 318, 'text': '2,000'},\n",
       "      {'answer_start': 318, 'text': '2,000'},\n",
       "      {'answer_start': 318, 'text': '2,000'}],\n",
       "     'question': 'How many professors does the Warsaw University of Technology employ?',\n",
       "     'id': '57339555d058e614000b5df5'},\n",
       "    {'answers': [{'answer_start': 388, 'text': 'Medical University of Warsaw'},\n",
       "      {'answer_start': 492, 'text': 'National Defence University'},\n",
       "      {'answer_start': 388, 'text': 'Medical University of Warsaw'}],\n",
       "     'question': 'What is the largest medical school in Poland?',\n",
       "     'id': '57339555d058e614000b5df6'},\n",
       "    {'answers': [{'answer_start': 44, 'text': '1816'},\n",
       "      {'answer_start': 44, 'text': '1816'},\n",
       "      {'answer_start': 44, 'text': '1816'}],\n",
       "     'question': 'What year was the University of Warsaw established?',\n",
       "     'id': '57339555d058e614000b5df3'},\n",
       "    {'answers': [{'answer_start': 574,\n",
       "       'text': 'Fryderyk Chopin University of Music'},\n",
       "      {'answer_start': 574, 'text': 'Fryderyk Chopin University of Music'},\n",
       "      {'answer_start': 574, 'text': 'Fryderyk Chopin University of Music'}],\n",
       "     'question': 'What is one of the largest music schools in Europe?',\n",
       "     'id': '57339555d058e614000b5df7'}]},\n",
       "  {'context': 'Another important library – the University Library, founded in 1816, is home to over two million items. The building was designed by architects Marek Budzyński and Zbigniew Badowski and opened on 15 December 1999. It is surrounded by green. The University Library garden, designed by Irena Bajerska, was opened on 12 June 2002. It is one of the largest and most beautiful roof gardens in Europe with an area of more than 10,000 m2 (107,639.10 sq ft), and plants covering 5,111 m2 (55,014.35 sq ft). As the university garden it is open to the public every day.',\n",
       "   'qas': [{'answers': [{'answer_start': 63, 'text': '1816'},\n",
       "      {'answer_start': 63, 'text': '1816'},\n",
       "      {'answer_start': 63, 'text': '1816'}],\n",
       "     'question': 'When was the University Library founded?',\n",
       "     'id': '57339902d058e614000b5e70'},\n",
       "    {'answers': [{'answer_start': 80, 'text': 'over two million'},\n",
       "      {'answer_start': 80, 'text': 'over two million'},\n",
       "      {'answer_start': 80, 'text': 'over two million'}],\n",
       "     'question': 'How many items is the University Library home to?',\n",
       "     'id': '57339902d058e614000b5e71'},\n",
       "    {'answers': [{'answer_start': 133, 'text': 'architects'},\n",
       "      {'answer_start': 133, 'text': 'architects'},\n",
       "      {'answer_start': 133, 'text': 'architects'}],\n",
       "     'question': 'What profession does Zbigniew Badowski have?',\n",
       "     'id': '57339902d058e614000b5e72'},\n",
       "    {'answers': [{'answer_start': 284, 'text': 'Irena Bajerska'},\n",
       "      {'answer_start': 284, 'text': 'Irena Bajerska'},\n",
       "      {'answer_start': 284, 'text': 'Irena Bajerska'}],\n",
       "     'question': 'Who designed the garden for the University Library?',\n",
       "     'id': '57339902d058e614000b5e73'},\n",
       "    {'answers': [{'answer_start': 421, 'text': '10,000 m2'},\n",
       "      {'answer_start': 411, 'text': 'more than 10,000 m2'},\n",
       "      {'answer_start': 421, 'text': '10,000 m2'}],\n",
       "     'question': 'How much area does the University Library garden cover?',\n",
       "     'id': '57339902d058e614000b5e74'}]},\n",
       "  {'context': \"Like many cities in Central and Eastern Europe, infrastructure in Warsaw suffered considerably during its time as an Eastern Bloc economy – though it is worth mentioning that the initial Three-Year Plan to rebuild Poland (especially Warsaw) was a major success, but what followed was very much the opposite. However, over the past decade Warsaw has seen many improvements due to solid economic growth, an increase in foreign investment as well as funding from the European Union. In particular, the city's metro, roads, sidewalks, health care facilities and sanitation facilities have improved markedly.\",\n",
       "   'qas': [{'answers': [{'answer_start': 48, 'text': 'infrastructure'},\n",
       "      {'answer_start': 48, 'text': 'infrastructure'},\n",
       "      {'answer_start': 48, 'text': 'infrastructure'}],\n",
       "     'question': 'What suffered considerably for Warsaw when it had an Eastern Bloc economy?',\n",
       "     'id': '573399b54776f41900660e64'},\n",
       "    {'answers': [{'answer_start': 187, 'text': 'Three-Year Plan'},\n",
       "      {'answer_start': 187, 'text': 'Three-Year Plan'},\n",
       "      {'answer_start': 187, 'text': 'Three-Year Plan'}],\n",
       "     'question': 'What was a major success, especially in rebuilding Warsaw?',\n",
       "     'id': '573399b54776f41900660e65'},\n",
       "    {'answers': [{'answer_start': 379, 'text': 'solid economic growth'},\n",
       "      {'answer_start': 379, 'text': 'solid economic growth'},\n",
       "      {'answer_start': 385, 'text': 'economic growth'}],\n",
       "     'question': 'Why has Warsaw seen many improvements over the past decade?',\n",
       "     'id': '573399b54776f41900660e66'},\n",
       "    {'answers': [{'answer_start': 585, 'text': 'improved markedly'},\n",
       "      {'answer_start': 585, 'text': 'improved markedly'},\n",
       "      {'answer_start': 585, 'text': 'improved markedly'}],\n",
       "     'question': \"Warsaw's sidewalks and sanitation facilities are some examples of things which have what?\",\n",
       "     'id': '573399b54776f41900660e67'}]},\n",
       "  {'context': \"Today, Warsaw has some of the best medical facilities in Poland and East-Central Europe. The city is home to the Children's Memorial Health Institute (CMHI), the highest-reference hospital in all of Poland, as well as an active research and education center. While the Maria Skłodowska-Curie Institute of Oncology it is one of the largest and most modern oncological institutions in Europe. The clinical section is located in a 10-floor building with 700 beds, 10 operating theatres, an intensive care unit, several diagnostic departments as well as an outpatient clinic. The infrastructure has developed a lot over the past years.\",\n",
       "   'qas': [{'answers': [{'answer_start': 7, 'text': 'Warsaw'},\n",
       "      {'answer_start': 7, 'text': 'Warsaw'},\n",
       "      {'answer_start': 7, 'text': 'Warsaw'}],\n",
       "     'question': 'Where are some of the best medical facilities in East-Central Europe located?',\n",
       "     'id': '57339a554776f41900660e74'},\n",
       "    {'answers': [{'answer_start': 113,\n",
       "       'text': \"Children's Memorial Health Institute\"},\n",
       "      {'answer_start': 113, 'text': \"Children's Memorial Health Institute\"},\n",
       "      {'answer_start': 113, 'text': \"Children's Memorial Health Institute\"}],\n",
       "     'question': 'What is the highest reference hospital in all of Poland?',\n",
       "     'id': '57339a554776f41900660e75'},\n",
       "    {'answers': [{'answer_start': 269,\n",
       "       'text': 'Maria Skłodowska-Curie Institute of Oncology'},\n",
       "      {'answer_start': 269,\n",
       "       'text': 'Maria Skłodowska-Curie Institute of Oncology'},\n",
       "      {'answer_start': 269,\n",
       "       'text': 'Maria Skłodowska-Curie Institute of Oncology'}],\n",
       "     'question': 'What is one of the largest and most modern oncological institutions in Europe?',\n",
       "     'id': '57339a554776f41900660e76'},\n",
       "    {'answers': [{'answer_start': 451, 'text': '700'},\n",
       "      {'answer_start': 451, 'text': '700'},\n",
       "      {'answer_start': 451, 'text': '700'}],\n",
       "     'question': 'How many beds does the Maria Sklodowska-Curie Institute of Oncology have?',\n",
       "     'id': '57339a554776f41900660e77'},\n",
       "    {'answers': [{'answer_start': 595, 'text': 'developed'},\n",
       "      {'answer_start': 595, 'text': 'developed'},\n",
       "      {'answer_start': 595, 'text': 'developed'}],\n",
       "     'question': 'What has the infrastructure done a lot of over the past years?',\n",
       "     'id': '57339a554776f41900660e78'}]},\n",
       "  {'context': 'Thanks to numerous musical venues, including the Teatr Wielki, the Polish National Opera, the Chamber Opera, the National Philharmonic Hall and the National Theatre, as well as the Roma and Buffo music theatres and the Congress Hall in the Palace of Culture and Science, Warsaw hosts many events and festivals. Among the events worth particular attention are: the International Frédéric Chopin Piano Competition, the International Contemporary Music Festival Warsaw Autumn, the Jazz Jamboree, Warsaw Summer Jazz Days, the International Stanisław Moniuszko Vocal Competition, the Mozart Festival, and the Festival of Old Music.',\n",
       "   'qas': [{'answers': [{'answer_start': 19, 'text': 'musical'},\n",
       "      {'answer_start': 19, 'text': 'musical'},\n",
       "      {'answer_start': 19, 'text': 'musical'}],\n",
       "     'question': 'What type of venue is the Teatr Wielki?',\n",
       "     'id': '57339ad74776f41900660e86'},\n",
       "    {'answers': [{'answer_start': 289, 'text': 'events and festivals'},\n",
       "      {'answer_start': 289, 'text': 'events and festivals'},\n",
       "      {'answer_start': 289, 'text': 'events and festivals'}],\n",
       "     'question': 'What does Warsaw host many of?',\n",
       "     'id': '57339ad74776f41900660e87'},\n",
       "    {'answers': [{'answer_start': 233,\n",
       "       'text': 'in the Palace of Culture and Science'},\n",
       "      {'answer_start': 240, 'text': 'Palace of Culture and Science'},\n",
       "      {'answer_start': 240, 'text': 'Palace of Culture and Science'}],\n",
       "     'question': 'Where is the Congress Hall located?',\n",
       "     'id': '57339ad74776f41900660e88'},\n",
       "    {'answers': [{'answer_start': 271, 'text': 'Warsaw'},\n",
       "      {'answer_start': 271, 'text': 'Warsaw'},\n",
       "      {'answer_start': 271, 'text': 'Warsaw'}],\n",
       "     'question': 'Where is the Jazz Jamboree hosted?',\n",
       "     'id': '57339ad74776f41900660e89'},\n",
       "    {'answers': [{'answer_start': 300, 'text': 'festivals'},\n",
       "      {'answer_start': 321, 'text': 'events'}],\n",
       "     'question': 'Warsaw Summer Jazz Days is one of the many what hosted by Warsaw?',\n",
       "     'id': '57339ad74776f41900660e8a'}]},\n",
       "  {'context': 'Nearby, in Ogród Saski (the Saxon Garden), the Summer Theatre was in operation from 1870 to 1939, and in the inter-war period, the theatre complex also included Momus, Warsaw\\'s first literary cabaret, and Leon Schiller\\'s musical theatre Melodram. The Wojciech Bogusławski Theatre (1922–26), was the best example of \"Polish monumental theatre\". From the mid-1930s, the Great Theatre building housed the Upati Institute of Dramatic Arts – the first state-run academy of dramatic art, with an acting department and a stage directing department.',\n",
       "   'qas': [{'answers': [{'answer_start': 11, 'text': 'Ogród Saski'},\n",
       "      {'answer_start': 11, 'text': 'Ogród Saski'},\n",
       "      {'answer_start': 11, 'text': 'Ogród Saski'}],\n",
       "     'question': 'What is the Saxon Garden in Polish?',\n",
       "     'id': '57339c16d058e614000b5ec5'},\n",
       "    {'answers': [{'answer_start': 28, 'text': 'Saxon Garden'},\n",
       "      {'answer_start': 24, 'text': 'the Saxon Garden'},\n",
       "      {'answer_start': 28, 'text': 'Saxon Garden'}],\n",
       "     'question': 'Where was the Summer Theatre located?',\n",
       "     'id': '57339c16d058e614000b5ec6'},\n",
       "    {'answers': [{'answer_start': 84, 'text': '1870 to 1939'},\n",
       "      {'answer_start': 84, 'text': '1870 to 1939'},\n",
       "      {'answer_start': 84, 'text': '1870 to 1939'}],\n",
       "     'question': 'How long was the Summer Theatre in operation?',\n",
       "     'id': '57339c16d058e614000b5ec7'},\n",
       "    {'answers': [{'answer_start': 161, 'text': 'Momus'},\n",
       "      {'answer_start': 161, 'text': 'Momus'},\n",
       "      {'answer_start': 161, 'text': 'Momus'}],\n",
       "     'question': \"What was Warsaw's first literary cabaret?\",\n",
       "     'id': '57339c16d058e614000b5ec8'},\n",
       "    {'answers': [{'answer_start': 251, 'text': 'Wojciech Bogusławski Theatre'},\n",
       "      {'answer_start': 251, 'text': 'Wojciech Bogusławski Theatre'},\n",
       "      {'answer_start': 251, 'text': 'Wojciech Bogusławski Theatre'}],\n",
       "     'question': 'What theatre was the best example of \"Polish monumental theatre\"?',\n",
       "     'id': '57339c16d058e614000b5ec9'}]},\n",
       "  {'context': \"Several commemorative events take place every year. Gatherings of thousands of people on the banks of the Vistula on Midsummer’s Night for a festival called Wianki (Polish for Wreaths) have become a tradition and a yearly event in the programme of cultural events in Warsaw. The festival traces its roots to a peaceful pagan ritual where maidens would float their wreaths of herbs on the water to predict when they would be married, and to whom. By the 19th century this tradition had become a festive event, and it continues today. The city council organize concerts and other events. Each Midsummer’s Eve, apart from the official floating of wreaths, jumping over fires, looking for the fern flower, there are musical performances, dignitaries' speeches, fairs and fireworks by the river bank.\",\n",
       "   'qas': [{'answers': [{'answer_start': 157, 'text': 'Wianki'},\n",
       "      {'answer_start': 157, 'text': 'Wianki'},\n",
       "      {'answer_start': 157, 'text': 'Wianki'}],\n",
       "     'question': 'What is the polish word for wreaths?',\n",
       "     'id': '57339dd94776f41900660ecc'},\n",
       "    {'answers': [{'answer_start': 66, 'text': 'thousands'},\n",
       "      {'answer_start': 66, 'text': 'thousands'},\n",
       "      {'answer_start': 66, 'text': 'thousands'}],\n",
       "     'question': 'How man people gather along the banks of the Vistula for the Wianki festival?',\n",
       "     'id': '57339dd94776f41900660ecd'},\n",
       "    {'answers': [{'answer_start': 117, 'text': 'Midsummer’s Night'},\n",
       "      {'answer_start': 117, 'text': 'Midsummer’s Night'},\n",
       "      {'answer_start': 117, 'text': 'Midsummer’s Night'}],\n",
       "     'question': 'When is the Wianki festival held?',\n",
       "     'id': '57339dd94776f41900660ece'},\n",
       "    {'answers': [{'answer_start': 405, 'text': 'when they would be married'},\n",
       "      {'answer_start': 405, 'text': 'when they would be married, and to whom'},\n",
       "      {'answer_start': 405, 'text': 'when they would be married,'}],\n",
       "     'question': 'What will maidens be able to predict by floating their wreaths down the Vistula?',\n",
       "     'id': '57339dd94776f41900660ecf'},\n",
       "    {'answers': [{'answer_start': 685, 'text': 'the fern'},\n",
       "      {'answer_start': 689, 'text': 'fern'},\n",
       "      {'answer_start': 689, 'text': 'fern'}],\n",
       "     'question': \"What type of flower is sought on Midsummer's Eve?\",\n",
       "     'id': '57339dd94776f41900660ed0'}]},\n",
       "  {'context': \"As interesting examples of expositions the most notable are: the world's first Museum of Posters boasting one of the largest collections of art posters in the world, Museum of Hunting and Riding and the Railway Museum. From among Warsaw's 60 museums, the most prestigious ones are National Museum with a collection of works whose origin ranges in time from antiquity till the present epoch as well as one of the best collections of paintings in the country including some paintings from Adolf Hitler's private collection, and Museum of the Polish Army whose set portrays the history of arms.\",\n",
       "   'qas': [{'answers': [{'answer_start': 140, 'text': 'art posters'},\n",
       "      {'answer_start': 140, 'text': 'art posters'},\n",
       "      {'answer_start': 140, 'text': 'art posters'}],\n",
       "     'question': \"What does the world's first Museum of Posters have one of the largest collections of in the world?\",\n",
       "     'id': '57339eb9d058e614000b5ef6'},\n",
       "    {'answers': [{'answer_start': 239, 'text': '60'},\n",
       "      {'answer_start': 239, 'text': '60'},\n",
       "      {'answer_start': 239, 'text': '60'}],\n",
       "     'question': 'How many museums are in Warsaw?',\n",
       "     'id': '57339eb9d058e614000b5ef7'},\n",
       "    {'answers': [{'answer_start': 260, 'text': 'prestigious'},\n",
       "      {'answer_start': 260, 'text': 'prestigious'},\n",
       "      {'answer_start': 260, 'text': 'prestigious'}],\n",
       "     'question': \"Warsaw's National Museum is one of the most what?\",\n",
       "     'id': '57339eb9d058e614000b5ef8'},\n",
       "    {'answers': [{'answer_start': 467, 'text': 'some paintings'},\n",
       "      {'answer_start': 472, 'text': 'paintings'},\n",
       "      {'answer_start': 472, 'text': 'paintings'}],\n",
       "     'question': \"What does the National Museum boast having from Adolf Hitler's private collection?\",\n",
       "     'id': '57339eb9d058e614000b5ef9'},\n",
       "    {'answers': [{'answer_start': 586, 'text': 'arms'},\n",
       "      {'answer_start': 575, 'text': 'history of arms'},\n",
       "      {'answer_start': 586, 'text': 'arms'}],\n",
       "     'question': 'What does the Museum of the Polish Army portray the history of?',\n",
       "     'id': '57339eb9d058e614000b5efa'}]},\n",
       "  {'context': \"A fine tribute to the fall of Warsaw and history of Poland can be found in the Warsaw Uprising Museum and in the Katyń Museum which preserves the memory of the crime. The Warsaw Uprising Museum also operates a rare preserved and operating historic stereoscopic theatre, the Warsaw Fotoplastikon. The Museum of Independence preserves patriotic and political objects connected with Poland's struggles for independence. Dating back to 1936 Warsaw Historical Museum contains 60 rooms which host a permanent exhibition of the history of Warsaw from its origins until today.\",\n",
       "   'qas': [{'answers': [{'answer_start': 79, 'text': 'Warsaw Uprising Museum'},\n",
       "      {'answer_start': 79, 'text': 'Warsaw Uprising Museum'},\n",
       "      {'answer_start': 79, 'text': 'Warsaw Uprising Museum'}],\n",
       "     'question': 'Where can a tribute to the fall of Warsaw be found?',\n",
       "     'id': '5733a1854776f41900660f0a'},\n",
       "    {'answers': [{'answer_start': 113, 'text': 'Katyń'},\n",
       "      {'answer_start': 113, 'text': 'Katyń Museum'},\n",
       "      {'answer_start': 113, 'text': 'Katyń Museum'}],\n",
       "     'question': 'What museum preserves the memory of the crime?',\n",
       "     'id': '5733a1854776f41900660f0b'},\n",
       "    {'answers': [{'answer_start': 248, 'text': 'stereoscopic'},\n",
       "      {'answer_start': 248, 'text': 'stereoscopic theatre'},\n",
       "      {'answer_start': 248, 'text': 'stereoscopic'}],\n",
       "     'question': 'What type of theatre is the Warsaw Fotoplastikon?',\n",
       "     'id': '5733a1854776f41900660f0c'},\n",
       "    {'answers': [{'answer_start': 300, 'text': 'Museum of Independence'},\n",
       "      {'answer_start': 300, 'text': 'Museum of Independence'},\n",
       "      {'answer_start': 300, 'text': 'Museum of Independence'}],\n",
       "     'question': \"Where in Warsaw are patriotic and political objects connected with Poland's struggles for Independence found?\",\n",
       "     'id': '5733a1854776f41900660f0d'},\n",
       "    {'answers': [{'answer_start': 471, 'text': '60'},\n",
       "      {'answer_start': 471, 'text': '60'},\n",
       "      {'answer_start': 471, 'text': '60'}],\n",
       "     'question': 'How many rooms does the Warsaw Historical Museum have?',\n",
       "     'id': '5733a1854776f41900660f0e'}]},\n",
       "  {'context': 'The 17th century Royal Ujazdów Castle currently houses Centre for Contemporary Art, with some permanent and temporary exhibitions, concerts, shows and creative workshops. The Centre currently realizes about 500 projects a year. Zachęta National Gallery of Art, the oldest exhibition site in Warsaw, with a tradition stretching back to the mid-19th century organises exhibitions of modern art by Polish and international artists and promotes art in many other ways. Since 2011 Warsaw Gallery Weekend is held on last weekend of September.',\n",
       "   'qas': [{'answers': [{'answer_start': 17, 'text': 'Royal Ujazdów Castle'},\n",
       "      {'answer_start': 17, 'text': 'Royal Ujazdów Castle'},\n",
       "      {'answer_start': 17, 'text': 'Royal Ujazdów'}],\n",
       "     'question': 'What castle currently houses the Centre for Contemporary Art?',\n",
       "     'id': '5733a2a9d058e614000b5f28'},\n",
       "    {'answers': [{'answer_start': 201, 'text': 'about 500'},\n",
       "      {'answer_start': 207, 'text': '500'},\n",
       "      {'answer_start': 201, 'text': 'about 500'}],\n",
       "     'question': 'How many projects does the Centre currently realize a year?',\n",
       "     'id': '5733a2a9d058e614000b5f29'},\n",
       "    {'answers': [{'answer_start': 228,\n",
       "       'text': 'Zachęta National Gallery of Art'},\n",
       "      {'answer_start': 228, 'text': 'Zachęta National Gallery of Art'},\n",
       "      {'answer_start': 228, 'text': 'Zachęta National Gallery of Art'}],\n",
       "     'question': 'What is the oldest exhibition site in Warsaw?',\n",
       "     'id': '5733a2a9d058e614000b5f2a'},\n",
       "    {'answers': [{'answer_start': 395,\n",
       "       'text': 'Polish and international artists'},\n",
       "      {'answer_start': 381,\n",
       "       'text': 'modern art by Polish and international artists'},\n",
       "      {'answer_start': 395, 'text': 'Polish and international artists a'}],\n",
       "     'question': 'What does the Zachęta National Gallery of Art organize exhibitions of art from?',\n",
       "     'id': '5733a2a9d058e614000b5f2b'},\n",
       "    {'answers': [{'answer_start': 510, 'text': 'last weekend of September'},\n",
       "      {'answer_start': 510, 'text': 'last weekend of September'},\n",
       "      {'answer_start': 510, 'text': 'last weekend of September'}],\n",
       "     'question': 'When is the Warsaw Gallery Weekend held?',\n",
       "     'id': '5733a2a9d058e614000b5f2c'}]},\n",
       "  {'context': \"Their local rivals, Polonia Warsaw, have significantly fewer supporters, yet they managed to win Ekstraklasa Championship in 2000. They also won the country’s championship in 1946, and won the cup twice as well. Polonia's home venue is located at Konwiktorska Street, a ten-minute walk north from the Old Town. Polonia was relegated from the country's top flight in 2013 because of their disastrous financial situation. They are now playing in the 4th league (5th tier in Poland) -the bottom professional league in the National – Polish Football Association (PZPN) structure.\",\n",
       "   'qas': [{'answers': [{'answer_start': 20, 'text': 'Polonia Warsaw'},\n",
       "      {'answer_start': 20, 'text': 'Polonia Warsaw'},\n",
       "      {'answer_start': 20, 'text': 'Polonia Warsaw'}],\n",
       "     'question': 'Who won the Ekstraklasa Championship in 2000?',\n",
       "     'id': '5733a32bd058e614000b5f32'},\n",
       "    {'answers': [{'answer_start': 175, 'text': '1946'},\n",
       "      {'answer_start': 175, 'text': '1946'},\n",
       "      {'answer_start': 175, 'text': '1946'}],\n",
       "     'question': \"When did Polonia Warsaw win the country's championship prior to 2000?\",\n",
       "     'id': '5733a32bd058e614000b5f33'},\n",
       "    {'answers': [{'answer_start': 197, 'text': 'twice'},\n",
       "      {'answer_start': 197, 'text': 'twice'},\n",
       "      {'answer_start': 197, 'text': 'twice'}],\n",
       "     'question': 'How many times has Polonia won the cup?',\n",
       "     'id': '5733a32bd058e614000b5f34'},\n",
       "    {'answers': [{'answer_start': 244, 'text': 'at Konwiktorska Street'},\n",
       "      {'answer_start': 247, 'text': 'Konwiktorska Street'},\n",
       "      {'answer_start': 247, 'text': 'Konwiktorska Street'}],\n",
       "     'question': \"Where is Polonia's home venue located?\",\n",
       "     'id': '5733a32bd058e614000b5f35'},\n",
       "    {'answers': [{'answer_start': 388,\n",
       "       'text': 'disastrous financial situation'},\n",
       "      {'answer_start': 382, 'text': 'their disastrous financial situation'},\n",
       "      {'answer_start': 388, 'text': 'disastrous financial situation.'}],\n",
       "     'question': \"Why was Polonia relegated from the country's top flight in 2013?\",\n",
       "     'id': '5733a32bd058e614000b5f36'}]},\n",
       "  {'context': \"The mermaid (syrenka) is Warsaw's symbol and can be found on statues throughout the city and on the city's coat of arms. This imagery has been in use since at least the mid-14th century. The oldest existing armed seal of Warsaw is from the year 1390, consisting of a round seal bordered with the Latin inscription Sigilium Civitatis Varsoviensis (Seal of the city of Warsaw). City records as far back as 1609 document the use of a crude form of a sea monster with a female upper body and holding a sword in its claws. In 1653 the poet Zygmunt Laukowski asks the question:\",\n",
       "   'qas': [{'answers': [{'answer_start': 13, 'text': 'syrenka'},\n",
       "      {'answer_start': 13, 'text': 'syrenka'},\n",
       "      {'answer_start': 13, 'text': 'syrenka'}],\n",
       "     'question': 'What is polish for \"mermaid\"?',\n",
       "     'id': '5733a45d4776f41900660f23'},\n",
       "    {'answers': [{'answer_start': 0, 'text': 'The mermaid'},\n",
       "      {'answer_start': 4, 'text': 'mermaid'},\n",
       "      {'answer_start': 0, 'text': 'The mermaid'}],\n",
       "     'question': \"What is Warsaw's symbol?\",\n",
       "     'id': '5733a45d4776f41900660f24'},\n",
       "    {'answers': [{'answer_start': 150,\n",
       "       'text': 'since at least the mid-14th century'},\n",
       "      {'answer_start': 169, 'text': 'mid-14th century'},\n",
       "      {'answer_start': 156, 'text': 'at least the mid-14th century'}],\n",
       "     'question': 'How long has the imagery of the mermaid been used by Warsaw?',\n",
       "     'id': '5733a45d4776f41900660f25'},\n",
       "    {'answers': [{'answer_start': 245, 'text': '1390'},\n",
       "      {'answer_start': 245, 'text': '1390'},\n",
       "      {'answer_start': 245, 'text': '1390'}],\n",
       "     'question': 'When is the oldest armed seal of Warsaw from?',\n",
       "     'id': '5733a45d4776f41900660f26'},\n",
       "    {'answers': [{'answer_start': 496, 'text': 'a sword'},\n",
       "      {'answer_start': 498, 'text': 'sword'},\n",
       "      {'answer_start': 498, 'text': 'sword'}],\n",
       "     'question': 'What does the sea monster with a female upper body hold in its claws?',\n",
       "     'id': '5733a45d4776f41900660f27'}]},\n",
       "  {'context': \"The origin of the legendary figure is not fully known. The best-known legend, by Artur Oppman, is that long ago two of Triton's daughters set out on a journey through the depths of the oceans and seas. One of them decided to stay on the coast of Denmark and can be seen sitting at the entrance to the port of Copenhagen. The second mermaid reached the mouth of the Vistula River and plunged into its waters. She stopped to rest on a sandy beach by the village of Warszowa, where fishermen came to admire her beauty and listen to her beautiful voice. A greedy merchant also heard her songs; he followed the fishermen and captured the mermaid.\",\n",
       "   'qas': [{'answers': [{'answer_start': 70, 'text': 'legend'},\n",
       "      {'answer_start': 55, 'text': 'The best-known legend'},\n",
       "      {'answer_start': 70, 'text': 'legend'}],\n",
       "     'question': 'What did Artur Oppman give to the world?',\n",
       "     'id': '5733a560d058e614000b5f77'},\n",
       "    {'answers': [{'answer_start': 171,\n",
       "       'text': 'depths of the oceans and seas'},\n",
       "      {'answer_start': 171, 'text': 'depths of the oceans and seas'},\n",
       "      {'answer_start': 171, 'text': 'depths of the oceans and seas'}],\n",
       "     'question': \"Where did two of Triton's daughters set out on a journey through?\",\n",
       "     'id': '5733a560d058e614000b5f78'},\n",
       "    {'answers': [{'answer_start': 237, 'text': 'coast of Denmark'},\n",
       "      {'answer_start': 237, 'text': 'coast of Denmark'},\n",
       "      {'answer_start': 237, 'text': 'coast of Denmark'}],\n",
       "     'question': \"Where did one of Triton's daughters decide she wanted to hang out and stay?\",\n",
       "     'id': '5733a560d058e614000b5f79'},\n",
       "    {'answers': [{'answer_start': 463, 'text': 'Warszowa'},\n",
       "      {'answer_start': 452, 'text': 'village of Warszowa'},\n",
       "      {'answer_start': 463, 'text': 'Warszowa'}],\n",
       "     'question': 'A mermaid stopped to rest on the sandy beach by what village?',\n",
       "     'id': '5733a560d058e614000b5f7a'},\n",
       "    {'answers': [{'answer_start': 620, 'text': 'captured'},\n",
       "      {'answer_start': 620, 'text': 'captured the mermaid'},\n",
       "      {'answer_start': 620, 'text': 'captured'}],\n",
       "     'question': 'What did a greedy merchant do to the mermaid?',\n",
       "     'id': '5733a560d058e614000b5f7b'}]},\n",
       "  {'context': 'Tamara de Lempicka was a famous artist born in Warsaw. She was born Maria Górska in Warsaw to wealthy parents and in 1916 married a Polish lawyer Tadeusz Łempicki. Better than anyone else she represented the Art Deco style in painting and art. Nathan Alterman, the Israeli poet, was born in Warsaw, as was Moshe Vilenski, the Israeli composer, lyricist, and pianist, who studied music at the Warsaw Conservatory. Warsaw was the beloved city of Isaac Bashevis Singer, which he described in many of his novels: Warsaw has just now been destroyed. No one will ever see the Warsaw I knew. Let me just write about it. Let this Warsaw not disappear forever, he commented.',\n",
       "   'qas': [{'answers': [{'answer_start': 47, 'text': 'Warsaw'},\n",
       "      {'answer_start': 47, 'text': 'Warsaw'},\n",
       "      {'answer_start': 84, 'text': 'Warsaw'}],\n",
       "     'question': 'Where was the famous artist Tamara de Lempicka born?',\n",
       "     'id': '5733a6ac4776f41900660f58'},\n",
       "    {'answers': [{'answer_start': 117, 'text': '1916'},\n",
       "      {'answer_start': 117, 'text': '1916'},\n",
       "      {'answer_start': 117, 'text': '1916'}],\n",
       "     'question': 'When did Tamara marry a lawyer?',\n",
       "     'id': '5733a6ac4776f41900660f59'},\n",
       "    {'answers': [{'answer_start': 204, 'text': 'the Art Deco style'},\n",
       "      {'answer_start': 208, 'text': 'Art Deco style in painting and art'},\n",
       "      {'answer_start': 208, 'text': 'Art Deco style'}],\n",
       "     'question': 'What did Lempicka represent better than anyone else?',\n",
       "     'id': '5733a6ac4776f41900660f5a'},\n",
       "    {'answers': [{'answer_start': 273, 'text': 'poet'},\n",
       "      {'answer_start': 273, 'text': 'poet'},\n",
       "      {'answer_start': 273, 'text': 'poet'}],\n",
       "     'question': 'What profession was Nathan Alterman?',\n",
       "     'id': '5733a6ac4776f41900660f5b'},\n",
       "    {'answers': [{'answer_start': 444, 'text': 'Isaac Bashevis Singer'},\n",
       "      {'answer_start': 444, 'text': 'Isaac Bashevis Singer'},\n",
       "      {'answer_start': 444, 'text': 'Isaac Bashevis Singer'}],\n",
       "     'question': 'Who loved Warsaw so much that he kept putting it in his novels?',\n",
       "     'id': '5733a6ac4776f41900660f5c'}]},\n",
       "  {'context': 'In 2012 the Economist Intelligence Unit ranked Warsaw as the 32nd most liveable city in the world. It was also ranked as one of the most liveable cities in Central Europe. Today Warsaw is considered an \"Alpha–\" global city, a major international tourist destination and a significant cultural, political and economic hub. Warsaw\\'s economy, by a wide variety of industries, is characterised by FMCG manufacturing, metal processing, steel and electronic manufacturing and food processing. The city is a significant centre of research and development, BPO, ITO, as well as of the Polish media industry. The Warsaw Stock Exchange is one of the largest and most important in Central and Eastern Europe. Frontex, the European Union agency for external border security, has its headquarters in Warsaw. It has been said that Warsaw, together with Frankfurt, London, Paris and Barcelona is one of the cities with the highest number of skyscrapers in the European Union. Warsaw has also been called \"Eastern Europe’s chic cultural capital with thriving art and club scenes and serious restaurants\".',\n",
       "   'qas': [{'answers': [{'answer_start': 12,\n",
       "       'text': 'Economist Intelligence Unit'},\n",
       "      {'answer_start': 12, 'text': 'Economist Intelligence Unit'},\n",
       "      {'answer_start': 12, 'text': 'Economist Intelligence Unit'}],\n",
       "     'question': 'Who ranked Warsaw as the 32nd most liveable city in the world?',\n",
       "     'id': '573312fcd058e614000b56e6'},\n",
       "    {'answers': [{'answer_start': 3, 'text': '2012'},\n",
       "      {'answer_start': 3, 'text': '2012'},\n",
       "      {'answer_start': 3, 'text': '2012'}],\n",
       "     'question': 'When was Warsaw ranked as the 32nd most liveable city in the world?',\n",
       "     'id': '573312fcd058e614000b56e7'},\n",
       "    {'answers': [{'answer_start': 345, 'text': 'wide variety of industries'},\n",
       "      {'answer_start': 393,\n",
       "       'text': 'FMCG manufacturing, metal processing, steel and electronic manufacturing and food processing'},\n",
       "      {'answer_start': 393, 'text': 'FMCG manufacturing'}],\n",
       "     'question': \"What is Warsaw's economy characterized by?\",\n",
       "     'id': '573312fcd058e614000b56e8'},\n",
       "    {'answers': [{'answer_start': 611, 'text': 'Stock'},\n",
       "      {'answer_start': 604, 'text': 'Warsaw Stock Exchange'},\n",
       "      {'answer_start': 604, 'text': 'Warsaw Stock Exchange'}],\n",
       "     'question': 'What exchange in Warsaw is one of the most important for Central and Eastern Europe?',\n",
       "     'id': '573312fcd058e614000b56e9'},\n",
       "    {'answers': [{'answer_start': 698, 'text': 'Frontex'},\n",
       "      {'answer_start': 698, 'text': 'Frontex'},\n",
       "      {'answer_start': 698, 'text': 'Frontex'}],\n",
       "     'question': 'What is the name of the European Union agency for external border security?',\n",
       "     'id': '573312fcd058e614000b56ea'}]},\n",
       "  {'context': 'The first historical reference to Warsaw dates back to the year 1313, at a time when Kraków served as the Polish capital city. Due to its central location between the Polish–Lithuanian Commonwealth\\'s capitals of Kraków and Vilnius, Warsaw became the capital of the Commonwealth and of the Crown of the Kingdom of Poland when King Sigismund III Vasa moved his court from Kraków to Warsaw in 1596. After the Third Partition of Poland in 1795, Warsaw was incorporated into the Kingdom of Prussia. In 1806 during the Napoleonic Wars, the city became the official capital of the Grand Duchy of Warsaw, a puppet state of the First French Empire established by Napoleon Bonaparte. In accordance with the decisions of the Congress of Vienna, the Russian Empire annexed Warsaw in 1815 and it became part of the \"Congress Kingdom\". Only in 1918 did it regain independence from the foreign rule and emerge as a new capital of the independent Republic of Poland. The German invasion in 1939, the massacre of the Jewish population and deportations to concentration camps led to the uprising in the Warsaw ghetto in 1943 and to the major and devastating Warsaw Uprising between August and October 1944. Warsaw gained the title of the \"Phoenix City\" because it has survived many wars, conflicts and invasions throughout its long history. Most notably, the city required painstaking rebuilding after the extensive damage it suffered in World War II, which destroyed 85% of its buildings. On 9 November 1940, the city was awarded Poland\\'s highest military decoration for heroism, the Virtuti Militari, during the Siege of Warsaw (1939).',\n",
       "   'qas': [{'answers': [{'answer_start': 64, 'text': '1313'},\n",
       "      {'answer_start': 64, 'text': '1313'},\n",
       "      {'answer_start': 64, 'text': '1313'}],\n",
       "     'question': 'When is the first reference in history to Warsaw?',\n",
       "     'id': '5733140a4776f419006606e0'},\n",
       "    {'answers': [{'answer_start': 85, 'text': 'Kraków'},\n",
       "      {'answer_start': 85, 'text': 'Kraków'},\n",
       "      {'answer_start': 85, 'text': 'Kraków'}],\n",
       "     'question': \"What city served as Poland's capital in 1313?\",\n",
       "     'id': '5733140a4776f419006606e1'},\n",
       "    {'answers': [{'answer_start': 390, 'text': '1596'},\n",
       "      {'answer_start': 390, 'text': '1596'},\n",
       "      {'answer_start': 390, 'text': '1596'}],\n",
       "     'question': 'When did Warsaw become the capital of the Kingdom of Poland?',\n",
       "     'id': '5733140a4776f419006606e2'},\n",
       "    {'answers': [{'answer_start': 325, 'text': 'King Sigismund III Vasa'},\n",
       "      {'answer_start': 325, 'text': 'King Sigismund III Vasa'},\n",
       "      {'answer_start': 325, 'text': 'King Sigismund III Vasa'}],\n",
       "     'question': 'Who moved his court from Kraków to Warsaw in 1596?',\n",
       "     'id': '5733140a4776f419006606e3'},\n",
       "    {'answers': [{'answer_start': 1250,\n",
       "       'text': 'survived many wars, conflicts and invasions'},\n",
       "      {'answer_start': 1243,\n",
       "       'text': 'it has survived many wars, conflicts and invasions'},\n",
       "      {'answer_start': 1235,\n",
       "       'text': 'because it has survived many wars, conflicts and invasions throughout its long history'}],\n",
       "     'question': 'Why did Warsaw gain the title of the \"Phoenix City\"?',\n",
       "     'id': '5733140a4776f419006606e4'}]},\n",
       "  {'context': \"The city is the seat of a Roman Catholic archdiocese (left bank of the Vistula) and diocese (right bank), and possesses various universities, most notably the Polish Academy of Sciences and the University of Warsaw, two opera houses, theatres, museums, libraries and monuments. The historic city-centre of Warsaw with its picturesque Old Town in 1980 was listed as a UNESCO World Heritage Site. Other main architectural attractions include the Castle Square with the Royal Castle and the iconic King Sigismund's Column, St. John's Cathedral, Market Square, palaces, churches and mansions all displaying a richness of colour and architectural detail. Buildings represent examples of nearly every European architectural style and historical period. Warsaw provides many examples of architecture from the gothic, renaissance, baroque and neoclassical periods, and around a quarter of the city is filled with luxurious parks and royal gardens.\",\n",
       "   'qas': [{'answers': [{'answer_start': 26, 'text': 'Roman Catholic'},\n",
       "      {'answer_start': 26, 'text': 'Roman Catholic'},\n",
       "      {'answer_start': 26, 'text': 'Roman Catholic'}],\n",
       "     'question': 'What archdiocese is Warsaw the seat of?',\n",
       "     'id': '573314e3d058e614000b56f0'},\n",
       "    {'answers': [{'answer_start': 159, 'text': 'Polish Academy of Sciences'},\n",
       "      {'answer_start': 159, 'text': 'Polish Academy of Sciences'},\n",
       "      {'answer_start': 159, 'text': 'Polish Academy of Sciences'}],\n",
       "     'question': 'What is another notable university in Warsaw after the University of Warsaw?',\n",
       "     'id': '573314e3d058e614000b56f1'},\n",
       "    {'answers': [{'answer_start': 365, 'text': 'a UNESCO World Heritage Site'},\n",
       "      {'answer_start': 367, 'text': 'UNESCO World Heritage Site'},\n",
       "      {'answer_start': 367, 'text': 'UNESCO World Heritage Site'}],\n",
       "     'question': \"What was Warsaw's Old Town listed as in 1980?\",\n",
       "     'id': '573314e3d058e614000b56f2'},\n",
       "    {'answers': [{'answer_start': 406, 'text': 'architectural'},\n",
       "      {'answer_start': 406, 'text': 'architectural'},\n",
       "      {'answer_start': 406, 'text': 'architectural'}],\n",
       "     'question': \"King Sigimund's Column is an example of what kind of attraction in Warsaw?\",\n",
       "     'id': '573314e3d058e614000b56f3'},\n",
       "    {'answers': [{'answer_start': 905,\n",
       "       'text': 'luxurious parks and royal gardens'},\n",
       "      {'answer_start': 905, 'text': 'luxurious parks and royal gardens'},\n",
       "      {'answer_start': 905, 'text': 'luxurious parks and royal gardens'}],\n",
       "     'question': 'What is a quarter of Warsaw filled with?',\n",
       "     'id': '573314e3d058e614000b56f4'}]},\n",
       "  {'context': 'Warsaw\\'s name in the Polish language is Warszawa, approximately /vɑːrˈʃɑːvə/ (also formerly spelled Warszewa and Warszowa), meaning \"belonging to Warsz\", Warsz being a shortened form of the masculine name of Slavic origin Warcisław; see also etymology of Wrocław. Folk etymology attributes the city name to a fisherman, Wars, and his wife, Sawa. According to legend, Sawa was a mermaid living in the Vistula River with whom Wars fell in love. In actuality, Warsz was a 12th/13th-century nobleman who owned a village located at the modern-day site of Mariensztat neighbourhood. See also the Vršovci family which had escaped to Poland. The official city name in full is miasto stołeczne Warszawa (English: \"The Capital City of Warsaw\"). A native or resident of Warsaw is known as a Varsovian – in Polish warszawiak (male), warszawianka (female), warszawiacy (plural).',\n",
       "   'qas': [{'answers': [{'answer_start': 40, 'text': 'Warszawa'},\n",
       "      {'answer_start': 40, 'text': 'Warszawa'},\n",
       "      {'answer_start': 40, 'text': 'Warszawa'}],\n",
       "     'question': \"What is Warsaw's name in the Polish language?\",\n",
       "     'id': '57332442d058e614000b5720'},\n",
       "    {'answers': [{'answer_start': 133, 'text': 'belonging to Warsz'},\n",
       "      {'answer_start': 133, 'text': 'belonging to Warsz'},\n",
       "      {'answer_start': 133, 'text': 'belonging to Warsz'}],\n",
       "     'question': 'What does Warszawa mean in Polish?',\n",
       "     'id': '57332442d058e614000b5721'},\n",
       "    {'answers': [{'answer_start': 469, 'text': '12th/13th-century nobleman'},\n",
       "      {'answer_start': 168,\n",
       "       'text': 'shortened form of the masculine name of Slavic origin Warcisław'},\n",
       "      {'answer_start': 487, 'text': 'nobleman'}],\n",
       "     'question': 'Who was Warsz?',\n",
       "     'id': '57332442d058e614000b5722'},\n",
       "    {'answers': [{'answer_start': 506, 'text': 'a village'},\n",
       "      {'answer_start': 508, 'text': 'village'}],\n",
       "     'question': 'What did Warsz own?',\n",
       "     'id': '57332442d058e614000b5723'},\n",
       "    {'answers': [{'answer_start': 668, 'text': 'miasto stołeczne Warszawa'},\n",
       "      {'answer_start': 668, 'text': 'miasto stołeczne Warszawa'},\n",
       "      {'answer_start': 668, 'text': 'miasto stołeczne Warszawa'}],\n",
       "     'question': 'What is the full official city name of Warsaw?',\n",
       "     'id': '57332442d058e614000b5724'}]},\n",
       "  {'context': \"The first fortified settlements on the site of today's Warsaw were located in Bródno (9th/10th century) and Jazdów (12th/13th century). After Jazdów was raided by nearby clans and dukes, a new similar settlement was established on the site of a small fishing village called Warszowa. The Prince of Płock, Bolesław II of Masovia, established this settlement, the modern-day Warsaw, in about 1300. In the beginning of the 14th century it became one of the seats of the Dukes of Masovia, becoming the official capital of Masovian Duchy in 1413. 14th-century Warsaw's economy rested on mostly crafts and trade. Upon the extinction of the local ducal line, the duchy was reincorporated into the Polish Crown in 1526.\",\n",
       "   'qas': [{'answers': [{'answer_start': 142, 'text': 'Jazdów'},\n",
       "      {'answer_start': 142, 'text': 'Jazdów'},\n",
       "      {'answer_start': 142, 'text': 'Jazdów'}],\n",
       "     'question': 'What city, raided by clans and dukes, preceded the founding of Warszowa?',\n",
       "     'id': '57332562d058e614000b5730'},\n",
       "    {'answers': [{'answer_start': 284, 'text': 'The Prince of Płock'},\n",
       "      {'answer_start': 288, 'text': 'Prince of Płock'},\n",
       "      {'answer_start': 288, 'text': 'Prince of Płock'}],\n",
       "     'question': 'Who was Boleslaw II of Masovia?',\n",
       "     'id': '57332562d058e614000b5731'},\n",
       "    {'answers': [{'answer_start': 390, 'text': '1300'},\n",
       "      {'answer_start': 390, 'text': '1300'},\n",
       "      {'answer_start': 390, 'text': '1300'}],\n",
       "     'question': 'When was the settlement which would become Warsaw established?',\n",
       "     'id': '57332562d058e614000b5732'},\n",
       "    {'answers': [{'answer_start': 536, 'text': '1413'},\n",
       "      {'answer_start': 536, 'text': '1413'},\n",
       "      {'answer_start': 536, 'text': '1413'}],\n",
       "     'question': 'In what year did Warszowa become the official capital of the Masovian Duchy?',\n",
       "     'id': '57332562d058e614000b5733'},\n",
       "    {'answers': [{'answer_start': 706, 'text': '1526'},\n",
       "      {'answer_start': 706, 'text': '1526'},\n",
       "      {'answer_start': 706, 'text': '1526'}],\n",
       "     'question': 'When was the Masovian Duchy reincorporated into the Polish Crown?',\n",
       "     'id': '57332562d058e614000b5734'}]},\n",
       "  {'context': \"In 1529, Warsaw for the first time became the seat of the General Sejm, permanent from 1569. In 1573 the city gave its name to the Warsaw Confederation, formally establishing religious freedom in the Polish–Lithuanian Commonwealth. Due to its central location between the Commonwealth's capitals of Kraków and Vilnius, Warsaw became the capital of the Commonwealth and the Crown of the Kingdom of Poland when King Sigismund III Vasa moved his court from Kraków to Warsaw in 1596. In the following years the town expanded towards the suburbs. Several private independent districts were established, the property of aristocrats and the gentry, which were ruled by their own laws. Three times between 1655–1658 the city was under siege and three times it was taken and pillaged by the Swedish, Brandenburgian and Transylvanian forces.\",\n",
       "   'qas': [{'answers': [{'answer_start': 58, 'text': 'General Sejm'},\n",
       "      {'answer_start': 58, 'text': 'General Sejm'},\n",
       "      {'answer_start': 58, 'text': 'General Sejm'}],\n",
       "     'question': 'Who did Warsaw serve as the seat for in 1529?',\n",
       "     'id': '5733266d4776f41900660712'},\n",
       "    {'answers': [{'answer_start': 87, 'text': '1569'},\n",
       "      {'answer_start': 87, 'text': '1569'},\n",
       "      {'answer_start': 87, 'text': '1569'}],\n",
       "     'question': \"When did the General Sejm make Warsaw it's permanent seat?\",\n",
       "     'id': '5733266d4776f41900660713'},\n",
       "    {'answers': [{'answer_start': 175, 'text': 'religious freedom'},\n",
       "      {'answer_start': 175,\n",
       "       'text': 'religious freedom in the Polish–Lithuanian Commonwealth'},\n",
       "      {'answer_start': 175, 'text': 'religious freedom'}],\n",
       "     'question': 'What did the Warsaw Confederation formally establish in 1573?',\n",
       "     'id': '5733266d4776f41900660714'},\n",
       "    {'answers': [{'answer_start': 232, 'text': 'Due to its central location'},\n",
       "      {'answer_start': 239, 'text': 'its central location'},\n",
       "      {'answer_start': 243, 'text': 'central location'}],\n",
       "     'question': 'Why did Warsaw become the capital of the Commonwealth?',\n",
       "     'id': '5733266d4776f41900660715'},\n",
       "    {'answers': [{'answer_start': 474, 'text': '1596'},\n",
       "      {'answer_start': 474, 'text': '1596'},\n",
       "      {'answer_start': 474, 'text': '1596'}],\n",
       "     'question': 'What year did King Sigismund III Vasa move his court to Warsaw?',\n",
       "     'id': '5733266d4776f41900660716'}]},\n",
       "  {'context': \"Warsaw remained the capital of the Polish–Lithuanian Commonwealth until 1796, when it was annexed by the Kingdom of Prussia to become the capital of the province of South Prussia. Liberated by Napoleon's army in 1806, Warsaw was made the capital of the newly created Duchy of Warsaw. Following the Congress of Vienna of 1815, Warsaw became the centre of the Congress Poland, a constitutional monarchy under a personal union with Imperial Russia. The Royal University of Warsaw was established in 1816.\",\n",
       "   'qas': [{'answers': [{'answer_start': 66, 'text': 'until 1796'},\n",
       "      {'answer_start': 66, 'text': 'until 1796'}],\n",
       "     'question': 'How long was Warsaw the capital of the Polish-Lithuanian Commonwealth?',\n",
       "     'id': '57332a734776f41900660726'},\n",
       "    {'answers': [{'answer_start': 116, 'text': 'Prussia'},\n",
       "      {'answer_start': 105, 'text': 'Kingdom of Prussia'},\n",
       "      {'answer_start': 116, 'text': 'Prussia'}],\n",
       "     'question': 'What kingdom annexed Warsaw in 1796?',\n",
       "     'id': '57332a734776f41900660727'},\n",
       "    {'answers': [{'answer_start': 193, 'text': \"Napoleon's\"},\n",
       "      {'answer_start': 193, 'text': \"Napoleon's\"},\n",
       "      {'answer_start': 193, 'text': \"Napoleon's\"}],\n",
       "     'question': 'Whose army liberated Warsaw in 1806?',\n",
       "     'id': '57332a734776f41900660728'},\n",
       "    {'answers': [{'answer_start': 320, 'text': '1815'},\n",
       "      {'answer_start': 320, 'text': '1815'},\n",
       "      {'answer_start': 320, 'text': '1815'}],\n",
       "     'question': 'When did Warsaw become the center of the Congress Poland?',\n",
       "     'id': '57332a734776f41900660729'},\n",
       "    {'answers': [{'answer_start': 496, 'text': '1816'},\n",
       "      {'answer_start': 496, 'text': '1816'},\n",
       "      {'answer_start': 496, 'text': '1816'}],\n",
       "     'question': 'When was the Royal University of Warsaw established?',\n",
       "     'id': '57332a734776f4190066072a'}]},\n",
       "  {'context': 'Warsaw was occupied by Germany from 4 August 1915 until November 1918. The Allied Armistice terms required in Article 12 that Germany withdraw from areas controlled by Russia in 1914, which included Warsaw. Germany did so, and underground leader Piłsudski returned to Warsaw on 11 November and set up what became the Second Polish Republic, with Warsaw the capital. In the course of the Polish-Bolshevik War of 1920, the huge Battle of Warsaw was fought on the eastern outskirts of the city in which the capital was successfully defended and the Red Army defeated. Poland stopped by itself the full brunt of the Red Army and defeated an idea of the \"export of the revolution\".',\n",
       "   'qas': [{'answers': [{'answer_start': 31,\n",
       "       'text': 'from 4 August 1915 until November 1918'},\n",
       "      {'answer_start': 36, 'text': '4 August 1915 until November 1918'},\n",
       "      {'answer_start': 31, 'text': 'from 4 August 1915 until November 1918'}],\n",
       "     'question': 'How long was Warsaw occupied by Germany?',\n",
       "     'id': '57332b66d058e614000b5758'},\n",
       "    {'answers': [{'answer_start': 148,\n",
       "       'text': 'areas controlled by Russia in 1914'},\n",
       "      {'answer_start': 148, 'text': 'areas controlled by Russia in 1914'},\n",
       "      {'answer_start': 148, 'text': 'areas controlled by Russia'}],\n",
       "     'question': 'What did Article 12 of the Allied Armistice terms require Germany to withdraw from?',\n",
       "     'id': '57332b66d058e614000b5759'},\n",
       "    {'answers': [{'answer_start': 227, 'text': 'underground leader Piłsudski'},\n",
       "      {'answer_start': 246, 'text': 'Piłsudski'},\n",
       "      {'answer_start': 246, 'text': 'Piłsudski'}],\n",
       "     'question': 'Who set up what became the Second Polish Republic?',\n",
       "     'id': '57332b66d058e614000b575a'},\n",
       "    {'answers': [{'answer_start': 411, 'text': '1920'},\n",
       "      {'answer_start': 411, 'text': '1920'},\n",
       "      {'answer_start': 411, 'text': '1920'}],\n",
       "     'question': 'When was the Polish-Bolshevik war fought?',\n",
       "     'id': '57332b66d058e614000b575b'},\n",
       "    {'answers': [{'answer_start': 542, 'text': 'the Red Army'},\n",
       "      {'answer_start': 546, 'text': 'Red Army'},\n",
       "      {'answer_start': 546, 'text': 'Red Army'}],\n",
       "     'question': 'What army did Warsaw successfully defend itself against?',\n",
       "     'id': '57332b66d058e614000b575c'}]},\n",
       "  {'context': 'After the German Invasion of Poland on 1 September 1939 began the Second World War, Warsaw was defended till September 27. Central Poland, including Warsaw, came under the rule of the General Government, a German Nazi colonial administration. All higher education institutions were immediately closed and Warsaw\\'s entire Jewish population – several hundred thousand, some 30% of the city – herded into the Warsaw Ghetto. The city would become the centre of urban resistance to Nazi rule in occupied Europe. When the order came to annihilate the ghetto as part of Hitler\\'s \"Final Solution\" on 19 April 1943, Jewish fighters launched the Warsaw Ghetto Uprising. Despite being heavily outgunned and outnumbered, the Ghetto held out for almost a month. When the fighting ended, almost all survivors were massacred, with only a few managing to escape or hide.',\n",
       "   'qas': [{'answers': [{'answer_start': 41, 'text': 'September 1939'},\n",
       "      {'answer_start': 39, 'text': '1 September 1939'},\n",
       "      {'answer_start': 39, 'text': '1 September 1939'}],\n",
       "     'question': 'When did Germany invade Poland and in doing so start World War II?',\n",
       "     'id': '57332c1e4776f4190066073a'},\n",
       "    {'answers': [{'answer_start': 204,\n",
       "       'text': 'a German Nazi colonial administration'},\n",
       "      {'answer_start': 206, 'text': 'German Nazi'},\n",
       "      {'answer_start': 206, 'text': 'German Nazi colonial administration'}],\n",
       "     'question': 'Who was Warsaw under the administration of when it came under the rule of the General Goverment?',\n",
       "     'id': '57332c1e4776f4190066073b'},\n",
       "    {'answers': [{'answer_start': 367, 'text': 'some 30% of the city'},\n",
       "      {'answer_start': 372, 'text': '30%'},\n",
       "      {'answer_start': 372, 'text': '30%'}],\n",
       "     'question': \"How much of Warsaw's population was Jewish?\",\n",
       "     'id': '57332c1e4776f4190066073c'},\n",
       "    {'answers': [{'answer_start': 595, 'text': 'April 1943'},\n",
       "      {'answer_start': 592, 'text': '19 April 1943'},\n",
       "      {'answer_start': 592, 'text': '19 April 1943'}],\n",
       "     'question': 'When did Hitler order the annihilation of the Warsaw Ghetto?',\n",
       "     'id': '57332c1e4776f4190066073d'},\n",
       "    {'answers': [{'answer_start': 733, 'text': 'almost a month'},\n",
       "      {'answer_start': 733, 'text': 'almost a month'},\n",
       "      {'answer_start': 733, 'text': 'almost a month'}],\n",
       "     'question': 'How long were the fighters of the Warsaw Ghetto Uprising able to hold out?',\n",
       "     'id': '57332c1e4776f4190066073e'}]},\n",
       "  {'context': 'By July 1944, the Red Army was deep into Polish territory and pursuing the Germans toward Warsaw. Knowing that Stalin was hostile to the idea of an independent Poland, the Polish government-in-exile in London gave orders to the underground Home Army (AK) to try to seize control of Warsaw from the Germans before the Red Army arrived. Thus, on 1 August 1944, as the Red Army was nearing the city, the Warsaw Uprising began. The armed struggle, planned to last 48 hours, was partially successful, however it went on for 63 days. Eventually the Home Army fighters and civilians assisting them were forced to capitulate. They were transported to PoW camps in Germany, while the entire civilian population was expelled. Polish civilian deaths are estimated at between 150,000 and 200,000.',\n",
       "   'qas': [{'answers': [{'answer_start': 14, 'text': 'the Red Army'},\n",
       "      {'answer_start': 18, 'text': 'Red Army'},\n",
       "      {'answer_start': 16, 'text': 'e Red Army'}],\n",
       "     'question': 'What army was pushing deep into Polish territory to pursue the Germans in 1944?',\n",
       "     'id': '57332e48d058e614000b5762'},\n",
       "    {'answers': [{'answer_start': 111,\n",
       "       'text': 'Stalin was hostile to the idea of an independent Poland'},\n",
       "      {'answer_start': 111,\n",
       "       'text': 'Stalin was hostile to the idea of an independent Poland'},\n",
       "      {'answer_start': 111,\n",
       "       'text': 'Stalin was hostile to the idea of an independent Poland'}],\n",
       "     'question': 'Why did the exiled Polish government in London order the underground Home Army to seize control of Warsaw prior to the arrival of the Red Army?',\n",
       "     'id': '57332e48d058e614000b5763'},\n",
       "    {'answers': [{'answer_start': 346, 'text': 'August 1944'},\n",
       "      {'answer_start': 362, 'text': 'the Red Army was nearing the city'},\n",
       "      {'answer_start': 344, 'text': '1 August 1944'}],\n",
       "     'question': 'When did the Warsaw Uprising begin?',\n",
       "     'id': '57332e48d058e614000b5764'},\n",
       "    {'answers': [{'answer_start': 519, 'text': '63 days'},\n",
       "      {'answer_start': 519, 'text': '63'},\n",
       "      {'answer_start': 519, 'text': '63 days'}],\n",
       "     'question': 'How many days did the Warsaw Uprising last?',\n",
       "     'id': '57332e48d058e614000b5765'},\n",
       "    {'answers': [{'answer_start': 756, 'text': 'between 150,000 and 200,000'},\n",
       "      {'answer_start': 756, 'text': 'between 150,000 and 200,000'},\n",
       "      {'answer_start': 756, 'text': 'between 150,000 and 200,000'}],\n",
       "     'question': 'What is the estimated death toll for Polish civilians? ',\n",
       "     'id': '57332e48d058e614000b5766'}]},\n",
       "  {'context': 'After World War II, under a Communist regime set up by the conquering Soviets, the \"Bricks for Warsaw\" campaign was initiated, and large prefabricated housing projects were erected in Warsaw to address the housing shortage, along with other typical buildings of an Eastern Bloc city, such as the Palace of Culture and Science, a gift from the Soviet Union. The city resumed its role as the capital of Poland and the country\\'s centre of political and economic life. Many of the historic streets, buildings, and churches were restored to their original form. In 1980, Warsaw\\'s historic Old Town was inscribed onto UNESCO\\'s World Heritage list.',\n",
       "   'qas': [{'answers': [{'answer_start': 83, 'text': '\"Bricks for Warsaw\"'},\n",
       "      {'answer_start': 84, 'text': 'Bricks for Warsaw'},\n",
       "      {'answer_start': 84, 'text': 'Bricks for Warsaw'}],\n",
       "     'question': 'What campaign did the Communist regime initiate after WWII?',\n",
       "     'id': '57332f81d058e614000b5776'},\n",
       "    {'answers': [{'answer_start': 137, 'text': 'prefabricated'},\n",
       "      {'answer_start': 137, 'text': 'prefabricated'},\n",
       "      {'answer_start': 137, 'text': 'prefabricated'}],\n",
       "     'question': 'What type of housing was erected in Warsaw as part of the Bricks for Warsaw process?',\n",
       "     'id': '57332f81d058e614000b5777'},\n",
       "    {'answers': [{'answer_start': 262, 'text': 'an Eastern Bloc city'},\n",
       "      {'answer_start': 262, 'text': 'an Eastern Bloc city'}],\n",
       "     'question': 'What were the structures built by the Soviets typical of?',\n",
       "     'id': '57332f81d058e614000b5778'},\n",
       "    {'answers': [{'answer_start': 296,\n",
       "       'text': 'Palace of Culture and Science'},\n",
       "      {'answer_start': 296, 'text': 'Palace of Culture and Science'},\n",
       "      {'answer_start': 296, 'text': 'Palace of Culture and Science'}],\n",
       "     'question': 'What building was a gift from the Soviet Union?',\n",
       "     'id': '57332f81d058e614000b5779'},\n",
       "    {'answers': [{'answer_start': 612, 'text': \"UNESCO's World Heritage list\"},\n",
       "      {'answer_start': 612, 'text': \"UNESCO's World Heritage\"},\n",
       "      {'answer_start': 612, 'text': \"UNESCO's World Heritage\"}],\n",
       "     'question': \"What list was Warsaw's Old Town inscribed onto in 1980?\",\n",
       "     'id': '57332f81d058e614000b577a'}]},\n",
       "  {'context': 'John Paul II\\'s visits to his native country in 1979 and 1983 brought support to the budding solidarity movement and encouraged the growing anti-communist fervor there. In 1979, less than a year after becoming pope, John Paul celebrated Mass in Victory Square in Warsaw and ended his sermon with a call to \"renew the face\" of Poland: Let Thy Spirit descend! Let Thy Spirit descend and renew the face of the land! This land! These words were very meaningful for the Polish citizens who understood them as the incentive for the democratic changes.',\n",
       "   'qas': [{'answers': [{'answer_start': 0, 'text': 'John Paul II'},\n",
       "      {'answer_start': 0, 'text': 'John Paul II'},\n",
       "      {'answer_start': 0, 'text': 'John Paul II'}],\n",
       "     'question': 'What pope as a native of Poland?',\n",
       "     'id': '573330444776f41900660758'},\n",
       "    {'answers': [{'answer_start': 131,\n",
       "       'text': 'growing anti-communist fervor'},\n",
       "      {'answer_start': 139, 'text': 'anti-communist fervor'},\n",
       "      {'answer_start': 131, 'text': 'growing anti-communist fervor'}],\n",
       "     'question': \"What did John Paul II's visits in 1979 and 1983 encourage?\",\n",
       "     'id': '573330444776f41900660759'},\n",
       "    {'answers': [{'answer_start': 177, 'text': 'less than a year'},\n",
       "      {'answer_start': 177, 'text': 'less than a year'},\n",
       "      {'answer_start': 177, 'text': 'less than a year'}],\n",
       "     'question': 'How long had John Paul II been the pope in 1979?',\n",
       "     'id': '573330444776f4190066075a'},\n",
       "    {'answers': [{'answer_start': 244, 'text': 'Victory Square'},\n",
       "      {'answer_start': 244, 'text': 'Victory Square'},\n",
       "      {'answer_start': 171, 'text': '1979'}],\n",
       "     'question': 'Where did John Paul II celebrate Mass in Warsaw?',\n",
       "     'id': '573330444776f4190066075b'},\n",
       "    {'answers': [{'answer_start': 507,\n",
       "       'text': 'incentive for the democratic changes'},\n",
       "      {'answer_start': 507, 'text': 'incentive for the democratic changes'},\n",
       "      {'answer_start': 525, 'text': 'democratic changes'}],\n",
       "     'question': \"What did the Polish citizens understand the subtext of John Paul II's words to be?\",\n",
       "     'id': '573330444776f4190066075c'}]},\n",
       "  {'context': 'Warsaw lies in east-central Poland about 300 km (190 mi) from the Carpathian Mountains and about 260 km (160 mi) from the Baltic Sea, 523 km (325 mi) east of Berlin, Germany. The city straddles the Vistula River. It is located in the heartland of the Masovian Plain, and its average elevation is 100 metres (330 ft) above sea level. The highest point on the left side of the city lies at a height of 115.7 metres (379.6 ft) (\"Redutowa\" bus depot, district of Wola), on the right side – 122.1 metres (400.6 ft) (\"Groszówka\" estate, district of Wesoła, by the eastern border). The lowest point lies at a height 75.6 metres (248.0 ft) (at the right bank of the Vistula, by the eastern border of Warsaw). There are some hills (mostly artificial) located within the confines of the city – e.g. Warsaw Uprising Hill (121 metres (397.0 ft)), Szczęśliwice hill (138 metres (452.8 ft) – the highest point of Warsaw in general).',\n",
       "   'qas': [{'answers': [{'answer_start': 35, 'text': 'about 300'},\n",
       "      {'answer_start': 41, 'text': '300'},\n",
       "      {'answer_start': 41, 'text': '300'}],\n",
       "     'question': 'How many kilometers is Warsaw from the Carpathian Mountains?',\n",
       "     'id': '5733314e4776f4190066076a'},\n",
       "    {'answers': [{'answer_start': 142, 'text': '325'},\n",
       "      {'answer_start': 142, 'text': '325'},\n",
       "      {'answer_start': 142, 'text': '325'}],\n",
       "     'question': 'How many miles east of Berlin is Warsaw?',\n",
       "     'id': '5733314e4776f4190066076b'},\n",
       "    {'answers': [{'answer_start': 198, 'text': 'Vistula River'},\n",
       "      {'answer_start': 198, 'text': 'Vistula'},\n",
       "      {'answer_start': 198, 'text': 'Vistula'}],\n",
       "     'question': 'What river does Warsaw straddle?',\n",
       "     'id': '5733314e4776f4190066076c'},\n",
       "    {'answers': [{'answer_start': 866, 'text': '452.8 ft'},\n",
       "      {'answer_start': 400, 'text': '115.7 metres'},\n",
       "      {'answer_start': 400, 'text': '115.7 metres'}],\n",
       "     'question': 'How high is the highest point in Warsaw?',\n",
       "     'id': '5733314e4776f4190066076d'},\n",
       "    {'answers': [{'answer_start': 633,\n",
       "       'text': 'at the right bank of the Vistula'},\n",
       "      {'answer_start': 633,\n",
       "       'text': 'at the right bank of the Vistula, by the eastern border of Warsaw'},\n",
       "      {'answer_start': 667, 'text': 'by the eastern border'}],\n",
       "     'question': 'Where is the lowest point of Warsaw located?',\n",
       "     'id': '5733314e4776f4190066076e'}]},\n",
       "  {'context': 'Warsaw is located on two main geomorphologic formations: the plain moraine plateau and the Vistula Valley with its asymmetrical pattern of different terraces. The Vistula River is the specific axis of Warsaw, which divides the city into two parts, left and right. The left one is situated both on the moraine plateau (10 to 25 m (32.8 to 82.0 ft) above Vistula level) and on the Vistula terraces (max. 6.5 m (21.3 ft) above Vistula level). The significant element of the relief, in this part of Warsaw, is the edge of moraine plateau called Warsaw Escarpment. It is 20 to 25 m (65.6 to 82.0 ft) high in the Old Town and Central district and about 10 m (32.8 ft) in the north and south of Warsaw. It goes through the city and plays an important role as a landmark.',\n",
       "   'qas': [{'answers': [{'answer_start': 21, 'text': 'two'},\n",
       "      {'answer_start': 21, 'text': 'two'},\n",
       "      {'answer_start': 21, 'text': 'two'}],\n",
       "     'question': 'How many geomorphologic formations is Warsaw on?',\n",
       "     'id': '57335c20d058e614000b58f9'},\n",
       "    {'answers': [{'answer_start': 91, 'text': 'Vistula Valley'},\n",
       "      {'answer_start': 30, 'text': 'geomorphologic'},\n",
       "      {'answer_start': 91, 'text': 'Vistula Valley'}],\n",
       "     'question': 'What formation has an asymmetrical pattern of different terraces?',\n",
       "     'id': '57335c20d058e614000b58fa'},\n",
       "    {'answers': [{'answer_start': 301, 'text': 'moraine'},\n",
       "      {'answer_start': 301, 'text': 'moraine'},\n",
       "      {'answer_start': 301, 'text': 'moraine'}],\n",
       "     'question': 'Which plateau is the left part of Warsaw on?',\n",
       "     'id': '57335c20d058e614000b58fc'},\n",
       "    {'answers': [{'answer_start': 163, 'text': 'Vistula River'},\n",
       "      {'answer_start': 163, 'text': 'Vistula River'},\n",
       "      {'answer_start': 163, 'text': 'Vistula River'}],\n",
       "     'question': 'What is the axis of Warsaw which divides it into two parts?',\n",
       "     'id': '57335c20d058e614000b58fb'},\n",
       "    {'answers': [{'answer_start': 541, 'text': 'Warsaw Escarpment'},\n",
       "      {'answer_start': 541, 'text': 'Warsaw Escarpment'},\n",
       "      {'answer_start': 541, 'text': 'Warsaw Escarpment'}],\n",
       "     'question': 'What is the edge of the moraine plateau called?',\n",
       "     'id': '57335c20d058e614000b58fd'}]},\n",
       "  {'context': 'The plain moraine plateau has only a few natural and artificial ponds and also groups of clay pits. The pattern of the Vistula terraces is asymmetrical. The left side consist mainly of two levels: the highest one contains former flooded terraces and the lowest one the flood plain terrace. The contemporary flooded terrace still has visible valleys and ground depressions with water systems coming from the Vistula old – riverbed. They consist of still quite natural streams and lakes as well as the pattern of drainage ditches. The right side of Warsaw has a different pattern of geomorphological forms. There are several levels of the plain Vistula terraces (flooded as well as former flooded once) and only small part and not so visible moraine escarpment. Aeolian sand with a number of dunes parted by peat swamps or small ponds cover the highest terrace. These are mainly forested areas (pine forest).',\n",
       "   'qas': [{'answers': [{'answer_start': 10, 'text': 'moraine'},\n",
       "      {'answer_start': 10, 'text': 'moraine'},\n",
       "      {'answer_start': 10, 'text': 'moraine'}],\n",
       "     'question': 'What plateau has groups of clay pits?',\n",
       "     'id': '57335ddbd058e614000b592f'},\n",
       "    {'answers': [{'answer_start': 222, 'text': 'former flooded terraces'},\n",
       "      {'answer_start': 222, 'text': 'former flooded terraces'},\n",
       "      {'answer_start': 806, 'text': 'peat swamps or small ponds'}],\n",
       "     'question': 'What does the highest level of the Vistula plateau contain?',\n",
       "     'id': '57335ddbd058e614000b5930'},\n",
       "    {'answers': [{'answer_start': 341, 'text': 'valleys'},\n",
       "      {'answer_start': 341, 'text': 'valleys and ground depressions'},\n",
       "      {'answer_start': 341, 'text': 'valleys'}],\n",
       "     'question': 'What does the currently flooded terrace still have visible?',\n",
       "     'id': '57335ddbd058e614000b5931'},\n",
       "    {'answers': [{'answer_start': 637, 'text': 'plain Vistula terraces'},\n",
       "      {'answer_start': 843, 'text': 'highest terrace'},\n",
       "      {'answer_start': 843, 'text': 'highest terrace'}],\n",
       "     'question': 'Where can Aeolian sand with a number of dunes be found?',\n",
       "     'id': '57335ddbd058e614000b5932'},\n",
       "    {'answers': [{'answer_start': 893, 'text': 'pine'},\n",
       "      {'answer_start': 893, 'text': 'pine'},\n",
       "      {'answer_start': 893, 'text': 'pine'}],\n",
       "     'question': 'What type of forested areas can be found on the highest terrace?',\n",
       "     'id': '57335ddbd058e614000b5933'}]},\n",
       "  {'context': \"Warsaw's mixture of architectural styles reflects the turbulent history of the city and country. During the Second World War, Warsaw was razed to the ground by bombing raids and planned destruction. After liberation, rebuilding began as in other cities of the communist-ruled PRL. Most of the historical buildings were thoroughly reconstructed. However, some of the buildings from the 19th century that had been preserved in reasonably reconstructible form were nonetheless eradicated in the 1950s and 1960s (e.g. Leopold Kronenberg Palace). Mass residential blocks were erected, with basic design typical of Eastern bloc countries.\",\n",
       "   'qas': [{'answers': [{'answer_start': 54,\n",
       "       'text': 'turbulent history of the city'},\n",
       "      {'answer_start': 54,\n",
       "       'text': 'turbulent history of the city and country'},\n",
       "      {'answer_start': 54, 'text': 'turbulent history of the city'}],\n",
       "     'question': \"What does Warsaw's mixture of architectural styles reflect?\",\n",
       "     'id': '57335fcad058e614000b5970'},\n",
       "    {'answers': [{'answer_start': 97, 'text': 'During the Second World War'},\n",
       "      {'answer_start': 108, 'text': 'Second World War'},\n",
       "      {'answer_start': 97, 'text': 'During the Second World War'}],\n",
       "     'question': 'When was Warsaw completely razed to the ground by bombing raids?',\n",
       "     'id': '57335fcad058e614000b5971'},\n",
       "    {'answers': [{'answer_start': 199, 'text': 'After liberation'},\n",
       "      {'answer_start': 199, 'text': 'After liberation'},\n",
       "      {'answer_start': 199, 'text': 'After liberation'}],\n",
       "     'question': 'When did Warsaw start to rebuild?',\n",
       "     'id': '57335fcad058e614000b5972'},\n",
       "    {'answers': [{'answer_start': 514, 'text': 'Leopold Kronenberg Palace'},\n",
       "      {'answer_start': 514, 'text': 'Leopold Kronenberg Palace'},\n",
       "      {'answer_start': 514, 'text': 'Leopold Kronenberg Palace'}],\n",
       "     'question': 'What building from the 19th century was destroyed between the 1950s and 1960s?',\n",
       "     'id': '57335fcad058e614000b5973'},\n",
       "    {'answers': [{'answer_start': 598,\n",
       "       'text': 'typical of Eastern bloc countries'},\n",
       "      {'answer_start': 585,\n",
       "       'text': 'basic design typical of Eastern bloc countries'},\n",
       "      {'answer_start': 591,\n",
       "       'text': 'design typical of Eastern bloc countries'}],\n",
       "     'question': 'What style were the mass constructed residential blocks designed in?',\n",
       "     'id': '57335fcad058e614000b5974'}]},\n",
       "  {'context': 'Gothic architecture is represented in the majestic churches but also at the burgher houses and fortifications. The most significant buildings are St. John\\'s Cathedral (14th century), the temple is a typical example of the so-called Masovian gothic style, St. Mary\\'s Church (1411), a town house of Burbach family (14th century), Gunpowder Tower (after 1379) and the Royal Castle Curia Maior (1407–1410). The most notable examples of Renaissance architecture in the city are the house of Baryczko merchant family (1562), building called \"The Negro\" (early 17th century) and Salwator tenement (1632). The most interesting examples of mannerist architecture are the Royal Castle (1596–1619) and the Jesuit Church (1609–1626) at Old Town. Among the first structures of the early baroque the most important are St. Hyacinth\\'s Church (1603–1639) and Sigismund\\'s Column (1644).',\n",
       "   'qas': [{'answers': [{'answer_start': 0, 'text': 'Gothic'},\n",
       "      {'answer_start': 0, 'text': 'Gothic'},\n",
       "      {'answer_start': 0, 'text': 'Gothic'}],\n",
       "     'question': 'What type of architecture is represented in the majestic churches?',\n",
       "     'id': '573361404776f4190066093c'},\n",
       "    {'answers': [{'answer_start': 168, 'text': '14th century'},\n",
       "      {'answer_start': 168, 'text': '14th century'},\n",
       "      {'answer_start': 168, 'text': '14th century'}],\n",
       "     'question': \"When was St. John's Cathedral constructed?\",\n",
       "     'id': '573361404776f4190066093d'},\n",
       "    {'answers': [{'answer_start': 232, 'text': 'Masovian gothic'},\n",
       "      {'answer_start': 0, 'text': 'Gothic architecture'},\n",
       "      {'answer_start': 232, 'text': 'Masovian gothic'}],\n",
       "     'question': \"What is St. John's Cathedral an example of, stylistically?\",\n",
       "     'id': '573361404776f4190066093e'},\n",
       "    {'answers': [{'answer_start': 432, 'text': 'Renaissance'},\n",
       "      {'answer_start': 432, 'text': 'Renaissance'},\n",
       "      {'answer_start': 432, 'text': 'Renaissance'}],\n",
       "     'question': 'The house of the Baryczko merchant family is a notable example of what type of architecture?',\n",
       "     'id': '573361404776f4190066093f'},\n",
       "    {'answers': [{'answer_start': 631, 'text': 'mannerist architecture'},\n",
       "      {'answer_start': 631, 'text': 'mannerist architecture'},\n",
       "      {'answer_start': 631, 'text': 'mannerist'}],\n",
       "     'question': 'What is the Royal Castle the most interesting example of?',\n",
       "     'id': '573361404776f41900660940'}]},\n",
       "  {'context': 'Building activity occurred in numerous noble palaces and churches during the later decades of the 17th century. One of the best examples of this architecture are Krasiński Palace (1677–1683), Wilanów Palace (1677–1696) and St. Kazimierz Church (1688–1692). The most impressive examples of rococo architecture are Czapski Palace (1712–1721), Palace of the Four Winds (1730s) and Visitationist Church (façade 1728–1761). The neoclassical architecture in Warsaw can be described by the simplicity of the geometrical forms teamed with a great inspiration from the Roman period. Some of the best examples of the neoclassical style are the Palace on the Water (rebuilt 1775–1795), Królikarnia (1782–1786), Carmelite Church (façade 1761–1783) and Evangelical Holy Trinity Church (1777–1782). The economic growth during the first years of Congress Poland caused a rapid rise architecture. The Neoclassical revival affected all aspects of architecture, the most notable are the Great Theater (1825–1833) and buildings located at Bank Square (1825–1828).',\n",
       "   'qas': [{'answers': [{'answer_start': 98, 'text': '17th century'},\n",
       "      {'answer_start': 98, 'text': '17th century'},\n",
       "      {'answer_start': 98, 'text': '17th century.'}],\n",
       "     'question': 'When did building activity in the palaces and churches take place in the later decades of?',\n",
       "     'id': '573362b94776f41900660974'},\n",
       "    {'answers': [{'answer_start': 245, 'text': '1688–1692'},\n",
       "      {'answer_start': 180, 'text': '1677–1683'},\n",
       "      {'answer_start': 245, 'text': '1688–1692'}],\n",
       "     'question': 'When did building activity occur on St. Kazimierz Church?',\n",
       "     'id': '573362b94776f41900660975'},\n",
       "    {'answers': [{'answer_start': 289, 'text': 'rococo'},\n",
       "      {'answer_start': 289, 'text': 'rococo'},\n",
       "      {'answer_start': 289, 'text': 'rococo'}],\n",
       "     'question': 'What type of architecture is the Palace of Four Windows an impressive example of?',\n",
       "     'id': '573362b94776f41900660976'},\n",
       "    {'answers': [{'answer_start': 423, 'text': 'neoclassical architecture'},\n",
       "      {'answer_start': 423, 'text': 'neoclassical architecture'},\n",
       "      {'answer_start': 423, 'text': 'neoclassical architecture'}],\n",
       "     'question': 'What is being described when simplicity of geometrical forms are teamed with inspiration from the Roman period?',\n",
       "     'id': '573362b94776f41900660977'},\n",
       "    {'answers': [{'answer_start': 663, 'text': '1775–1795'},\n",
       "      {'answer_start': 213, 'text': '1696'},\n",
       "      {'answer_start': 663, 'text': '1775–1795'}],\n",
       "     'question': 'When was the Palace on the Water rebuilt?',\n",
       "     'id': '573362b94776f41900660978'}]},\n",
       "  {'context': 'Exceptional examples of the bourgeois architecture of the later periods were not restored by the communist authorities after the war (like mentioned Kronenberg Palace and Insurance Company Rosja building) or they were rebuilt in socialist realism style (like Warsaw Philharmony edifice originally inspired by Palais Garnier in Paris). Despite that the Warsaw University of Technology building (1899–1902) is the most interesting of the late 19th-century architecture. Some 19th-century buildings in the Praga district (the Vistula’s right bank) have been restored although many have been poorly maintained. Warsaw’s municipal government authorities have decided to rebuild the Saxon Palace and the Brühl Palace, the most distinctive buildings in prewar Warsaw.',\n",
       "   'qas': [{'answers': [{'answer_start': 28, 'text': 'bourgeois'},\n",
       "      {'answer_start': 28, 'text': 'bourgeois'},\n",
       "      {'answer_start': 28, 'text': 'bourgeois'}],\n",
       "     'question': 'The Kronenberg Palace had been an exceptional example of what type of architecture?',\n",
       "     'id': '5733638fd058e614000b59e8'},\n",
       "    {'answers': [{'answer_start': 77,\n",
       "       'text': 'not restored by the communist authorities'},\n",
       "      {'answer_start': 72, 'text': 'were not restored'},\n",
       "      {'answer_start': 77,\n",
       "       'text': 'not restored by the communist authorities after the war'}],\n",
       "     'question': \"Why aren't the examples of bouregois architecture visible today?\",\n",
       "     'id': '5733638fd058e614000b59e9'},\n",
       "    {'answers': [{'answer_start': 229, 'text': 'socialist realism'},\n",
       "      {'answer_start': 229, 'text': 'socialist realism'},\n",
       "      {'answer_start': 229, 'text': 'socialist realism'}],\n",
       "     'question': 'What style was the Warsaw Philharmony edifice built in?',\n",
       "     'id': '5733638fd058e614000b59ea'},\n",
       "    {'answers': [{'answer_start': 352,\n",
       "       'text': 'Warsaw University of Technology building'},\n",
       "      {'answer_start': 352,\n",
       "       'text': 'Warsaw University of Technology building'},\n",
       "      {'answer_start': 352, 'text': 'Warsaw University of Technology'}],\n",
       "     'question': 'What building is the most interesting of the late 19th-century architecture?',\n",
       "     'id': '5733638fd058e614000b59eb'},\n",
       "    {'answers': [{'answer_start': 712,\n",
       "       'text': 'the most distinctive buildings'},\n",
       "      {'answer_start': 712, 'text': 'the most distinctive buildings'},\n",
       "      {'answer_start': 716, 'text': 'most distinctive buildings'}],\n",
       "     'question': 'What were the Saxon Palace and Brühl Palace in prewar Warsaw?',\n",
       "     'id': '5733638fd058e614000b59ec'}]},\n",
       "  {'context': 'There are also many places commemorating the heroic history of Warsaw. Pawiak, an infamous German Gestapo prison now occupied by a Mausoleum of Memory of Martyrdom and the museum, is only the beginning of a walk in the traces of Heroic City. The Warsaw Citadel, an impressive 19th-century fortification built after the defeat of the November Uprising, was a place of martyr for the Poles. Another important monument, the statue of Little Insurgent located at the ramparts of the Old Town, commemorates the children who served as messengers and frontline troops in the Warsaw Uprising, while the impressive Warsaw Uprising Monument by Wincenty Kućma was erected in memory of the largest insurrection of World War II.',\n",
       "   'qas': [{'answers': [{'answer_start': 15, 'text': 'many places'},\n",
       "      {'answer_start': 15, 'text': 'many places'}],\n",
       "     'question': \"What commemorates Warsaw's heroic history?\",\n",
       "     'id': '5733647e4776f419006609ae'},\n",
       "    {'answers': [{'answer_start': 71, 'text': 'Pawiak'},\n",
       "      {'answer_start': 71, 'text': 'Pawiak'},\n",
       "      {'answer_start': 71, 'text': 'Pawiak'}],\n",
       "     'question': 'What was the name of the infamous German Gestapo prison?',\n",
       "     'id': '5733647e4776f419006609af'},\n",
       "    {'answers': [{'answer_start': 242, 'text': 'The Warsaw Citadel'},\n",
       "      {'answer_start': 246, 'text': 'Warsaw Citadel'},\n",
       "      {'answer_start': 242, 'text': 'The Warsaw Citadel'}],\n",
       "     'question': 'What fortification was built in the 19th century after the defeat of the November Uprising?',\n",
       "     'id': '5733647e4776f419006609b0'},\n",
       "    {'answers': [{'answer_start': 506, 'text': 'children'},\n",
       "      {'answer_start': 506,\n",
       "       'text': 'children who served as messengers and frontline troops in the Warsaw Uprising'},\n",
       "      {'answer_start': 506, 'text': 'children'}],\n",
       "     'question': 'Who does the statue of Little Insurgent commemorate?',\n",
       "     'id': '5733647e4776f419006609b1'},\n",
       "    {'answers': [{'answer_start': 606, 'text': 'Warsaw Uprising Monument'},\n",
       "      {'answer_start': 606, 'text': 'Warsaw Uprising Monument'},\n",
       "      {'answer_start': 606, 'text': 'Warsaw Uprising Monument'}],\n",
       "     'question': 'What monument is in memory of the largest insurrection of WWII?',\n",
       "     'id': '5733647e4776f419006609b2'}]},\n",
       "  {'context': 'Other green spaces in the city include the Botanic Garden and the University Library garden. They have extensive botanical collection of rare domestic and foreign plants, while a palm house in the New Orangery displays plants of subtropics from all over the world. Besides, within the city borders, there are also: Pole Mokotowskie (a big park in the northern Mokotów, where was the first horse racetrack and then the airport), Park Ujazdowski (close to the Sejm and John Lennon street), Park of Culture and Rest in Powsin, by the southern city border, Park Skaryszewski by the right Vistula bank, in Praga. The oldest park in Praga, the Praga Park, was established in 1865–1871 and designed by Jan Dobrowolski. In 1927 a zoological garden (Ogród Zoologiczny) was established on the park grounds, and in 1952 a bear run, still open today.',\n",
       "   'qas': [{'answers': [{'answer_start': 6, 'text': 'green'},\n",
       "      {'answer_start': 6, 'text': 'green'},\n",
       "      {'answer_start': 6, 'text': 'green'}],\n",
       "     'question': 'What type of space in Warsaw are the Botanic Garden and University Library garden?',\n",
       "     'id': '573368044776f41900660a29'},\n",
       "    {'answers': [{'answer_start': 197, 'text': 'New Orangery'},\n",
       "      {'answer_start': 197, 'text': 'New Orangery'},\n",
       "      {'answer_start': 197, 'text': 'New Orangery'}],\n",
       "     'question': 'Where is a palm house with subtropic plants from all over the world on display?',\n",
       "     'id': '573368044776f41900660a2a'},\n",
       "    {'answers': [{'answer_start': 315, 'text': 'Pole Mokotowskie'},\n",
       "      {'answer_start': 360, 'text': 'Mokotów'},\n",
       "      {'answer_start': 315, 'text': 'Pole Mokotowskie'}],\n",
       "     'question': 'Where was the first horse racetrack located?',\n",
       "     'id': '573368044776f41900660a2b'},\n",
       "    {'answers': [{'answer_start': 428, 'text': 'Park Ujazdowski'},\n",
       "      {'answer_start': 428, 'text': 'Park Ujazdowski'},\n",
       "      {'answer_start': 428, 'text': 'Park Ujazdowski'}],\n",
       "     'question': 'What park is close to John Lennon street?',\n",
       "     'id': '573368044776f41900660a2c'},\n",
       "    {'answers': [{'answer_start': 715, 'text': '1927'},\n",
       "      {'answer_start': 715, 'text': '1927'},\n",
       "      {'answer_start': 715, 'text': '1927'}],\n",
       "     'question': 'When was a zoological garden established in the Praga Park?',\n",
       "     'id': '573368044776f41900660a2d'}]},\n",
       "  {'context': 'The flora of the city may be considered very rich in species. The species richness is mainly due to the location of Warsaw within the border region of several big floral regions comprising substantial proportions of close-to-wilderness areas (natural forests, wetlands along the Vistula) as well as arable land, meadows and forests. Bielany Forest, located within the borders of Warsaw, is the remaining part of the Masovian Primeval Forest. Bielany Forest nature reserve is connected with Kampinos Forest. It is home to rich fauna and flora. Within the forest there are three cycling and walking trails. Other big forest area is Kabaty Forest by the southern city border. Warsaw has also two botanic gardens: by the Łazienki park (a didactic-research unit of the University of Warsaw) as well as by the Park of Culture and Rest in Powsin (a unit of the Polish Academy of Science).',\n",
       "   'qas': [{'answers': [{'answer_start': 104, 'text': 'location of Warsaw'},\n",
       "      {'answer_start': 104, 'text': 'location of Warsaw'},\n",
       "      {'answer_start': 104, 'text': 'location'}],\n",
       "     'question': \"Why is Warsaw's flora very rich in species?\",\n",
       "     'id': '573368e54776f41900660a53'},\n",
       "    {'answers': [{'answer_start': 357, 'text': 'within the borders of Warsaw'},\n",
       "      {'answer_start': 379, 'text': 'Warsaw'},\n",
       "      {'answer_start': 357, 'text': 'within the borders of Warsaw'}],\n",
       "     'question': 'Where is Bielany Forest located?',\n",
       "     'id': '573368e54776f41900660a54'},\n",
       "    {'answers': [{'answer_start': 416, 'text': 'Masovian Primeval Forest'},\n",
       "      {'answer_start': 416, 'text': 'Masovian Primeval Forest'},\n",
       "      {'answer_start': 416, 'text': 'Masovian Primeval Forest'}],\n",
       "     'question': 'What is the Bielany Forest the last remnant of?',\n",
       "     'id': '573368e54776f41900660a55'},\n",
       "    {'answers': [{'answer_start': 630, 'text': 'Kabaty'},\n",
       "      {'answer_start': 630, 'text': 'Kabaty Forest'},\n",
       "      {'answer_start': 630, 'text': 'Kabaty'}],\n",
       "     'question': \"What forest is by Warsaw's southern border?\",\n",
       "     'id': '573368e54776f41900660a56'},\n",
       "    {'answers': [{'answer_start': 689, 'text': 'two'},\n",
       "      {'answer_start': 689, 'text': 'two'},\n",
       "      {'answer_start': 689, 'text': 'two'}],\n",
       "     'question': 'How many botanical gardens does Warsaw have?',\n",
       "     'id': '573368e54776f41900660a57'}]},\n",
       "  {'context': 'In 1939, c. 1,300,000 people lived in Warsaw, but in 1945 – only 420,000. During the first years after the war, the population growth was c. 6%, so shortly the city started to suffer from the lack of flats and of areas for new houses. The first remedial measure was the Warsaw area enlargement (1951) – but the city authorities were still forced to introduce residency registration limitations: only the spouses and children of the permanent residents as well as some persons of public importance (like renowned specialists) were allowed to get the registration, hence halving the population growth in the following years. It also bolstered some kind of conviction among Poles that Varsovians thought of themselves as better only because they lived in the capital. Unfortunately this belief still lives on in Poland (although not as much as it used to be) – even though since 1990 there are no limitations to residency registration anymore.',\n",
       "   'qas': [{'answers': [{'answer_start': 12, 'text': '1,300,000'},\n",
       "      {'answer_start': 12, 'text': '1,300,000'},\n",
       "      {'answer_start': 12, 'text': '1,300,000'}],\n",
       "     'question': 'How many people lived in Warsaw in 1939?',\n",
       "     'id': '57337f6ad058e614000b5bcb'},\n",
       "    {'answers': [{'answer_start': 65, 'text': '420,000'},\n",
       "      {'answer_start': 65, 'text': '420,000'},\n",
       "      {'answer_start': 65, 'text': '420,000'}],\n",
       "     'question': 'What had the number of people living in Warsaw declined to by 1945?',\n",
       "     'id': '57337f6ad058e614000b5bcc'},\n",
       "    {'answers': [{'answer_start': 295, 'text': '1951'},\n",
       "      {'answer_start': 295, 'text': '1951'},\n",
       "      {'answer_start': 295, 'text': '1951'}],\n",
       "     'question': 'When did the Warsaw area enlargement take place?',\n",
       "     'id': '57337f6ad058e614000b5bcd'},\n",
       "    {'answers': [{'answer_start': 715, 'text': 'as better'},\n",
       "      {'answer_start': 693, 'text': 'thought of themselves as better'},\n",
       "      {'answer_start': 718, 'text': 'better'}],\n",
       "     'question': 'What conviction did many Poles have regarding how the Varsovians thought of themselves?',\n",
       "     'id': '57337f6ad058e614000b5bce'},\n",
       "    {'answers': [{'answer_start': 909, 'text': 'residency registration'},\n",
       "      {'answer_start': 909, 'text': 'residency registration'},\n",
       "      {'answer_start': 909, 'text': 'residency registration'}],\n",
       "     'question': 'What are there no longer limitations on since 1990?',\n",
       "     'id': '57337f6ad058e614000b5bcf'}]},\n",
       "  {'context': 'Throughout its existence, Warsaw has been a multi-cultural city. According to the 1901 census, out of 711,988 inhabitants 56.2% were Catholics, 35.7% Jews, 5% Greek orthodox Christians and 2.8% Protestants. Eight years later, in 1909, there were 281,754 Jews (36.9%), 18,189 Protestants (2.4%) and 2,818 Mariavites (0.4%). This led to construction of hundreds of places of religious worship in all parts of the town. Most of them were destroyed in the aftermath of the Warsaw Uprising of 1944. After the war, the new communist authorities of Poland discouraged church construction and only a small number were rebuilt.',\n",
       "   'qas': [{'answers': [{'answer_start': 44, 'text': 'multi-cultural'},\n",
       "      {'answer_start': 44, 'text': 'multi-cultural city'},\n",
       "      {'answer_start': 44, 'text': 'multi-cultural'}],\n",
       "     'question': \"What type of city has Warsaw been for as long as it's been a city?\",\n",
       "     'id': '57338007d058e614000b5bda'},\n",
       "    {'answers': [{'answer_start': 102, 'text': '711,988'},\n",
       "      {'answer_start': 102, 'text': '711,988'},\n",
       "      {'answer_start': 102, 'text': '711,988'}],\n",
       "     'question': \"What was Warsaw's population in 1901?\",\n",
       "     'id': '57338007d058e614000b5bdb'},\n",
       "    {'answers': [{'answer_start': 122, 'text': '56.2%'},\n",
       "      {'answer_start': 144, 'text': '35.7'},\n",
       "      {'answer_start': 122, 'text': '56.2%'}],\n",
       "     'question': \"Of Warsaw's inhabitants in 1901, what percentage was Catholic?\",\n",
       "     'id': '57338007d058e614000b5bdc'},\n",
       "    {'answers': [{'answer_start': 189, 'text': '2.8%'},\n",
       "      {'answer_start': 189, 'text': '2.8'},\n",
       "      {'answer_start': 189, 'text': '2.8%'}],\n",
       "     'question': \"What percentage of Warsaw's population was Protestant in 1901?\",\n",
       "     'id': '57338007d058e614000b5bdd'},\n",
       "    {'answers': [{'answer_start': 488, 'text': '1944'},\n",
       "      {'answer_start': 488, 'text': '1944'},\n",
       "      {'answer_start': 488, 'text': '1944'}],\n",
       "     'question': 'When were most of the places of religious worship destroyed in Warsaw?',\n",
       "     'id': '57338007d058e614000b5bde'}]},\n",
       "  {'context': \"The basic unit of territorial division in Poland is a commune (gmina). A city is also a commune – but with the city charter. Both cities and communes are governed by a mayor – but in the communes the mayor is vogt (wójt in Polish), however in the cities – burmistrz. Some bigger cities obtain the entitlements, i.e. tasks and privileges, which are possessed by the units of the second level of the territorial division – counties or powiats. An example of such entitlement is a car registration: a gmina cannot register cars, this is a powiat's task (i.e. a registration number depends on what powiat a car had been registered, not gmina). In this case we say about city county or powiat grodzki. Such cities are for example Lublin, Kraków, Gdańsk, Poznań. In Warsaw, its districts additionally have some of powiat's entitlements – like already mentioned car registration. For example, the district Wola has its own evidence and the district Ursynów – its own (and the cars from Wola have another type of registration number than these from Ursynów). But for instance the districts in Kraków do not have entitlements of powiat, so the registration numbers in Kraków are of the same type for all districts.\",\n",
       "   'qas': [{'answers': [{'answer_start': 52, 'text': 'a commune'},\n",
       "      {'answer_start': 54, 'text': 'commune'},\n",
       "      {'answer_start': 54, 'text': 'commune'}],\n",
       "     'question': 'What is the basic unit of territorial division in Poland?',\n",
       "     'id': '573380e0d058e614000b5be9'},\n",
       "    {'answers': [{'answer_start': 421, 'text': 'counties or powiats'},\n",
       "      {'answer_start': 421, 'text': 'counties or powiats'},\n",
       "      {'answer_start': 421, 'text': 'counties or powiats'}],\n",
       "     'question': 'What is the second level of territorial division in Poland?',\n",
       "     'id': '573380e0d058e614000b5bea'},\n",
       "    {'answers': [{'answer_start': 1085, 'text': 'Kraków'},\n",
       "      {'answer_start': 1085, 'text': 'Kraków'}],\n",
       "     'question': 'In what districts are the registration numbers for cars all of the same type?',\n",
       "     'id': '573380e0d058e614000b5beb'}]},\n",
       "  {'context': 'Legislative power in Warsaw is vested in a unicameral Warsaw City Council (Rada Miasta), which comprises 60 members. Council members are elected directly every four years. Like most legislative bodies, the City Council divides itself into committees which have the oversight of various functions of the city government. Bills passed by a simple majority are sent to the mayor (the President of Warsaw), who may sign them into law. If the mayor vetoes a bill, the Council has 30 days to override the veto by a two-thirds majority vote.',\n",
       "   'qas': [{'answers': [{'answer_start': 54, 'text': 'Warsaw City Council'},\n",
       "      {'answer_start': 54, 'text': 'Warsaw City Council'},\n",
       "      {'answer_start': 54, 'text': 'Warsaw City Council'}],\n",
       "     'question': 'Who in Warsaw has the power of legislative action?',\n",
       "     'id': '57338160d058e614000b5bf9'},\n",
       "    {'answers': [{'answer_start': 105, 'text': '60'},\n",
       "      {'answer_start': 105, 'text': '60'},\n",
       "      {'answer_start': 105, 'text': '60'}],\n",
       "     'question': 'How many members are on the Warsaw City Counil?',\n",
       "     'id': '57338160d058e614000b5bfa'},\n",
       "    {'answers': [{'answer_start': 154, 'text': 'every four years'},\n",
       "      {'answer_start': 160, 'text': 'four years'},\n",
       "      {'answer_start': 154, 'text': 'every four years.'}],\n",
       "     'question': 'How often are elections for the counsel held?',\n",
       "     'id': '57338160d058e614000b5bfb'},\n",
       "    {'answers': [{'answer_start': 239, 'text': 'committees'},\n",
       "      {'answer_start': 239, 'text': 'committees'},\n",
       "      {'answer_start': 239, 'text': 'committees'}],\n",
       "     'question': 'What does the City Council divide itself into?',\n",
       "     'id': '57338160d058e614000b5bfc'},\n",
       "    {'answers': [{'answer_start': 475, 'text': '30 days'},\n",
       "      {'answer_start': 475, 'text': '30'},\n",
       "      {'answer_start': 475, 'text': '30'}],\n",
       "     'question': \"How many days does the Council have to override the mayor's veto?\",\n",
       "     'id': '57338160d058e614000b5bfd'}]},\n",
       "  {'context': 'The mayor of Warsaw is called President. Generally, in Poland, the mayors of bigger cities are called presidents – i.e. such cities, which have over 100,000 people or these, where already was president before 1990. The first Warsaw President was Jan Andrzej Menich (1695–1696). Between 1975 and 1990 the Warsaw Presidents was simultaneously the Warsaw Voivode. Since 1990 the President of Warsaw had been elected by the City council. In the years of 1994–1999 the mayor of the district Centrum automatically was designated as the President of Warsaw: the mayor of Centrum was elected by the district council of Centrum and the council was elected only by the Centrum residents. Since 2002 the President of Warsaw is elected by all of the citizens of Warsaw.',\n",
       "   'qas': [{'answers': [{'answer_start': 30, 'text': 'President'},\n",
       "      {'answer_start': 30, 'text': 'President'},\n",
       "      {'answer_start': 30, 'text': 'President'}],\n",
       "     'question': 'What is the mayor of Warsaw called?',\n",
       "     'id': '57338255d058e614000b5c0d'},\n",
       "    {'answers': [{'answer_start': 246, 'text': 'Jan Andrzej Menich'},\n",
       "      {'answer_start': 246, 'text': 'Jan Andrzej Menich'},\n",
       "      {'answer_start': 246, 'text': 'Jan Andrzej Menich'}],\n",
       "     'question': 'Who was the first Warsaw President?',\n",
       "     'id': '57338255d058e614000b5c0e'},\n",
       "    {'answers': [{'answer_start': 266, 'text': '1695–1696'},\n",
       "      {'answer_start': 266, 'text': '1695–1696'},\n",
       "      {'answer_start': 266, 'text': '1695–1696'}],\n",
       "     'question': 'When did Menich serve as President?',\n",
       "     'id': '57338255d058e614000b5c0f'},\n",
       "    {'answers': [{'answer_start': 416, 'text': 'the City council'},\n",
       "      {'answer_start': 420, 'text': 'City council'},\n",
       "      {'answer_start': 420, 'text': 'City council'}],\n",
       "     'question': 'Who has elected the President of Warsaw since 1990?',\n",
       "     'id': '57338255d058e614000b5c10'},\n",
       "    {'answers': [{'answer_start': 486, 'text': 'Centrum'},\n",
       "      {'answer_start': 486, 'text': 'Centrum'},\n",
       "      {'answer_start': 486, 'text': 'Centrum'}],\n",
       "     'question': 'What district of Warsaw chose the President between 1994 and 1999?',\n",
       "     'id': '57338255d058e614000b5c11'}]},\n",
       "  {'context': \"Warsaw, especially its city centre (Śródmieście), is home not only to many national institutions and government agencies, but also to many domestic and international companies. In 2006, 304,016 companies were registered in the city. Warsaw's ever-growing business community has been noticed globally, regionally, and nationally. MasterCard Emerging Market Index has noted Warsaw's economic strength and commercial center. Moreover, Warsaw was ranked as the 7th greatest emerging market. Foreign investors' financial participation in the city's development was estimated in 2002 at over 650 million euro. Warsaw produces 12% of Poland's national income, which in 2008 was 305.1% of the Polish average, per capita (or 160% of the European Union average). The GDP per capita in Warsaw amounted to PLN 94 000 in 2008 (c. EUR 23 800, USD 33 000). Total nominal GDP of the city in 2010 amounted to 191.766 billion PLN, 111696 PLN per capita, which was 301,1 % of Polish average. Warsaw leads the region of East-Central Europe in foreign investment and in 2006, GDP growth met expectations with a level of 6.1%. It also has one of the fastest growing economies, with GDP growth at 6.5 percent in 2007 and 6.1 percent in the first quarter of 2008.\",\n",
       "   'qas': [{'answers': [{'answer_start': 36, 'text': 'Śródmieście'},\n",
       "      {'answer_start': 36, 'text': 'Śródmieście'},\n",
       "      {'answer_start': 36, 'text': 'Śródmieście'}],\n",
       "     'question': 'What is the city centre of Warsaw called in Polish?',\n",
       "     'id': '573382d24776f41900660c37'},\n",
       "    {'answers': [{'answer_start': 186, 'text': '304,016'},\n",
       "      {'answer_start': 186, 'text': '304,016'}],\n",
       "     'question': 'How many companies were registered in Warsaw in 2006?',\n",
       "     'id': '573382d24776f41900660c38'},\n",
       "    {'answers': [{'answer_start': 470, 'text': 'emerging market'},\n",
       "      {'answer_start': 470, 'text': 'emerging market'},\n",
       "      {'answer_start': 470, 'text': 'emerging market'}],\n",
       "     'question': 'What was Warsaw ranked the 7th greatest of?',\n",
       "     'id': '573382d24776f41900660c39'},\n",
       "    {'answers': [{'answer_start': 620, 'text': '12%'},\n",
       "      {'answer_start': 620, 'text': '12%'},\n",
       "      {'answer_start': 620, 'text': '12%'}],\n",
       "     'question': \"How much of Poland's national income does Warsaw produce?\",\n",
       "     'id': '573382d24776f41900660c3a'},\n",
       "    {'answers': [{'answer_start': 892, 'text': '191.766 billion PLN'},\n",
       "      {'answer_start': 892, 'text': '191.766 billion PLN'},\n",
       "      {'answer_start': 892, 'text': '191.766 billion PLN'}],\n",
       "     'question': 'What was the total nominal GDP of Warsaw in 2010?',\n",
       "     'id': '573382d24776f41900660c3b'}]},\n",
       "  {'context': \"Warsaw's first stock exchange was established in 1817 and continued trading until World War II. It was re-established in April 1991, following the end of the post-war communist control of the country and the reintroduction of a free-market economy. Today, the Warsaw Stock Exchange (WSE) is, according to many indicators, the largest market in the region, with 374 companies listed and total capitalization of 162 584 mln EUR as of 31 August 2009. From 1991 until 2000, the stock exchange was, ironically, located in the building previously used as the headquarters of the Polish United Workers' Party (PZPR).\",\n",
       "   'qas': [{'answers': [{'answer_start': 49, 'text': '1817'},\n",
       "      {'answer_start': 49, 'text': '1817'},\n",
       "      {'answer_start': 49, 'text': '1817'}],\n",
       "     'question': \"When was Warsaw's first stock exchange established?\",\n",
       "     'id': '5733834ed058e614000b5c26'},\n",
       "    {'answers': [{'answer_start': 82, 'text': 'World War II'},\n",
       "      {'answer_start': 82, 'text': 'World War II'},\n",
       "      {'answer_start': 82, 'text': 'World War II.'}],\n",
       "     'question': \"What brought Warsaw's stock exchange to a stop?\",\n",
       "     'id': '5733834ed058e614000b5c27'},\n",
       "    {'answers': [{'answer_start': 121, 'text': 'April 1991'},\n",
       "      {'answer_start': 121, 'text': 'April 1991'},\n",
       "      {'answer_start': 121, 'text': 'April 1991'}],\n",
       "     'question': \"When was Warsaw's stock exchange brought back to life?\",\n",
       "     'id': '5733834ed058e614000b5c28'},\n",
       "    {'answers': [{'answer_start': 361, 'text': '374'},\n",
       "      {'answer_start': 361, 'text': '374'},\n",
       "      {'answer_start': 361, 'text': '374'}],\n",
       "     'question': 'How many companies were listed on the WSE on August 2009?',\n",
       "     'id': '5733834ed058e614000b5c29'},\n",
       "    {'answers': [{'answer_start': 573, 'text': \"Polish United Workers' Party\"},\n",
       "      {'answer_start': 573, 'text': \"Polish United Workers' Party\"},\n",
       "      {'answer_start': 573, 'text': \"Polish United Workers' Party\"}],\n",
       "     'question': 'Whose former headquarters was the WSE located in until 2000?',\n",
       "     'id': '5733834ed058e614000b5c2a'}]},\n",
       "  {'context': 'The FSO Car Factory was established in 1951. A number of vehicles have been assembled there over the decades, including the Warszawa, Syrena, Fiat 125p (under license from Fiat, later renamed FSO 125p when the license expired) and the Polonez. The last two models listed were also sent abroad and assembled in a number of other countries, including Egypt and Colombia. In 1995 the factory was purchased by the South Korean car manufacturer Daewoo, which assembled the Tico, Espero, Nubia, Tacuma, Leganza, Lanos and Matiz there for the European market. In 2005 the factory was sold to AvtoZAZ, a Ukrainian car manufacturer which assembled there the Chevrolet Aveo. The license for the production of the Aveo expired in February 2011 and has since not been renewed. Currently the company is defunct.',\n",
       "   'qas': [{'answers': [{'answer_start': 39, 'text': '1951'},\n",
       "      {'answer_start': 39, 'text': '1951'},\n",
       "      {'answer_start': 39, 'text': '1951'}],\n",
       "     'question': 'When was the FSO Car Factory founded?',\n",
       "     'id': '573383d0d058e614000b5c35'},\n",
       "    {'answers': [{'answer_start': 235, 'text': 'Polonez'},\n",
       "      {'answer_start': 196, 'text': '125p'},\n",
       "      {'answer_start': 235, 'text': 'Polonez'}],\n",
       "     'question': 'What car is licensed by the FSO Car Factory and built in Egypt?',\n",
       "     'id': '573383d0d058e614000b5c36'},\n",
       "    {'answers': [{'answer_start': 440, 'text': 'Daewoo'},\n",
       "      {'answer_start': 440, 'text': 'Daewoo'},\n",
       "      {'answer_start': 440, 'text': 'Daewoo'}],\n",
       "     'question': 'What South Korean car manufacturer purchased the factor in 1995?',\n",
       "     'id': '573383d0d058e614000b5c37'},\n",
       "    {'answers': [{'answer_start': 585, 'text': 'AvtoZAZ'},\n",
       "      {'answer_start': 585, 'text': 'AvtoZAZ'},\n",
       "      {'answer_start': 585, 'text': 'AvtoZAZ'}],\n",
       "     'question': 'Who bought the factory in 2005?',\n",
       "     'id': '573383d0d058e614000b5c38'},\n",
       "    {'answers': [{'answer_start': 649, 'text': 'Chevrolet Aveo'},\n",
       "      {'answer_start': 703, 'text': 'Aveo'},\n",
       "      {'answer_start': 703, 'text': 'Aveo'}],\n",
       "     'question': 'What did the license to build this type of car expire in 2011?',\n",
       "     'id': '573383d0d058e614000b5c39'}]},\n",
       "  {'context': 'Warsaw (Polish: Warszawa [varˈʂava] ( listen); see also other names) is the capital and largest city of Poland. It stands on the Vistula River in east-central Poland, roughly 260 kilometres (160 mi) from the Baltic Sea and 300 kilometres (190 mi) from the Carpathian Mountains. Its population is estimated at 1.740 million residents within a greater metropolitan area of 2.666 million residents, which makes Warsaw the 9th most-populous capital city in the European Union. The city limits cover 516.9 square kilometres (199.6 sq mi), while the metropolitan area covers 6,100.43 square kilometres (2,355.39 sq mi).',\n",
       "   'qas': [{'answers': [{'answer_start': 16, 'text': 'Warszawa'},\n",
       "      {'answer_start': 16, 'text': 'Warszawa'},\n",
       "      {'answer_start': 16, 'text': 'Warszawa'}],\n",
       "     'question': 'What is Warsaw known as in Polish?',\n",
       "     'id': '573166ede6313a140071cef2'},\n",
       "    {'answers': [{'answer_start': 0, 'text': 'Warsaw'},\n",
       "      {'answer_start': 0, 'text': 'Warsaw'},\n",
       "      {'answer_start': 0, 'text': 'Warsaw'}],\n",
       "     'question': 'What is the largest city in Poland?',\n",
       "     'id': '573166ede6313a140071cef3'},\n",
       "    {'answers': [{'answer_start': 129, 'text': 'Vistula River'},\n",
       "      {'answer_start': 129, 'text': 'Vistula River'},\n",
       "      {'answer_start': 129, 'text': 'Vistula'}],\n",
       "     'question': 'What river runs through Warsaw?',\n",
       "     'id': '573166ede6313a140071cef4'},\n",
       "    {'answers': [{'answer_start': 371, 'text': '2.666 million residents'},\n",
       "      {'answer_start': 371, 'text': '2.666 million'},\n",
       "      {'answer_start': 371, 'text': '2.666 million'}],\n",
       "     'question': 'How many people live in the greater metropolitan area?',\n",
       "     'id': '573166ede6313a140071cef5'},\n",
       "    {'answers': [{'answer_start': 419, 'text': '9th'},\n",
       "      {'answer_start': 419, 'text': '9th'},\n",
       "      {'answer_start': 419, 'text': '9th'}],\n",
       "     'question': 'Where does Warsaw rank in terms of population in the EU?',\n",
       "     'id': '573166ede6313a140071cef6'},\n",
       "    {'answers': [{'answer_start': 0, 'text': 'Warsaw'},\n",
       "      {'answer_start': 0, 'text': 'Warsaw'},\n",
       "      {'answer_start': 0, 'text': 'Warsaw'}],\n",
       "     'question': 'What is the largest city of Poland?',\n",
       "     'id': '5732b6b5328d981900602021'},\n",
       "    {'answers': [{'answer_start': 129, 'text': 'Vistula'},\n",
       "      {'answer_start': 129, 'text': 'Vistula River'},\n",
       "      {'answer_start': 129, 'text': 'Vistula'}],\n",
       "     'question': 'On what river does Warsaw stand?',\n",
       "     'id': '5732b6b5328d981900602022'},\n",
       "    {'answers': [{'answer_start': 167, 'text': 'roughly 260 kilometres'},\n",
       "      {'answer_start': 175, 'text': '260 kilometres'},\n",
       "      {'answer_start': 175, 'text': '260 kilometres'}],\n",
       "     'question': 'How far is Warsaw from the Baltic Sea?',\n",
       "     'id': '5732b6b5328d981900602023'},\n",
       "    {'answers': [{'answer_start': 371, 'text': '2.666 million'},\n",
       "      {'answer_start': 371, 'text': '2.666 million'},\n",
       "      {'answer_start': 371, 'text': '2.666 million'}],\n",
       "     'question': 'How many residents does the greater metropolitan area have?',\n",
       "     'id': '5732b6b5328d981900602024'},\n",
       "    {'answers': [{'answer_start': 419, 'text': '9th'},\n",
       "      {'answer_start': 419, 'text': '9th'},\n",
       "      {'answer_start': 419, 'text': '9th'}],\n",
       "     'question': 'What rank for most populous city in the European Union does Warsaw hold?',\n",
       "     'id': '5732b6b5328d981900602025'}]}]}"
      ]
     },
     "execution_count": 169,
     "metadata": {},
     "output_type": "execute_result"
    }
   ],
   "source": [
    "data[1]"
   ]
  },
  {
   "cell_type": "code",
   "execution_count": 27,
   "metadata": {},
   "outputs": [],
   "source": [
    "candidate = ['when', 'how', 'where', 'which', 'what', 'who', 'how many', 'whose', 'whom', 'why']\n",
    "how_words = ['many','tall','much','tall','old', 'often', 'deep', 'high', 'long', 'far', 'wide']\n",
    "changelist = ['(what?)', '(what)', '(which?)', '(Which?)', '(which)', '(Which)']"
   ]
  },
  {
   "cell_type": "code",
   "execution_count": 208,
   "metadata": {},
   "outputs": [],
   "source": [
    "num_question_length = []\n",
    "num_question_length_else = []"
   ]
  },
  {
   "cell_type": "code",
   "execution_count": 209,
   "metadata": {},
   "outputs": [
    {
     "data": {
      "application/vnd.jupyter.widget-view+json": {
       "model_id": "3a7b172eaf144e40b3206c1507f929c4",
       "version_major": 2,
       "version_minor": 0
      },
      "text/plain": [
       "HBox(children=(IntProgress(value=0, max=48), HTML(value='')))"
      ]
     },
     "metadata": {},
     "output_type": "display_data"
    },
    {
     "name": "stdout",
     "output_type": "stream",
     "text": [
      "\n"
     ]
    }
   ],
   "source": [
    "whtype_dict = dict()\n",
    "\n",
    "for can in candidate:\n",
    "    whtype_dict[can] = []\n",
    "whtype_dict['none'] = []\n",
    "whtype_dict['implicit_what'] = []\n",
    "whtype_dict['name'] = []\n",
    "whtype_dict['cloze'] = []\n",
    "\n",
    "qid_list = []\n",
    "whtype_list = []\n",
    "RC_solvable_list = []\n",
    "RC_solvable_list2 = []\n",
    "RC_solvable_count = []\n",
    "xlnet_solvable_list = []\n",
    "\n",
    "for document in tqdm_notebook(data):\n",
    "    for paragraph in document['paragraphs']:\n",
    "        for qas in paragraph['qas']:\n",
    "            question = clearquestion(qas['question'])\n",
    "            whtype = findWHword(question)\n",
    "            if whtype == 'whose' or whtype == 'whom': whtype = 'who'\n",
    "\n",
    "            whtype_dict[whtype].append(qas['id'])\n",
    "\n",
    "            qid_list.append(qas['id'])\n",
    "            whtype_list.append(whtype)\n",
    "            \n",
    "            if whtype == 'what' or whtype == 'which' or whtype == 'none':\n",
    "                pass\n",
    "            \n",
    "            elif whtype == 'how' or whtype == 'why':\n",
    "                num_question_length.append(len(qas['answers'][0]['text'].split()))\n",
    "            else:\n",
    "                num_question_length_else.append(len(qas['answers'][0]['text'].split()))\n",
    "            \n",
    "            count = 0\n",
    "            if not qas['id'] in wrong_bert: count += 1\n",
    "            if not qas['id'] in wrong_bidaf: count += 1\n",
    "            if not qas['id'] in wrong_docqa: count += 1\n",
    "            if not qas['id'] in wrong_xlnet: count += 1\n",
    "                \n",
    "            RC_solvable_count.append(count)\n",
    "\n",
    "            solvable = False if qas['id'] in rc_wrong else True\n",
    "            solvable2 = False if qas['id'] in all_wrong else True\n",
    "            xlnet_solvable = False if qas['id'] in wrong_xlnet else True\n",
    "            RC_solvable_list.append(solvable)\n",
    "            RC_solvable_list2.append(solvable2)\n",
    "            xlnet_solvable_list.append(xlnet_solvable)"
   ]
  },
  {
   "cell_type": "code",
   "execution_count": 210,
   "metadata": {},
   "outputs": [
    {
     "data": {
      "text/plain": [
       "4.900505902192243"
      ]
     },
     "execution_count": 210,
     "metadata": {},
     "output_type": "execute_result"
    }
   ],
   "source": [
    "sum(num_question_length)/len(num_question_length)"
   ]
  },
  {
   "cell_type": "code",
   "execution_count": 211,
   "metadata": {},
   "outputs": [
    {
     "data": {
      "text/plain": [
       "2.507250945775536"
      ]
     },
     "execution_count": 211,
     "metadata": {},
     "output_type": "execute_result"
    }
   ],
   "source": [
    "sum(num_question_length_else)/len(num_question_length_else)"
   ]
  },
  {
   "cell_type": "code",
   "execution_count": 213,
   "metadata": {},
   "outputs": [
    {
     "data": {
      "text/plain": [
       "Ttest_indResult(statistic=13.252529730433544, pvalue=1.1535875574356315e-35)"
      ]
     },
     "execution_count": 213,
     "metadata": {},
     "output_type": "execute_result"
    }
   ],
   "source": [
    "from scipy import stats\n",
    "stats.ttest_ind(num_question_length,num_question_length_else, equal_var = False)"
   ]
  },
  {
   "cell_type": "code",
   "execution_count": 29,
   "metadata": {},
   "outputs": [],
   "source": [
    "del whtype_dict['whose'], whtype_dict['whom']"
   ]
  },
  {
   "cell_type": "code",
   "execution_count": 30,
   "metadata": {},
   "outputs": [],
   "source": [
    "# dictionary of lists\n",
    "qid_dict = {'qid': qid_list, 'whtype': whtype_list, 'RC_solvable': RC_solvable_list, 'RC_solvable2': RC_solvable_list2, 'RC_solvable_count': RC_solvable_count}"
   ]
  },
  {
   "cell_type": "code",
   "execution_count": 30,
   "metadata": {},
   "outputs": [],
   "source": [
    "# dictionary of lists\n",
    "qid_dict_xl = {'qid': qid_list, 'whtype': whtype_list, 'xlnet_solvable': xlnet_solvable_list}"
   ]
  },
  {
   "cell_type": "code",
   "execution_count": 31,
   "metadata": {},
   "outputs": [],
   "source": [
    "df = pd.DataFrame(qid_dict)"
   ]
  },
  {
   "cell_type": "code",
   "execution_count": 31,
   "metadata": {},
   "outputs": [],
   "source": [
    "df = pd.DataFrame(qid_dict_xl)"
   ]
  },
  {
   "cell_type": "code",
   "execution_count": 32,
   "metadata": {
    "scrolled": true
   },
   "outputs": [
    {
     "data": {
      "text/html": [
       "<div>\n",
       "<style scoped>\n",
       "    .dataframe tbody tr th:only-of-type {\n",
       "        vertical-align: middle;\n",
       "    }\n",
       "\n",
       "    .dataframe tbody tr th {\n",
       "        vertical-align: top;\n",
       "    }\n",
       "\n",
       "    .dataframe thead th {\n",
       "        text-align: right;\n",
       "    }\n",
       "</style>\n",
       "<table border=\"1\" class=\"dataframe\">\n",
       "  <thead>\n",
       "    <tr style=\"text-align: right;\">\n",
       "      <th></th>\n",
       "      <th>qid</th>\n",
       "      <th>whtype</th>\n",
       "      <th>RC_solvable</th>\n",
       "      <th>RC_solvable2</th>\n",
       "      <th>RC_solvable_count</th>\n",
       "    </tr>\n",
       "  </thead>\n",
       "  <tbody>\n",
       "    <tr>\n",
       "      <th>0</th>\n",
       "      <td>56be4db0acb8001400a502ec</td>\n",
       "      <td>which</td>\n",
       "      <td>True</td>\n",
       "      <td>True</td>\n",
       "      <td>4</td>\n",
       "    </tr>\n",
       "    <tr>\n",
       "      <th>1</th>\n",
       "      <td>56be4db0acb8001400a502ed</td>\n",
       "      <td>which</td>\n",
       "      <td>False</td>\n",
       "      <td>True</td>\n",
       "      <td>2</td>\n",
       "    </tr>\n",
       "    <tr>\n",
       "      <th>2</th>\n",
       "      <td>56be4db0acb8001400a502ee</td>\n",
       "      <td>where</td>\n",
       "      <td>False</td>\n",
       "      <td>True</td>\n",
       "      <td>1</td>\n",
       "    </tr>\n",
       "    <tr>\n",
       "      <th>3</th>\n",
       "      <td>56be4db0acb8001400a502ef</td>\n",
       "      <td>which</td>\n",
       "      <td>True</td>\n",
       "      <td>True</td>\n",
       "      <td>4</td>\n",
       "    </tr>\n",
       "    <tr>\n",
       "      <th>4</th>\n",
       "      <td>56be4db0acb8001400a502f0</td>\n",
       "      <td>what</td>\n",
       "      <td>False</td>\n",
       "      <td>True</td>\n",
       "      <td>3</td>\n",
       "    </tr>\n",
       "    <tr>\n",
       "      <th>...</th>\n",
       "      <td>...</td>\n",
       "      <td>...</td>\n",
       "      <td>...</td>\n",
       "      <td>...</td>\n",
       "      <td>...</td>\n",
       "    </tr>\n",
       "    <tr>\n",
       "      <th>10565</th>\n",
       "      <td>5737aafd1c456719005744fb</td>\n",
       "      <td>what</td>\n",
       "      <td>False</td>\n",
       "      <td>True</td>\n",
       "      <td>3</td>\n",
       "    </tr>\n",
       "    <tr>\n",
       "      <th>10566</th>\n",
       "      <td>5737aafd1c456719005744fc</td>\n",
       "      <td>what</td>\n",
       "      <td>True</td>\n",
       "      <td>True</td>\n",
       "      <td>4</td>\n",
       "    </tr>\n",
       "    <tr>\n",
       "      <th>10567</th>\n",
       "      <td>5737aafd1c456719005744fd</td>\n",
       "      <td>what</td>\n",
       "      <td>True</td>\n",
       "      <td>True</td>\n",
       "      <td>4</td>\n",
       "    </tr>\n",
       "    <tr>\n",
       "      <th>10568</th>\n",
       "      <td>5737aafd1c456719005744fe</td>\n",
       "      <td>what</td>\n",
       "      <td>False</td>\n",
       "      <td>True</td>\n",
       "      <td>3</td>\n",
       "    </tr>\n",
       "    <tr>\n",
       "      <th>10569</th>\n",
       "      <td>5737aafd1c456719005744ff</td>\n",
       "      <td>what</td>\n",
       "      <td>False</td>\n",
       "      <td>True</td>\n",
       "      <td>1</td>\n",
       "    </tr>\n",
       "  </tbody>\n",
       "</table>\n",
       "<p>10570 rows × 5 columns</p>\n",
       "</div>"
      ],
      "text/plain": [
       "                            qid whtype  RC_solvable  RC_solvable2  \\\n",
       "0      56be4db0acb8001400a502ec  which         True          True   \n",
       "1      56be4db0acb8001400a502ed  which        False          True   \n",
       "2      56be4db0acb8001400a502ee  where        False          True   \n",
       "3      56be4db0acb8001400a502ef  which         True          True   \n",
       "4      56be4db0acb8001400a502f0   what        False          True   \n",
       "...                         ...    ...          ...           ...   \n",
       "10565  5737aafd1c456719005744fb   what        False          True   \n",
       "10566  5737aafd1c456719005744fc   what         True          True   \n",
       "10567  5737aafd1c456719005744fd   what         True          True   \n",
       "10568  5737aafd1c456719005744fe   what        False          True   \n",
       "10569  5737aafd1c456719005744ff   what        False          True   \n",
       "\n",
       "       RC_solvable_count  \n",
       "0                      4  \n",
       "1                      2  \n",
       "2                      1  \n",
       "3                      4  \n",
       "4                      3  \n",
       "...                  ...  \n",
       "10565                  3  \n",
       "10566                  4  \n",
       "10567                  4  \n",
       "10568                  3  \n",
       "10569                  1  \n",
       "\n",
       "[10570 rows x 5 columns]"
      ]
     },
     "execution_count": 32,
     "metadata": {},
     "output_type": "execute_result"
    }
   ],
   "source": [
    "df"
   ]
  },
  {
   "cell_type": "code",
   "execution_count": 38,
   "metadata": {
    "scrolled": true
   },
   "outputs": [
    {
     "data": {
      "text/html": [
       "<div>\n",
       "<style scoped>\n",
       "    .dataframe tbody tr th:only-of-type {\n",
       "        vertical-align: middle;\n",
       "    }\n",
       "\n",
       "    .dataframe tbody tr th {\n",
       "        vertical-align: top;\n",
       "    }\n",
       "\n",
       "    .dataframe thead th {\n",
       "        text-align: right;\n",
       "    }\n",
       "</style>\n",
       "<table border=\"1\" class=\"dataframe\">\n",
       "  <thead>\n",
       "    <tr style=\"text-align: right;\">\n",
       "      <th></th>\n",
       "      <th>qid</th>\n",
       "      <th>whtype</th>\n",
       "      <th>RC_solvable</th>\n",
       "      <th>RC_solvable2</th>\n",
       "      <th>RC_solvable_count</th>\n",
       "    </tr>\n",
       "  </thead>\n",
       "  <tbody>\n",
       "    <tr>\n",
       "      <th>0</th>\n",
       "      <td>56be4db0acb8001400a502ec</td>\n",
       "      <td>which</td>\n",
       "      <td>True</td>\n",
       "      <td>True</td>\n",
       "      <td>4</td>\n",
       "    </tr>\n",
       "    <tr>\n",
       "      <th>1</th>\n",
       "      <td>56be4db0acb8001400a502ed</td>\n",
       "      <td>which</td>\n",
       "      <td>False</td>\n",
       "      <td>True</td>\n",
       "      <td>2</td>\n",
       "    </tr>\n",
       "    <tr>\n",
       "      <th>3</th>\n",
       "      <td>56be4db0acb8001400a502ef</td>\n",
       "      <td>which</td>\n",
       "      <td>True</td>\n",
       "      <td>True</td>\n",
       "      <td>4</td>\n",
       "    </tr>\n",
       "    <tr>\n",
       "      <th>4</th>\n",
       "      <td>56be4db0acb8001400a502f0</td>\n",
       "      <td>what</td>\n",
       "      <td>False</td>\n",
       "      <td>True</td>\n",
       "      <td>3</td>\n",
       "    </tr>\n",
       "    <tr>\n",
       "      <th>5</th>\n",
       "      <td>56be8e613aeaaa14008c90d1</td>\n",
       "      <td>what</td>\n",
       "      <td>False</td>\n",
       "      <td>False</td>\n",
       "      <td>0</td>\n",
       "    </tr>\n",
       "    <tr>\n",
       "      <th>...</th>\n",
       "      <td>...</td>\n",
       "      <td>...</td>\n",
       "      <td>...</td>\n",
       "      <td>...</td>\n",
       "      <td>...</td>\n",
       "    </tr>\n",
       "    <tr>\n",
       "      <th>10565</th>\n",
       "      <td>5737aafd1c456719005744fb</td>\n",
       "      <td>what</td>\n",
       "      <td>False</td>\n",
       "      <td>True</td>\n",
       "      <td>3</td>\n",
       "    </tr>\n",
       "    <tr>\n",
       "      <th>10566</th>\n",
       "      <td>5737aafd1c456719005744fc</td>\n",
       "      <td>what</td>\n",
       "      <td>True</td>\n",
       "      <td>True</td>\n",
       "      <td>4</td>\n",
       "    </tr>\n",
       "    <tr>\n",
       "      <th>10567</th>\n",
       "      <td>5737aafd1c456719005744fd</td>\n",
       "      <td>what</td>\n",
       "      <td>True</td>\n",
       "      <td>True</td>\n",
       "      <td>4</td>\n",
       "    </tr>\n",
       "    <tr>\n",
       "      <th>10568</th>\n",
       "      <td>5737aafd1c456719005744fe</td>\n",
       "      <td>what</td>\n",
       "      <td>False</td>\n",
       "      <td>True</td>\n",
       "      <td>3</td>\n",
       "    </tr>\n",
       "    <tr>\n",
       "      <th>10569</th>\n",
       "      <td>5737aafd1c456719005744ff</td>\n",
       "      <td>what</td>\n",
       "      <td>False</td>\n",
       "      <td>True</td>\n",
       "      <td>1</td>\n",
       "    </tr>\n",
       "  </tbody>\n",
       "</table>\n",
       "<p>6733 rows × 5 columns</p>\n",
       "</div>"
      ],
      "text/plain": [
       "                            qid whtype  RC_solvable  RC_solvable2  \\\n",
       "0      56be4db0acb8001400a502ec  which         True          True   \n",
       "1      56be4db0acb8001400a502ed  which        False          True   \n",
       "3      56be4db0acb8001400a502ef  which         True          True   \n",
       "4      56be4db0acb8001400a502f0   what        False          True   \n",
       "5      56be8e613aeaaa14008c90d1   what        False         False   \n",
       "...                         ...    ...          ...           ...   \n",
       "10565  5737aafd1c456719005744fb   what        False          True   \n",
       "10566  5737aafd1c456719005744fc   what         True          True   \n",
       "10567  5737aafd1c456719005744fd   what         True          True   \n",
       "10568  5737aafd1c456719005744fe   what        False          True   \n",
       "10569  5737aafd1c456719005744ff   what        False          True   \n",
       "\n",
       "       RC_solvable_count  \n",
       "0                      4  \n",
       "1                      2  \n",
       "3                      4  \n",
       "4                      3  \n",
       "5                      0  \n",
       "...                  ...  \n",
       "10565                  3  \n",
       "10566                  4  \n",
       "10567                  4  \n",
       "10568                  3  \n",
       "10569                  1  \n",
       "\n",
       "[6733 rows x 5 columns]"
      ]
     },
     "execution_count": 38,
     "metadata": {},
     "output_type": "execute_result"
    }
   ],
   "source": [
    "df.loc[(df['whtype'] == 'what') | (df['whtype'] == 'which')]"
   ]
  },
  {
   "cell_type": "code",
   "execution_count": 33,
   "metadata": {},
   "outputs": [
    {
     "data": {
      "text/plain": [
       "Index(['qid', 'whtype', 'RC_solvable', 'RC_solvable2', 'RC_solvable_count'], dtype='object')"
      ]
     },
     "execution_count": 33,
     "metadata": {},
     "output_type": "execute_result"
    }
   ],
   "source": [
    "df.keys()"
   ]
  },
  {
   "cell_type": "code",
   "execution_count": 39,
   "metadata": {},
   "outputs": [],
   "source": [
    "WHtypes = ['None','how','how many','what','when','where','which','who','why']"
   ]
  },
  {
   "cell_type": "code",
   "execution_count": 40,
   "metadata": {},
   "outputs": [],
   "source": [
    "WHtypes += [\"ColTotal\"]"
   ]
  },
  {
   "cell_type": "code",
   "execution_count": 38,
   "metadata": {},
   "outputs": [
    {
     "ename": "KeyError",
     "evalue": "'xlnet_solvable'",
     "output_type": "error",
     "traceback": [
      "\u001b[0;31m---------------------------------------------------------------------------\u001b[0m",
      "\u001b[0;31mKeyError\u001b[0m                                  Traceback (most recent call last)",
      "\u001b[0;32m~/anaconda3/envs/qa_analysis/lib/python3.7/site-packages/pandas/core/indexes/base.py\u001b[0m in \u001b[0;36mget_loc\u001b[0;34m(self, key, method, tolerance)\u001b[0m\n\u001b[1;32m   2896\u001b[0m             \u001b[0;32mtry\u001b[0m\u001b[0;34m:\u001b[0m\u001b[0;34m\u001b[0m\u001b[0;34m\u001b[0m\u001b[0m\n\u001b[0;32m-> 2897\u001b[0;31m                 \u001b[0;32mreturn\u001b[0m \u001b[0mself\u001b[0m\u001b[0;34m.\u001b[0m\u001b[0m_engine\u001b[0m\u001b[0;34m.\u001b[0m\u001b[0mget_loc\u001b[0m\u001b[0;34m(\u001b[0m\u001b[0mkey\u001b[0m\u001b[0;34m)\u001b[0m\u001b[0;34m\u001b[0m\u001b[0;34m\u001b[0m\u001b[0m\n\u001b[0m\u001b[1;32m   2898\u001b[0m             \u001b[0;32mexcept\u001b[0m \u001b[0mKeyError\u001b[0m\u001b[0;34m:\u001b[0m\u001b[0;34m\u001b[0m\u001b[0;34m\u001b[0m\u001b[0m\n",
      "\u001b[0;32mpandas/_libs/index.pyx\u001b[0m in \u001b[0;36mpandas._libs.index.IndexEngine.get_loc\u001b[0;34m()\u001b[0m\n",
      "\u001b[0;32mpandas/_libs/index.pyx\u001b[0m in \u001b[0;36mpandas._libs.index.IndexEngine.get_loc\u001b[0;34m()\u001b[0m\n",
      "\u001b[0;32mpandas/_libs/hashtable_class_helper.pxi\u001b[0m in \u001b[0;36mpandas._libs.hashtable.PyObjectHashTable.get_item\u001b[0;34m()\u001b[0m\n",
      "\u001b[0;32mpandas/_libs/hashtable_class_helper.pxi\u001b[0m in \u001b[0;36mpandas._libs.hashtable.PyObjectHashTable.get_item\u001b[0;34m()\u001b[0m\n",
      "\u001b[0;31mKeyError\u001b[0m: 'xlnet_solvable'",
      "\nDuring handling of the above exception, another exception occurred:\n",
      "\u001b[0;31mKeyError\u001b[0m                                  Traceback (most recent call last)",
      "\u001b[0;32m<ipython-input-38-794026d7c8a3>\u001b[0m in \u001b[0;36m<module>\u001b[0;34m\u001b[0m\n\u001b[1;32m      1\u001b[0m \u001b[0;31m# Table of survival vs passenger class\u001b[0m\u001b[0;34m\u001b[0m\u001b[0;34m\u001b[0m\u001b[0;34m\u001b[0m\u001b[0m\n\u001b[1;32m      2\u001b[0m solvable_table = pd.crosstab(index=df[\"whtype\"], \n\u001b[0;32m----> 3\u001b[0;31m                             columns=df[\"xlnet_solvable\"], margins=True)\n\u001b[0m\u001b[1;32m      4\u001b[0m \u001b[0;34m\u001b[0m\u001b[0m\n\u001b[1;32m      5\u001b[0m \u001b[0;34m\u001b[0m\u001b[0m\n",
      "\u001b[0;32m~/anaconda3/envs/qa_analysis/lib/python3.7/site-packages/pandas/core/frame.py\u001b[0m in \u001b[0;36m__getitem__\u001b[0;34m(self, key)\u001b[0m\n\u001b[1;32m   2993\u001b[0m             \u001b[0;32mif\u001b[0m \u001b[0mself\u001b[0m\u001b[0;34m.\u001b[0m\u001b[0mcolumns\u001b[0m\u001b[0;34m.\u001b[0m\u001b[0mnlevels\u001b[0m \u001b[0;34m>\u001b[0m \u001b[0;36m1\u001b[0m\u001b[0;34m:\u001b[0m\u001b[0;34m\u001b[0m\u001b[0;34m\u001b[0m\u001b[0m\n\u001b[1;32m   2994\u001b[0m                 \u001b[0;32mreturn\u001b[0m \u001b[0mself\u001b[0m\u001b[0;34m.\u001b[0m\u001b[0m_getitem_multilevel\u001b[0m\u001b[0;34m(\u001b[0m\u001b[0mkey\u001b[0m\u001b[0;34m)\u001b[0m\u001b[0;34m\u001b[0m\u001b[0;34m\u001b[0m\u001b[0m\n\u001b[0;32m-> 2995\u001b[0;31m             \u001b[0mindexer\u001b[0m \u001b[0;34m=\u001b[0m \u001b[0mself\u001b[0m\u001b[0;34m.\u001b[0m\u001b[0mcolumns\u001b[0m\u001b[0;34m.\u001b[0m\u001b[0mget_loc\u001b[0m\u001b[0;34m(\u001b[0m\u001b[0mkey\u001b[0m\u001b[0;34m)\u001b[0m\u001b[0;34m\u001b[0m\u001b[0;34m\u001b[0m\u001b[0m\n\u001b[0m\u001b[1;32m   2996\u001b[0m             \u001b[0;32mif\u001b[0m \u001b[0mis_integer\u001b[0m\u001b[0;34m(\u001b[0m\u001b[0mindexer\u001b[0m\u001b[0;34m)\u001b[0m\u001b[0;34m:\u001b[0m\u001b[0;34m\u001b[0m\u001b[0;34m\u001b[0m\u001b[0m\n\u001b[1;32m   2997\u001b[0m                 \u001b[0mindexer\u001b[0m \u001b[0;34m=\u001b[0m \u001b[0;34m[\u001b[0m\u001b[0mindexer\u001b[0m\u001b[0;34m]\u001b[0m\u001b[0;34m\u001b[0m\u001b[0;34m\u001b[0m\u001b[0m\n",
      "\u001b[0;32m~/anaconda3/envs/qa_analysis/lib/python3.7/site-packages/pandas/core/indexes/base.py\u001b[0m in \u001b[0;36mget_loc\u001b[0;34m(self, key, method, tolerance)\u001b[0m\n\u001b[1;32m   2897\u001b[0m                 \u001b[0;32mreturn\u001b[0m \u001b[0mself\u001b[0m\u001b[0;34m.\u001b[0m\u001b[0m_engine\u001b[0m\u001b[0;34m.\u001b[0m\u001b[0mget_loc\u001b[0m\u001b[0;34m(\u001b[0m\u001b[0mkey\u001b[0m\u001b[0;34m)\u001b[0m\u001b[0;34m\u001b[0m\u001b[0;34m\u001b[0m\u001b[0m\n\u001b[1;32m   2898\u001b[0m             \u001b[0;32mexcept\u001b[0m \u001b[0mKeyError\u001b[0m\u001b[0;34m:\u001b[0m\u001b[0;34m\u001b[0m\u001b[0;34m\u001b[0m\u001b[0m\n\u001b[0;32m-> 2899\u001b[0;31m                 \u001b[0;32mreturn\u001b[0m \u001b[0mself\u001b[0m\u001b[0;34m.\u001b[0m\u001b[0m_engine\u001b[0m\u001b[0;34m.\u001b[0m\u001b[0mget_loc\u001b[0m\u001b[0;34m(\u001b[0m\u001b[0mself\u001b[0m\u001b[0;34m.\u001b[0m\u001b[0m_maybe_cast_indexer\u001b[0m\u001b[0;34m(\u001b[0m\u001b[0mkey\u001b[0m\u001b[0;34m)\u001b[0m\u001b[0;34m)\u001b[0m\u001b[0;34m\u001b[0m\u001b[0;34m\u001b[0m\u001b[0m\n\u001b[0m\u001b[1;32m   2900\u001b[0m         \u001b[0mindexer\u001b[0m \u001b[0;34m=\u001b[0m \u001b[0mself\u001b[0m\u001b[0;34m.\u001b[0m\u001b[0mget_indexer\u001b[0m\u001b[0;34m(\u001b[0m\u001b[0;34m[\u001b[0m\u001b[0mkey\u001b[0m\u001b[0;34m]\u001b[0m\u001b[0;34m,\u001b[0m \u001b[0mmethod\u001b[0m\u001b[0;34m=\u001b[0m\u001b[0mmethod\u001b[0m\u001b[0;34m,\u001b[0m \u001b[0mtolerance\u001b[0m\u001b[0;34m=\u001b[0m\u001b[0mtolerance\u001b[0m\u001b[0;34m)\u001b[0m\u001b[0;34m\u001b[0m\u001b[0;34m\u001b[0m\u001b[0m\n\u001b[1;32m   2901\u001b[0m         \u001b[0;32mif\u001b[0m \u001b[0mindexer\u001b[0m\u001b[0;34m.\u001b[0m\u001b[0mndim\u001b[0m \u001b[0;34m>\u001b[0m \u001b[0;36m1\u001b[0m \u001b[0;32mor\u001b[0m \u001b[0mindexer\u001b[0m\u001b[0;34m.\u001b[0m\u001b[0msize\u001b[0m \u001b[0;34m>\u001b[0m \u001b[0;36m1\u001b[0m\u001b[0;34m:\u001b[0m\u001b[0;34m\u001b[0m\u001b[0;34m\u001b[0m\u001b[0m\n",
      "\u001b[0;32mpandas/_libs/index.pyx\u001b[0m in \u001b[0;36mpandas._libs.index.IndexEngine.get_loc\u001b[0;34m()\u001b[0m\n",
      "\u001b[0;32mpandas/_libs/index.pyx\u001b[0m in \u001b[0;36mpandas._libs.index.IndexEngine.get_loc\u001b[0;34m()\u001b[0m\n",
      "\u001b[0;32mpandas/_libs/hashtable_class_helper.pxi\u001b[0m in \u001b[0;36mpandas._libs.hashtable.PyObjectHashTable.get_item\u001b[0;34m()\u001b[0m\n",
      "\u001b[0;32mpandas/_libs/hashtable_class_helper.pxi\u001b[0m in \u001b[0;36mpandas._libs.hashtable.PyObjectHashTable.get_item\u001b[0;34m()\u001b[0m\n",
      "\u001b[0;31mKeyError\u001b[0m: 'xlnet_solvable'"
     ]
    }
   ],
   "source": [
    "# Table of survival vs passenger class\n",
    "solvable_table = pd.crosstab(index=df[\"whtype\"], \n",
    "                            columns=df[\"xlnet_solvable\"], margins=True)\n",
    "\n",
    "\n",
    "solvable_table.columns = ['unsolvable', 'solvable',\"RowTotal\"]\n",
    "#solvable_table.index= WHtypes\n",
    "\n",
    "solvable_table"
   ]
  },
  {
   "cell_type": "code",
   "execution_count": 33,
   "metadata": {},
   "outputs": [
    {
     "data": {
      "text/html": [
       "<div>\n",
       "<style scoped>\n",
       "    .dataframe tbody tr th:only-of-type {\n",
       "        vertical-align: middle;\n",
       "    }\n",
       "\n",
       "    .dataframe tbody tr th {\n",
       "        vertical-align: top;\n",
       "    }\n",
       "\n",
       "    .dataframe thead th {\n",
       "        text-align: right;\n",
       "    }\n",
       "</style>\n",
       "<table border=\"1\" class=\"dataframe\">\n",
       "  <thead>\n",
       "    <tr style=\"text-align: right;\">\n",
       "      <th></th>\n",
       "      <th>0</th>\n",
       "      <th>1</th>\n",
       "      <th>2</th>\n",
       "      <th>3</th>\n",
       "      <th>4</th>\n",
       "      <th>RowTotal</th>\n",
       "    </tr>\n",
       "    <tr>\n",
       "      <th>whtype</th>\n",
       "      <th></th>\n",
       "      <th></th>\n",
       "      <th></th>\n",
       "      <th></th>\n",
       "      <th></th>\n",
       "      <th></th>\n",
       "    </tr>\n",
       "  </thead>\n",
       "  <tbody>\n",
       "    <tr>\n",
       "      <th>how</th>\n",
       "      <td>55</td>\n",
       "      <td>67</td>\n",
       "      <td>91</td>\n",
       "      <td>86</td>\n",
       "      <td>139</td>\n",
       "      <td>438</td>\n",
       "    </tr>\n",
       "    <tr>\n",
       "      <th>how many</th>\n",
       "      <td>23</td>\n",
       "      <td>50</td>\n",
       "      <td>59</td>\n",
       "      <td>117</td>\n",
       "      <td>547</td>\n",
       "      <td>796</td>\n",
       "    </tr>\n",
       "    <tr>\n",
       "      <th>none</th>\n",
       "      <td>11</td>\n",
       "      <td>14</td>\n",
       "      <td>13</td>\n",
       "      <td>10</td>\n",
       "      <td>24</td>\n",
       "      <td>72</td>\n",
       "    </tr>\n",
       "    <tr>\n",
       "      <th>what</th>\n",
       "      <td>394</td>\n",
       "      <td>652</td>\n",
       "      <td>901</td>\n",
       "      <td>1109</td>\n",
       "      <td>2979</td>\n",
       "      <td>6035</td>\n",
       "    </tr>\n",
       "    <tr>\n",
       "      <th>when</th>\n",
       "      <td>16</td>\n",
       "      <td>24</td>\n",
       "      <td>60</td>\n",
       "      <td>72</td>\n",
       "      <td>543</td>\n",
       "      <td>715</td>\n",
       "    </tr>\n",
       "    <tr>\n",
       "      <th>where</th>\n",
       "      <td>53</td>\n",
       "      <td>67</td>\n",
       "      <td>69</td>\n",
       "      <td>81</td>\n",
       "      <td>206</td>\n",
       "      <td>476</td>\n",
       "    </tr>\n",
       "    <tr>\n",
       "      <th>which</th>\n",
       "      <td>29</td>\n",
       "      <td>73</td>\n",
       "      <td>87</td>\n",
       "      <td>121</td>\n",
       "      <td>388</td>\n",
       "      <td>698</td>\n",
       "    </tr>\n",
       "    <tr>\n",
       "      <th>who</th>\n",
       "      <td>38</td>\n",
       "      <td>75</td>\n",
       "      <td>125</td>\n",
       "      <td>190</td>\n",
       "      <td>757</td>\n",
       "      <td>1185</td>\n",
       "    </tr>\n",
       "    <tr>\n",
       "      <th>why</th>\n",
       "      <td>34</td>\n",
       "      <td>29</td>\n",
       "      <td>31</td>\n",
       "      <td>25</td>\n",
       "      <td>36</td>\n",
       "      <td>155</td>\n",
       "    </tr>\n",
       "    <tr>\n",
       "      <th>All</th>\n",
       "      <td>653</td>\n",
       "      <td>1051</td>\n",
       "      <td>1436</td>\n",
       "      <td>1811</td>\n",
       "      <td>5619</td>\n",
       "      <td>10570</td>\n",
       "    </tr>\n",
       "  </tbody>\n",
       "</table>\n",
       "</div>"
      ],
      "text/plain": [
       "            0     1     2     3     4  RowTotal\n",
       "whtype                                         \n",
       "how        55    67    91    86   139       438\n",
       "how many   23    50    59   117   547       796\n",
       "none       11    14    13    10    24        72\n",
       "what      394   652   901  1109  2979      6035\n",
       "when       16    24    60    72   543       715\n",
       "where      53    67    69    81   206       476\n",
       "which      29    73    87   121   388       698\n",
       "who        38    75   125   190   757      1185\n",
       "why        34    29    31    25    36       155\n",
       "All       653  1051  1436  1811  5619     10570"
      ]
     },
     "execution_count": 33,
     "metadata": {},
     "output_type": "execute_result"
    }
   ],
   "source": [
    "# Table of survival vs passenger class\n",
    "solvable_table = pd.crosstab(index=df[\"whtype\"], \n",
    "                            columns=df[\"RC_solvable_count\"], margins=True)\n",
    "\n",
    "\n",
    "solvable_table.columns = ['0','1','2','3','4',\"RowTotal\"]\n",
    "#solvable_table.index= WHtypes\n",
    "\n",
    "solvable_table"
   ]
  },
  {
   "cell_type": "code",
   "execution_count": 43,
   "metadata": {},
   "outputs": [
    {
     "data": {
      "text/html": [
       "<div>\n",
       "<style scoped>\n",
       "    .dataframe tbody tr th:only-of-type {\n",
       "        vertical-align: middle;\n",
       "    }\n",
       "\n",
       "    .dataframe tbody tr th {\n",
       "        vertical-align: top;\n",
       "    }\n",
       "\n",
       "    .dataframe thead th {\n",
       "        text-align: right;\n",
       "    }\n",
       "</style>\n",
       "<table border=\"1\" class=\"dataframe\">\n",
       "  <thead>\n",
       "    <tr style=\"text-align: right;\">\n",
       "      <th></th>\n",
       "      <th>RowTotal</th>\n",
       "    </tr>\n",
       "    <tr>\n",
       "      <th>whtype</th>\n",
       "      <th></th>\n",
       "    </tr>\n",
       "  </thead>\n",
       "  <tbody>\n",
       "    <tr>\n",
       "      <th>how</th>\n",
       "      <td>438</td>\n",
       "    </tr>\n",
       "    <tr>\n",
       "      <th>how many</th>\n",
       "      <td>796</td>\n",
       "    </tr>\n",
       "    <tr>\n",
       "      <th>none</th>\n",
       "      <td>72</td>\n",
       "    </tr>\n",
       "    <tr>\n",
       "      <th>what</th>\n",
       "      <td>6035</td>\n",
       "    </tr>\n",
       "    <tr>\n",
       "      <th>when</th>\n",
       "      <td>715</td>\n",
       "    </tr>\n",
       "    <tr>\n",
       "      <th>where</th>\n",
       "      <td>476</td>\n",
       "    </tr>\n",
       "    <tr>\n",
       "      <th>which</th>\n",
       "      <td>698</td>\n",
       "    </tr>\n",
       "    <tr>\n",
       "      <th>who</th>\n",
       "      <td>1185</td>\n",
       "    </tr>\n",
       "    <tr>\n",
       "      <th>why</th>\n",
       "      <td>155</td>\n",
       "    </tr>\n",
       "    <tr>\n",
       "      <th>All</th>\n",
       "      <td>10570</td>\n",
       "    </tr>\n",
       "  </tbody>\n",
       "</table>\n",
       "</div>"
      ],
      "text/plain": [
       "          RowTotal\n",
       "whtype            \n",
       "how            438\n",
       "how many       796\n",
       "none            72\n",
       "what          6035\n",
       "when           715\n",
       "where          476\n",
       "which          698\n",
       "who           1185\n",
       "why            155\n",
       "All          10570"
      ]
     },
     "execution_count": 43,
     "metadata": {},
     "output_type": "execute_result"
    }
   ],
   "source": [
    "solvable_table.drop(columns = ['0','1','2','3','4'])"
   ]
  },
  {
   "cell_type": "code",
   "execution_count": 41,
   "metadata": {},
   "outputs": [
    {
     "data": {
      "text/html": [
       "<div>\n",
       "<style scoped>\n",
       "    .dataframe tbody tr th:only-of-type {\n",
       "        vertical-align: middle;\n",
       "    }\n",
       "\n",
       "    .dataframe tbody tr th {\n",
       "        vertical-align: top;\n",
       "    }\n",
       "\n",
       "    .dataframe thead th {\n",
       "        text-align: right;\n",
       "    }\n",
       "</style>\n",
       "<table border=\"1\" class=\"dataframe\">\n",
       "  <thead>\n",
       "    <tr style=\"text-align: right;\">\n",
       "      <th></th>\n",
       "      <th>unsolvable</th>\n",
       "      <th>solvable</th>\n",
       "      <th>RowTotal</th>\n",
       "    </tr>\n",
       "    <tr>\n",
       "      <th>whtype</th>\n",
       "      <th></th>\n",
       "      <th></th>\n",
       "      <th></th>\n",
       "    </tr>\n",
       "  </thead>\n",
       "  <tbody>\n",
       "    <tr>\n",
       "      <th>how</th>\n",
       "      <td>299</td>\n",
       "      <td>139</td>\n",
       "      <td>438</td>\n",
       "    </tr>\n",
       "    <tr>\n",
       "      <th>how many</th>\n",
       "      <td>249</td>\n",
       "      <td>547</td>\n",
       "      <td>796</td>\n",
       "    </tr>\n",
       "    <tr>\n",
       "      <th>none</th>\n",
       "      <td>48</td>\n",
       "      <td>24</td>\n",
       "      <td>72</td>\n",
       "    </tr>\n",
       "    <tr>\n",
       "      <th>what</th>\n",
       "      <td>3056</td>\n",
       "      <td>2979</td>\n",
       "      <td>6035</td>\n",
       "    </tr>\n",
       "    <tr>\n",
       "      <th>when</th>\n",
       "      <td>172</td>\n",
       "      <td>543</td>\n",
       "      <td>715</td>\n",
       "    </tr>\n",
       "    <tr>\n",
       "      <th>where</th>\n",
       "      <td>270</td>\n",
       "      <td>206</td>\n",
       "      <td>476</td>\n",
       "    </tr>\n",
       "    <tr>\n",
       "      <th>which</th>\n",
       "      <td>310</td>\n",
       "      <td>388</td>\n",
       "      <td>698</td>\n",
       "    </tr>\n",
       "    <tr>\n",
       "      <th>who</th>\n",
       "      <td>428</td>\n",
       "      <td>757</td>\n",
       "      <td>1185</td>\n",
       "    </tr>\n",
       "    <tr>\n",
       "      <th>why</th>\n",
       "      <td>119</td>\n",
       "      <td>36</td>\n",
       "      <td>155</td>\n",
       "    </tr>\n",
       "    <tr>\n",
       "      <th>All</th>\n",
       "      <td>4951</td>\n",
       "      <td>5619</td>\n",
       "      <td>10570</td>\n",
       "    </tr>\n",
       "  </tbody>\n",
       "</table>\n",
       "</div>"
      ],
      "text/plain": [
       "          unsolvable  solvable  RowTotal\n",
       "whtype                                  \n",
       "how              299       139       438\n",
       "how many         249       547       796\n",
       "none              48        24        72\n",
       "what            3056      2979      6035\n",
       "when             172       543       715\n",
       "where            270       206       476\n",
       "which            310       388       698\n",
       "who              428       757      1185\n",
       "why              119        36       155\n",
       "All             4951      5619     10570"
      ]
     },
     "execution_count": 41,
     "metadata": {},
     "output_type": "execute_result"
    }
   ],
   "source": [
    "# Table of survival vs passenger class\n",
    "solvable_table = pd.crosstab(index=df[\"whtype\"], \n",
    "                            columns=df[\"RC_solvable\"], margins=True)\n",
    "\n",
    "\n",
    "solvable_table.columns = ['unsolvable','solvable',\"RowTotal\"]\n",
    "#solvable_table.index= WHtypes\n",
    "\n",
    "solvable_table"
   ]
  },
  {
   "cell_type": "code",
   "execution_count": 214,
   "metadata": {},
   "outputs": [],
   "source": [
    "solvable_table = solvable_table.drop(['All'])"
   ]
  },
  {
   "cell_type": "code",
   "execution_count": 38,
   "metadata": {},
   "outputs": [
    {
     "data": {
      "text/html": [
       "<div>\n",
       "<style scoped>\n",
       "    .dataframe tbody tr th:only-of-type {\n",
       "        vertical-align: middle;\n",
       "    }\n",
       "\n",
       "    .dataframe tbody tr th {\n",
       "        vertical-align: top;\n",
       "    }\n",
       "\n",
       "    .dataframe thead th {\n",
       "        text-align: right;\n",
       "    }\n",
       "</style>\n",
       "<table border=\"1\" class=\"dataframe\">\n",
       "  <thead>\n",
       "    <tr style=\"text-align: right;\">\n",
       "      <th></th>\n",
       "      <th>unsolvable</th>\n",
       "      <th>solvable</th>\n",
       "      <th>RowTotal</th>\n",
       "    </tr>\n",
       "    <tr>\n",
       "      <th>whtype</th>\n",
       "      <th></th>\n",
       "      <th></th>\n",
       "      <th></th>\n",
       "    </tr>\n",
       "  </thead>\n",
       "  <tbody>\n",
       "    <tr>\n",
       "      <th>None</th>\n",
       "      <td>47</td>\n",
       "      <td>23</td>\n",
       "      <td>70</td>\n",
       "    </tr>\n",
       "    <tr>\n",
       "      <th>how</th>\n",
       "      <td>299</td>\n",
       "      <td>139</td>\n",
       "      <td>438</td>\n",
       "    </tr>\n",
       "    <tr>\n",
       "      <th>how many</th>\n",
       "      <td>249</td>\n",
       "      <td>547</td>\n",
       "      <td>796</td>\n",
       "    </tr>\n",
       "    <tr>\n",
       "      <th>what</th>\n",
       "      <td>3050</td>\n",
       "      <td>2987</td>\n",
       "      <td>6037</td>\n",
       "    </tr>\n",
       "    <tr>\n",
       "      <th>when</th>\n",
       "      <td>172</td>\n",
       "      <td>543</td>\n",
       "      <td>715</td>\n",
       "    </tr>\n",
       "    <tr>\n",
       "      <th>where</th>\n",
       "      <td>266</td>\n",
       "      <td>210</td>\n",
       "      <td>476</td>\n",
       "    </tr>\n",
       "    <tr>\n",
       "      <th>which</th>\n",
       "      <td>314</td>\n",
       "      <td>384</td>\n",
       "      <td>698</td>\n",
       "    </tr>\n",
       "    <tr>\n",
       "      <th>who</th>\n",
       "      <td>432</td>\n",
       "      <td>753</td>\n",
       "      <td>1185</td>\n",
       "    </tr>\n",
       "    <tr>\n",
       "      <th>why</th>\n",
       "      <td>117</td>\n",
       "      <td>38</td>\n",
       "      <td>155</td>\n",
       "    </tr>\n",
       "    <tr>\n",
       "      <th>All</th>\n",
       "      <td>4946</td>\n",
       "      <td>5624</td>\n",
       "      <td>10570</td>\n",
       "    </tr>\n",
       "  </tbody>\n",
       "</table>\n",
       "</div>"
      ],
      "text/plain": [
       "          unsolvable  solvable  RowTotal\n",
       "whtype                                  \n",
       "None              47        23        70\n",
       "how              299       139       438\n",
       "how many         249       547       796\n",
       "what            3050      2987      6037\n",
       "when             172       543       715\n",
       "where            266       210       476\n",
       "which            314       384       698\n",
       "who              432       753      1185\n",
       "why              117        38       155\n",
       "All             4946      5624     10570"
      ]
     },
     "execution_count": 38,
     "metadata": {},
     "output_type": "execute_result"
    }
   ],
   "source": [
    "solvable_table"
   ]
  },
  {
   "cell_type": "code",
   "execution_count": 215,
   "metadata": {},
   "outputs": [],
   "source": [
    "tmp = solvable_table.div(solvable_table[\"RowTotal\"], axis=0)"
   ]
  },
  {
   "cell_type": "code",
   "execution_count": 216,
   "metadata": {},
   "outputs": [],
   "source": [
    "dscore = []\n",
    "for wh, instance in tmp.iterrows():\n",
    "    dscore.append(instance['4']+0.5*instance['3']-0.5*instance['1']-instance['0'])"
   ]
  },
  {
   "cell_type": "code",
   "execution_count": 217,
   "metadata": {},
   "outputs": [],
   "source": [
    "tmp['dscore'] = dscore"
   ]
  },
  {
   "cell_type": "code",
   "execution_count": 218,
   "metadata": {
    "scrolled": true
   },
   "outputs": [],
   "source": [
    "tmp = tmp.sort_values(['dscore'], ascending=[1])"
   ]
  },
  {
   "cell_type": "code",
   "execution_count": 219,
   "metadata": {},
   "outputs": [
    {
     "data": {
      "text/html": [
       "<div>\n",
       "<style scoped>\n",
       "    .dataframe tbody tr th:only-of-type {\n",
       "        vertical-align: middle;\n",
       "    }\n",
       "\n",
       "    .dataframe tbody tr th {\n",
       "        vertical-align: top;\n",
       "    }\n",
       "\n",
       "    .dataframe thead th {\n",
       "        text-align: right;\n",
       "    }\n",
       "</style>\n",
       "<table border=\"1\" class=\"dataframe\">\n",
       "  <thead>\n",
       "    <tr style=\"text-align: right;\">\n",
       "      <th></th>\n",
       "      <th>0</th>\n",
       "      <th>1</th>\n",
       "      <th>2</th>\n",
       "      <th>3</th>\n",
       "      <th>4</th>\n",
       "      <th>RowTotal</th>\n",
       "      <th>dscore</th>\n",
       "    </tr>\n",
       "    <tr>\n",
       "      <th>whtype</th>\n",
       "      <th></th>\n",
       "      <th></th>\n",
       "      <th></th>\n",
       "      <th></th>\n",
       "      <th></th>\n",
       "      <th></th>\n",
       "      <th></th>\n",
       "    </tr>\n",
       "  </thead>\n",
       "  <tbody>\n",
       "    <tr>\n",
       "      <th>why</th>\n",
       "      <td>0.219355</td>\n",
       "      <td>0.187097</td>\n",
       "      <td>0.200000</td>\n",
       "      <td>0.161290</td>\n",
       "      <td>0.232258</td>\n",
       "      <td>1.0</td>\n",
       "      <td>0.000000</td>\n",
       "    </tr>\n",
       "    <tr>\n",
       "      <th>none</th>\n",
       "      <td>0.152778</td>\n",
       "      <td>0.194444</td>\n",
       "      <td>0.180556</td>\n",
       "      <td>0.138889</td>\n",
       "      <td>0.333333</td>\n",
       "      <td>1.0</td>\n",
       "      <td>0.152778</td>\n",
       "    </tr>\n",
       "    <tr>\n",
       "      <th>how</th>\n",
       "      <td>0.125571</td>\n",
       "      <td>0.152968</td>\n",
       "      <td>0.207763</td>\n",
       "      <td>0.196347</td>\n",
       "      <td>0.317352</td>\n",
       "      <td>1.0</td>\n",
       "      <td>0.213470</td>\n",
       "    </tr>\n",
       "    <tr>\n",
       "      <th>where</th>\n",
       "      <td>0.111345</td>\n",
       "      <td>0.140756</td>\n",
       "      <td>0.144958</td>\n",
       "      <td>0.170168</td>\n",
       "      <td>0.432773</td>\n",
       "      <td>1.0</td>\n",
       "      <td>0.336134</td>\n",
       "    </tr>\n",
       "    <tr>\n",
       "      <th>what</th>\n",
       "      <td>0.065286</td>\n",
       "      <td>0.108036</td>\n",
       "      <td>0.149296</td>\n",
       "      <td>0.183761</td>\n",
       "      <td>0.493621</td>\n",
       "      <td>1.0</td>\n",
       "      <td>0.466197</td>\n",
       "    </tr>\n",
       "    <tr>\n",
       "      <th>which</th>\n",
       "      <td>0.041547</td>\n",
       "      <td>0.104585</td>\n",
       "      <td>0.124642</td>\n",
       "      <td>0.173352</td>\n",
       "      <td>0.555874</td>\n",
       "      <td>1.0</td>\n",
       "      <td>0.548711</td>\n",
       "    </tr>\n",
       "    <tr>\n",
       "      <th>who</th>\n",
       "      <td>0.032068</td>\n",
       "      <td>0.063291</td>\n",
       "      <td>0.105485</td>\n",
       "      <td>0.160338</td>\n",
       "      <td>0.638819</td>\n",
       "      <td>1.0</td>\n",
       "      <td>0.655274</td>\n",
       "    </tr>\n",
       "    <tr>\n",
       "      <th>how many</th>\n",
       "      <td>0.028894</td>\n",
       "      <td>0.062814</td>\n",
       "      <td>0.074121</td>\n",
       "      <td>0.146985</td>\n",
       "      <td>0.687186</td>\n",
       "      <td>1.0</td>\n",
       "      <td>0.700377</td>\n",
       "    </tr>\n",
       "    <tr>\n",
       "      <th>when</th>\n",
       "      <td>0.022378</td>\n",
       "      <td>0.033566</td>\n",
       "      <td>0.083916</td>\n",
       "      <td>0.100699</td>\n",
       "      <td>0.759441</td>\n",
       "      <td>1.0</td>\n",
       "      <td>0.770629</td>\n",
       "    </tr>\n",
       "  </tbody>\n",
       "</table>\n",
       "</div>"
      ],
      "text/plain": [
       "                 0         1         2         3         4  RowTotal    dscore\n",
       "whtype                                                                        \n",
       "why       0.219355  0.187097  0.200000  0.161290  0.232258       1.0  0.000000\n",
       "none      0.152778  0.194444  0.180556  0.138889  0.333333       1.0  0.152778\n",
       "how       0.125571  0.152968  0.207763  0.196347  0.317352       1.0  0.213470\n",
       "where     0.111345  0.140756  0.144958  0.170168  0.432773       1.0  0.336134\n",
       "what      0.065286  0.108036  0.149296  0.183761  0.493621       1.0  0.466197\n",
       "which     0.041547  0.104585  0.124642  0.173352  0.555874       1.0  0.548711\n",
       "who       0.032068  0.063291  0.105485  0.160338  0.638819       1.0  0.655274\n",
       "how many  0.028894  0.062814  0.074121  0.146985  0.687186       1.0  0.700377\n",
       "when      0.022378  0.033566  0.083916  0.100699  0.759441       1.0  0.770629"
      ]
     },
     "execution_count": 219,
     "metadata": {},
     "output_type": "execute_result"
    }
   ],
   "source": [
    "tmp"
   ]
  },
  {
   "cell_type": "code",
   "execution_count": 37,
   "metadata": {},
   "outputs": [
    {
     "ename": "KeyError",
     "evalue": "'unsolvable'",
     "output_type": "error",
     "traceback": [
      "\u001b[0;31m---------------------------------------------------------------------------\u001b[0m",
      "\u001b[0;31mKeyError\u001b[0m                                  Traceback (most recent call last)",
      "\u001b[0;32m<ipython-input-37-7f58988333db>\u001b[0m in \u001b[0;36m<module>\u001b[0;34m\u001b[0m\n\u001b[1;32m      1\u001b[0m \u001b[0mtmp\u001b[0m \u001b[0;34m=\u001b[0m \u001b[0msolvable_table\u001b[0m\u001b[0;34m.\u001b[0m\u001b[0mdiv\u001b[0m\u001b[0;34m(\u001b[0m\u001b[0msolvable_table\u001b[0m\u001b[0;34m[\u001b[0m\u001b[0;34m\"RowTotal\"\u001b[0m\u001b[0;34m]\u001b[0m\u001b[0;34m,\u001b[0m \u001b[0maxis\u001b[0m\u001b[0;34m=\u001b[0m\u001b[0;36m0\u001b[0m\u001b[0;34m)\u001b[0m\u001b[0;34m\u001b[0m\u001b[0;34m\u001b[0m\u001b[0m\n\u001b[0;32m----> 2\u001b[0;31m \u001b[0mtmp\u001b[0m \u001b[0;34m=\u001b[0m \u001b[0mtmp\u001b[0m\u001b[0;34m.\u001b[0m\u001b[0msort_values\u001b[0m\u001b[0;34m(\u001b[0m\u001b[0;34m[\u001b[0m\u001b[0;34m'unsolvable'\u001b[0m\u001b[0;34m]\u001b[0m\u001b[0;34m,\u001b[0m \u001b[0mascending\u001b[0m\u001b[0;34m=\u001b[0m\u001b[0;34m[\u001b[0m\u001b[0;36m0\u001b[0m\u001b[0;34m]\u001b[0m\u001b[0;34m)\u001b[0m\u001b[0;34m\u001b[0m\u001b[0;34m\u001b[0m\u001b[0m\n\u001b[0m",
      "\u001b[0;32m~/anaconda3/envs/kcc/lib/python3.7/site-packages/pandas/core/frame.py\u001b[0m in \u001b[0;36msort_values\u001b[0;34m(self, by, axis, ascending, inplace, kind, na_position)\u001b[0m\n\u001b[1;32m   4986\u001b[0m \u001b[0;34m\u001b[0m\u001b[0m\n\u001b[1;32m   4987\u001b[0m             \u001b[0mby\u001b[0m \u001b[0;34m=\u001b[0m \u001b[0mby\u001b[0m\u001b[0;34m[\u001b[0m\u001b[0;36m0\u001b[0m\u001b[0;34m]\u001b[0m\u001b[0;34m\u001b[0m\u001b[0;34m\u001b[0m\u001b[0m\n\u001b[0;32m-> 4988\u001b[0;31m             \u001b[0mk\u001b[0m \u001b[0;34m=\u001b[0m \u001b[0mself\u001b[0m\u001b[0;34m.\u001b[0m\u001b[0m_get_label_or_level_values\u001b[0m\u001b[0;34m(\u001b[0m\u001b[0mby\u001b[0m\u001b[0;34m,\u001b[0m \u001b[0maxis\u001b[0m\u001b[0;34m=\u001b[0m\u001b[0maxis\u001b[0m\u001b[0;34m)\u001b[0m\u001b[0;34m\u001b[0m\u001b[0;34m\u001b[0m\u001b[0m\n\u001b[0m\u001b[1;32m   4989\u001b[0m \u001b[0;34m\u001b[0m\u001b[0m\n\u001b[1;32m   4990\u001b[0m             \u001b[0;32mif\u001b[0m \u001b[0misinstance\u001b[0m\u001b[0;34m(\u001b[0m\u001b[0mascending\u001b[0m\u001b[0;34m,\u001b[0m \u001b[0;34m(\u001b[0m\u001b[0mtuple\u001b[0m\u001b[0;34m,\u001b[0m \u001b[0mlist\u001b[0m\u001b[0;34m)\u001b[0m\u001b[0;34m)\u001b[0m\u001b[0;34m:\u001b[0m\u001b[0;34m\u001b[0m\u001b[0;34m\u001b[0m\u001b[0m\n",
      "\u001b[0;32m~/anaconda3/envs/kcc/lib/python3.7/site-packages/pandas/core/generic.py\u001b[0m in \u001b[0;36m_get_label_or_level_values\u001b[0;34m(self, key, axis)\u001b[0m\n\u001b[1;32m   1773\u001b[0m             \u001b[0mvalues\u001b[0m \u001b[0;34m=\u001b[0m \u001b[0mself\u001b[0m\u001b[0;34m.\u001b[0m\u001b[0maxes\u001b[0m\u001b[0;34m[\u001b[0m\u001b[0maxis\u001b[0m\u001b[0;34m]\u001b[0m\u001b[0;34m.\u001b[0m\u001b[0mget_level_values\u001b[0m\u001b[0;34m(\u001b[0m\u001b[0mkey\u001b[0m\u001b[0;34m)\u001b[0m\u001b[0;34m.\u001b[0m\u001b[0m_values\u001b[0m\u001b[0;34m\u001b[0m\u001b[0;34m\u001b[0m\u001b[0m\n\u001b[1;32m   1774\u001b[0m         \u001b[0;32melse\u001b[0m\u001b[0;34m:\u001b[0m\u001b[0;34m\u001b[0m\u001b[0;34m\u001b[0m\u001b[0m\n\u001b[0;32m-> 1775\u001b[0;31m             \u001b[0;32mraise\u001b[0m \u001b[0mKeyError\u001b[0m\u001b[0;34m(\u001b[0m\u001b[0mkey\u001b[0m\u001b[0;34m)\u001b[0m\u001b[0;34m\u001b[0m\u001b[0;34m\u001b[0m\u001b[0m\n\u001b[0m\u001b[1;32m   1776\u001b[0m \u001b[0;34m\u001b[0m\u001b[0m\n\u001b[1;32m   1777\u001b[0m         \u001b[0;31m# Check for duplicates\u001b[0m\u001b[0;34m\u001b[0m\u001b[0;34m\u001b[0m\u001b[0;34m\u001b[0m\u001b[0m\n",
      "\u001b[0;31mKeyError\u001b[0m: 'unsolvable'"
     ]
    }
   ],
   "source": [
    "tmp = solvable_table.div(solvable_table[\"RowTotal\"], axis=0)\n",
    "tmp = tmp.sort_values(['unsolvable'], ascending=[0])"
   ]
  },
  {
   "cell_type": "code",
   "execution_count": 220,
   "metadata": {},
   "outputs": [],
   "source": [
    "ll = []\n",
    "for idx, row in tmp.iterrows():\n",
    "    ll.append((row['0'], row['1'],row['2'], row['3'],row['4']))"
   ]
  },
  {
   "cell_type": "code",
   "execution_count": 39,
   "metadata": {
    "scrolled": true
   },
   "outputs": [],
   "source": [
    "ll = []\n",
    "for idx, row in tmp.iterrows():\n",
    "    ll.append((row['unsolvable'], row['solvable']))"
   ]
  },
  {
   "cell_type": "code",
   "execution_count": 142,
   "metadata": {},
   "outputs": [
    {
     "data": {
      "text/plain": [
       "Index(['why', 'None', 'how', 'where', 'what', 'All', 'which', 'how many',\n",
       "       'who', 'when'],\n",
       "      dtype='object', name='whtype')"
      ]
     },
     "execution_count": 142,
     "metadata": {},
     "output_type": "execute_result"
    }
   ],
   "source": [
    "tmp.index"
   ]
  },
  {
   "cell_type": "code",
   "execution_count": 143,
   "metadata": {
    "scrolled": true
   },
   "outputs": [
    {
     "data": {
      "text/plain": [
       "[(0.21935483870967742,\n",
       "  0.17419354838709677,\n",
       "  0.1935483870967742,\n",
       "  0.16774193548387098,\n",
       "  0.24516129032258063),\n",
       " (0.2, 0.11428571428571428, 0.2, 0.15714285714285714, 0.32857142857142857),\n",
       " (0.1415525114155251,\n",
       "  0.136986301369863,\n",
       "  0.19406392694063926,\n",
       "  0.2100456621004566,\n",
       "  0.317351598173516),\n",
       " (0.09873949579831932,\n",
       "  0.13025210084033614,\n",
       "  0.15756302521008403,\n",
       "  0.1722689075630252,\n",
       "  0.4411764705882353),\n",
       " (0.06808017227099553,\n",
       "  0.09806195130031473,\n",
       "  0.15487825078681464,\n",
       "  0.18419744906410468,\n",
       "  0.4947821765777704),\n",
       " (0.06508987701040682,\n",
       "  0.08968779564806055,\n",
       "  0.1402081362346263,\n",
       "  0.1729422894985809,\n",
       "  0.5320719016083254),\n",
       " (0.054441260744985676,\n",
       "  0.09598853868194843,\n",
       "  0.12464183381088825,\n",
       "  0.17478510028653296,\n",
       "  0.5501432664756447),\n",
       " (0.04020100502512563,\n",
       "  0.04522613065326633,\n",
       "  0.08165829145728644,\n",
       "  0.1457286432160804,\n",
       "  0.6871859296482412),\n",
       " (0.02869198312236287,\n",
       "  0.06160337552742616,\n",
       "  0.11054852320675106,\n",
       "  0.16371308016877636,\n",
       "  0.6354430379746835),\n",
       " (0.022377622377622378,\n",
       "  0.032167832167832165,\n",
       "  0.08391608391608392,\n",
       "  0.1020979020979021,\n",
       "  0.7594405594405594)]"
      ]
     },
     "execution_count": 143,
     "metadata": {},
     "output_type": "execute_result"
    }
   ],
   "source": [
    "ll"
   ]
  },
  {
   "cell_type": "code",
   "execution_count": 221,
   "metadata": {},
   "outputs": [
    {
     "data": {
      "text/plain": [
       "Text(0.5, 1.0, '[SQuAD 1.1] Difficulty per wh-type for MRQA models')"
      ]
     },
     "execution_count": 221,
     "metadata": {},
     "output_type": "execute_result"
    },
    {
     "data": {
      "image/png": "[encoded data removed]",
      "text/plain": [
       "<Figure size 432x288 with 1 Axes>"
      ]
     },
     "metadata": {},
     "output_type": "display_data"
    }
   ],
   "source": [
    "import pandas as pd\n",
    "import seaborn as sns\n",
    "import matplotlib\n",
    "sns.set()\n",
    "\n",
    "df = pd.DataFrame(ll, columns=['0', '1', '2', '3', '4'], \n",
    "                  index=tmp.index)\n",
    "#df['unsolvable'] = -df['unsolvable']\n",
    "ax = df.plot(title = '[SQuAD 1.1] Difficulty per wh-type for MRQA models', kind='barh', stacked=True, colormap='coolwarm_r')\n",
    "ax.set_facecolor(\"w\")\n",
    "matplotlib.pyplot.ylabel('wh-type')\n",
    "matplotlib.pyplot.xlabel('stacked proportion of questions')\n",
    "ax.legend(loc='center left', bbox_to_anchor=(1, 0.5), title=\"# of models that gave \\n  the correct answers\")\n",
    "ax.set_title('[SQuAD 1.1] Difficulty per wh-type for MRQA models', fontsize=15)"
   ]
  },
  {
   "cell_type": "code",
   "execution_count": 125,
   "metadata": {},
   "outputs": [
    {
     "data": {
      "text/plain": [
       "Text(0.5, 1.0, 'Difficulty per wh-type for MRQA models')"
      ]
     },
     "execution_count": 125,
     "metadata": {},
     "output_type": "execute_result"
    },
    {
     "data": {
      "image/png": "[encoded data removed]",
      "text/plain": [
       "<Figure size 432x288 with 1 Axes>"
      ]
     },
     "metadata": {},
     "output_type": "display_data"
    }
   ],
   "source": [
    "import pandas as pd\n",
    "import seaborn as sns\n",
    "import matplotlib\n",
    "sns.set()\n",
    "\n",
    "df = pd.DataFrame(ll, columns=['0', '1', '2', '3', '4'], \n",
    "                  index=tmp.index)\n",
    "#df['unsolvable'] = -df['unsolvable']\n",
    "ax = df.plot(title = 'Difficulty per wh-type for MRQA models', kind='barh', stacked=True, colormap='coolwarm_r')\n",
    "ax.set_facecolor(\"w\")\n",
    "matplotlib.pyplot.ylabel('wh-type')\n",
    "matplotlib.pyplot.xlabel('stacked proportion of questions')\n",
    "ax.legend(loc='center left', bbox_to_anchor=(1, 0.5), title=\"# of models that gave \\n  the correct answers\")\n",
    "ax.set_title('Difficulty per wh-type for MRQA models', fontsize=15)"
   ]
  },
  {
   "cell_type": "code",
   "execution_count": 40,
   "metadata": {},
   "outputs": [
    {
     "data": {
      "image/png": "[encoded data removed]",
      "text/plain": [
       "<Figure size 432x288 with 1 Axes>"
      ]
     },
     "metadata": {},
     "output_type": "display_data"
    }
   ],
   "source": [
    "##  only xlnet\n",
    "import pandas as pd\n",
    "import seaborn as sns\n",
    "sns.set()\n",
    "df = pd.DataFrame(ll, columns=['unsolvable', 'solvable'], \n",
    "                  index=tmp.index)\n",
    "df['unsolvable'] = -df['unsolvable']\n",
    "df.plot(title = 'RCQA solvability per WH word_xlnet', kind='barh', stacked=True);"
   ]
  },
  {
   "cell_type": "code",
   "execution_count": 43,
   "metadata": {},
   "outputs": [
    {
     "data": {
      "image/png": "[encoded data removed]",
      "text/plain": [
       "<Figure size 432x288 with 1 Axes>"
      ]
     },
     "metadata": {},
     "output_type": "display_data"
    }
   ],
   "source": [
    "import pandas as pd\n",
    "import seaborn as sns\n",
    "sns.set()\n",
    "\n",
    "df = pd.DataFrame(ll, columns=['unsolvable', 'solvable'], \n",
    "                  index=tmp.index)\n",
    "df['unsolvable'] = -df['unsolvable']\n",
    "df.plot(title = 'RCQA solvability per WH word', kind='barh', stacked=True);"
   ]
  },
  {
   "cell_type": "markdown",
   "metadata": {},
   "source": [
    "## LAT type wrong probability"
   ]
  },
  {
   "cell_type": "code",
   "execution_count": 138,
   "metadata": {},
   "outputs": [],
   "source": [
    "def PosTagger(sentence):    \n",
    "    '''\n",
    "    POS Tagger\n",
    "    \n",
    "    @return the tuple of token and POS tag in sentence\n",
    "    '''\n",
    "    doc = nlp(sentence)\n",
    "    poslist = []\n",
    "\n",
    "    for token in doc:\n",
    "        poslist.append((token.text, token.tag_, token.pos_, token.lemma_))\n",
    "    \n",
    "    return poslist"
   ]
  },
  {
   "cell_type": "code",
   "execution_count": 142,
   "metadata": {},
   "outputs": [],
   "source": [
    "def detailAnsType(question):\n",
    "    '''\n",
    "    Find detail answer type\n",
    "    \n",
    "    @return the detail answer type\n",
    "    '''\n",
    "    st = False\n",
    "    ans = ''\n",
    "    PTs = PosTagger(question)\n",
    "    \n",
    "    #print (PTs)\n",
    "    \n",
    "    for idx, w in enumerate(PTs):\n",
    "        if w[0].lower() == 'what' or w[0].lower() == 'which':\n",
    "            st = True\n",
    "            continue\n",
    "        #print(w)\n",
    "        if st == True and (w[0].lower() == 'did' or w[0].lower() == 'does' or w[0].lower() == 'do' or w[0].lower() == 'can'): break\n",
    "        if st == True and (w[2] == 'VERB' and w[3].lower() != 'be'): break\n",
    "        if st == True and (w[1] == 'NN' or w[1] == 'NNP' or w[1] == 'NNS'):\n",
    "            if 'kind' in w[0].lower() or 'name' in w[0].lower() or 'type' in w[0].lower() or (idx < len(PTs)-1 and \"\\'s\" in PTs[idx+1][0].lower()):\n",
    "                continue\n",
    "                \n",
    "            for j in range(idx, len(PTs)):\n",
    "                if PTs[j][0][0].isupper():\n",
    "                    ans = ''\n",
    "                    break\n",
    "                if not (PTs[j][1] == 'NN' or PTs[j][1] == 'NNP' or PTs[j][1] == 'NNS'):\n",
    "                    if \"\\'s\" in PTs[j][0].lower() or \"s\\'\" in PTs[j][0].lower():\n",
    "                        ans = ''\n",
    "                        break\n",
    "                    else: return (ans, PTs[j-1][0])\n",
    "                ans += PTs[j][0]+' '\n",
    "                \n",
    "    \n",
    "    return (\"None\",\"None\")"
   ]
  },
  {
   "cell_type": "code",
   "execution_count": 143,
   "metadata": {},
   "outputs": [
    {
     "data": {
      "text/plain": [
       "('None', 'None')"
      ]
     },
     "execution_count": 143,
     "metadata": {},
     "output_type": "execute_result"
    }
   ],
   "source": [
    "detailAnsType('What shows us lost chloroplasts?')"
   ]
  },
  {
   "cell_type": "code",
   "execution_count": 168,
   "metadata": {
    "scrolled": true
   },
   "outputs": [
    {
     "data": {
      "application/vnd.jupyter.widget-view+json": {
       "model_id": "9acd47437f0b4dce9cf35d9925d3deff",
       "version_major": 2,
       "version_minor": 0
      },
      "text/plain": [
       "HBox(children=(IntProgress(value=0, max=48), HTML(value='')))"
      ]
     },
     "metadata": {},
     "output_type": "display_data"
    },
    {
     "name": "stdout",
     "output_type": "stream",
     "text": [
      "chloroplasts:  What are chloroplasts descended from?\n"
     ]
    },
    {
     "ename": "KeyError",
     "evalue": "'context'",
     "output_type": "error",
     "traceback": [
      "\u001b[0;31m---------------------------------------------------------------------------\u001b[0m",
      "\u001b[0;31mKeyError\u001b[0m                                  Traceback (most recent call last)",
      "\u001b[0;32m<ipython-input-168-3ac740a070a3>\u001b[0m in \u001b[0;36m<module>\u001b[0;34m\u001b[0m\n\u001b[1;32m     12\u001b[0m             \u001b[0;32mif\u001b[0m \u001b[0mlat_s\u001b[0m \u001b[0;34m==\u001b[0m \u001b[0;34m'chloroplasts'\u001b[0m\u001b[0;34m:\u001b[0m\u001b[0;34m\u001b[0m\u001b[0;34m\u001b[0m\u001b[0m\n\u001b[1;32m     13\u001b[0m                 \u001b[0mprint\u001b[0m\u001b[0;34m(\u001b[0m\u001b[0;34m'chloroplasts: '\u001b[0m\u001b[0;34m,\u001b[0m \u001b[0mquestion\u001b[0m\u001b[0;34m)\u001b[0m\u001b[0;34m\u001b[0m\u001b[0;34m\u001b[0m\u001b[0m\n\u001b[0;32m---> 14\u001b[0;31m                 \u001b[0mprint\u001b[0m\u001b[0;34m(\u001b[0m\u001b[0;34m'context: '\u001b[0m\u001b[0;34m,\u001b[0m \u001b[0mqas\u001b[0m\u001b[0;34m[\u001b[0m\u001b[0;34m'context'\u001b[0m\u001b[0;34m]\u001b[0m\u001b[0;34m)\u001b[0m\u001b[0;34m\u001b[0m\u001b[0;34m\u001b[0m\u001b[0m\n\u001b[0m\u001b[1;32m     15\u001b[0m                 \u001b[0mprint\u001b[0m\u001b[0;34m(\u001b[0m\u001b[0;34m'answer'\u001b[0m\u001b[0;34m,\u001b[0m \u001b[0mqas\u001b[0m\u001b[0;34m[\u001b[0m\u001b[0;34m'answers'\u001b[0m\u001b[0;34m]\u001b[0m\u001b[0;34m[\u001b[0m\u001b[0;36m0\u001b[0m\u001b[0;34m]\u001b[0m\u001b[0;34m[\u001b[0m\u001b[0;34m'text'\u001b[0m\u001b[0;34m]\u001b[0m\u001b[0;34m)\u001b[0m\u001b[0;34m\u001b[0m\u001b[0;34m\u001b[0m\u001b[0m\n\u001b[1;32m     16\u001b[0m \u001b[0;34m\u001b[0m\u001b[0m\n",
      "\u001b[0;31mKeyError\u001b[0m: 'context'"
     ]
    }
   ],
   "source": [
    "lat_group = Counter()\n",
    "lat_list = []\n",
    "\n",
    "for document in tqdm_notebook(data):\n",
    "    for paragraph in document['paragraphs']:\n",
    "        for qas in paragraph['qas']:\n",
    "            question = clearquestion(qas['question'])\n",
    "            \n",
    "            lat_d, lat_s = detailAnsType(question)\n",
    "            lat_list.append(lat_s)\n",
    "            \n",
    "            if lat_s == 'chloroplasts':\n",
    "                print('chloroplasts: ', question)\n",
    "                print('context: ', qas['context'])\n",
    "                print('answer', qas['answers'][0]['text'])\n",
    "    \n",
    "            lat_group[lat_s] += 1"
   ]
  },
  {
   "cell_type": "code",
   "execution_count": 145,
   "metadata": {},
   "outputs": [],
   "source": [
    "qid_dict2 = {'qid': qid_list, 'whtype': whtype_list, 'lattype': lat_list, 'RC_solvable': RC_solvable_list, 'RC_solvable2': RC_solvable_list2, 'RC_solvable_count': RC_solvable_count}"
   ]
  },
  {
   "cell_type": "code",
   "execution_count": 42,
   "metadata": {},
   "outputs": [
    {
     "data": {
      "text/plain": [
       "1763"
      ]
     },
     "execution_count": 42,
     "metadata": {},
     "output_type": "execute_result"
    }
   ],
   "source": [
    "len(lat_group)"
   ]
  },
  {
   "cell_type": "code",
   "execution_count": 36,
   "metadata": {},
   "outputs": [],
   "source": [
    "qid_dict2 = {'qid': qid_list, 'whtype': whtype_list, 'lattype': lat_list, 'xlnet_solvable': xlnet_solvable_list}"
   ]
  },
  {
   "cell_type": "code",
   "execution_count": 146,
   "metadata": {},
   "outputs": [],
   "source": [
    "df2 = pd.DataFrame(qid_dict2)"
   ]
  },
  {
   "cell_type": "code",
   "execution_count": 147,
   "metadata": {
    "scrolled": true
   },
   "outputs": [],
   "source": [
    "df_filter = df2.loc[(df2['whtype'] == 'what') | (df2['whtype'] == 'which')]"
   ]
  },
  {
   "cell_type": "code",
   "execution_count": 41,
   "metadata": {
    "scrolled": true
   },
   "outputs": [
    {
     "data": {
      "text/plain": [
       "1133"
      ]
     },
     "execution_count": 41,
     "metadata": {},
     "output_type": "execute_result"
    }
   ],
   "source": [
    "len(df_filter.loc[(df2['lattype'] == 'None')])"
   ]
  },
  {
   "cell_type": "code",
   "execution_count": 115,
   "metadata": {},
   "outputs": [],
   "source": [
    "df_filter1 = df_filter.drop(columns=['whtype','RC_solvable2','RC_solvable_count'])\n",
    "df_filter2 = df_filter.drop(columns=['whtype','RC_solvable','RC_solvable_count'])"
   ]
  },
  {
   "cell_type": "code",
   "execution_count": 148,
   "metadata": {
    "scrolled": true
   },
   "outputs": [],
   "source": [
    "df_filter_count = df_filter.drop(columns=['whtype','RC_solvable','RC_solvable2'])"
   ]
  },
  {
   "cell_type": "code",
   "execution_count": 48,
   "metadata": {
    "scrolled": true
   },
   "outputs": [],
   "source": [
    "df_filter_xlnet = df_filter.drop(columns=['whtype'])"
   ]
  },
  {
   "cell_type": "code",
   "execution_count": 59,
   "metadata": {},
   "outputs": [],
   "source": [
    "tmp = df_filter.drop(columns=['whtype','RC_solvable','RC_solvable2','RC_solvable_count'])"
   ]
  },
  {
   "cell_type": "code",
   "execution_count": 41,
   "metadata": {},
   "outputs": [],
   "source": [
    "latgroups = tmp.groupby(['lattype']).count()"
   ]
  },
  {
   "cell_type": "code",
   "execution_count": 42,
   "metadata": {
    "scrolled": true
   },
   "outputs": [],
   "source": [
    "lat_freq = dict()\n",
    "for lat in latgroups.iterrows():\n",
    "    \n",
    "    lat_freq[lat[0]] = lat[1].qid"
   ]
  },
  {
   "cell_type": "code",
   "execution_count": 119,
   "metadata": {},
   "outputs": [],
   "source": [
    "counts1 = df_filter1.groupby(['lattype','RC_solvable']).count()\n",
    "counts2 = df_filter2.groupby(['lattype','RC_solvable2']).count()"
   ]
  },
  {
   "cell_type": "code",
   "execution_count": 149,
   "metadata": {},
   "outputs": [],
   "source": [
    "counts_count = df_filter_count.groupby(['lattype','RC_solvable_count']).count()"
   ]
  },
  {
   "cell_type": "code",
   "execution_count": 150,
   "metadata": {
    "scrolled": true
   },
   "outputs": [
    {
     "data": {
      "text/html": [
       "<div>\n",
       "<style scoped>\n",
       "    .dataframe tbody tr th:only-of-type {\n",
       "        vertical-align: middle;\n",
       "    }\n",
       "\n",
       "    .dataframe tbody tr th {\n",
       "        vertical-align: top;\n",
       "    }\n",
       "\n",
       "    .dataframe thead th {\n",
       "        text-align: right;\n",
       "    }\n",
       "</style>\n",
       "<table border=\"1\" class=\"dataframe\">\n",
       "  <thead>\n",
       "    <tr style=\"text-align: right;\">\n",
       "      <th></th>\n",
       "      <th>qid</th>\n",
       "      <th>lattype</th>\n",
       "      <th>RC_solvable_count</th>\n",
       "    </tr>\n",
       "  </thead>\n",
       "  <tbody>\n",
       "    <tr>\n",
       "      <th>0</th>\n",
       "      <td>56be4db0acb8001400a502ec</td>\n",
       "      <td>team</td>\n",
       "      <td>4</td>\n",
       "    </tr>\n",
       "    <tr>\n",
       "      <th>1</th>\n",
       "      <td>56be4db0acb8001400a502ed</td>\n",
       "      <td>team</td>\n",
       "      <td>2</td>\n",
       "    </tr>\n",
       "    <tr>\n",
       "      <th>3</th>\n",
       "      <td>56be4db0acb8001400a502ef</td>\n",
       "      <td>team</td>\n",
       "      <td>4</td>\n",
       "    </tr>\n",
       "    <tr>\n",
       "      <th>4</th>\n",
       "      <td>56be4db0acb8001400a502f0</td>\n",
       "      <td>color</td>\n",
       "      <td>3</td>\n",
       "    </tr>\n",
       "    <tr>\n",
       "      <th>5</th>\n",
       "      <td>56be8e613aeaaa14008c90d1</td>\n",
       "      <td>theme</td>\n",
       "      <td>0</td>\n",
       "    </tr>\n",
       "    <tr>\n",
       "      <th>...</th>\n",
       "      <td>...</td>\n",
       "      <td>...</td>\n",
       "      <td>...</td>\n",
       "    </tr>\n",
       "    <tr>\n",
       "      <th>10565</th>\n",
       "      <td>5737aafd1c456719005744fb</td>\n",
       "      <td>term</td>\n",
       "      <td>3</td>\n",
       "    </tr>\n",
       "    <tr>\n",
       "      <th>10566</th>\n",
       "      <td>5737aafd1c456719005744fc</td>\n",
       "      <td>kilogram</td>\n",
       "      <td>4</td>\n",
       "    </tr>\n",
       "    <tr>\n",
       "      <th>10567</th>\n",
       "      <td>5737aafd1c456719005744fd</td>\n",
       "      <td>None</td>\n",
       "      <td>4</td>\n",
       "    </tr>\n",
       "    <tr>\n",
       "      <th>10568</th>\n",
       "      <td>5737aafd1c456719005744fe</td>\n",
       "      <td>None</td>\n",
       "      <td>3</td>\n",
       "    </tr>\n",
       "    <tr>\n",
       "      <th>10569</th>\n",
       "      <td>5737aafd1c456719005744ff</td>\n",
       "      <td>None</td>\n",
       "      <td>1</td>\n",
       "    </tr>\n",
       "  </tbody>\n",
       "</table>\n",
       "<p>6733 rows × 3 columns</p>\n",
       "</div>"
      ],
      "text/plain": [
       "                            qid   lattype  RC_solvable_count\n",
       "0      56be4db0acb8001400a502ec      team                  4\n",
       "1      56be4db0acb8001400a502ed      team                  2\n",
       "3      56be4db0acb8001400a502ef      team                  4\n",
       "4      56be4db0acb8001400a502f0     color                  3\n",
       "5      56be8e613aeaaa14008c90d1     theme                  0\n",
       "...                         ...       ...                ...\n",
       "10565  5737aafd1c456719005744fb      term                  3\n",
       "10566  5737aafd1c456719005744fc  kilogram                  4\n",
       "10567  5737aafd1c456719005744fd      None                  4\n",
       "10568  5737aafd1c456719005744fe      None                  3\n",
       "10569  5737aafd1c456719005744ff      None                  1\n",
       "\n",
       "[6733 rows x 3 columns]"
      ]
     },
     "execution_count": 150,
     "metadata": {},
     "output_type": "execute_result"
    }
   ],
   "source": [
    "df_filter_count"
   ]
  },
  {
   "cell_type": "code",
   "execution_count": 50,
   "metadata": {},
   "outputs": [],
   "source": [
    "counts_xlnet = df_filter_xlnet.groupby(['lattype','xlnet_solvable']).count()"
   ]
  },
  {
   "cell_type": "code",
   "execution_count": 120,
   "metadata": {},
   "outputs": [],
   "source": [
    "counts1 = counts1.unstack(level=1)\n",
    "counts1.columns = counts1.columns.droplevel(level=0)\n",
    "\n",
    "counts2 = counts2.unstack(level=1)\n",
    "counts2.columns = counts2.columns.droplevel(level=0)"
   ]
  },
  {
   "cell_type": "code",
   "execution_count": 151,
   "metadata": {
    "scrolled": true
   },
   "outputs": [
    {
     "name": "stdout",
     "output_type": "stream",
     "text": [
      "RC_solvable_count      0      1      2      3      4\n",
      "lattype                                             \n",
      "%                    1.0    NaN    NaN    NaN    NaN\n",
      "None               170.0  280.0  318.0  368.0  792.0\n",
      "abbreviation         NaN    NaN    NaN    NaN    1.0\n",
      "abilities            NaN    NaN    1.0    NaN    NaN\n",
      "ability              NaN    1.0    NaN    NaN    NaN\n",
      "...                  ...    ...    ...    ...    ...\n",
      "writings             1.0    NaN    NaN    NaN    1.0\n",
      "wustite              NaN    NaN    1.0    NaN    NaN\n",
      "yards                NaN    NaN    NaN    NaN    1.0\n",
      "year                 NaN    2.0    6.0   22.0  239.0\n",
      "years                2.0    2.0    1.0    1.0    9.0\n",
      "\n",
      "[1479 rows x 5 columns]\n"
     ]
    }
   ],
   "source": [
    "counts_count = counts_count.unstack(level=1)\n",
    "counts_count.columns = counts_count.columns.droplevel(level=0)\n",
    "print (counts_count)"
   ]
  },
  {
   "cell_type": "code",
   "execution_count": 51,
   "metadata": {},
   "outputs": [
    {
     "name": "stdout",
     "output_type": "stream",
     "text": [
      "xlnet_solvable  False  True \n",
      "lattype                     \n",
      "%                 1.0    NaN\n",
      "-                 NaN    1.0\n",
      "30th              NaN    1.0\n",
      "A167              NaN    1.0\n",
      "AAP               NaN    1.0\n",
      "...               ...    ...\n",
      "x.25              NaN    1.0\n",
      "yards             NaN    1.0\n",
      "year              4.0  267.0\n",
      "years             3.0   13.0\n",
      "zhèng             NaN    1.0\n",
      "\n",
      "[2231 rows x 2 columns]\n"
     ]
    }
   ],
   "source": [
    "counts_xlnet = counts_xlnet.unstack(level=1)\n",
    "counts_xlnet.columns = counts_xlnet.columns.droplevel(level=0)\n",
    "print (counts_xlnet)"
   ]
  },
  {
   "cell_type": "code",
   "execution_count": 121,
   "metadata": {},
   "outputs": [],
   "source": [
    "counts1 = counts1.fillna(0)\n",
    "counts1['Total'] = counts1.sum(axis=1)"
   ]
  },
  {
   "cell_type": "code",
   "execution_count": 122,
   "metadata": {},
   "outputs": [],
   "source": [
    "counts2 = counts2.fillna(0)\n",
    "counts2['Total'] = counts2.sum(axis=1)"
   ]
  },
  {
   "cell_type": "code",
   "execution_count": 152,
   "metadata": {},
   "outputs": [],
   "source": [
    "counts_count = counts_count.fillna(0)\n",
    "counts_count['Total'] = counts_count.sum(axis=1)"
   ]
  },
  {
   "cell_type": "code",
   "execution_count": 52,
   "metadata": {},
   "outputs": [],
   "source": [
    "counts_xlnet = counts_xlnet.fillna(0)\n",
    "counts_xlnet['Total'] = counts_xlnet.sum(axis=1)"
   ]
  },
  {
   "cell_type": "code",
   "execution_count": 153,
   "metadata": {
    "scrolled": true
   },
   "outputs": [],
   "source": [
    "#counts1 = counts1.sort_values(['Total'], ascending=[0])\n",
    "#counts2 = counts2.sort_values(['Total'], ascending=[0])\n",
    "counts_count = counts_count.sort_values(['Total'], ascending=[0])\n",
    "#counts_xlnet = counts_xlnet.sort_values(['Total'], ascending=[0])"
   ]
  },
  {
   "cell_type": "code",
   "execution_count": 154,
   "metadata": {
    "scrolled": true
   },
   "outputs": [
    {
     "data": {
      "text/html": [
       "<div>\n",
       "<style scoped>\n",
       "    .dataframe tbody tr th:only-of-type {\n",
       "        vertical-align: middle;\n",
       "    }\n",
       "\n",
       "    .dataframe tbody tr th {\n",
       "        vertical-align: top;\n",
       "    }\n",
       "\n",
       "    .dataframe thead th {\n",
       "        text-align: right;\n",
       "    }\n",
       "</style>\n",
       "<table border=\"1\" class=\"dataframe\">\n",
       "  <thead>\n",
       "    <tr style=\"text-align: right;\">\n",
       "      <th>RC_solvable_count</th>\n",
       "      <th>0</th>\n",
       "      <th>1</th>\n",
       "      <th>2</th>\n",
       "      <th>3</th>\n",
       "      <th>4</th>\n",
       "      <th>Total</th>\n",
       "    </tr>\n",
       "    <tr>\n",
       "      <th>lattype</th>\n",
       "      <th></th>\n",
       "      <th></th>\n",
       "      <th></th>\n",
       "      <th></th>\n",
       "      <th></th>\n",
       "      <th></th>\n",
       "    </tr>\n",
       "  </thead>\n",
       "  <tbody>\n",
       "    <tr>\n",
       "      <th>None</th>\n",
       "      <td>170.0</td>\n",
       "      <td>280.0</td>\n",
       "      <td>318.0</td>\n",
       "      <td>368.0</td>\n",
       "      <td>792.0</td>\n",
       "      <td>1928.0</td>\n",
       "    </tr>\n",
       "    <tr>\n",
       "      <th>year</th>\n",
       "      <td>0.0</td>\n",
       "      <td>2.0</td>\n",
       "      <td>6.0</td>\n",
       "      <td>22.0</td>\n",
       "      <td>239.0</td>\n",
       "      <td>269.0</td>\n",
       "    </tr>\n",
       "    <tr>\n",
       "      <th>company</th>\n",
       "      <td>3.0</td>\n",
       "      <td>7.0</td>\n",
       "      <td>7.0</td>\n",
       "      <td>9.0</td>\n",
       "      <td>50.0</td>\n",
       "      <td>76.0</td>\n",
       "    </tr>\n",
       "    <tr>\n",
       "      <th>country</th>\n",
       "      <td>2.0</td>\n",
       "      <td>7.0</td>\n",
       "      <td>4.0</td>\n",
       "      <td>8.0</td>\n",
       "      <td>53.0</td>\n",
       "      <td>74.0</td>\n",
       "    </tr>\n",
       "    <tr>\n",
       "      <th>city</th>\n",
       "      <td>1.0</td>\n",
       "      <td>0.0</td>\n",
       "      <td>3.0</td>\n",
       "      <td>7.0</td>\n",
       "      <td>51.0</td>\n",
       "      <td>62.0</td>\n",
       "    </tr>\n",
       "    <tr>\n",
       "      <th>...</th>\n",
       "      <td>...</td>\n",
       "      <td>...</td>\n",
       "      <td>...</td>\n",
       "      <td>...</td>\n",
       "      <td>...</td>\n",
       "      <td>...</td>\n",
       "    </tr>\n",
       "    <tr>\n",
       "      <th>ideals</th>\n",
       "      <td>0.0</td>\n",
       "      <td>0.0</td>\n",
       "      <td>0.0</td>\n",
       "      <td>0.0</td>\n",
       "      <td>1.0</td>\n",
       "      <td>1.0</td>\n",
       "    </tr>\n",
       "    <tr>\n",
       "      <th>identifies</th>\n",
       "      <td>0.0</td>\n",
       "      <td>0.0</td>\n",
       "      <td>0.0</td>\n",
       "      <td>1.0</td>\n",
       "      <td>0.0</td>\n",
       "      <td>1.0</td>\n",
       "    </tr>\n",
       "    <tr>\n",
       "      <th>idiom</th>\n",
       "      <td>0.0</td>\n",
       "      <td>0.0</td>\n",
       "      <td>0.0</td>\n",
       "      <td>0.0</td>\n",
       "      <td>1.0</td>\n",
       "      <td>1.0</td>\n",
       "    </tr>\n",
       "    <tr>\n",
       "      <th>images</th>\n",
       "      <td>0.0</td>\n",
       "      <td>0.0</td>\n",
       "      <td>0.0</td>\n",
       "      <td>0.0</td>\n",
       "      <td>1.0</td>\n",
       "      <td>1.0</td>\n",
       "    </tr>\n",
       "    <tr>\n",
       "      <th>literature</th>\n",
       "      <td>0.0</td>\n",
       "      <td>0.0</td>\n",
       "      <td>0.0</td>\n",
       "      <td>0.0</td>\n",
       "      <td>1.0</td>\n",
       "      <td>1.0</td>\n",
       "    </tr>\n",
       "  </tbody>\n",
       "</table>\n",
       "<p>1479 rows × 6 columns</p>\n",
       "</div>"
      ],
      "text/plain": [
       "RC_solvable_count      0      1      2      3      4   Total\n",
       "lattype                                                     \n",
       "None               170.0  280.0  318.0  368.0  792.0  1928.0\n",
       "year                 0.0    2.0    6.0   22.0  239.0   269.0\n",
       "company              3.0    7.0    7.0    9.0   50.0    76.0\n",
       "country              2.0    7.0    4.0    8.0   53.0    74.0\n",
       "city                 1.0    0.0    3.0    7.0   51.0    62.0\n",
       "...                  ...    ...    ...    ...    ...     ...\n",
       "ideals               0.0    0.0    0.0    0.0    1.0     1.0\n",
       "identifies           0.0    0.0    0.0    1.0    0.0     1.0\n",
       "idiom                0.0    0.0    0.0    0.0    1.0     1.0\n",
       "images               0.0    0.0    0.0    0.0    1.0     1.0\n",
       "literature           0.0    0.0    0.0    0.0    1.0     1.0\n",
       "\n",
       "[1479 rows x 6 columns]"
      ]
     },
     "execution_count": 154,
     "metadata": {},
     "output_type": "execute_result"
    }
   ],
   "source": [
    "counts_count"
   ]
  },
  {
   "cell_type": "code",
   "execution_count": null,
   "metadata": {},
   "outputs": [],
   "source": [
    "## [todo] weighted sum bw 0~4 models"
   ]
  },
  {
   "cell_type": "code",
   "execution_count": 92,
   "metadata": {},
   "outputs": [],
   "source": [
    "count_check = list(counts_count.Total)\n",
    "\n",
    "c = list(filter(lambda x: x >= 20, count_check))"
   ]
  },
  {
   "cell_type": "code",
   "execution_count": 93,
   "metadata": {},
   "outputs": [
    {
     "data": {
      "text/plain": [
       "39"
      ]
     },
     "execution_count": 93,
     "metadata": {},
     "output_type": "execute_result"
    }
   ],
   "source": [
    "len(c)"
   ]
  },
  {
   "cell_type": "code",
   "execution_count": 124,
   "metadata": {},
   "outputs": [],
   "source": [
    "result_sample_alo = counts1.head(100) #at leat one\n",
    "result_sample_all = counts2.head(100) # all"
   ]
  },
  {
   "cell_type": "code",
   "execution_count": 155,
   "metadata": {
    "scrolled": true
   },
   "outputs": [],
   "source": [
    "result_sample_count = counts_count.head(100)"
   ]
  },
  {
   "cell_type": "code",
   "execution_count": 56,
   "metadata": {},
   "outputs": [],
   "source": [
    "result_sample_xlnet = counts_xlnet.head(100)"
   ]
  },
  {
   "cell_type": "code",
   "execution_count": 56,
   "metadata": {},
   "outputs": [
    {
     "data": {
      "text/plain": [
       "Index([0, 1, 2, 3, 4, 'Total'], dtype='object', name='RC_solvable_count')"
      ]
     },
     "execution_count": 56,
     "metadata": {},
     "output_type": "execute_result"
    }
   ],
   "source": [
    "result_sample_count.keys()"
   ]
  },
  {
   "cell_type": "code",
   "execution_count": 156,
   "metadata": {},
   "outputs": [
    {
     "name": "stderr",
     "output_type": "stream",
     "text": [
      "/home/doyeon/anaconda3/envs/qa_analysis/lib/python3.7/site-packages/ipykernel_launcher.py:2: SettingWithCopyWarning: \n",
      "A value is trying to be set on a copy of a slice from a DataFrame.\n",
      "Try using .loc[row_indexer,col_indexer] = value instead\n",
      "\n",
      "See the caveats in the documentation: http://pandas.pydata.org/pandas-docs/stable/user_guide/indexing.html#returning-a-view-versus-a-copy\n",
      "  \n"
     ]
    }
   ],
   "source": [
    "for i in range(5):\n",
    "    result_sample_count[i] = result_sample_count[i]/result_sample_count['Total']"
   ]
  },
  {
   "cell_type": "code",
   "execution_count": 85,
   "metadata": {
    "scrolled": true
   },
   "outputs": [
    {
     "data": {
      "text/html": [
       "<div>\n",
       "<style scoped>\n",
       "    .dataframe tbody tr th:only-of-type {\n",
       "        vertical-align: middle;\n",
       "    }\n",
       "\n",
       "    .dataframe tbody tr th {\n",
       "        vertical-align: top;\n",
       "    }\n",
       "\n",
       "    .dataframe thead th {\n",
       "        text-align: right;\n",
       "    }\n",
       "</style>\n",
       "<table border=\"1\" class=\"dataframe\">\n",
       "  <thead>\n",
       "    <tr style=\"text-align: right;\">\n",
       "      <th>RC_solvable_count</th>\n",
       "      <th>0</th>\n",
       "      <th>1</th>\n",
       "      <th>2</th>\n",
       "      <th>3</th>\n",
       "      <th>4</th>\n",
       "      <th>Total</th>\n",
       "    </tr>\n",
       "    <tr>\n",
       "      <th>lattype</th>\n",
       "      <th></th>\n",
       "      <th></th>\n",
       "      <th></th>\n",
       "      <th></th>\n",
       "      <th></th>\n",
       "      <th></th>\n",
       "    </tr>\n",
       "  </thead>\n",
       "  <tbody>\n",
       "    <tr>\n",
       "      <th>None</th>\n",
       "      <td>0.085613</td>\n",
       "      <td>0.149162</td>\n",
       "      <td>0.166814</td>\n",
       "      <td>0.184466</td>\n",
       "      <td>0.413945</td>\n",
       "      <td>1133.0</td>\n",
       "    </tr>\n",
       "    <tr>\n",
       "      <th>year</th>\n",
       "      <td>0.000000</td>\n",
       "      <td>0.007380</td>\n",
       "      <td>0.022140</td>\n",
       "      <td>0.088561</td>\n",
       "      <td>0.881919</td>\n",
       "      <td>271.0</td>\n",
       "    </tr>\n",
       "    <tr>\n",
       "      <th>company</th>\n",
       "      <td>0.037500</td>\n",
       "      <td>0.087500</td>\n",
       "      <td>0.087500</td>\n",
       "      <td>0.137500</td>\n",
       "      <td>0.650000</td>\n",
       "      <td>80.0</td>\n",
       "    </tr>\n",
       "    <tr>\n",
       "      <th>country</th>\n",
       "      <td>0.027027</td>\n",
       "      <td>0.094595</td>\n",
       "      <td>0.054054</td>\n",
       "      <td>0.108108</td>\n",
       "      <td>0.716216</td>\n",
       "      <td>74.0</td>\n",
       "    </tr>\n",
       "    <tr>\n",
       "      <th>city</th>\n",
       "      <td>0.015385</td>\n",
       "      <td>0.000000</td>\n",
       "      <td>0.061538</td>\n",
       "      <td>0.107692</td>\n",
       "      <td>0.815385</td>\n",
       "      <td>65.0</td>\n",
       "    </tr>\n",
       "    <tr>\n",
       "      <th>...</th>\n",
       "      <td>...</td>\n",
       "      <td>...</td>\n",
       "      <td>...</td>\n",
       "      <td>...</td>\n",
       "      <td>...</td>\n",
       "      <td>...</td>\n",
       "    </tr>\n",
       "    <tr>\n",
       "      <th>teachers</th>\n",
       "      <td>0.000000</td>\n",
       "      <td>0.100000</td>\n",
       "      <td>0.400000</td>\n",
       "      <td>0.500000</td>\n",
       "      <td>0.000000</td>\n",
       "      <td>10.0</td>\n",
       "    </tr>\n",
       "    <tr>\n",
       "      <th>forces</th>\n",
       "      <td>0.000000</td>\n",
       "      <td>0.000000</td>\n",
       "      <td>0.000000</td>\n",
       "      <td>0.300000</td>\n",
       "      <td>0.700000</td>\n",
       "      <td>10.0</td>\n",
       "    </tr>\n",
       "    <tr>\n",
       "      <th>movement</th>\n",
       "      <td>0.000000</td>\n",
       "      <td>0.100000</td>\n",
       "      <td>0.200000</td>\n",
       "      <td>0.400000</td>\n",
       "      <td>0.300000</td>\n",
       "      <td>10.0</td>\n",
       "    </tr>\n",
       "    <tr>\n",
       "      <th>level</th>\n",
       "      <td>0.100000</td>\n",
       "      <td>0.100000</td>\n",
       "      <td>0.200000</td>\n",
       "      <td>0.100000</td>\n",
       "      <td>0.500000</td>\n",
       "      <td>10.0</td>\n",
       "    </tr>\n",
       "    <tr>\n",
       "      <th>amount</th>\n",
       "      <td>0.200000</td>\n",
       "      <td>0.000000</td>\n",
       "      <td>0.300000</td>\n",
       "      <td>0.100000</td>\n",
       "      <td>0.400000</td>\n",
       "      <td>10.0</td>\n",
       "    </tr>\n",
       "  </tbody>\n",
       "</table>\n",
       "<p>100 rows × 6 columns</p>\n",
       "</div>"
      ],
      "text/plain": [
       "RC_solvable_count         0         1         2         3         4   Total\n",
       "lattype                                                                    \n",
       "None               0.085613  0.149162  0.166814  0.184466  0.413945  1133.0\n",
       "year               0.000000  0.007380  0.022140  0.088561  0.881919   271.0\n",
       "company            0.037500  0.087500  0.087500  0.137500  0.650000    80.0\n",
       "country            0.027027  0.094595  0.054054  0.108108  0.716216    74.0\n",
       "city               0.015385  0.000000  0.061538  0.107692  0.815385    65.0\n",
       "...                     ...       ...       ...       ...       ...     ...\n",
       "teachers           0.000000  0.100000  0.400000  0.500000  0.000000    10.0\n",
       "forces             0.000000  0.000000  0.000000  0.300000  0.700000    10.0\n",
       "movement           0.000000  0.100000  0.200000  0.400000  0.300000    10.0\n",
       "level              0.100000  0.100000  0.200000  0.100000  0.500000    10.0\n",
       "amount             0.200000  0.000000  0.300000  0.100000  0.400000    10.0\n",
       "\n",
       "[100 rows x 6 columns]"
      ]
     },
     "execution_count": 85,
     "metadata": {},
     "output_type": "execute_result"
    }
   ],
   "source": [
    "result_sample_count"
   ]
  },
  {
   "cell_type": "code",
   "execution_count": 157,
   "metadata": {},
   "outputs": [],
   "source": [
    "## 1, 0.5, 0.25\n",
    "\n",
    "import numpy as np\n",
    "\n",
    "urgent_list = []\n",
    "wrong_score_list = []\n",
    "freq_list = []\n",
    "freq_log_list = []\n",
    "for lat, instance in result_sample_count.iterrows():    \n",
    "    wrong_score = instance[0]+0.5*instance[1]+0.25*instance[2]\n",
    "    freq_log = np.log(instance['Total'])\n",
    "    freq = instance['Total']\n",
    "    \n",
    "    wrong_score_list.append(wrong_score)\n",
    "    freq_list.append(int(freq))\n",
    "    freq_log_list.append(freq_log)\n",
    "    \n",
    "    urgent = wrong_score*freq\n",
    "    urgent_list.append(urgent)"
   ]
  },
  {
   "cell_type": "code",
   "execution_count": 158,
   "metadata": {},
   "outputs": [
    {
     "name": "stderr",
     "output_type": "stream",
     "text": [
      "/home/doyeon/anaconda3/envs/qa_analysis/lib/python3.7/site-packages/ipykernel_launcher.py:1: SettingWithCopyWarning: \n",
      "A value is trying to be set on a copy of a slice from a DataFrame.\n",
      "Try using .loc[row_indexer,col_indexer] = value instead\n",
      "\n",
      "See the caveats in the documentation: http://pandas.pydata.org/pandas-docs/stable/user_guide/indexing.html#returning-a-view-versus-a-copy\n",
      "  \"\"\"Entry point for launching an IPython kernel.\n",
      "/home/doyeon/anaconda3/envs/qa_analysis/lib/python3.7/site-packages/ipykernel_launcher.py:2: SettingWithCopyWarning: \n",
      "A value is trying to be set on a copy of a slice from a DataFrame.\n",
      "Try using .loc[row_indexer,col_indexer] = value instead\n",
      "\n",
      "See the caveats in the documentation: http://pandas.pydata.org/pandas-docs/stable/user_guide/indexing.html#returning-a-view-versus-a-copy\n",
      "  \n",
      "/home/doyeon/anaconda3/envs/qa_analysis/lib/python3.7/site-packages/ipykernel_launcher.py:3: SettingWithCopyWarning: \n",
      "A value is trying to be set on a copy of a slice from a DataFrame.\n",
      "Try using .loc[row_indexer,col_indexer] = value instead\n",
      "\n",
      "See the caveats in the documentation: http://pandas.pydata.org/pandas-docs/stable/user_guide/indexing.html#returning-a-view-versus-a-copy\n",
      "  This is separate from the ipykernel package so we can avoid doing imports until\n",
      "/home/doyeon/anaconda3/envs/qa_analysis/lib/python3.7/site-packages/ipykernel_launcher.py:4: SettingWithCopyWarning: \n",
      "A value is trying to be set on a copy of a slice from a DataFrame.\n",
      "Try using .loc[row_indexer,col_indexer] = value instead\n",
      "\n",
      "See the caveats in the documentation: http://pandas.pydata.org/pandas-docs/stable/user_guide/indexing.html#returning-a-view-versus-a-copy\n",
      "  after removing the cwd from sys.path.\n"
     ]
    }
   ],
   "source": [
    "result_sample_count['freq'] = freq_list\n",
    "result_sample_count['freq_log'] = freq_log_list\n",
    "result_sample_count['wrong_score'] = wrong_score_list\n",
    "result_sample_count['urgent'] = urgent_list"
   ]
  },
  {
   "cell_type": "code",
   "execution_count": 88,
   "metadata": {},
   "outputs": [
    {
     "data": {
      "text/html": [
       "<div>\n",
       "<style scoped>\n",
       "    .dataframe tbody tr th:only-of-type {\n",
       "        vertical-align: middle;\n",
       "    }\n",
       "\n",
       "    .dataframe tbody tr th {\n",
       "        vertical-align: top;\n",
       "    }\n",
       "\n",
       "    .dataframe thead th {\n",
       "        text-align: right;\n",
       "    }\n",
       "</style>\n",
       "<table border=\"1\" class=\"dataframe\">\n",
       "  <thead>\n",
       "    <tr style=\"text-align: right;\">\n",
       "      <th>RC_solvable_count</th>\n",
       "      <th>0</th>\n",
       "      <th>1</th>\n",
       "      <th>2</th>\n",
       "      <th>3</th>\n",
       "      <th>4</th>\n",
       "      <th>Total</th>\n",
       "      <th>freq</th>\n",
       "      <th>freq_log</th>\n",
       "      <th>wrong_score</th>\n",
       "      <th>urgent</th>\n",
       "    </tr>\n",
       "    <tr>\n",
       "      <th>lattype</th>\n",
       "      <th></th>\n",
       "      <th></th>\n",
       "      <th></th>\n",
       "      <th></th>\n",
       "      <th></th>\n",
       "      <th></th>\n",
       "      <th></th>\n",
       "      <th></th>\n",
       "      <th></th>\n",
       "      <th></th>\n",
       "    </tr>\n",
       "  </thead>\n",
       "  <tbody>\n",
       "    <tr>\n",
       "      <th>None</th>\n",
       "      <td>0.085613</td>\n",
       "      <td>0.149162</td>\n",
       "      <td>0.166814</td>\n",
       "      <td>0.184466</td>\n",
       "      <td>0.413945</td>\n",
       "      <td>1133.0</td>\n",
       "      <td>1133</td>\n",
       "      <td>7.032624</td>\n",
       "      <td>0.201898</td>\n",
       "      <td>228.75</td>\n",
       "    </tr>\n",
       "    <tr>\n",
       "      <th>year</th>\n",
       "      <td>0.000000</td>\n",
       "      <td>0.007380</td>\n",
       "      <td>0.022140</td>\n",
       "      <td>0.088561</td>\n",
       "      <td>0.881919</td>\n",
       "      <td>271.0</td>\n",
       "      <td>271</td>\n",
       "      <td>5.602119</td>\n",
       "      <td>0.009225</td>\n",
       "      <td>2.50</td>\n",
       "    </tr>\n",
       "    <tr>\n",
       "      <th>company</th>\n",
       "      <td>0.037500</td>\n",
       "      <td>0.087500</td>\n",
       "      <td>0.087500</td>\n",
       "      <td>0.137500</td>\n",
       "      <td>0.650000</td>\n",
       "      <td>80.0</td>\n",
       "      <td>80</td>\n",
       "      <td>4.382027</td>\n",
       "      <td>0.103125</td>\n",
       "      <td>8.25</td>\n",
       "    </tr>\n",
       "    <tr>\n",
       "      <th>country</th>\n",
       "      <td>0.027027</td>\n",
       "      <td>0.094595</td>\n",
       "      <td>0.054054</td>\n",
       "      <td>0.108108</td>\n",
       "      <td>0.716216</td>\n",
       "      <td>74.0</td>\n",
       "      <td>74</td>\n",
       "      <td>4.304065</td>\n",
       "      <td>0.087838</td>\n",
       "      <td>6.50</td>\n",
       "    </tr>\n",
       "    <tr>\n",
       "      <th>city</th>\n",
       "      <td>0.015385</td>\n",
       "      <td>0.000000</td>\n",
       "      <td>0.061538</td>\n",
       "      <td>0.107692</td>\n",
       "      <td>0.815385</td>\n",
       "      <td>65.0</td>\n",
       "      <td>65</td>\n",
       "      <td>4.174387</td>\n",
       "      <td>0.030769</td>\n",
       "      <td>2.00</td>\n",
       "    </tr>\n",
       "    <tr>\n",
       "      <th>...</th>\n",
       "      <td>...</td>\n",
       "      <td>...</td>\n",
       "      <td>...</td>\n",
       "      <td>...</td>\n",
       "      <td>...</td>\n",
       "      <td>...</td>\n",
       "      <td>...</td>\n",
       "      <td>...</td>\n",
       "      <td>...</td>\n",
       "      <td>...</td>\n",
       "    </tr>\n",
       "    <tr>\n",
       "      <th>teachers</th>\n",
       "      <td>0.000000</td>\n",
       "      <td>0.100000</td>\n",
       "      <td>0.400000</td>\n",
       "      <td>0.500000</td>\n",
       "      <td>0.000000</td>\n",
       "      <td>10.0</td>\n",
       "      <td>10</td>\n",
       "      <td>2.302585</td>\n",
       "      <td>0.150000</td>\n",
       "      <td>1.50</td>\n",
       "    </tr>\n",
       "    <tr>\n",
       "      <th>forces</th>\n",
       "      <td>0.000000</td>\n",
       "      <td>0.000000</td>\n",
       "      <td>0.000000</td>\n",
       "      <td>0.300000</td>\n",
       "      <td>0.700000</td>\n",
       "      <td>10.0</td>\n",
       "      <td>10</td>\n",
       "      <td>2.302585</td>\n",
       "      <td>0.000000</td>\n",
       "      <td>0.00</td>\n",
       "    </tr>\n",
       "    <tr>\n",
       "      <th>movement</th>\n",
       "      <td>0.000000</td>\n",
       "      <td>0.100000</td>\n",
       "      <td>0.200000</td>\n",
       "      <td>0.400000</td>\n",
       "      <td>0.300000</td>\n",
       "      <td>10.0</td>\n",
       "      <td>10</td>\n",
       "      <td>2.302585</td>\n",
       "      <td>0.100000</td>\n",
       "      <td>1.00</td>\n",
       "    </tr>\n",
       "    <tr>\n",
       "      <th>level</th>\n",
       "      <td>0.100000</td>\n",
       "      <td>0.100000</td>\n",
       "      <td>0.200000</td>\n",
       "      <td>0.100000</td>\n",
       "      <td>0.500000</td>\n",
       "      <td>10.0</td>\n",
       "      <td>10</td>\n",
       "      <td>2.302585</td>\n",
       "      <td>0.200000</td>\n",
       "      <td>2.00</td>\n",
       "    </tr>\n",
       "    <tr>\n",
       "      <th>amount</th>\n",
       "      <td>0.200000</td>\n",
       "      <td>0.000000</td>\n",
       "      <td>0.300000</td>\n",
       "      <td>0.100000</td>\n",
       "      <td>0.400000</td>\n",
       "      <td>10.0</td>\n",
       "      <td>10</td>\n",
       "      <td>2.302585</td>\n",
       "      <td>0.275000</td>\n",
       "      <td>2.75</td>\n",
       "    </tr>\n",
       "  </tbody>\n",
       "</table>\n",
       "<p>100 rows × 10 columns</p>\n",
       "</div>"
      ],
      "text/plain": [
       "RC_solvable_count         0         1         2         3         4   Total  \\\n",
       "lattype                                                                       \n",
       "None               0.085613  0.149162  0.166814  0.184466  0.413945  1133.0   \n",
       "year               0.000000  0.007380  0.022140  0.088561  0.881919   271.0   \n",
       "company            0.037500  0.087500  0.087500  0.137500  0.650000    80.0   \n",
       "country            0.027027  0.094595  0.054054  0.108108  0.716216    74.0   \n",
       "city               0.015385  0.000000  0.061538  0.107692  0.815385    65.0   \n",
       "...                     ...       ...       ...       ...       ...     ...   \n",
       "teachers           0.000000  0.100000  0.400000  0.500000  0.000000    10.0   \n",
       "forces             0.000000  0.000000  0.000000  0.300000  0.700000    10.0   \n",
       "movement           0.000000  0.100000  0.200000  0.400000  0.300000    10.0   \n",
       "level              0.100000  0.100000  0.200000  0.100000  0.500000    10.0   \n",
       "amount             0.200000  0.000000  0.300000  0.100000  0.400000    10.0   \n",
       "\n",
       "RC_solvable_count  freq  freq_log  wrong_score  urgent  \n",
       "lattype                                                 \n",
       "None               1133  7.032624     0.201898  228.75  \n",
       "year                271  5.602119     0.009225    2.50  \n",
       "company              80  4.382027     0.103125    8.25  \n",
       "country              74  4.304065     0.087838    6.50  \n",
       "city                 65  4.174387     0.030769    2.00  \n",
       "...                 ...       ...          ...     ...  \n",
       "teachers             10  2.302585     0.150000    1.50  \n",
       "forces               10  2.302585     0.000000    0.00  \n",
       "movement             10  2.302585     0.100000    1.00  \n",
       "level                10  2.302585     0.200000    2.00  \n",
       "amount               10  2.302585     0.275000    2.75  \n",
       "\n",
       "[100 rows x 10 columns]"
      ]
     },
     "execution_count": 88,
     "metadata": {},
     "output_type": "execute_result"
    }
   ],
   "source": [
    "result_sample_count"
   ]
  },
  {
   "cell_type": "code",
   "execution_count": 83,
   "metadata": {},
   "outputs": [],
   "source": [
    "import pickle\n",
    "f = open('sqaud_1.1_lat_table','wb')\n",
    "pickle.dump(result_sample_count, f)"
   ]
  },
  {
   "cell_type": "code",
   "execution_count": 84,
   "metadata": {},
   "outputs": [
    {
     "ename": "KeyError",
     "evalue": "'urgent'",
     "output_type": "error",
     "traceback": [
      "\u001b[0;31m---------------------------------------------------------------------------\u001b[0m",
      "\u001b[0;31mKeyError\u001b[0m                                  Traceback (most recent call last)",
      "\u001b[0;32m<ipython-input-84-1d7ccbcb4dac>\u001b[0m in \u001b[0;36m<module>\u001b[0;34m\u001b[0m\n\u001b[0;32m----> 1\u001b[0;31m \u001b[0mresult_sample_count\u001b[0m \u001b[0;34m=\u001b[0m \u001b[0mresult_sample_count\u001b[0m\u001b[0;34m.\u001b[0m\u001b[0msort_values\u001b[0m\u001b[0;34m(\u001b[0m\u001b[0;34m[\u001b[0m\u001b[0;34m'urgent'\u001b[0m\u001b[0;34m]\u001b[0m\u001b[0;34m,\u001b[0m \u001b[0mascending\u001b[0m\u001b[0;34m=\u001b[0m\u001b[0;34m[\u001b[0m\u001b[0;36m0\u001b[0m\u001b[0;34m]\u001b[0m\u001b[0;34m)\u001b[0m\u001b[0;34m\u001b[0m\u001b[0;34m\u001b[0m\u001b[0m\n\u001b[0m",
      "\u001b[0;32m~/anaconda3/envs/qa_analysis/lib/python3.7/site-packages/pandas/core/frame.py\u001b[0m in \u001b[0;36msort_values\u001b[0;34m(self, by, axis, ascending, inplace, kind, na_position)\u001b[0m\n\u001b[1;32m   5006\u001b[0m \u001b[0;34m\u001b[0m\u001b[0m\n\u001b[1;32m   5007\u001b[0m             \u001b[0mby\u001b[0m \u001b[0;34m=\u001b[0m \u001b[0mby\u001b[0m\u001b[0;34m[\u001b[0m\u001b[0;36m0\u001b[0m\u001b[0;34m]\u001b[0m\u001b[0;34m\u001b[0m\u001b[0;34m\u001b[0m\u001b[0m\n\u001b[0;32m-> 5008\u001b[0;31m             \u001b[0mk\u001b[0m \u001b[0;34m=\u001b[0m \u001b[0mself\u001b[0m\u001b[0;34m.\u001b[0m\u001b[0m_get_label_or_level_values\u001b[0m\u001b[0;34m(\u001b[0m\u001b[0mby\u001b[0m\u001b[0;34m,\u001b[0m \u001b[0maxis\u001b[0m\u001b[0;34m=\u001b[0m\u001b[0maxis\u001b[0m\u001b[0;34m)\u001b[0m\u001b[0;34m\u001b[0m\u001b[0;34m\u001b[0m\u001b[0m\n\u001b[0m\u001b[1;32m   5009\u001b[0m \u001b[0;34m\u001b[0m\u001b[0m\n\u001b[1;32m   5010\u001b[0m             \u001b[0;32mif\u001b[0m \u001b[0misinstance\u001b[0m\u001b[0;34m(\u001b[0m\u001b[0mascending\u001b[0m\u001b[0;34m,\u001b[0m \u001b[0;34m(\u001b[0m\u001b[0mtuple\u001b[0m\u001b[0;34m,\u001b[0m \u001b[0mlist\u001b[0m\u001b[0;34m)\u001b[0m\u001b[0;34m)\u001b[0m\u001b[0;34m:\u001b[0m\u001b[0;34m\u001b[0m\u001b[0;34m\u001b[0m\u001b[0m\n",
      "\u001b[0;32m~/anaconda3/envs/qa_analysis/lib/python3.7/site-packages/pandas/core/generic.py\u001b[0m in \u001b[0;36m_get_label_or_level_values\u001b[0;34m(self, key, axis)\u001b[0m\n\u001b[1;32m   1772\u001b[0m             \u001b[0mvalues\u001b[0m \u001b[0;34m=\u001b[0m \u001b[0mself\u001b[0m\u001b[0;34m.\u001b[0m\u001b[0maxes\u001b[0m\u001b[0;34m[\u001b[0m\u001b[0maxis\u001b[0m\u001b[0;34m]\u001b[0m\u001b[0;34m.\u001b[0m\u001b[0mget_level_values\u001b[0m\u001b[0;34m(\u001b[0m\u001b[0mkey\u001b[0m\u001b[0;34m)\u001b[0m\u001b[0;34m.\u001b[0m\u001b[0m_values\u001b[0m\u001b[0;34m\u001b[0m\u001b[0;34m\u001b[0m\u001b[0m\n\u001b[1;32m   1773\u001b[0m         \u001b[0;32melse\u001b[0m\u001b[0;34m:\u001b[0m\u001b[0;34m\u001b[0m\u001b[0;34m\u001b[0m\u001b[0m\n\u001b[0;32m-> 1774\u001b[0;31m             \u001b[0;32mraise\u001b[0m \u001b[0mKeyError\u001b[0m\u001b[0;34m(\u001b[0m\u001b[0mkey\u001b[0m\u001b[0;34m)\u001b[0m\u001b[0;34m\u001b[0m\u001b[0;34m\u001b[0m\u001b[0m\n\u001b[0m\u001b[1;32m   1775\u001b[0m \u001b[0;34m\u001b[0m\u001b[0m\n\u001b[1;32m   1776\u001b[0m         \u001b[0;31m# Check for duplicates\u001b[0m\u001b[0;34m\u001b[0m\u001b[0;34m\u001b[0m\u001b[0;34m\u001b[0m\u001b[0m\n",
      "\u001b[0;31mKeyError\u001b[0m: 'urgent'"
     ]
    }
   ],
   "source": [
    "result_sample_count = result_sample_count.sort_values(['urgent'], ascending=[0])"
   ]
  },
  {
   "cell_type": "code",
   "execution_count": 66,
   "metadata": {},
   "outputs": [],
   "source": [
    "tmp = result_sample_count.copy(deep = True)"
   ]
  },
  {
   "cell_type": "code",
   "execution_count": 67,
   "metadata": {
    "scrolled": true
   },
   "outputs": [],
   "source": [
    "roundtmp = tmp.round(decimals=3)"
   ]
  },
  {
   "cell_type": "code",
   "execution_count": 68,
   "metadata": {
    "scrolled": true
   },
   "outputs": [
    {
     "data": {
      "text/html": [
       "<div>\n",
       "<style scoped>\n",
       "    .dataframe tbody tr th:only-of-type {\n",
       "        vertical-align: middle;\n",
       "    }\n",
       "\n",
       "    .dataframe tbody tr th {\n",
       "        vertical-align: top;\n",
       "    }\n",
       "\n",
       "    .dataframe thead th {\n",
       "        text-align: right;\n",
       "    }\n",
       "</style>\n",
       "<table border=\"1\" class=\"dataframe\">\n",
       "  <thead>\n",
       "    <tr style=\"text-align: right;\">\n",
       "      <th>RC_solvable_count</th>\n",
       "      <th>0</th>\n",
       "      <th>1</th>\n",
       "      <th>2</th>\n",
       "      <th>3</th>\n",
       "      <th>4</th>\n",
       "      <th>Total</th>\n",
       "      <th>freq</th>\n",
       "      <th>freq_log</th>\n",
       "      <th>wrong_score</th>\n",
       "      <th>urgent</th>\n",
       "    </tr>\n",
       "    <tr>\n",
       "      <th>lattype</th>\n",
       "      <th></th>\n",
       "      <th></th>\n",
       "      <th></th>\n",
       "      <th></th>\n",
       "      <th></th>\n",
       "      <th></th>\n",
       "      <th></th>\n",
       "      <th></th>\n",
       "      <th></th>\n",
       "      <th></th>\n",
       "    </tr>\n",
       "  </thead>\n",
       "  <tbody>\n",
       "    <tr>\n",
       "      <th>None</th>\n",
       "      <td>0.086</td>\n",
       "      <td>0.149</td>\n",
       "      <td>0.167</td>\n",
       "      <td>0.184</td>\n",
       "      <td>0.414</td>\n",
       "      <td>1133.0</td>\n",
       "      <td>1133</td>\n",
       "      <td>7.033</td>\n",
       "      <td>0.202</td>\n",
       "      <td>228.75</td>\n",
       "    </tr>\n",
       "    <tr>\n",
       "      <th>chloroplasts</th>\n",
       "      <td>0.200</td>\n",
       "      <td>0.100</td>\n",
       "      <td>0.367</td>\n",
       "      <td>0.033</td>\n",
       "      <td>0.300</td>\n",
       "      <td>30.0</td>\n",
       "      <td>30</td>\n",
       "      <td>3.401</td>\n",
       "      <td>0.342</td>\n",
       "      <td>10.25</td>\n",
       "    </tr>\n",
       "    <tr>\n",
       "      <th>company</th>\n",
       "      <td>0.038</td>\n",
       "      <td>0.088</td>\n",
       "      <td>0.088</td>\n",
       "      <td>0.138</td>\n",
       "      <td>0.650</td>\n",
       "      <td>80.0</td>\n",
       "      <td>80</td>\n",
       "      <td>4.382</td>\n",
       "      <td>0.103</td>\n",
       "      <td>8.25</td>\n",
       "    </tr>\n",
       "    <tr>\n",
       "      <th>system</th>\n",
       "      <td>0.128</td>\n",
       "      <td>0.026</td>\n",
       "      <td>0.154</td>\n",
       "      <td>0.205</td>\n",
       "      <td>0.487</td>\n",
       "      <td>39.0</td>\n",
       "      <td>39</td>\n",
       "      <td>3.664</td>\n",
       "      <td>0.179</td>\n",
       "      <td>7.00</td>\n",
       "    </tr>\n",
       "    <tr>\n",
       "      <th>part</th>\n",
       "      <td>0.083</td>\n",
       "      <td>0.083</td>\n",
       "      <td>0.278</td>\n",
       "      <td>0.111</td>\n",
       "      <td>0.444</td>\n",
       "      <td>36.0</td>\n",
       "      <td>36</td>\n",
       "      <td>3.584</td>\n",
       "      <td>0.194</td>\n",
       "      <td>7.00</td>\n",
       "    </tr>\n",
       "    <tr>\n",
       "      <th>...</th>\n",
       "      <td>...</td>\n",
       "      <td>...</td>\n",
       "      <td>...</td>\n",
       "      <td>...</td>\n",
       "      <td>...</td>\n",
       "      <td>...</td>\n",
       "      <td>...</td>\n",
       "      <td>...</td>\n",
       "      <td>...</td>\n",
       "      <td>...</td>\n",
       "    </tr>\n",
       "    <tr>\n",
       "      <th>service</th>\n",
       "      <td>0.000</td>\n",
       "      <td>0.000</td>\n",
       "      <td>0.071</td>\n",
       "      <td>0.286</td>\n",
       "      <td>0.643</td>\n",
       "      <td>14.0</td>\n",
       "      <td>14</td>\n",
       "      <td>2.639</td>\n",
       "      <td>0.018</td>\n",
       "      <td>0.25</td>\n",
       "    </tr>\n",
       "    <tr>\n",
       "      <th>nationality</th>\n",
       "      <td>0.000</td>\n",
       "      <td>0.000</td>\n",
       "      <td>0.000</td>\n",
       "      <td>0.000</td>\n",
       "      <td>1.000</td>\n",
       "      <td>12.0</td>\n",
       "      <td>12</td>\n",
       "      <td>2.485</td>\n",
       "      <td>0.000</td>\n",
       "      <td>0.00</td>\n",
       "    </tr>\n",
       "    <tr>\n",
       "      <th>cost</th>\n",
       "      <td>0.000</td>\n",
       "      <td>0.000</td>\n",
       "      <td>0.000</td>\n",
       "      <td>0.000</td>\n",
       "      <td>1.000</td>\n",
       "      <td>10.0</td>\n",
       "      <td>10</td>\n",
       "      <td>2.303</td>\n",
       "      <td>0.000</td>\n",
       "      <td>0.00</td>\n",
       "    </tr>\n",
       "    <tr>\n",
       "      <th>forces</th>\n",
       "      <td>0.000</td>\n",
       "      <td>0.000</td>\n",
       "      <td>0.000</td>\n",
       "      <td>0.300</td>\n",
       "      <td>0.700</td>\n",
       "      <td>10.0</td>\n",
       "      <td>10</td>\n",
       "      <td>2.303</td>\n",
       "      <td>0.000</td>\n",
       "      <td>0.00</td>\n",
       "    </tr>\n",
       "    <tr>\n",
       "      <th>building</th>\n",
       "      <td>0.000</td>\n",
       "      <td>0.000</td>\n",
       "      <td>0.000</td>\n",
       "      <td>0.167</td>\n",
       "      <td>0.833</td>\n",
       "      <td>12.0</td>\n",
       "      <td>12</td>\n",
       "      <td>2.485</td>\n",
       "      <td>0.000</td>\n",
       "      <td>0.00</td>\n",
       "    </tr>\n",
       "  </tbody>\n",
       "</table>\n",
       "<p>100 rows × 10 columns</p>\n",
       "</div>"
      ],
      "text/plain": [
       "RC_solvable_count      0      1      2      3      4   Total  freq  freq_log  \\\n",
       "lattype                                                                        \n",
       "None               0.086  0.149  0.167  0.184  0.414  1133.0  1133     7.033   \n",
       "chloroplasts       0.200  0.100  0.367  0.033  0.300    30.0    30     3.401   \n",
       "company            0.038  0.088  0.088  0.138  0.650    80.0    80     4.382   \n",
       "system             0.128  0.026  0.154  0.205  0.487    39.0    39     3.664   \n",
       "part               0.083  0.083  0.278  0.111  0.444    36.0    36     3.584   \n",
       "...                  ...    ...    ...    ...    ...     ...   ...       ...   \n",
       "service            0.000  0.000  0.071  0.286  0.643    14.0    14     2.639   \n",
       "nationality        0.000  0.000  0.000  0.000  1.000    12.0    12     2.485   \n",
       "cost               0.000  0.000  0.000  0.000  1.000    10.0    10     2.303   \n",
       "forces             0.000  0.000  0.000  0.300  0.700    10.0    10     2.303   \n",
       "building           0.000  0.000  0.000  0.167  0.833    12.0    12     2.485   \n",
       "\n",
       "RC_solvable_count  wrong_score  urgent  \n",
       "lattype                                 \n",
       "None                     0.202  228.75  \n",
       "chloroplasts             0.342   10.25  \n",
       "company                  0.103    8.25  \n",
       "system                   0.179    7.00  \n",
       "part                     0.194    7.00  \n",
       "...                        ...     ...  \n",
       "service                  0.018    0.25  \n",
       "nationality              0.000    0.00  \n",
       "cost                     0.000    0.00  \n",
       "forces                   0.000    0.00  \n",
       "building                 0.000    0.00  \n",
       "\n",
       "[100 rows x 10 columns]"
      ]
     },
     "execution_count": 68,
     "metadata": {},
     "output_type": "execute_result"
    }
   ],
   "source": [
    "roundtmp"
   ]
  },
  {
   "cell_type": "code",
   "execution_count": 69,
   "metadata": {},
   "outputs": [
    {
     "ename": "NameError",
     "evalue": "name 'result_sample_alo' is not defined",
     "output_type": "error",
     "traceback": [
      "\u001b[0;31m---------------------------------------------------------------------------\u001b[0m",
      "\u001b[0;31mNameError\u001b[0m                                 Traceback (most recent call last)",
      "\u001b[0;32m<ipython-input-69-8c51d3d2425a>\u001b[0m in \u001b[0;36m<module>\u001b[0;34m\u001b[0m\n\u001b[0;32m----> 1\u001b[0;31m \u001b[0mresult_sample_alo\u001b[0m\u001b[0;34m[\u001b[0m\u001b[0;34m'ratio'\u001b[0m\u001b[0;34m]\u001b[0m \u001b[0;34m=\u001b[0m \u001b[0mresult_sample_alo\u001b[0m\u001b[0;34m[\u001b[0m\u001b[0;32mFalse\u001b[0m\u001b[0;34m]\u001b[0m\u001b[0;34m/\u001b[0m\u001b[0mresult_sample_alo\u001b[0m\u001b[0;34m[\u001b[0m\u001b[0;34m'Total'\u001b[0m\u001b[0;34m]\u001b[0m\u001b[0;34m\u001b[0m\u001b[0;34m\u001b[0m\u001b[0m\n\u001b[0m\u001b[1;32m      2\u001b[0m \u001b[0mresult_sample_all\u001b[0m\u001b[0;34m[\u001b[0m\u001b[0;34m'ratio'\u001b[0m\u001b[0;34m]\u001b[0m \u001b[0;34m=\u001b[0m \u001b[0mresult_sample_all\u001b[0m\u001b[0;34m[\u001b[0m\u001b[0;32mFalse\u001b[0m\u001b[0;34m]\u001b[0m\u001b[0;34m/\u001b[0m\u001b[0mresult_sample_all\u001b[0m\u001b[0;34m[\u001b[0m\u001b[0;34m'Total'\u001b[0m\u001b[0;34m]\u001b[0m\u001b[0;34m\u001b[0m\u001b[0;34m\u001b[0m\u001b[0m\n",
      "\u001b[0;31mNameError\u001b[0m: name 'result_sample_alo' is not defined"
     ]
    }
   ],
   "source": [
    "result_sample_alo['ratio'] = result_sample_alo[False]/result_sample_alo['Total']\n",
    "result_sample_all['ratio'] = result_sample_all[False]/result_sample_all['Total']"
   ]
  },
  {
   "cell_type": "code",
   "execution_count": 70,
   "metadata": {},
   "outputs": [
    {
     "ename": "NameError",
     "evalue": "name 'result_sample_xlnet' is not defined",
     "output_type": "error",
     "traceback": [
      "\u001b[0;31m---------------------------------------------------------------------------\u001b[0m",
      "\u001b[0;31mNameError\u001b[0m                                 Traceback (most recent call last)",
      "\u001b[0;32m<ipython-input-70-6e3950309e72>\u001b[0m in \u001b[0;36m<module>\u001b[0;34m\u001b[0m\n\u001b[0;32m----> 1\u001b[0;31m \u001b[0mresult_sample_xlnet\u001b[0m\u001b[0;34m[\u001b[0m\u001b[0;34m'ratio'\u001b[0m\u001b[0;34m]\u001b[0m \u001b[0;34m=\u001b[0m \u001b[0mresult_sample_xlnet\u001b[0m\u001b[0;34m[\u001b[0m\u001b[0;32mFalse\u001b[0m\u001b[0;34m]\u001b[0m\u001b[0;34m/\u001b[0m\u001b[0mresult_sample_xlnet\u001b[0m\u001b[0;34m[\u001b[0m\u001b[0;34m'Total'\u001b[0m\u001b[0;34m]\u001b[0m\u001b[0;34m\u001b[0m\u001b[0;34m\u001b[0m\u001b[0m\n\u001b[0m",
      "\u001b[0;31mNameError\u001b[0m: name 'result_sample_xlnet' is not defined"
     ]
    }
   ],
   "source": [
    "result_sample_xlnet['ratio'] = result_sample_xlnet[False]/result_sample_xlnet['Total']"
   ]
  },
  {
   "cell_type": "code",
   "execution_count": 126,
   "metadata": {},
   "outputs": [],
   "source": [
    "result_sample_alo = result_sample_alo.sort_values(['ratio'], ascending=[0])\n",
    "result_sample_all = result_sample_all.sort_values(['ratio'], ascending=[0])"
   ]
  },
  {
   "cell_type": "code",
   "execution_count": 127,
   "metadata": {
    "scrolled": true
   },
   "outputs": [],
   "source": [
    "result_sample_alo.columns = ['False','True','Total','Ratio']\n",
    "result_sample_all.columns = ['False','True','Total','Ratio']"
   ]
  },
  {
   "cell_type": "code",
   "execution_count": 58,
   "metadata": {},
   "outputs": [],
   "source": [
    "result_sample_xlnet = result_sample_xlnet.sort_values(['ratio'], ascending=[0])\n",
    "result_sample_xlnet.columns = ['False','True','Total','Ratio']"
   ]
  },
  {
   "cell_type": "code",
   "execution_count": 159,
   "metadata": {
    "scrolled": true
   },
   "outputs": [],
   "source": [
    "result_sample_count.columns = ['0','1','2','3','4','Total','freq','freq_log','wrong_score','urgent']"
   ]
  },
  {
   "cell_type": "code",
   "execution_count": 160,
   "metadata": {},
   "outputs": [
    {
     "name": "stderr",
     "output_type": "stream",
     "text": [
      "/home/doyeon/anaconda3/envs/qa_analysis/lib/python3.7/site-packages/ipykernel_launcher.py:1: SettingWithCopyWarning: \n",
      "A value is trying to be set on a copy of a slice from a DataFrame.\n",
      "Try using .loc[row_indexer,col_indexer] = value instead\n",
      "\n",
      "See the caveats in the documentation: http://pandas.pydata.org/pandas-docs/stable/user_guide/indexing.html#returning-a-view-versus-a-copy\n",
      "  \"\"\"Entry point for launching an IPython kernel.\n"
     ]
    }
   ],
   "source": [
    "result_sample_count['score'] = result_sample_count['4']+0.5*result_sample_count['3']-0.5*result_sample_count['1']-result_sample_count['0']"
   ]
  },
  {
   "cell_type": "code",
   "execution_count": 165,
   "metadata": {},
   "outputs": [],
   "source": [
    "result_sample_count = result_sample_count.sort_values(['score'], ascending=[1])"
   ]
  },
  {
   "cell_type": "code",
   "execution_count": 166,
   "metadata": {
    "scrolled": true
   },
   "outputs": [
    {
     "data": {
      "text/plain": [
       "Index(['impact', 'chloroplasts', 'point', 'reason', 'goal', 'dynasty',\n",
       "       'function', 'way', 'role', 'effect', 'event', 'division', 'amount',\n",
       "       'body', 'areas', 'schools', 'line', 'shape', 'field', 'compounds',\n",
       "       'None', 'time', 'part', 'color', 'title', 'system', 'example', 'region',\n",
       "       'leader', 'show', 'form', 'law', 'years', 'program', 'series', 'sort',\n",
       "       'purpose', 'feature', 'engines', 'concept', 'episode', 'group', 'team',\n",
       "       'force', 'class', 'period', 'groups', 'movement', 'cells', 'teacher',\n",
       "       'examples', 'position', 'number', 'day', 'problem', 'percentage',\n",
       "       'rate', 'area', 'month', 'district', 'state', 'entity', 'term', 'book',\n",
       "       'company', 'sources', 'theorem', 'network', 'artist', 'language',\n",
       "       'organization', 'molecules', 'century', 'station', 'work', 'river',\n",
       "       'country', 'population', 'venue', 'church', 'religion', 'process',\n",
       "       'word', 'theory', 'direction', 'decade', 'countries', 'service',\n",
       "       'player', 'war', 'stadium', 'case', 'county', 'profession', 'city',\n",
       "       'school', 'date', 'year', 'building', 'nationality'],\n",
       "      dtype='object', name='lattype')"
      ]
     },
     "execution_count": 166,
     "metadata": {},
     "output_type": "execute_result"
    }
   ],
   "source": [
    "result_sample_count.index"
   ]
  },
  {
   "cell_type": "code",
   "execution_count": 109,
   "metadata": {},
   "outputs": [
    {
     "ename": "NameError",
     "evalue": "name 'result_sample_xlnet' is not defined",
     "output_type": "error",
     "traceback": [
      "\u001b[0;31m---------------------------------------------------------------------------\u001b[0m",
      "\u001b[0;31mNameError\u001b[0m                                 Traceback (most recent call last)",
      "\u001b[0;32m<ipython-input-109-945d8f93a17e>\u001b[0m in \u001b[0;36m<module>\u001b[0;34m\u001b[0m\n\u001b[0;32m----> 1\u001b[0;31m \u001b[0mresult_sample_xlnet\u001b[0m\u001b[0;34m[\u001b[0m\u001b[0;34m'False'\u001b[0m\u001b[0;34m]\u001b[0m \u001b[0;34m/=\u001b[0m \u001b[0mresult_sample_xlnet\u001b[0m\u001b[0;34m[\u001b[0m\u001b[0;34m'Total'\u001b[0m\u001b[0;34m]\u001b[0m\u001b[0;34m\u001b[0m\u001b[0;34m\u001b[0m\u001b[0m\n\u001b[0m\u001b[1;32m      2\u001b[0m \u001b[0mresult_sample_xlnet\u001b[0m\u001b[0;34m[\u001b[0m\u001b[0;34m'True'\u001b[0m\u001b[0;34m]\u001b[0m \u001b[0;34m/=\u001b[0m \u001b[0mresult_sample_xlnet\u001b[0m\u001b[0;34m[\u001b[0m\u001b[0;34m'Total'\u001b[0m\u001b[0;34m]\u001b[0m\u001b[0;34m\u001b[0m\u001b[0;34m\u001b[0m\u001b[0m\n",
      "\u001b[0;31mNameError\u001b[0m: name 'result_sample_xlnet' is not defined"
     ]
    }
   ],
   "source": [
    "result_sample_xlnet['False'] /= result_sample_xlnet['Total']\n",
    "result_sample_xlnet['True'] /= result_sample_xlnet['Total']"
   ]
  },
  {
   "cell_type": "code",
   "execution_count": 128,
   "metadata": {
    "scrolled": true
   },
   "outputs": [],
   "source": [
    "result_sample_alo['False'] /= result_sample_alo['Total']\n",
    "result_sample_alo['True'] /= result_sample_alo['Total']\n",
    "\n",
    "result_sample_all['False'] /= result_sample_all['Total']\n",
    "result_sample_all['True'] /= result_sample_all['Total']"
   ]
  },
  {
   "cell_type": "code",
   "execution_count": 129,
   "metadata": {
    "scrolled": true
   },
   "outputs": [
    {
     "data": {
      "text/plain": [
       "<matplotlib.axes._subplots.AxesSubplot at 0x7fef486dde10>"
      ]
     },
     "execution_count": 129,
     "metadata": {},
     "output_type": "execute_result"
    },
    {
     "data": {
      "image/png": "[encoded data removed]",
      "text/plain": [
       "<Figure size 720x1440 with 1 Axes>"
      ]
     },
     "metadata": {
      "needs_background": "light"
     },
     "output_type": "display_data"
    }
   ],
   "source": [
    "result_sample_alo = result_sample_alo[['False','True']]\n",
    "result_sample_alo['False'] = -result_sample_alo['False']\n",
    "result_sample_alo.plot(figsize=(10,20), kind='barh', stacked=True ,title = 'XLNet solvability per LAT')"
   ]
  },
  {
   "cell_type": "code",
   "execution_count": 130,
   "metadata": {
    "scrolled": true
   },
   "outputs": [
    {
     "data": {
      "text/plain": [
       "<matplotlib.axes._subplots.AxesSubplot at 0x7fef43d74f90>"
      ]
     },
     "execution_count": 130,
     "metadata": {},
     "output_type": "execute_result"
    },
    {
     "data": {
      "image/png": "[encoded data removed]",
      "text/plain": [
       "<Figure size 720x1440 with 1 Axes>"
      ]
     },
     "metadata": {
      "needs_background": "light"
     },
     "output_type": "display_data"
    }
   ],
   "source": [
    "result_sample_all = result_sample_all[['False','True']]\n",
    "result_sample_all['False'] = -result_sample_all['False']\n",
    "result_sample_all.plot(figsize=(10,20), kind='barh', stacked=True ,title = 'XLNet solvability per LAT')"
   ]
  },
  {
   "cell_type": "code",
   "execution_count": 62,
   "metadata": {
    "scrolled": true
   },
   "outputs": [
    {
     "name": "stderr",
     "output_type": "stream",
     "text": [
      "/home/doyeon/anaconda3/envs/kcc/lib/python3.7/site-packages/ipykernel_launcher.py:2: SettingWithCopyWarning: \n",
      "A value is trying to be set on a copy of a slice from a DataFrame.\n",
      "Try using .loc[row_indexer,col_indexer] = value instead\n",
      "\n",
      "See the caveats in the documentation: http://pandas.pydata.org/pandas-docs/stable/user_guide/indexing.html#returning-a-view-versus-a-copy\n",
      "  \n"
     ]
    },
    {
     "data": {
      "text/plain": [
       "<matplotlib.axes._subplots.AxesSubplot at 0x7faf003984d0>"
      ]
     },
     "execution_count": 62,
     "metadata": {},
     "output_type": "execute_result"
    },
    {
     "data": {
      "image/png": "[encoded data removed]",
      "text/plain": [
       "<Figure size 720x1440 with 1 Axes>"
      ]
     },
     "metadata": {},
     "output_type": "display_data"
    }
   ],
   "source": [
    "result_sample_xlnet = result_sample_xlnet[['False','True']]\n",
    "result_sample_xlnet['False'] = -result_sample_xlnet['False']\n",
    "result_sample_xlnet.plot(figsize=(10,20), kind='barh', stacked=True ,title = 'XLNet solvability per LAT')"
   ]
  },
  {
   "cell_type": "code",
   "execution_count": 167,
   "metadata": {},
   "outputs": [
    {
     "data": {
      "text/plain": [
       "Text(0.5, 1.0, '[SQuAD 1.1] Difficulty per LAT type for MRQA models')"
      ]
     },
     "execution_count": 167,
     "metadata": {},
     "output_type": "execute_result"
    },
    {
     "data": {
      "image/png": "[encoded data removed]",
      "text/plain": [
       "<Figure size 720x1440 with 1 Axes>"
      ]
     },
     "metadata": {},
     "output_type": "display_data"
    }
   ],
   "source": [
    "import matplotlib\n",
    "\n",
    "result_sample_count = result_sample_count[['0','1','2','3','4']]\n",
    "#result_sample_alo['False'] = -result_sample_alo['False']\n",
    "ax = result_sample_count.plot(figsize=(10,20), kind='barh', stacked=True , colormap='coolwarm_r')\n",
    "\n",
    "ax.set_facecolor(\"w\")\n",
    "matplotlib.pyplot.ylabel('LAT type')\n",
    "matplotlib.pyplot.xlabel('stacked proportion of questions')\n",
    "ax.legend(loc='center left', bbox_to_anchor=(1, 0.5), title=\"# of models that gave \\n  the correct answers\")\n",
    "ax.set_title('[SQuAD 1.1] Difficulty per LAT type for MRQA models', fontsize=15)"
   ]
  },
  {
   "cell_type": "code",
   "execution_count": 194,
   "metadata": {
    "scrolled": true
   },
   "outputs": [
    {
     "ename": "KeyError",
     "evalue": "\"None of [Index(['False', 'True'], dtype='object', name='RC_solvable')] are in the [columns]\"",
     "output_type": "error",
     "traceback": [
      "\u001b[0;31m---------------------------------------------------------------------------\u001b[0m",
      "\u001b[0;31mKeyError\u001b[0m                                  Traceback (most recent call last)",
      "\u001b[0;32m<ipython-input-194-efa9cbe4c4a0>\u001b[0m in \u001b[0;36m<module>\u001b[0;34m\u001b[0m\n\u001b[0;32m----> 1\u001b[0;31m \u001b[0mresult_sample_alo\u001b[0m \u001b[0;34m=\u001b[0m \u001b[0mresult_sample_alo\u001b[0m\u001b[0;34m[\u001b[0m\u001b[0;34m[\u001b[0m\u001b[0;34m'False'\u001b[0m\u001b[0;34m,\u001b[0m\u001b[0;34m'True'\u001b[0m\u001b[0;34m]\u001b[0m\u001b[0;34m]\u001b[0m\u001b[0;34m\u001b[0m\u001b[0;34m\u001b[0m\u001b[0m\n\u001b[0m\u001b[1;32m      2\u001b[0m \u001b[0mresult_sample_alo\u001b[0m\u001b[0;34m[\u001b[0m\u001b[0;34m'False'\u001b[0m\u001b[0;34m]\u001b[0m \u001b[0;34m=\u001b[0m \u001b[0;34m-\u001b[0m\u001b[0mresult_sample_alo\u001b[0m\u001b[0;34m[\u001b[0m\u001b[0;34m'False'\u001b[0m\u001b[0;34m]\u001b[0m\u001b[0;34m\u001b[0m\u001b[0;34m\u001b[0m\u001b[0m\n\u001b[1;32m      3\u001b[0m \u001b[0mresult_sample_alo\u001b[0m\u001b[0;34m.\u001b[0m\u001b[0mplot\u001b[0m\u001b[0;34m(\u001b[0m\u001b[0mfigsize\u001b[0m\u001b[0;34m=\u001b[0m\u001b[0;34m(\u001b[0m\u001b[0;36m10\u001b[0m\u001b[0;34m,\u001b[0m\u001b[0;36m20\u001b[0m\u001b[0;34m)\u001b[0m\u001b[0;34m,\u001b[0m \u001b[0mkind\u001b[0m\u001b[0;34m=\u001b[0m\u001b[0;34m'barh'\u001b[0m\u001b[0;34m,\u001b[0m \u001b[0mstacked\u001b[0m\u001b[0;34m=\u001b[0m\u001b[0;32mTrue\u001b[0m \u001b[0;34m,\u001b[0m\u001b[0mtitle\u001b[0m \u001b[0;34m=\u001b[0m \u001b[0;34m'RC solvability per LAT'\u001b[0m\u001b[0;34m)\u001b[0m\u001b[0;34m\u001b[0m\u001b[0;34m\u001b[0m\u001b[0m\n",
      "\u001b[0;32m~/anaconda3/envs/kcc/lib/python3.7/site-packages/pandas/core/frame.py\u001b[0m in \u001b[0;36m__getitem__\u001b[0;34m(self, key)\u001b[0m\n\u001b[1;32m   2979\u001b[0m             \u001b[0;32mif\u001b[0m \u001b[0mis_iterator\u001b[0m\u001b[0;34m(\u001b[0m\u001b[0mkey\u001b[0m\u001b[0;34m)\u001b[0m\u001b[0;34m:\u001b[0m\u001b[0;34m\u001b[0m\u001b[0;34m\u001b[0m\u001b[0m\n\u001b[1;32m   2980\u001b[0m                 \u001b[0mkey\u001b[0m \u001b[0;34m=\u001b[0m \u001b[0mlist\u001b[0m\u001b[0;34m(\u001b[0m\u001b[0mkey\u001b[0m\u001b[0;34m)\u001b[0m\u001b[0;34m\u001b[0m\u001b[0;34m\u001b[0m\u001b[0m\n\u001b[0;32m-> 2981\u001b[0;31m             \u001b[0mindexer\u001b[0m \u001b[0;34m=\u001b[0m \u001b[0mself\u001b[0m\u001b[0;34m.\u001b[0m\u001b[0mloc\u001b[0m\u001b[0;34m.\u001b[0m\u001b[0m_convert_to_indexer\u001b[0m\u001b[0;34m(\u001b[0m\u001b[0mkey\u001b[0m\u001b[0;34m,\u001b[0m \u001b[0maxis\u001b[0m\u001b[0;34m=\u001b[0m\u001b[0;36m1\u001b[0m\u001b[0;34m,\u001b[0m \u001b[0mraise_missing\u001b[0m\u001b[0;34m=\u001b[0m\u001b[0;32mTrue\u001b[0m\u001b[0;34m)\u001b[0m\u001b[0;34m\u001b[0m\u001b[0;34m\u001b[0m\u001b[0m\n\u001b[0m\u001b[1;32m   2982\u001b[0m \u001b[0;34m\u001b[0m\u001b[0m\n\u001b[1;32m   2983\u001b[0m         \u001b[0;31m# take() does not accept boolean indexers\u001b[0m\u001b[0;34m\u001b[0m\u001b[0;34m\u001b[0m\u001b[0;34m\u001b[0m\u001b[0m\n",
      "\u001b[0;32m~/anaconda3/envs/kcc/lib/python3.7/site-packages/pandas/core/indexing.py\u001b[0m in \u001b[0;36m_convert_to_indexer\u001b[0;34m(self, obj, axis, is_setter, raise_missing)\u001b[0m\n\u001b[1;32m   1269\u001b[0m                 \u001b[0;31m# When setting, missing keys are not allowed, even with .loc:\u001b[0m\u001b[0;34m\u001b[0m\u001b[0;34m\u001b[0m\u001b[0;34m\u001b[0m\u001b[0m\n\u001b[1;32m   1270\u001b[0m                 \u001b[0mkwargs\u001b[0m \u001b[0;34m=\u001b[0m \u001b[0;34m{\u001b[0m\u001b[0;34m\"raise_missing\"\u001b[0m\u001b[0;34m:\u001b[0m \u001b[0;32mTrue\u001b[0m \u001b[0;32mif\u001b[0m \u001b[0mis_setter\u001b[0m \u001b[0;32melse\u001b[0m \u001b[0mraise_missing\u001b[0m\u001b[0;34m}\u001b[0m\u001b[0;34m\u001b[0m\u001b[0;34m\u001b[0m\u001b[0m\n\u001b[0;32m-> 1271\u001b[0;31m                 \u001b[0;32mreturn\u001b[0m \u001b[0mself\u001b[0m\u001b[0;34m.\u001b[0m\u001b[0m_get_listlike_indexer\u001b[0m\u001b[0;34m(\u001b[0m\u001b[0mobj\u001b[0m\u001b[0;34m,\u001b[0m \u001b[0maxis\u001b[0m\u001b[0;34m,\u001b[0m \u001b[0;34m**\u001b[0m\u001b[0mkwargs\u001b[0m\u001b[0;34m)\u001b[0m\u001b[0;34m[\u001b[0m\u001b[0;36m1\u001b[0m\u001b[0;34m]\u001b[0m\u001b[0;34m\u001b[0m\u001b[0;34m\u001b[0m\u001b[0m\n\u001b[0m\u001b[1;32m   1272\u001b[0m         \u001b[0;32melse\u001b[0m\u001b[0;34m:\u001b[0m\u001b[0;34m\u001b[0m\u001b[0;34m\u001b[0m\u001b[0m\n\u001b[1;32m   1273\u001b[0m             \u001b[0;32mtry\u001b[0m\u001b[0;34m:\u001b[0m\u001b[0;34m\u001b[0m\u001b[0;34m\u001b[0m\u001b[0m\n",
      "\u001b[0;32m~/anaconda3/envs/kcc/lib/python3.7/site-packages/pandas/core/indexing.py\u001b[0m in \u001b[0;36m_get_listlike_indexer\u001b[0;34m(self, key, axis, raise_missing)\u001b[0m\n\u001b[1;32m   1076\u001b[0m \u001b[0;34m\u001b[0m\u001b[0m\n\u001b[1;32m   1077\u001b[0m         self._validate_read_indexer(\n\u001b[0;32m-> 1078\u001b[0;31m             \u001b[0mkeyarr\u001b[0m\u001b[0;34m,\u001b[0m \u001b[0mindexer\u001b[0m\u001b[0;34m,\u001b[0m \u001b[0mo\u001b[0m\u001b[0;34m.\u001b[0m\u001b[0m_get_axis_number\u001b[0m\u001b[0;34m(\u001b[0m\u001b[0maxis\u001b[0m\u001b[0;34m)\u001b[0m\u001b[0;34m,\u001b[0m \u001b[0mraise_missing\u001b[0m\u001b[0;34m=\u001b[0m\u001b[0mraise_missing\u001b[0m\u001b[0;34m\u001b[0m\u001b[0;34m\u001b[0m\u001b[0m\n\u001b[0m\u001b[1;32m   1079\u001b[0m         )\n\u001b[1;32m   1080\u001b[0m         \u001b[0;32mreturn\u001b[0m \u001b[0mkeyarr\u001b[0m\u001b[0;34m,\u001b[0m \u001b[0mindexer\u001b[0m\u001b[0;34m\u001b[0m\u001b[0;34m\u001b[0m\u001b[0m\n",
      "\u001b[0;32m~/anaconda3/envs/kcc/lib/python3.7/site-packages/pandas/core/indexing.py\u001b[0m in \u001b[0;36m_validate_read_indexer\u001b[0;34m(self, key, indexer, axis, raise_missing)\u001b[0m\n\u001b[1;32m   1161\u001b[0m                 raise KeyError(\n\u001b[1;32m   1162\u001b[0m                     \"None of [{key}] are in the [{axis}]\".format(\n\u001b[0;32m-> 1163\u001b[0;31m                         \u001b[0mkey\u001b[0m\u001b[0;34m=\u001b[0m\u001b[0mkey\u001b[0m\u001b[0;34m,\u001b[0m \u001b[0maxis\u001b[0m\u001b[0;34m=\u001b[0m\u001b[0mself\u001b[0m\u001b[0;34m.\u001b[0m\u001b[0mobj\u001b[0m\u001b[0;34m.\u001b[0m\u001b[0m_get_axis_name\u001b[0m\u001b[0;34m(\u001b[0m\u001b[0maxis\u001b[0m\u001b[0;34m)\u001b[0m\u001b[0;34m\u001b[0m\u001b[0;34m\u001b[0m\u001b[0m\n\u001b[0m\u001b[1;32m   1164\u001b[0m                     )\n\u001b[1;32m   1165\u001b[0m                 )\n",
      "\u001b[0;31mKeyError\u001b[0m: \"None of [Index(['False', 'True'], dtype='object', name='RC_solvable')] are in the [columns]\""
     ]
    }
   ],
   "source": [
    "result_sample_alo = result_sample_alo[['False','True']]\n",
    "result_sample_alo['False'] = -result_sample_alo['False']\n",
    "result_sample_alo.plot(figsize=(10,20), kind='barh', stacked=True ,title = 'RC solvability per LAT')"
   ]
  },
  {
   "cell_type": "code",
   "execution_count": 127,
   "metadata": {},
   "outputs": [
    {
     "data": {
      "text/plain": [
       "<matplotlib.axes._subplots.AxesSubplot at 0x7f197549d2d0>"
      ]
     },
     "execution_count": 127,
     "metadata": {},
     "output_type": "execute_result"
    },
    {
     "data": {
      "image/png": "[encoded data removed]",
      "text/plain": [
       "<Figure size 720x1440 with 1 Axes>"
      ]
     },
     "metadata": {},
     "output_type": "display_data"
    }
   ],
   "source": [
    "result_sample_all = result_sample_all[['False','True']]\n",
    "result_sample_all['False'] = -result_sample_all['False']\n",
    "result_sample_all.plot(figsize=(10,20), kind='barh', stacked=True ,title = 'RC solvability per LAT')"
   ]
  },
  {
   "cell_type": "code",
   "execution_count": 173,
   "metadata": {},
   "outputs": [
    {
     "data": {
      "text/html": [
       "<div>\n",
       "<style scoped>\n",
       "    .dataframe tbody tr th:only-of-type {\n",
       "        vertical-align: middle;\n",
       "    }\n",
       "\n",
       "    .dataframe tbody tr th {\n",
       "        vertical-align: top;\n",
       "    }\n",
       "\n",
       "    .dataframe thead th {\n",
       "        text-align: right;\n",
       "    }\n",
       "</style>\n",
       "<table border=\"1\" class=\"dataframe\">\n",
       "  <thead>\n",
       "    <tr style=\"text-align: right;\">\n",
       "      <th></th>\n",
       "      <th>0</th>\n",
       "      <th>1</th>\n",
       "      <th>2</th>\n",
       "      <th>3</th>\n",
       "    </tr>\n",
       "  </thead>\n",
       "  <tbody>\n",
       "    <tr>\n",
       "      <th>0</th>\n",
       "      <td>0.070429</td>\n",
       "      <td>0.314044</td>\n",
       "      <td>0.198377</td>\n",
       "      <td>0.046965</td>\n",
       "    </tr>\n",
       "    <tr>\n",
       "      <th>1</th>\n",
       "      <td>0.749975</td>\n",
       "      <td>0.313324</td>\n",
       "      <td>0.588196</td>\n",
       "      <td>0.009443</td>\n",
       "    </tr>\n",
       "    <tr>\n",
       "      <th>2</th>\n",
       "      <td>0.048844</td>\n",
       "      <td>0.023699</td>\n",
       "      <td>0.762604</td>\n",
       "      <td>0.092510</td>\n",
       "    </tr>\n",
       "    <tr>\n",
       "      <th>3</th>\n",
       "      <td>0.564028</td>\n",
       "      <td>0.023477</td>\n",
       "      <td>0.137801</td>\n",
       "      <td>0.141642</td>\n",
       "    </tr>\n",
       "    <tr>\n",
       "      <th>4</th>\n",
       "      <td>0.378162</td>\n",
       "      <td>0.212360</td>\n",
       "      <td>0.256653</td>\n",
       "      <td>0.705599</td>\n",
       "    </tr>\n",
       "    <tr>\n",
       "      <th>5</th>\n",
       "      <td>0.041651</td>\n",
       "      <td>0.066077</td>\n",
       "      <td>0.120181</td>\n",
       "      <td>0.473346</td>\n",
       "    </tr>\n",
       "    <tr>\n",
       "      <th>6</th>\n",
       "      <td>0.256582</td>\n",
       "      <td>0.133719</td>\n",
       "      <td>0.114964</td>\n",
       "      <td>0.538792</td>\n",
       "    </tr>\n",
       "    <tr>\n",
       "      <th>7</th>\n",
       "      <td>0.220245</td>\n",
       "      <td>0.159481</td>\n",
       "      <td>0.318749</td>\n",
       "      <td>0.242615</td>\n",
       "    </tr>\n",
       "    <tr>\n",
       "      <th>8</th>\n",
       "      <td>0.503184</td>\n",
       "      <td>0.947943</td>\n",
       "      <td>0.611468</td>\n",
       "      <td>0.419353</td>\n",
       "    </tr>\n",
       "    <tr>\n",
       "      <th>9</th>\n",
       "      <td>0.440137</td>\n",
       "      <td>0.689202</td>\n",
       "      <td>0.118517</td>\n",
       "      <td>0.299765</td>\n",
       "    </tr>\n",
       "  </tbody>\n",
       "</table>\n",
       "</div>"
      ],
      "text/plain": [
       "          0         1         2         3\n",
       "0  0.070429  0.314044  0.198377  0.046965\n",
       "1  0.749975  0.313324  0.588196  0.009443\n",
       "2  0.048844  0.023699  0.762604  0.092510\n",
       "3  0.564028  0.023477  0.137801  0.141642\n",
       "4  0.378162  0.212360  0.256653  0.705599\n",
       "5  0.041651  0.066077  0.120181  0.473346\n",
       "6  0.256582  0.133719  0.114964  0.538792\n",
       "7  0.220245  0.159481  0.318749  0.242615\n",
       "8  0.503184  0.947943  0.611468  0.419353\n",
       "9  0.440137  0.689202  0.118517  0.299765"
      ]
     },
     "execution_count": 173,
     "metadata": {},
     "output_type": "execute_result"
    }
   ],
   "source": [
    "pd.DataFrame(rand(10, 4))"
   ]
  },
  {
   "cell_type": "code",
   "execution_count": 237,
   "metadata": {},
   "outputs": [
    {
     "data": {
      "text/plain": [
       "[('a', 'DT'),\n",
       " (',', ','),\n",
       " ('b', 'NN'),\n",
       " (',', ','),\n",
       " ('c', 'NN'),\n",
       " (',', ','),\n",
       " ('d', 'NN'),\n",
       " ('or', 'CC'),\n",
       " ('e', 'NN'),\n",
       " ('is', 'VBZ'),\n",
       " ('alphabet', 'JJ')]"
      ]
     },
     "execution_count": 237,
     "metadata": {},
     "output_type": "execute_result"
    }
   ],
   "source": [
    "PosTagger(\"a,b,c,d or e is alphabet\")"
   ]
  },
  {
   "cell_type": "markdown",
   "metadata": {},
   "source": [
    "## NN list check"
   ]
  },
  {
   "cell_type": "code",
   "execution_count": 239,
   "metadata": {},
   "outputs": [
    {
     "data": {
      "application/vnd.jupyter.widget-view+json": {
       "model_id": "d0210ce92bd7479a906dda56704c0321",
       "version_major": 2,
       "version_minor": 0
      },
      "text/plain": [
       "HBox(children=(IntProgress(value=0, max=7993), HTML(value='')))"
      ]
     },
     "metadata": {},
     "output_type": "display_data"
    }
   ],
   "source": [
    "entity_list_qid = []\n",
    "for instance in tqdm_notebook(dev):\n",
    "    \n",
    "    question = clearquestion(instance['Question'])\n",
    "    pos_list = PosTagger(question)\n",
    "    \n",
    "    posstr = \"\"\n",
    "    for word, pos in pos_list:\n",
    "        posstr += pos\n",
    "    \n",
    "    if ('NNCCNN' in posstr) or ('NN,NN' in posstr): \n",
    "        entity_list_qid.append(instance['QuestionId'])"
   ]
  },
  {
   "cell_type": "code",
   "execution_count": 244,
   "metadata": {},
   "outputs": [
    {
     "data": {
      "text/plain": [
       "0.5345345345345346"
      ]
     },
     "execution_count": 244,
     "metadata": {},
     "output_type": "execute_result"
    }
   ],
   "source": [
    "len(set(entity_list_qid) & rc_wrong) / len(set(entity_list_qid))"
   ]
  },
  {
   "cell_type": "code",
   "execution_count": 358,
   "metadata": {},
   "outputs": [
    {
     "data": {
      "text/plain": [
       "333"
      ]
     },
     "execution_count": 358,
     "metadata": {},
     "output_type": "execute_result"
    }
   ],
   "source": [
    " len(set(entity_list_qid))"
   ]
  },
  {
   "cell_type": "markdown",
   "metadata": {},
   "source": [
    "## qualitative analysis"
   ]
  },
  {
   "cell_type": "markdown",
   "metadata": {},
   "source": [
    "### four failure case"
   ]
  },
  {
   "cell_type": "code",
   "execution_count": 88,
   "metadata": {},
   "outputs": [],
   "source": [
    "aaa = \"'5728e8212ca10214002daa6f\t56e1bc3ae3433e1400423107\t5726e179dd62a815002e93b0\t573060b48ab72b1400f9c4c7\t5725c0f289a1e219009abdf2\t570d4e6cb3d812140066d671\t572fc8a904bcaa1900d76d21\t57060a6e52bb8914006897fa\t572864542ca10214002da2e2\t57263ea0271a42140099d7c4\t571ce9bddd7acb1400e4c1a1'\""
   ]
  },
  {
   "cell_type": "code",
   "execution_count": 89,
   "metadata": {},
   "outputs": [
    {
     "data": {
      "text/plain": [
       "\"'5728e8212ca10214002daa6f','56e1bc3ae3433e1400423107','5726e179dd62a815002e93b0','573060b48ab72b1400f9c4c7','5725c0f289a1e219009abdf2','570d4e6cb3d812140066d671','572fc8a904bcaa1900d76d21','57060a6e52bb8914006897fa','572864542ca10214002da2e2','57263ea0271a42140099d7c4','571ce9bddd7acb1400e4c1a1'\""
      ]
     },
     "execution_count": 89,
     "metadata": {},
     "output_type": "execute_result"
    }
   ],
   "source": [
    "ns = \"','\".join(aaa.split(\"\\t\"))\n",
    "ns"
   ]
  },
  {
   "cell_type": "code",
   "execution_count": 2,
   "metadata": {},
   "outputs": [],
   "source": [
    "at_lat_clear = ['5726534d708984140094c26e','570d4030fed7b91900d45da3','56e1e9dfe3433e14004231fe','57302bd0b2c2fd14005689dc','57264e455951b619008f6f65','571098f8a58dae1900cd6ab2','57060a6e52bb8914006897fa']\n",
    "at_lat_abstract = ['56e1bc3ae3433e1400423107','5728e8212ca10214002daa6f','5726e179dd62a815002e93b0','573060b48ab72b1400f9c4c7','571ce9bddd7acb1400e4c1a1']\n",
    "at_wh_clear = ['572fc8a904bcaa1900d76d21','57286dfa2ca10214002da332']\n",
    "at_wh_abstract = ['572691545951b619008f76e3','570d4e6cb3d812140066d671','572864542ca10214002da2e2']\n",
    "nonat = ['5725c0f289a1e219009abdf2','5727ff083acd2414000df1ae','57263ea0271a42140099d7c4']\n",
    "\n",
    "short = ['56e1bc3ae3433e1400423107','570d4030fed7b91900d45da3','56e1e9dfe3433e14004231fe','5726e179dd62a815002e93b0','573060b48ab72b1400f9c4c7','57302bd0b2c2fd14005689dc','57264e455951b619008f6f65','571098f8a58dae1900cd6ab2','572fc8a904bcaa1900d76d21','57060a6e52bb8914006897fa','5727ff083acd2414000df1ae']\n",
    "explain = ['5726534d708984140094c26e','5728e8212ca10214002daa6f','572691545951b619008f76e3','5725c0f289a1e219009abdf2','570d4e6cb3d812140066d671','572864542ca10214002da2e2','57263ea0271a42140099d7c4','571ce9bddd7acb1400e4c1a1']\n",
    "\n",
    "alias = ['5728e8212ca10214002daa6f','570d4030fed7b91900d45da3','57264e455951b619008f6f65','572691545951b619008f76e3','5725c0f289a1e219009abdf2','571098f8a58dae1900cd6ab2','572fc8a904bcaa1900d76d21','572864542ca10214002da2e2']\n",
    "boundary = ['5726534d708984140094c26e','5728e8212ca10214002daa6f','56e1bc3ae3433e1400423107','56e1e9dfe3433e14004231fe','573060b48ab72b1400f9c4c7','57302bd0b2c2fd14005689dc','5725c0f289a1e219009abdf2','570d4e6cb3d812140066d671','572fc8a904bcaa1900d76d21','5727ff083acd2414000df1ae','57263ea0271a42140099d7c4','571ce9bddd7acb1400e4c1a1']\n",
    "wrong_context = ['5728e8212ca10214002daa6f','56e1bc3ae3433e1400423107','5726e179dd62a815002e93b0','573060b48ab72b1400f9c4c7','5725c0f289a1e219009abdf2','570d4e6cb3d812140066d671','572fc8a904bcaa1900d76d21','57060a6e52bb8914006897fa','572864542ca10214002da2e2','57263ea0271a42140099d7c4','571ce9bddd7acb1400e4c1a1']\n",
    "at_wrong = []\n",
    "modifier = ['57286dfa2ca10214002da332']\n"
   ]
  },
  {
   "cell_type": "code",
   "execution_count": 3,
   "metadata": {},
   "outputs": [],
   "source": [
    "at_lat_clear = set(at_lat_clear)\n",
    "at_lat_abstract = set(at_lat_abstract)\n",
    "at_wh_clear = set(at_wh_clear)\n",
    "at_wh_abstract = set(at_wh_abstract)\n",
    "nonat = set(nonat)\n",
    "\n",
    "short = set(short)\n",
    "explain = set(explain)\n",
    "\n",
    "alias = set(alias)\n",
    "boundary = set(boundary)\n",
    "wrong_context = set(wrong_context)\n",
    "at_wrong = set(at_wrong)\n",
    "modifier = set(modifier)"
   ]
  },
  {
   "cell_type": "code",
   "execution_count": 4,
   "metadata": {},
   "outputs": [
    {
     "data": {
      "text/plain": [
       "{'56e1e9dfe3433e14004231fe',\n",
       " '57060a6e52bb8914006897fa',\n",
       " '570d4030fed7b91900d45da3',\n",
       " '571098f8a58dae1900cd6ab2',\n",
       " '57264e455951b619008f6f65',\n",
       " '57302bd0b2c2fd14005689dc'}"
      ]
     },
     "execution_count": 4,
     "metadata": {},
     "output_type": "execute_result"
    }
   ],
   "source": [
    "at_lat_clear & short"
   ]
  },
  {
   "cell_type": "code",
   "execution_count": 5,
   "metadata": {},
   "outputs": [
    {
     "data": {
      "text/plain": [
       "{'5726534d708984140094c26e'}"
      ]
     },
     "execution_count": 5,
     "metadata": {},
     "output_type": "execute_result"
    }
   ],
   "source": [
    "at_lat_clear & explain"
   ]
  },
  {
   "cell_type": "code",
   "execution_count": 11,
   "metadata": {},
   "outputs": [
    {
     "name": "stdout",
     "output_type": "stream",
     "text": [
      "lat clear: 7, lat abstract: 5, wh clear: 2, wh abstract: 3, Non AT: 3 \n"
     ]
    }
   ],
   "source": [
    "## query type\n",
    "print (\"lat clear: {}, lat abstract: {}, wh clear: {}, wh abstract: {}, Non AT: {} \".format(len(at_lat_clear), len(at_lat_abstract), len(at_wh_clear), len(at_wh_abstract), len(nonat)))"
   ]
  },
  {
   "cell_type": "code",
   "execution_count": 6,
   "metadata": {},
   "outputs": [
    {
     "name": "stdout",
     "output_type": "stream",
     "text": [
      "alias: 3, boundary: 3, wrong context: 3, AT wrong: 0, modifier: 0 \n"
     ]
    }
   ],
   "source": [
    "## LAT clear\n",
    "print (\"alias: {}, boundary: {}, wrong context: {}, AT wrong: {}, modifier: {} \".format(len(at_lat_clear&alias), len(at_lat_clear&alias), len(at_lat_clear&boundary), len(at_lat_clear&at_wrong), len(at_lat_clear&modifier)))"
   ]
  },
  {
   "cell_type": "code",
   "execution_count": 7,
   "metadata": {},
   "outputs": [
    {
     "name": "stdout",
     "output_type": "stream",
     "text": [
      "alias: 1, boundary: 1, wrong context: 4, AT wrong: 0, modifier: 0 \n"
     ]
    }
   ],
   "source": [
    "## LAT abstract\n",
    "print (\"alias: {}, boundary: {}, wrong context: {}, AT wrong: {}, modifier: {} \".format(len(at_lat_abstract&alias), len(at_lat_abstract&alias), len(at_lat_abstract&boundary), len(at_lat_abstract&at_wrong), len(at_lat_abstract&modifier)))"
   ]
  },
  {
   "cell_type": "code",
   "execution_count": 8,
   "metadata": {},
   "outputs": [
    {
     "name": "stdout",
     "output_type": "stream",
     "text": [
      "alias: 1, boundary: 1, wrong context: 1, AT wrong: 0, modifier: 1 \n"
     ]
    }
   ],
   "source": [
    "## WH clear\n",
    "print (\"alias: {}, boundary: {}, wrong context: {}, AT wrong: {}, modifier: {} \".format(len(at_wh_clear&alias), len(at_wh_clear&alias), len(at_wh_clear&boundary), len(at_wh_clear&at_wrong), len(at_wh_clear&modifier)))"
   ]
  },
  {
   "cell_type": "code",
   "execution_count": 9,
   "metadata": {},
   "outputs": [
    {
     "name": "stdout",
     "output_type": "stream",
     "text": [
      "alias: 2, boundary: 2, wrong context: 1, AT wrong: 0, modifier: 0 \n"
     ]
    }
   ],
   "source": [
    "## WH abstract\n",
    "print (\"alias: {}, boundary: {}, wrong context: {}, AT wrong: {}, modifier: {} \".format(len(at_wh_abstract&alias), len(at_wh_abstract&alias), len(at_wh_abstract&boundary), len(at_wh_abstract&at_wrong), len(at_wh_abstract&modifier)))"
   ]
  },
  {
   "cell_type": "code",
   "execution_count": 10,
   "metadata": {},
   "outputs": [
    {
     "name": "stdout",
     "output_type": "stream",
     "text": [
      "alias: 1, boundary: 1, wrong context: 3, AT wrong: 0, modifier: 0 \n"
     ]
    }
   ],
   "source": [
    "## Non AT \n",
    "print (\"alias: {}, boundary: {}, wrong context: {}, AT wrong: {}, modifier: {} \".format(len(nonat&alias), len(nonat&alias), len(nonat&boundary), len(nonat&at_wrong), len(nonat&modifier)))"
   ]
  },
  {
   "cell_type": "code",
   "execution_count": null,
   "metadata": {},
   "outputs": [],
   "source": []
  }
 ],
 "metadata": {
  "kernelspec": {
   "display_name": "Python (qa_analysis)",
   "language": "python",
   "name": "qa_analysis"
  },
  "language_info": {
   "codemirror_mode": {
    "name": "ipython",
    "version": 3
   },
   "file_extension": ".py",
   "mimetype": "text/x-python",
   "name": "python",
   "nbconvert_exporter": "python",
   "pygments_lexer": "ipython3",
   "version": "3.7.4"
  }
 },
 "nbformat": 4,
 "nbformat_minor": 2
}
