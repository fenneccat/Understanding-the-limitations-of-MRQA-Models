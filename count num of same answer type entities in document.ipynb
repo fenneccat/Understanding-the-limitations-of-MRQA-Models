{
 "cells": [
  {
   "cell_type": "code",
   "execution_count": 1,
   "metadata": {},
   "outputs": [],
   "source": [
    "import json\n",
    "import spacy\n",
    "import re\n",
    "\n",
    "from tqdm import tqdm_notebook\n",
    "import pandas as pd \n",
    "\n",
    "from collections import Counter\n",
    "\n",
    "import matplotlib.pyplot as plt\n",
    "\n",
    "from numpy.random import rand\n",
    "\n",
    "from random import sample\n",
    "\n",
    "import seaborn as sns"
   ]
  },
  {
   "cell_type": "code",
   "execution_count": 2,
   "metadata": {},
   "outputs": [],
   "source": [
    "nlp = spacy.load('en')\n",
    "\n",
    "f = open('./wrond_id_BERT_squad2.0_wa.txt','rt')\n",
    "wrong_bert_wa = f.readlines()\n",
    "f.close()\n",
    "\n",
    "f = open('./wrond_id_BERT_squad2.0_fp.txt','rt')\n",
    "wrong_bert_fp = f.readlines()\n",
    "f.close()\n",
    "\n",
    "f = open('./wrond_id_BERT_squad2.0_fn.txt','rt')\n",
    "wrong_bert_fn = f.readlines()\n",
    "f.close()\n",
    "\n",
    "def removen(file):\n",
    "    return [line.rstrip('\\n') for line in file]\n",
    "\n",
    "wrong_bert_wa = removen(wrong_bert_wa)\n",
    "wrong_bert_fp = removen(wrong_bert_fp)\n",
    "wrong_bert_fn = removen(wrong_bert_fn)\n",
    "\n",
    "wrong_bert_wa = set(wrong_bert_wa)\n",
    "wrong_bert_fp = set(wrong_bert_fp)\n",
    "wrong_bert_fn = set(wrong_bert_fn)"
   ]
  },
  {
   "cell_type": "code",
   "execution_count": 3,
   "metadata": {},
   "outputs": [],
   "source": [
    "candidate = ['when', 'how', 'where', 'which', 'what', 'who', 'how many', 'whose', 'whom', 'why']\n",
    "how_words = ['many','tall','much','tall','old', 'often', 'deep', 'high', 'long', 'far', 'wide']\n",
    "changelist = ['(what?)', '(what)', '(which?)', '(Which?)', '(which)', '(Which)']\n",
    "\n",
    "## WH type wrong probability\n",
    "\n",
    "def _wh_helper(sentence):\n",
    "    doc = nlp(sentence)\n",
    "    \n",
    "    if sentence.startswith('name'): return 'name'\n",
    "    \n",
    "    if 'how' in sentence.split():\n",
    "        list_of_words = sentence.split()\n",
    "        if list_of_words.index('how') != len(list_of_words)-1: \n",
    "            next_word = list_of_words[list_of_words.index('how') + 1]\n",
    "            if next_word in how_words:\n",
    "                return 'how many'\n",
    "        \n",
    "    \n",
    "    for w in reversed(doc):\n",
    "        if w.pos_ == 'NN': continue\n",
    "        else:\n",
    "            for can in candidate:\n",
    "                if can in w.text.split():\n",
    "                    return can\n",
    "            break\n",
    "    \n",
    "    whs = []\n",
    "\n",
    "    for idx, token in enumerate(doc):\n",
    "        for can in candidate:\n",
    "            if can in token.text.split():\n",
    "                return can\n",
    "            \n",
    "    if doc[-1].lemma_ == 'be' or doc[-1].pos_ == 'ADP':\n",
    "        return 'implicit_what'\n",
    "    \n",
    "    if 'name' in sentence.lower():\n",
    "        return 'name'\n",
    "    \n",
    "    return 'none'\n",
    "\n",
    "def findWHword(sentence):\n",
    "    \n",
    "    sentence = sentence.lower()\n",
    "    osentence = sentence\n",
    "    \n",
    "    x = re.findall(\"\\(wha.*?\\)\", sentence)\n",
    "\n",
    "    if x != []:\n",
    "        return 'cloze'\n",
    "    \n",
    "    if sentence.count('\\\"') > 0:\n",
    "        sentence = changepartsent(re.findall(r'\"([^\"]*)\"', sentence), 'QUOTES', sentence)\n",
    "    if (sentence.count('\\'')-sentence.count('\\'s')) % 2 == 0 and sentence.count('\\'')-sentence.count('\\'s') > 0:\n",
    "        sentence = changepartsent(re.findall(r\"'(.*?)'\", sentence), 'QUOTES', sentence)\n",
    "        \n",
    "    sentence = re.sub('\\,.+?\\,', '', sentence)\n",
    "        \n",
    "    wh = _wh_helper(sentence)\n",
    "    if wh == 'none':\n",
    "        wh = _wh_helper(osentence)\n",
    "    \n",
    "    return wh"
   ]
  },
  {
   "cell_type": "code",
   "execution_count": 4,
   "metadata": {},
   "outputs": [],
   "source": [
    "def changepartsent(word, reword, sentence):\n",
    "    '''\n",
    "    Change the part of sentence from word to reword\n",
    "    @param word\n",
    "         \t@word that targeted to change\n",
    "    @param reword\n",
    "         \t@word in sentence is replaced to @reword\n",
    "    @param sentence\n",
    "         \tsentence string\n",
    "    @return the changed string\n",
    "    '''\n",
    "    \n",
    "    if type(word) is list:\n",
    "        for w in word:\n",
    "            sentence = sentence.replace(w,reword)\n",
    "\n",
    "    else:\n",
    "        sentence = sentence.replace(word,reword)\n",
    "        sentence = sentence.replace(word[0].upper()+word[1:],reword)\n",
    "    \n",
    "    return sentence"
   ]
  },
  {
   "cell_type": "code",
   "execution_count": 5,
   "metadata": {},
   "outputs": [],
   "source": [
    "import collections"
   ]
  },
  {
   "cell_type": "code",
   "execution_count": 6,
   "metadata": {},
   "outputs": [],
   "source": [
    "answer_type_map = {'when':['TIME','DATE'],\n",
    "                   'how': [], \n",
    "                   'where' : ['FAC', 'ORG', 'GPE', 'LOC'], \n",
    "                   'which': [], \n",
    "                   'what': [],\n",
    "                   'who' : ['PERSON', 'NORP'], \n",
    "                   'how many': ['QUANTITY', 'CARDINAL', 'MONEY', 'PERCENT'], \n",
    "                   'why': [],\n",
    "                   'none': [],\n",
    "                   'implicit_what': [],\n",
    "                   'name': [],\n",
    "                   'cloze': []\n",
    "                  }"
   ]
  },
  {
   "cell_type": "code",
   "execution_count": 7,
   "metadata": {},
   "outputs": [
    {
     "data": {
      "application/vnd.jupyter.widget-view+json": {
       "model_id": "5dba02ab2d9545f5bb73e6f232f3657b",
       "version_major": 2,
       "version_minor": 0
      },
      "text/plain": [
       "HBox(children=(IntProgress(value=0, max=35), HTML(value='')))"
      ]
     },
     "metadata": {},
     "output_type": "display_data"
    },
    {
     "name": "stdout",
     "output_type": "stream",
     "text": [
      "\n"
     ]
    }
   ],
   "source": [
    "f = open('./squad/dev-v2.0.json','rb')\n",
    "data = json.load(f)\n",
    "\n",
    "data = data['data']\n",
    "\n",
    "all_qid = []\n",
    "\n",
    "possible_answers_hard = collections.Counter()\n",
    "possible_answers_soft = collections.Counter()\n",
    "for document in tqdm_notebook(data):\n",
    "    for paragraph in document['paragraphs']:\n",
    "        document = paragraph['context']\n",
    "        doc = nlp(document)\n",
    "        \n",
    "        ners = [ent.label_ for ent in doc.ents]\n",
    "        nercnt = collections.Counter(ners)\n",
    "        \n",
    "        for qas in paragraph['qas']:\n",
    "            ans_type = []\n",
    "            for ent in doc.ents:\n",
    "                for answer in qas['answers']:\n",
    "                    if ent.text.lower() in answer['text'].lower() or answer['text'].lower() in ent.text.lower():\n",
    "                        ans_type.append(ent.label_)\n",
    "                        break\n",
    "                if len(ans_type) > 0: break\n",
    "                    \n",
    "            wh = findWHword(qas['question'])\n",
    "            if wh == 'whose' or wh == 'whom': wh = 'who'\n",
    "            \n",
    "            ## hard option\n",
    "            if len(ans_type) > 0:\n",
    "                possible_answers_hard[qas['id']] = nercnt[ans_type[0]]\n",
    "                \n",
    "            ## soft option\n",
    "            ans_type.extend(answer_type_map[wh])\n",
    "            for at in set(ans_type):\n",
    "                possible_answers_soft[qas['id']] += nercnt[at]"
   ]
  },
  {
   "cell_type": "markdown",
   "metadata": {},
   "source": [
    "## WH type count same answer type"
   ]
  },
  {
   "cell_type": "code",
   "execution_count": 31,
   "metadata": {},
   "outputs": [],
   "source": [
    "test_candy = ['who','where','when','how many', 'what']"
   ]
  },
  {
   "cell_type": "code",
   "execution_count": 32,
   "metadata": {},
   "outputs": [
    {
     "data": {
      "application/vnd.jupyter.widget-view+json": {
       "model_id": "f68c42e47bea48ccb143c9e19c609269",
       "version_major": 2,
       "version_minor": 0
      },
      "text/plain": [
       "HBox(children=(IntProgress(value=0, max=35), HTML(value='')))"
      ]
     },
     "metadata": {},
     "output_type": "display_data"
    },
    {
     "name": "stdout",
     "output_type": "stream",
     "text": [
      "\n"
     ]
    }
   ],
   "source": [
    "hard_cnt_who = []\n",
    "soft_cnt_who = []\n",
    "\n",
    "hard_cnt_where = []\n",
    "soft_cnt_where = []\n",
    "\n",
    "hard_cnt_when = []\n",
    "soft_cnt_when = []\n",
    "\n",
    "hard_cnt_howmany = []\n",
    "soft_cnt_howmany = []\n",
    "\n",
    "hard_cnt_what = []\n",
    "\n",
    "for document in tqdm_notebook(data):\n",
    "    for paragraph in document['paragraphs']:\n",
    "        document = paragraph['context']        \n",
    "        for qas in paragraph['qas']:\n",
    "            \n",
    "            wh = findWHword(qas['question'])\n",
    "            if wh == 'whose' or wh == 'whom': wh = 'who'\n",
    "                \n",
    "            if wh == 'who':\n",
    "                if qas['id'] in possible_answers_hard:\n",
    "                    hard_cnt_who.append(possible_answers_hard[qas['id']])\n",
    "                    \n",
    "                if qas['id'] in possible_answers_soft:\n",
    "                    soft_cnt_who.append(possible_answers_soft[qas['id']])\n",
    "                \n",
    "            elif wh == 'when':\n",
    "                if qas['id'] in possible_answers_hard:\n",
    "                    hard_cnt_when.append(possible_answers_hard[qas['id']])\n",
    "                    \n",
    "                if qas['id'] in possible_answers_soft:\n",
    "                    soft_cnt_when.append(possible_answers_soft[qas['id']])\n",
    "                \n",
    "            elif wh == 'where':\n",
    "                if qas['id'] in possible_answers_hard:\n",
    "                    hard_cnt_where.append(possible_answers_hard[qas['id']])\n",
    "                    \n",
    "                if qas['id'] in possible_answers_soft:\n",
    "                    soft_cnt_where.append(possible_answers_soft[qas['id']])\n",
    "                \n",
    "            elif wh == 'how many':\n",
    "                if qas['id'] in possible_answers_hard:\n",
    "                    hard_cnt_howmany.append(possible_answers_hard[qas['id']])\n",
    "                    \n",
    "                if qas['id'] in possible_answers_soft:\n",
    "                    soft_cnt_howmany.append(possible_answers_soft[qas['id']])\n",
    "                    \n",
    "            elif wh == 'what':\n",
    "                if qas['id'] in possible_answers_hard:\n",
    "                    hard_cnt_what.append(possible_answers_hard[qas['id']])"
   ]
  },
  {
   "cell_type": "code",
   "execution_count": 1,
   "metadata": {},
   "outputs": [
    {
     "ename": "NameError",
     "evalue": "name 'hard_cnt_who' is not defined",
     "output_type": "error",
     "traceback": [
      "\u001b[0;31m---------------------------------------------------------------------------\u001b[0m",
      "\u001b[0;31mNameError\u001b[0m                                 Traceback (most recent call last)",
      "\u001b[0;32m<ipython-input-1-58c920dd4f08>\u001b[0m in \u001b[0;36m<module>\u001b[0;34m\u001b[0m\n\u001b[1;32m      1\u001b[0m \u001b[0;32mimport\u001b[0m \u001b[0mmatplotlib\u001b[0m\u001b[0;34m.\u001b[0m\u001b[0mpyplot\u001b[0m \u001b[0;32mas\u001b[0m \u001b[0mplt\u001b[0m\u001b[0;34m\u001b[0m\u001b[0;34m\u001b[0m\u001b[0m\n\u001b[1;32m      2\u001b[0m \u001b[0;34m\u001b[0m\u001b[0m\n\u001b[0;32m----> 3\u001b[0;31m \u001b[0mhard_group\u001b[0m \u001b[0;34m=\u001b[0m \u001b[0;34m[\u001b[0m\u001b[0mhard_cnt_who\u001b[0m\u001b[0;34m,\u001b[0m \u001b[0mhard_cnt_when\u001b[0m\u001b[0;34m,\u001b[0m \u001b[0mhard_cnt_where\u001b[0m\u001b[0;34m,\u001b[0m \u001b[0mhard_cnt_howmany\u001b[0m\u001b[0;34m,\u001b[0m \u001b[0mhard_cnt_what\u001b[0m\u001b[0;34m]\u001b[0m\u001b[0;34m\u001b[0m\u001b[0;34m\u001b[0m\u001b[0m\n\u001b[0m\u001b[1;32m      4\u001b[0m \u001b[0;34m\u001b[0m\u001b[0m\n\u001b[1;32m      5\u001b[0m \u001b[0mplt\u001b[0m\u001b[0;34m.\u001b[0m\u001b[0mclf\u001b[0m\u001b[0;34m(\u001b[0m\u001b[0;34m)\u001b[0m\u001b[0;34m\u001b[0m\u001b[0;34m\u001b[0m\u001b[0m\n",
      "\u001b[0;31mNameError\u001b[0m: name 'hard_cnt_who' is not defined"
     ]
    }
   ],
   "source": [
    "import matplotlib.pyplot as plt\n",
    "\n",
    "hard_group = [hard_cnt_who, hard_cnt_when, hard_cnt_where, hard_cnt_howmany, hard_cnt_what]\n",
    "\n",
    "plt.clf()\n",
    "plt.boxplot(hard_group)\n",
    "ax = plt.gca() # grab the current axis\n",
    "labels = ['who','when','where', 'how many', 'what']\n",
    "\n",
    "ax.set_xticklabels(labels)\n",
    "ax.set_ylabel('the number of candidates')\n",
    "\n",
    "#ax.set_title('The number of entities which have same type with answer in document')"
   ]
  },
  {
   "cell_type": "code",
   "execution_count": 34,
   "metadata": {},
   "outputs": [
    {
     "data": {
      "text/plain": [
       "Text(0, 0.5, 'the number of candidates')"
      ]
     },
     "execution_count": 34,
     "metadata": {},
     "output_type": "execute_result"
    },
    {
     "data": {
      "image/png": "[encoded data removed]",
      "text/plain": [
       "<Figure size 432x288 with 1 Axes>"
      ]
     },
     "metadata": {
      "needs_background": "light"
     },
     "output_type": "display_data"
    }
   ],
   "source": [
    "import matplotlib.pyplot as plt\n",
    "\n",
    "soft_group = [soft_cnt_who, soft_cnt_when, soft_cnt_where, soft_cnt_howmany]\n",
    "\n",
    "plt.clf()\n",
    "plt.boxplot(soft_group)\n",
    "ax = plt.gca() # grab the current axis\n",
    "labels = ['who','when','where', 'how many']\n",
    "\n",
    "ax.set_xticklabels(labels)\n",
    "ax.set_ylabel('the number of candidates')\n",
    "#ax.set_title('The number of entities which have same type with answer in document')"
   ]
  },
  {
   "cell_type": "code",
   "execution_count": 8,
   "metadata": {},
   "outputs": [],
   "source": [
    "test_candy = ['who','where','when','how many']"
   ]
  },
  {
   "cell_type": "markdown",
   "metadata": {},
   "source": [
    "## all"
   ]
  },
  {
   "cell_type": "code",
   "execution_count": 13,
   "metadata": {
    "scrolled": true
   },
   "outputs": [
    {
     "data": {
      "application/vnd.jupyter.widget-view+json": {
       "model_id": "6c575730d48c4aa19ba754863f6b6969",
       "version_major": 2,
       "version_minor": 0
      },
      "text/plain": [
       "HBox(children=(IntProgress(value=0, max=35), HTML(value='')))"
      ]
     },
     "metadata": {},
     "output_type": "display_data"
    },
    {
     "name": "stdout",
     "output_type": "stream",
     "text": [
      "\n"
     ]
    }
   ],
   "source": [
    "hard_cnt_wa = []\n",
    "soft_cnt_wa = []\n",
    "\n",
    "hard_cnt_fp = []\n",
    "soft_cnt_fp = []\n",
    "\n",
    "hard_cnt_fn = []\n",
    "soft_cnt_fn = []\n",
    "\n",
    "hard_cnt_right = []\n",
    "soft_cnt_right = []\n",
    "\n",
    "for document in tqdm_notebook(data):\n",
    "    for paragraph in document['paragraphs']:\n",
    "        document = paragraph['context']        \n",
    "        for qas in paragraph['qas']:\n",
    "            \n",
    "            wh = findWHword(qas['question'])\n",
    "            if wh == 'whose' or wh == 'whom': wh = 'who'\n",
    "            \n",
    "            if wh not in test_candy: continue\n",
    "                \n",
    "            if qas['id'] in wrong_bert_wa:\n",
    "                if qas['id'] in possible_answers_hard:\n",
    "                    hard_cnt_wa.append(possible_answers_hard[qas['id']])\n",
    "                    \n",
    "                if qas['id'] in possible_answers_soft:\n",
    "                    soft_cnt_wa.append(possible_answers_soft[qas['id']])\n",
    "                \n",
    "            elif qas['id'] in wrong_bert_fp:\n",
    "                if qas['id'] in possible_answers_hard:\n",
    "                    hard_cnt_fp.append(possible_answers_hard[qas['id']])\n",
    "                    \n",
    "                if qas['id'] in possible_answers_soft:\n",
    "                    soft_cnt_fp.append(possible_answers_soft[qas['id']])\n",
    "                \n",
    "            elif qas['id'] in wrong_bert_fn:\n",
    "                if qas['id'] in possible_answers_hard:\n",
    "                    hard_cnt_fn.append(possible_answers_hard[qas['id']])\n",
    "                    \n",
    "                if qas['id'] in possible_answers_soft:\n",
    "                    soft_cnt_fn.append(possible_answers_soft[qas['id']])\n",
    "                \n",
    "            else:\n",
    "                if qas['id'] in possible_answers_hard:\n",
    "                    hard_cnt_right.append(possible_answers_hard[qas['id']])\n",
    "                    \n",
    "                if qas['id'] in possible_answers_soft:\n",
    "                    soft_cnt_right.append(possible_answers_soft[qas['id']])"
   ]
  },
  {
   "cell_type": "code",
   "execution_count": 10,
   "metadata": {},
   "outputs": [],
   "source": [
    "import matplotlib.pyplot as plt"
   ]
  },
  {
   "cell_type": "code",
   "execution_count": 11,
   "metadata": {},
   "outputs": [],
   "source": [
    "hard_group = [hard_cnt_wa, hard_cnt_fn, hard_cnt_right]"
   ]
  },
  {
   "cell_type": "code",
   "execution_count": 12,
   "metadata": {},
   "outputs": [
    {
     "data": {
      "text/plain": [
       "Text(0, 0.5, 'the number of candidates')"
      ]
     },
     "execution_count": 12,
     "metadata": {},
     "output_type": "execute_result"
    },
    {
     "data": {
      "image/png": "[encoded data removed]",
      "text/plain": [
       "<Figure size 432x288 with 1 Axes>"
      ]
     },
     "metadata": {
      "needs_background": "light"
     },
     "output_type": "display_data"
    }
   ],
   "source": [
    "plt.clf()\n",
    "plt.boxplot(hard_group)\n",
    "ax = plt.gca() # grab the current axis\n",
    "labels = ['wa','fn','right']\n",
    "\n",
    "ax.set_xticklabels(labels)\n",
    "ax.set_ylabel('the number of candidates')\n",
    "#ax.set_title('The number of entities which have same type with answer in document')"
   ]
  },
  {
   "cell_type": "code",
   "execution_count": 16,
   "metadata": {},
   "outputs": [
    {
     "data": {
      "text/plain": [
       "Text(0, 0.5, 'the number of candidates')"
      ]
     },
     "execution_count": 16,
     "metadata": {},
     "output_type": "execute_result"
    },
    {
     "data": {
      "image/png": "[encoded data removed]",
      "text/plain": [
       "<Figure size 432x288 with 1 Axes>"
      ]
     },
     "metadata": {
      "needs_background": "light"
     },
     "output_type": "display_data"
    }
   ],
   "source": [
    "hard_group = [hard_cnt_wa, hard_cnt_right]\n",
    "\n",
    "plt.clf()\n",
    "plt.boxplot(hard_group, showfliers=False)\n",
    "ax = plt.gca() # grab the current axis\n",
    "labels = ['wrong answer','right']\n",
    "\n",
    "ax.set_xticklabels(labels)\n",
    "ax.set_ylabel('the number of candidates')\n",
    "#ax.set_title('The number of entities which have same type with answer in document')"
   ]
  },
  {
   "cell_type": "code",
   "execution_count": 29,
   "metadata": {},
   "outputs": [],
   "source": [
    "soft_group = [soft_cnt_wa, soft_cnt_fp, soft_cnt_fn, soft_cnt_right]"
   ]
  },
  {
   "cell_type": "code",
   "execution_count": 30,
   "metadata": {},
   "outputs": [
    {
     "data": {
      "text/plain": [
       "Text(0, 0.5, 'the number of candidates')"
      ]
     },
     "execution_count": 30,
     "metadata": {},
     "output_type": "execute_result"
    },
    {
     "data": {
      "image/png": "[encoded data removed]",
      "text/plain": [
       "<Figure size 432x288 with 1 Axes>"
      ]
     },
     "metadata": {
      "needs_background": "light"
     },
     "output_type": "display_data"
    }
   ],
   "source": [
    "plt.clf()\n",
    "plt.boxplot(soft_group)\n",
    "ax = plt.gca() # grab the current axis\n",
    "labels = ['wa','fp','fn','right']\n",
    "\n",
    "ax.set_xticklabels(labels)\n",
    "ax.set_ylabel('the number of candidates')\n",
    "#ax.set_title('The number of entities which have same type with answer in document')"
   ]
  },
  {
   "cell_type": "code",
   "execution_count": 36,
   "metadata": {},
   "outputs": [
    {
     "data": {
      "text/plain": [
       "4"
      ]
     },
     "execution_count": 36,
     "metadata": {},
     "output_type": "execute_result"
    }
   ],
   "source": []
  },
  {
   "cell_type": "code",
   "execution_count": 38,
   "metadata": {},
   "outputs": [],
   "source": [
    "import numpy as np\n",
    "from scipy.stats import ttest_ind, ttest_ind_from_stats\n",
    "from scipy.special import stdtr\n",
    "t, p = ttest_ind(soft_cnt_wa, soft_cnt_right, equal_var=False)"
   ]
  },
  {
   "cell_type": "code",
   "execution_count": 39,
   "metadata": {},
   "outputs": [
    {
     "data": {
      "text/plain": [
       "(3.7425498552607954, 0.0002510706067172243)"
      ]
     },
     "execution_count": 39,
     "metadata": {},
     "output_type": "execute_result"
    }
   ],
   "source": [
    "t,p"
   ]
  },
  {
   "cell_type": "code",
   "execution_count": null,
   "metadata": {},
   "outputs": [],
   "source": []
  }
 ],
 "metadata": {
  "kernelspec": {
   "display_name": "Python (qa_analysis)",
   "language": "python",
   "name": "qa_analysis"
  },
  "language_info": {
   "codemirror_mode": {
    "name": "ipython",
    "version": 3
   },
   "file_extension": ".py",
   "mimetype": "text/x-python",
   "name": "python",
   "nbconvert_exporter": "python",
   "pygments_lexer": "ipython3",
   "version": "3.7.4"
  }
 },
 "nbformat": 4,
 "nbformat_minor": 2
}
